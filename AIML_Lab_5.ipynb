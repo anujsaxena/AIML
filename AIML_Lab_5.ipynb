{
  "nbformat": 4,
  "nbformat_minor": 0,
  "metadata": {
    "colab": {
      "name": "AIML_Lab_5.ipynb",
      "provenance": [],
      "collapsed_sections": [],
      "authorship_tag": "ABX9TyMQ7xOMx33Zu9/sh7xTxRoM",
      "include_colab_link": true
    },
    "kernelspec": {
      "name": "python3",
      "display_name": "Python 3"
    },
    "language_info": {
      "name": "python"
    }
  },
  "cells": [
    {
      "cell_type": "markdown",
      "metadata": {
        "id": "view-in-github",
        "colab_type": "text"
      },
      "source": [
        "<a href=\"https://colab.research.google.com/github/anujsaxena/AIML/blob/main/AIML_Lab_5.ipynb\" target=\"_parent\"><img src=\"https://colab.research.google.com/assets/colab-badge.svg\" alt=\"Open In Colab\"/></a>"
      ]
    },
    {
      "cell_type": "markdown",
      "source": [
        "# **Encapsulation**\n",
        "\n",
        "Abstraction, encapsulation, inheritance, and polymorphism are the four core concepts of object-oriented programming.\n",
        "Encapsulation is the process of combining data and the functions that deal with it into a single object. You can hide the object's internal state from the outside by doing so. This is referred to as information hiding.\n",
        "\n",
        "\n",
        "Encapsulation can be seen in the form of a class. A class is a functional unit that contains both data and methods. A class, on the other hand, allows access to its characteristics through methods.\n",
        "\n",
        "The notion behind information hiding is that if you have a property that isn't accessible to the outside world, you can regulate who has access to its value, ensuring that your object is always in a usable condition."
      ],
      "metadata": {
        "id": "5a7mauDQA-MV"
      }
    },
    {
      "cell_type": "code",
      "execution_count": 1,
      "metadata": {
        "id": "drddp6xeA01H"
      },
      "outputs": [],
      "source": [
        "class count:\n",
        "  def __init__(self):\n",
        "    self.ctr = 0   #ctr is an attribute\n",
        "  def increment(self):\n",
        "    self.ctr+=1\n",
        "  def value(self):\n",
        "    return self.ctr\n",
        "  def reset(self):\n",
        "    self.ctr=0"
      ]
    },
    {
      "cell_type": "code",
      "source": [
        "Count = count()\n",
        "\n",
        "Count.increment()\n",
        "Count.increment()\n",
        "Count.increment()\n",
        "Count.increment()\n",
        "\n",
        "print(Count.ctr)\n"
      ],
      "metadata": {
        "colab": {
          "base_uri": "https://localhost:8080/"
        },
        "id": "6oYv-MNCGXa8",
        "outputId": "643b9063-2908-46f5-89d7-4c5503091e49"
      },
      "execution_count": 3,
      "outputs": [
        {
          "output_type": "stream",
          "name": "stdout",
          "text": [
            "4\n"
          ]
        }
      ]
    },
    {
      "cell_type": "code",
      "source": [
        "#we can reset the attribute\n",
        "Count.increment()\n",
        "Count.increment()\n",
        "Count.increment()\n",
        "Count.ctr = -101\n",
        "\n",
        "print(Count.ctr)"
      ],
      "metadata": {
        "colab": {
          "base_uri": "https://localhost:8080/"
        },
        "id": "9V3Bd2PjG2U1",
        "outputId": "69437202-a63f-46e7-a03c-4cec0aa3450b"
      },
      "execution_count": 4,
      "outputs": [
        {
          "output_type": "stream",
          "name": "stdout",
          "text": [
            "-101\n"
          ]
        }
      ]
    },
    {
      "cell_type": "markdown",
      "source": [
        "# **Private attributes**\n",
        "\n",
        "Private attributes can be only accessible from the methods of the class. In other words, they cannot be accessible from outside of the class.\n",
        "\n",
        "\n",
        "Python doesn’t have a concept of private attributes. In other words, all attributes are accessible from the outside of a class.\n",
        "\n",
        "\n",
        "By convention, you can define a private attribute by prefixing a single underscore (_):"
      ],
      "metadata": {
        "id": "CZ423_apHHLY"
      }
    },
    {
      "cell_type": "code",
      "source": [
        "class count:\n",
        "  def __init__(self):\n",
        "    self._ctr = 0   #ctr is an attribute\n",
        "  \n",
        "  def increment(self):\n",
        "    self._ctr+=1\n",
        "  \n",
        "  def value(self):\n",
        "    return self._ctr\n",
        "  \n",
        "  def reset(self):\n",
        "    self._ctr=0"
      ],
      "metadata": {
        "id": "CqJ2-05zHfPO"
      },
      "execution_count": 5,
      "outputs": []
    },
    {
      "cell_type": "code",
      "source": [
        "Count = count()\n",
        "\n",
        "Count.increment()\n",
        "Count.increment()\n",
        "Count.increment()\n",
        "Count.increment()\n",
        "\n",
        "print(Count._ctr)"
      ],
      "metadata": {
        "colab": {
          "base_uri": "https://localhost:8080/"
        },
        "id": "l4dfENfjH2T9",
        "outputId": "2b17ef1a-628c-4b10-aac9-b6b23587e982"
      },
      "execution_count": 7,
      "outputs": [
        {
          "output_type": "stream",
          "name": "stdout",
          "text": [
            "4\n"
          ]
        }
      ]
    },
    {
      "cell_type": "code",
      "source": [
        "#we can reset the attribute\n",
        "Count.increment()\n",
        "Count.increment()\n",
        "Count.increment()\n",
        "Count._ctr = -101\n",
        "\n",
        "print(Count._ctr)"
      ],
      "metadata": {
        "colab": {
          "base_uri": "https://localhost:8080/"
        },
        "id": "ZbRisYagH71G",
        "outputId": "6c102b4d-4db2-4779-8ef1-aa363efc3808"
      },
      "execution_count": 9,
      "outputs": [
        {
          "output_type": "stream",
          "name": "stdout",
          "text": [
            "-101\n"
          ]
        }
      ]
    },
    {
      "cell_type": "markdown",
      "source": [
        "# **Name Mangling**\n",
        "\n",
        "Double underscore is used\n",
        "\n"
      ],
      "metadata": {
        "id": "kaCImSQXIHzc"
      }
    },
    {
      "cell_type": "code",
      "source": [
        "class count:\n",
        "  def __init__(self):\n",
        "    self.__ctr = 0   #ctr is an attribute\n",
        "  \n",
        "  def increment(self):\n",
        "    self.__ctr+=1\n",
        "  \n",
        "  def value(self):\n",
        "    return self.__ctr\n",
        "  \n",
        "  def reset(self):\n",
        "    self.__ctr=0"
      ],
      "metadata": {
        "id": "B1yYVQ_cIVj_"
      },
      "execution_count": 10,
      "outputs": []
    },
    {
      "cell_type": "code",
      "source": [
        "Count = count()\n",
        "Count.increment()\n",
        "Count.increment()\n",
        "Count.increment()\n",
        "Count.increment()\n",
        "\n",
        "print(Count.__ctr)"
      ],
      "metadata": {
        "colab": {
          "base_uri": "https://localhost:8080/",
          "height": 201
        },
        "id": "1Ap3uFttIa3N",
        "outputId": "39e849e9-084f-4b4d-c89a-687f038295f8"
      },
      "execution_count": 11,
      "outputs": [
        {
          "output_type": "error",
          "ename": "AttributeError",
          "evalue": "ignored",
          "traceback": [
            "\u001b[0;31m---------------------------------------------------------------------------\u001b[0m",
            "\u001b[0;31mAttributeError\u001b[0m                            Traceback (most recent call last)",
            "\u001b[0;32m<ipython-input-11-a6dfb99b614c>\u001b[0m in \u001b[0;36m<module>\u001b[0;34m()\u001b[0m\n\u001b[1;32m      5\u001b[0m \u001b[0mCount\u001b[0m\u001b[0;34m.\u001b[0m\u001b[0mincrement\u001b[0m\u001b[0;34m(\u001b[0m\u001b[0;34m)\u001b[0m\u001b[0;34m\u001b[0m\u001b[0;34m\u001b[0m\u001b[0m\n\u001b[1;32m      6\u001b[0m \u001b[0;34m\u001b[0m\u001b[0m\n\u001b[0;32m----> 7\u001b[0;31m \u001b[0mprint\u001b[0m\u001b[0;34m(\u001b[0m\u001b[0mCount\u001b[0m\u001b[0;34m.\u001b[0m\u001b[0m__ctr\u001b[0m\u001b[0;34m)\u001b[0m\u001b[0;34m\u001b[0m\u001b[0;34m\u001b[0m\u001b[0m\n\u001b[0m",
            "\u001b[0;31mAttributeError\u001b[0m: 'count' object has no attribute '__ctr'"
          ]
        }
      ]
    },
    {
      "cell_type": "code",
      "source": [
        "class Counter:\n",
        "    def __init__(self):\n",
        "        self.__current = 0\n",
        "\n",
        "    def increment(self):\n",
        "        self.__current += 1\n",
        "\n",
        "    def value(self):\n",
        "        return self.__current\n",
        "\n",
        "    def reset(self):\n",
        "        self.__current = 0\n",
        "counter = Counter()\n",
        "#print(counter.__current)\n",
        "\n",
        "counter = Counter()\n",
        "print(counter._Counter__current)"
      ],
      "metadata": {
        "colab": {
          "base_uri": "https://localhost:8080/"
        },
        "id": "xFqc1XGXJKzL",
        "outputId": "3c5bd078-1415-48d1-f834-85ee57469377"
      },
      "execution_count": 16,
      "outputs": [
        {
          "output_type": "stream",
          "name": "stdout",
          "text": [
            "0\n"
          ]
        }
      ]
    },
    {
      "cell_type": "markdown",
      "source": [
        "1. Encapsulation is the packing of data and methods into a class so that you can hide the information and restrict access from outside.\n",
        "\n",
        "2. Prefix an attribute with a single underscore (_) to make it private by convention.\n",
        "\n",
        "3. Prefix an attribute with double underscores (__) to use the name mangling."
      ],
      "metadata": {
        "id": "jcvRV5MaJ8io"
      }
    },
    {
      "cell_type": "markdown",
      "source": [
        "# **Abstraction**\n",
        "\n",
        "To declare an Abstract class, we firstly need to import the abc module.\n",
        "\n",
        "Abstraction focuses on keeping the user away from the internal implementations of a process or procedure. In this approach, the user understands what he's doing but not how it's done.\n",
        "\n",
        "The use of hierarchical classification is a strong approach to control abstraction. This allows us to layer complicated systems' semantics, breaking them down into more manageable chunks. A automobile seems to be a single item from the outside. Once inside, you'll see that the automobile is divided into many subsystems, like the steering, brakes, sound system, seat belts, and so on. Each of these subsystems, in turn, is made up of smaller components."
      ],
      "metadata": {
        "id": "xFKtq1_XKcCo"
      }
    },
    {
      "cell_type": "code",
      "source": [
        "from abc import ABC, abstractmethod\n",
        "\n",
        "class absClass(ABC):\n",
        "  def print(self,a):\n",
        "    print(a)\n",
        "\n",
        "obj = absClass()\n",
        "obj.print(10) \n"
      ],
      "metadata": {
        "colab": {
          "base_uri": "https://localhost:8080/"
        },
        "id": "4xPpUnEnKlT5",
        "outputId": "a972766b-c8af-426b-ac5a-e98a46d4fcf5"
      },
      "execution_count": 19,
      "outputs": [
        {
          "output_type": "stream",
          "name": "stdout",
          "text": [
            "10\n"
          ]
        }
      ]
    },
    {
      "cell_type": "code",
      "source": [
        "class absClass(ABC):\n",
        "  def print(self,a):\n",
        "    print(a)\n",
        "  @abstractmethod\n",
        "  def task(self):\n",
        "    print(\"Inside the abstract method\")\n",
        "  \n",
        "\n",
        "obj = absClass()\n",
        "obj.task()\n",
        "obj.print(10) "
      ],
      "metadata": {
        "colab": {
          "base_uri": "https://localhost:8080/",
          "height": 235
        },
        "id": "RX7e8v7tLdua",
        "outputId": "b7025301-ef01-479f-a3b0-58e525a49f9e"
      },
      "execution_count": 20,
      "outputs": [
        {
          "output_type": "error",
          "ename": "TypeError",
          "evalue": "ignored",
          "traceback": [
            "\u001b[0;31m---------------------------------------------------------------------------\u001b[0m",
            "\u001b[0;31mTypeError\u001b[0m                                 Traceback (most recent call last)",
            "\u001b[0;32m<ipython-input-20-fb93408d041c>\u001b[0m in \u001b[0;36m<module>\u001b[0;34m()\u001b[0m\n\u001b[1;32m      7\u001b[0m \u001b[0;34m\u001b[0m\u001b[0m\n\u001b[1;32m      8\u001b[0m \u001b[0;34m\u001b[0m\u001b[0m\n\u001b[0;32m----> 9\u001b[0;31m \u001b[0mobj\u001b[0m \u001b[0;34m=\u001b[0m \u001b[0mabsClass\u001b[0m\u001b[0;34m(\u001b[0m\u001b[0;34m)\u001b[0m\u001b[0;34m\u001b[0m\u001b[0;34m\u001b[0m\u001b[0m\n\u001b[0m\u001b[1;32m     10\u001b[0m \u001b[0mobj\u001b[0m\u001b[0;34m.\u001b[0m\u001b[0mtask\u001b[0m\u001b[0;34m(\u001b[0m\u001b[0;34m)\u001b[0m\u001b[0;34m\u001b[0m\u001b[0;34m\u001b[0m\u001b[0m\n\u001b[1;32m     11\u001b[0m \u001b[0mobj\u001b[0m\u001b[0;34m.\u001b[0m\u001b[0mprint\u001b[0m\u001b[0;34m(\u001b[0m\u001b[0;36m10\u001b[0m\u001b[0;34m)\u001b[0m\u001b[0;34m\u001b[0m\u001b[0;34m\u001b[0m\u001b[0m\n",
            "\u001b[0;31mTypeError\u001b[0m: Can't instantiate abstract class absClass with abstract methods task"
          ]
        }
      ]
    },
    {
      "cell_type": "code",
      "source": [
        "class absClass(ABC):\n",
        "  def print(self,a):\n",
        "    print(a)\n",
        "  @abstractmethod\n",
        "  def task(self):\n",
        "    print(\"Inside the abstract method\")\n",
        "  \n",
        "class test(absClass):\n",
        "  def task(self):\n",
        "    print(\"Inside the test class\")\n",
        "\n",
        "\n",
        "obj = test()\n",
        "obj.task()\n",
        "obj.print(10) "
      ],
      "metadata": {
        "colab": {
          "base_uri": "https://localhost:8080/"
        },
        "id": "02dHDr2lL_2S",
        "outputId": "5f78d4dc-072f-409d-d6f4-af9f2e365d9b"
      },
      "execution_count": 21,
      "outputs": [
        {
          "output_type": "stream",
          "name": "stdout",
          "text": [
            "Inside the test class\n",
            "10\n"
          ]
        }
      ]
    },
    {
      "cell_type": "code",
      "source": [
        "class absClass(ABC):\n",
        "  def print(self,a):\n",
        "    print(a)\n",
        "  @abstractmethod\n",
        "  def task(self):\n",
        "    print(\"Inside the abstract method\")\n",
        "  \n",
        "class test(absClass):\n",
        "  def task(self):\n",
        "    print(\"Inside the test class\")\n",
        "\n",
        "class example(absClass):\n",
        "  def task(self):\n",
        "    print(\"Inside the Example class\")\n",
        "\n",
        "\n",
        "obj = test()\n",
        "obj.task()\n",
        "obj.print(10) \n",
        "\n",
        "obj1 = example()\n",
        "obj1.task()\n",
        "obj1.print(100)\n",
        "\n",
        "print(\"test is instance of Absclass? \", isinstance(test, absClass))\n",
        "print(\"example is instance of Absclass? \", isinstance(example, absClass))"
      ],
      "metadata": {
        "colab": {
          "base_uri": "https://localhost:8080/"
        },
        "id": "PyXJ3_zQMlKD",
        "outputId": "f0ffbe85-4406-4458-a8f6-f4b9ec41501a"
      },
      "execution_count": 22,
      "outputs": [
        {
          "output_type": "stream",
          "name": "stdout",
          "text": [
            "Inside the test class\n",
            "10\n",
            "Inside the Example class\n",
            "100\n",
            "test is instance of Absclass?  False\n",
            "example is instance of Absclass?  False\n"
          ]
        }
      ]
    },
    {
      "cell_type": "code",
      "source": [
        "class absClass(ABC):\n",
        "  def print(self,a):\n",
        "    print(a)\n",
        "  @abstractmethod\n",
        "  def task(self):\n",
        "    print(\"Inside the abstract method\")\n",
        "  \n",
        "class test(absClass):\n",
        "  def print(self,a):\n",
        "      print(\"inside test\",a)\n",
        "  def task(self):\n",
        "    print(\"Inside the test class\")\n",
        "\n",
        "class example(absClass):\n",
        "  def task(self):\n",
        "    print(\"Inside the Example class\")\n",
        "\n",
        "\n",
        "obj = test()\n",
        "obj.task()\n",
        "obj.print(10) \n",
        "\n",
        "obj1 = example()\n",
        "obj1.task()\n",
        "obj1.print(100)\n",
        "\n",
        "print(\"test is instance of Absclass? \", isinstance(test, absClass))\n",
        "print(\"example is instance of Absclass? \", isinstance(example, absClass))"
      ],
      "metadata": {
        "colab": {
          "base_uri": "https://localhost:8080/"
        },
        "id": "GA7udTz7OABd",
        "outputId": "05419034-9cf0-44b5-81c5-3e84b2cdcec4"
      },
      "execution_count": 23,
      "outputs": [
        {
          "output_type": "stream",
          "name": "stdout",
          "text": [
            "Inside the test class\n",
            "inside test 10\n",
            "Inside the Example class\n",
            "100\n",
            "test is instance of Absclass?  False\n",
            "example is instance of Absclass?  False\n"
          ]
        }
      ]
    },
    {
      "cell_type": "markdown",
      "source": [
        "# **Polymorphism**\n",
        "\n",
        "Polymorphism refers to the fact that something exists in several forms. Polymorphism in programming refers to the usage of the same function name (but distinct signatures) for various kinds."
      ],
      "metadata": {
        "id": "NFLpTZXPV3zd"
      }
    },
    {
      "cell_type": "code",
      "source": [
        "#polymorphic function len()\n",
        "txt =\"Welcome to Poly\"\n",
        "a =[12,14,15,16]\n",
        "print (len(txt))\n",
        "print (len(a))"
      ],
      "metadata": {
        "colab": {
          "base_uri": "https://localhost:8080/"
        },
        "id": "PvrlbkfbZhSn",
        "outputId": "efef872c-4072-4e0a-ccef-b394e6b0f83c"
      },
      "execution_count": 24,
      "outputs": [
        {
          "output_type": "stream",
          "name": "stdout",
          "text": [
            "15\n",
            "4\n"
          ]
        }
      ]
    },
    {
      "cell_type": "code",
      "source": [
        "#user defined polymorphic function\n",
        "\n",
        "def sum(a,b):\n",
        "  return a+b\n",
        "\n",
        "s=sum(23,21)\n",
        "print(s)\n",
        "\n",
        "s1=sum(11,61)\n",
        "print(s1)"
      ],
      "metadata": {
        "colab": {
          "base_uri": "https://localhost:8080/"
        },
        "id": "eTxWSwd4Z6Af",
        "outputId": "590c9b16-b90c-471d-8574-06e222fde4e4"
      },
      "execution_count": 25,
      "outputs": [
        {
          "output_type": "stream",
          "name": "stdout",
          "text": [
            "44\n",
            "72\n"
          ]
        }
      ]
    },
    {
      "cell_type": "markdown",
      "source": [
        "A for loop is created that iterates across a tuple of items. Then, regardless of whatever class type each object belongs to, call the methods."
      ],
      "metadata": {
        "id": "5ROr4AJOcGWO"
      }
    },
    {
      "cell_type": "code",
      "source": [
        "#Polymorphism with class methods\n",
        "\n",
        "class India():\n",
        "  def capital(self):\n",
        "    print(\"Delhi is the capital of India\")\n",
        "  def type(self):\n",
        "    print(\"India is a fast developing country\")\n",
        "  def language(self):\n",
        "    print(\"There are more than 1400 languages apoken in India\")\n",
        "\n",
        "class UK():\n",
        "  def capital(self):\n",
        "    print(\"London is the capital of UK\")\n",
        "  def type(self):\n",
        "    print(\"UK is a developed country\")\n",
        "  def language(self):\n",
        "    print(\"English is the official language of UK\")\n",
        "\n",
        "obj_I = India()\n",
        "obj_U = UK()\n",
        "\n",
        "for place in (obj_I, obj_U):\n",
        "  place.capital()\n",
        "  place.type()\n",
        "  place.language()"
      ],
      "metadata": {
        "colab": {
          "base_uri": "https://localhost:8080/"
        },
        "id": "maFmisxMaSzu",
        "outputId": "5f73cfef-34a9-42f7-eb6f-9de33e866a7c"
      },
      "execution_count": 27,
      "outputs": [
        {
          "output_type": "stream",
          "name": "stdout",
          "text": [
            "Delhi is the capital of India\n",
            "India is a fast developing country\n",
            "There are more than 1400 languages apoken in India\n",
            "London is the capital of UK\n",
            "UK is a developed country\n",
            "English is the official language of UK\n"
          ]
        }
      ]
    },
    {
      "cell_type": "markdown",
      "source": [
        "Polymorphism allows us to create methods in the child class that have the same name as the parent class's methods. In inheritance, the methods of the parent class are passed down to the child class. However, a method in a child class that it has inherited from the parent class can be changed. This is especially handy when the inherited method from the parent class doesn't fully match the child class. In such circumstances, the method is re-implemented in the child class. **Method Overriding** is the process of re-implementing a method in a child class."
      ],
      "metadata": {
        "id": "NoMpeyntecQH"
      }
    },
    {
      "cell_type": "code",
      "source": [
        "#polymorphism with inheritance\n",
        "\n",
        "class cat():\n",
        "  def intro(self):\n",
        "    print(\"There are different types of Cats\")\n",
        "  def hunt(self):\n",
        "    print(\"Almost all the cats are hunters\")\n",
        "\n",
        "class Lion(cat):\n",
        "  def hunt(self):\n",
        "    print(\"Lion likes to hunt in a group\")\n",
        "\n",
        "class tiger(cat):\n",
        "  def hunt(self):\n",
        "    print(\"Tigers hunt alone\")\n",
        "\n",
        "obj = cat()\n",
        "objL = Lion()\n",
        "objT = tiger()\n",
        "\n",
        "obj.intro()\n",
        "obj.hunt()\n",
        "\n",
        "objL.intro()\n",
        "objL.hunt()\n",
        "\n",
        "objT.intro()\n",
        "objT.hunt()\n"
      ],
      "metadata": {
        "colab": {
          "base_uri": "https://localhost:8080/"
        },
        "id": "TCxP1iDvcSLH",
        "outputId": "88ff012c-b926-424a-97d0-491ddd319da6"
      },
      "execution_count": 29,
      "outputs": [
        {
          "output_type": "stream",
          "name": "stdout",
          "text": [
            "There are different types of Cats\n",
            "Almost all the cats are hunters\n",
            "There are different types of Cats\n",
            "Lion likes to hunt in a group\n",
            "There are different types of Cats\n",
            "Tigers hunt alone\n"
          ]
        }
      ]
    }
  ]
}