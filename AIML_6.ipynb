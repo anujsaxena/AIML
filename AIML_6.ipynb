{
  "nbformat": 4,
  "nbformat_minor": 0,
  "metadata": {
    "colab": {
      "name": "AIML_6.ipynb",
      "provenance": [],
      "collapsed_sections": [],
      "authorship_tag": "ABX9TyNSHTXn1f8XhSazLqx9UbtP",
      "include_colab_link": true
    },
    "kernelspec": {
      "name": "python3",
      "display_name": "Python 3"
    },
    "language_info": {
      "name": "python"
    }
  },
  "cells": [
    {
      "cell_type": "markdown",
      "metadata": {
        "id": "view-in-github",
        "colab_type": "text"
      },
      "source": [
        "<a href=\"https://colab.research.google.com/github/anujsaxena/AIML/blob/main/AIML_6.ipynb\" target=\"_parent\"><img src=\"https://colab.research.google.com/assets/colab-badge.svg\" alt=\"Open In Colab\"/></a>"
      ]
    },
    {
      "cell_type": "markdown",
      "source": [
        "# **Pandas Continued (functions)**\n",
        "\n",
        "# **Quantile**\n",
        "\n",
        "The word “quantile” comes from the word quantity. In simple terms, a quantile is where a sample is divided into equal-sized, adjacent, subgroups (that’s why it’s sometimes called a “fractile“). It can also refer to dividing a probability distribution into areas of equal probability."
      ],
      "metadata": {
        "id": "iB7zgzUI1ESt"
      }
    },
    {
      "cell_type": "code",
      "execution_count": 1,
      "metadata": {
        "colab": {
          "base_uri": "https://localhost:8080/"
        },
        "id": "pKLG0CPjzjJJ",
        "outputId": "c86095c1-5af2-4ccc-fee2-a05b88e4ec95"
      },
      "outputs": [
        {
          "output_type": "stream",
          "name": "stdout",
          "text": [
            "{'Name': 0        Tina\n",
            "1         Ria\n",
            "2        Amit\n",
            "3       Sumit\n",
            "4      Manish\n",
            "5      Mayank\n",
            "6      Vishal\n",
            "7      Vardan\n",
            "8      Rahul,\n",
            "9      Vikesh\n",
            "10    Priyank\n",
            "11    Bhavesh\n",
            "dtype: object, 'Age': 0     25\n",
            "1     26\n",
            "2     25\n",
            "3     23\n",
            "4     30\n",
            "5     29\n",
            "6     23\n",
            "7     34\n",
            "8     40\n",
            "9     30\n",
            "10    51\n",
            "11    46\n",
            "dtype: int64, 'Rating': 0     4.23\n",
            "1     3.24\n",
            "2     3.98\n",
            "3     2.56\n",
            "4     3.20\n",
            "5     4.60\n",
            "6     3.80\n",
            "7     3.78\n",
            "8     2.98\n",
            "9     4.80\n",
            "10    4.10\n",
            "11    3.65\n",
            "dtype: float64}\n"
          ]
        }
      ],
      "source": [
        "import pandas as pd\n",
        "import numpy as np\n",
        "\n",
        "#Create a Dictionary of series\n",
        "d = {'Name':pd.Series(['Tina','Ria','Amit','Sumit','Manish','Mayank','Vishal','Vardan','Rahul,','Vikesh','Priyank','Bhavesh']),\n",
        "   'Age':pd.Series([25,26,25,23,30,29,23,34,40,30,51,46]),\n",
        "   'Rating':pd.Series([4.23,3.24,3.98,2.56,3.20,4.6,3.8,3.78,2.98,4.80,4.10,3.65])\n",
        "}\n",
        "print(d)"
      ]
    },
    {
      "cell_type": "code",
      "source": [
        "df = pd.DataFrame(d)\n",
        "print(df)"
      ],
      "metadata": {
        "colab": {
          "base_uri": "https://localhost:8080/"
        },
        "id": "6A8_wAmd24ZO",
        "outputId": "6ba63ce5-10c8-45f0-dbbd-001ee15dfc71"
      },
      "execution_count": 2,
      "outputs": [
        {
          "output_type": "stream",
          "name": "stdout",
          "text": [
            "       Name  Age  Rating\n",
            "0      Tina   25    4.23\n",
            "1       Ria   26    3.24\n",
            "2      Amit   25    3.98\n",
            "3     Sumit   23    2.56\n",
            "4    Manish   30    3.20\n",
            "5    Mayank   29    4.60\n",
            "6    Vishal   23    3.80\n",
            "7    Vardan   34    3.78\n",
            "8    Rahul,   40    2.98\n",
            "9    Vikesh   30    4.80\n",
            "10  Priyank   51    4.10\n",
            "11  Bhavesh   46    3.65\n"
          ]
        }
      ]
    },
    {
      "cell_type": "code",
      "source": [
        "#quantile of 0.2 for each column\n",
        "df.quantile(.2, axis = 0)"
      ],
      "metadata": {
        "colab": {
          "base_uri": "https://localhost:8080/"
        },
        "id": "lkrBxZaG3KbS",
        "outputId": "890d81f5-b1c4-4c41-d7d3-9b3a13a1167a"
      },
      "execution_count": 3,
      "outputs": [
        {
          "output_type": "execute_result",
          "data": {
            "text/plain": [
              "Age       25.000\n",
              "Rating     3.208\n",
              "Name: 0.2, dtype: float64"
            ]
          },
          "metadata": {},
          "execution_count": 3
        }
      ]
    },
    {
      "cell_type": "code",
      "source": [
        "df.quantile(.5, axis = 0)"
      ],
      "metadata": {
        "colab": {
          "base_uri": "https://localhost:8080/"
        },
        "id": "zxxRDqH53ZPf",
        "outputId": "64370e4e-66e9-4919-9ff7-23a873a3821c"
      },
      "execution_count": 4,
      "outputs": [
        {
          "output_type": "execute_result",
          "data": {
            "text/plain": [
              "Age       29.50\n",
              "Rating     3.79\n",
              "Name: 0.5, dtype: float64"
            ]
          },
          "metadata": {},
          "execution_count": 4
        }
      ]
    },
    {
      "cell_type": "code",
      "source": [
        "df.quantile(.8, axis = 0)"
      ],
      "metadata": {
        "colab": {
          "base_uri": "https://localhost:8080/"
        },
        "id": "YgNr6zVx3m-p",
        "outputId": "6ca96eb6-b74a-4713-f7d8-1c23a0a1cca5"
      },
      "execution_count": 5,
      "outputs": [
        {
          "output_type": "execute_result",
          "data": {
            "text/plain": [
              "Age       38.800\n",
              "Rating     4.204\n",
              "Name: 0.8, dtype: float64"
            ]
          },
          "metadata": {},
          "execution_count": 5
        }
      ]
    },
    {
      "cell_type": "code",
      "source": [
        "df.quantile(.2, axis = 1)"
      ],
      "metadata": {
        "colab": {
          "base_uri": "https://localhost:8080/"
        },
        "id": "GNxm_bcg5IbO",
        "outputId": "eadc4974-ea09-4fec-b3dc-a60c8bc08b13"
      },
      "execution_count": 6,
      "outputs": [
        {
          "output_type": "execute_result",
          "data": {
            "text/plain": [
              "0      8.384\n",
              "1      7.792\n",
              "2      8.184\n",
              "3      6.648\n",
              "4      8.560\n",
              "5      9.480\n",
              "6      7.640\n",
              "7      9.824\n",
              "8     10.384\n",
              "9      9.840\n",
              "10    13.480\n",
              "11    12.120\n",
              "Name: 0.2, dtype: float64"
            ]
          },
          "metadata": {},
          "execution_count": 6
        }
      ]
    },
    {
      "cell_type": "code",
      "source": [
        "df.quantile(.5, axis = 1)"
      ],
      "metadata": {
        "colab": {
          "base_uri": "https://localhost:8080/"
        },
        "id": "_8fTttJQ5O1y",
        "outputId": "c7c071cf-41d6-47ba-ac5c-f0bcb14cd388"
      },
      "execution_count": 7,
      "outputs": [
        {
          "output_type": "execute_result",
          "data": {
            "text/plain": [
              "0     14.615\n",
              "1     14.620\n",
              "2     14.490\n",
              "3     12.780\n",
              "4     16.600\n",
              "5     16.800\n",
              "6     13.400\n",
              "7     18.890\n",
              "8     21.490\n",
              "9     17.400\n",
              "10    27.550\n",
              "11    24.825\n",
              "Name: 0.5, dtype: float64"
            ]
          },
          "metadata": {},
          "execution_count": 7
        }
      ]
    },
    {
      "cell_type": "markdown",
      "source": [
        "A quantile defines a particular part of a data set, i.e. a quantile determines how many values in a distribution are above or below a certain limit. Special quantiles are the quartile (quarter), the quintile (fifth) and percentiles (hundredth).\n",
        "\n",
        "**example:**\n",
        "\n",
        "If we divide a distribution into four equal portions, we will speak of four quartiles. The first quartile includes all values that are smaller than a quarter of all values. In a graphical representation, it corresponds to 25% of the total area of a distribution. The two lower quartiles comprise 50% of all distribution values. The interquartile range between the first and third quartile equals the range in which 50% of all values lie that are distributed around the mean. "
      ],
      "metadata": {
        "id": "mXZFmBB239MC"
      }
    },
    {
      "cell_type": "markdown",
      "source": [
        "https://www.mathemania.com/lesson/quantiles/#:~:text=Quantiles%20of%20order%20are%20values,%E2%88%92%201%20%2C%20y%20N%20%5D%20.\n",
        "\n",
        "![image.png](data:image/png;base64,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)"
      ],
      "metadata": {
        "id": "8KsIDzyn4pgQ"
      }
    },
    {
      "cell_type": "markdown",
      "source": [
        "# **Pivot**\n",
        "\n",
        "Return reshaped DataFrame organized by given index / column values.\n",
        "Reshape data (produce a “pivot” table) based on column values. Uses unique values from specified index / columns to form axes of the resulting DataFrame. This function does not support data aggregation, multiple values will result in a MultiIndex in the columns.\n",
        "\n",
        "#**Parameters:**\t\n",
        "index : string or object, optional column to use to make new frame’s index. If None, uses existing index.\n",
        "\n",
        "columns : string or object\n",
        "Column to use to make new frame’s columns.\n",
        "\n",
        "values : string, object or a list of the previous, optional\n",
        "Column(s) to use for populating new frame’s values. If not specified, all remaining columns will be used and the result will have hierarchically indexed columns.\n",
        "\n",
        "Changed in version 0.23.0: Also accept list of column names.\n",
        "\n",
        "#**Returns:**\t\n",
        "DataFrame\n",
        "Returns reshaped DataFrame.\n",
        "\n",
        "#**Raises:**\t\n",
        "ValueError: When there are any index, columns combinations with multiple values. DataFrame.pivot_table when you need to aggregate.\n"
      ],
      "metadata": {
        "id": "p2vY782R4_7M"
      }
    },
    {
      "cell_type": "code",
      "source": [
        "p = df.pivot('Name','Age','Rating')\n",
        "print(df)\n",
        "print(p)\n",
        "print(type(p))"
      ],
      "metadata": {
        "colab": {
          "base_uri": "https://localhost:8080/"
        },
        "id": "Ph8LP_nC5BCB",
        "outputId": "c487c442-6ec8-4085-d278-151f635e7a78"
      },
      "execution_count": 9,
      "outputs": [
        {
          "output_type": "stream",
          "name": "stdout",
          "text": [
            "       Name  Age  Rating\n",
            "0      Tina   25    4.23\n",
            "1       Ria   26    3.24\n",
            "2      Amit   25    3.98\n",
            "3     Sumit   23    2.56\n",
            "4    Manish   30    3.20\n",
            "5    Mayank   29    4.60\n",
            "6    Vishal   23    3.80\n",
            "7    Vardan   34    3.78\n",
            "8    Rahul,   40    2.98\n",
            "9    Vikesh   30    4.80\n",
            "10  Priyank   51    4.10\n",
            "11  Bhavesh   46    3.65\n",
            "Age        23    25    26   29   30    34    40    46   51\n",
            "Name                                                      \n",
            "Amit      NaN  3.98   NaN  NaN  NaN   NaN   NaN   NaN  NaN\n",
            "Bhavesh   NaN   NaN   NaN  NaN  NaN   NaN   NaN  3.65  NaN\n",
            "Manish    NaN   NaN   NaN  NaN  3.2   NaN   NaN   NaN  NaN\n",
            "Mayank    NaN   NaN   NaN  4.6  NaN   NaN   NaN   NaN  NaN\n",
            "Priyank   NaN   NaN   NaN  NaN  NaN   NaN   NaN   NaN  4.1\n",
            "Rahul,    NaN   NaN   NaN  NaN  NaN   NaN  2.98   NaN  NaN\n",
            "Ria       NaN   NaN  3.24  NaN  NaN   NaN   NaN   NaN  NaN\n",
            "Sumit    2.56   NaN   NaN  NaN  NaN   NaN   NaN   NaN  NaN\n",
            "Tina      NaN  4.23   NaN  NaN  NaN   NaN   NaN   NaN  NaN\n",
            "Vardan    NaN   NaN   NaN  NaN  NaN  3.78   NaN   NaN  NaN\n",
            "Vikesh    NaN   NaN   NaN  NaN  4.8   NaN   NaN   NaN  NaN\n",
            "Vishal   3.80   NaN   NaN  NaN  NaN   NaN   NaN   NaN  NaN\n",
            "<class 'pandas.core.frame.DataFrame'>\n"
          ]
        }
      ]
    },
    {
      "cell_type": "code",
      "source": [
        "df = pd.DataFrame({'A': ['John', 'Boby', 'Mina'], \n",
        "      'B': ['Masters', 'Graduate', 'Graduate'], \n",
        "      'C': [27, 23, 21]}) \n",
        "print(df)"
      ],
      "metadata": {
        "colab": {
          "base_uri": "https://localhost:8080/"
        },
        "id": "aAWDh-sk4PDL",
        "outputId": "2af807bb-adf0-49e3-b9e2-a0d7d07d17a9"
      },
      "execution_count": 10,
      "outputs": [
        {
          "output_type": "stream",
          "name": "stdout",
          "text": [
            "      A         B   C\n",
            "0  John   Masters  27\n",
            "1  Boby  Graduate  23\n",
            "2  Mina  Graduate  21\n"
          ]
        }
      ]
    },
    {
      "cell_type": "code",
      "source": [
        "p = df.pivot('A','B','C')\n",
        "print(p)\n",
        "print(type(p))"
      ],
      "metadata": {
        "colab": {
          "base_uri": "https://localhost:8080/"
        },
        "id": "NSMA4olc6d1G",
        "outputId": "ab788a7c-f7af-4725-bf84-b73108a8b3f1"
      },
      "execution_count": 12,
      "outputs": [
        {
          "output_type": "stream",
          "name": "stdout",
          "text": [
            "B     Graduate  Masters\n",
            "A                      \n",
            "Boby      23.0      NaN\n",
            "John       NaN     27.0\n",
            "Mina      21.0      NaN\n",
            "<class 'pandas.core.frame.DataFrame'>\n"
          ]
        }
      ]
    },
    {
      "cell_type": "code",
      "source": [
        "p=df.pivot(index ='A', columns ='B', values =['C', 'A'])\n",
        "print(p)"
      ],
      "metadata": {
        "colab": {
          "base_uri": "https://localhost:8080/"
        },
        "id": "6sLG6Edj6vPs",
        "outputId": "ccbd3d23-043b-42b5-d947-199ea54ca5ba"
      },
      "execution_count": 13,
      "outputs": [
        {
          "output_type": "stream",
          "name": "stdout",
          "text": [
            "            C                A        \n",
            "B    Graduate Masters Graduate Masters\n",
            "A                                     \n",
            "Boby       23     NaN     Boby     NaN\n",
            "John      NaN      27      NaN    John\n",
            "Mina       21     NaN     Mina     NaN\n"
          ]
        }
      ]
    },
    {
      "cell_type": "code",
      "source": [
        "df = pd.DataFrame({'foo': ['one', 'one', 'one', 'two', 'two','two'],\n",
        "                    'bar': ['A', 'B', 'C', 'A', 'B', 'C'],\n",
        "                    'baz': [1, 2, 3, 4, 5, 6],\n",
        "                    'zoo': ['x', 'y', 'z', 'q', 'w', 't']})\n",
        "\n",
        "print(df)"
      ],
      "metadata": {
        "colab": {
          "base_uri": "https://localhost:8080/"
        },
        "id": "G8VQOSt37Ac_",
        "outputId": "9c3ef3cf-a960-4f05-fd1e-7ae986d21bd6"
      },
      "execution_count": 14,
      "outputs": [
        {
          "output_type": "stream",
          "name": "stdout",
          "text": [
            "   foo bar  baz zoo\n",
            "0  one   A    1   x\n",
            "1  one   B    2   y\n",
            "2  one   C    3   z\n",
            "3  two   A    4   q\n",
            "4  two   B    5   w\n",
            "5  two   C    6   t\n"
          ]
        }
      ]
    },
    {
      "cell_type": "code",
      "source": [
        "df.pivot(index='foo', columns='bar', values='baz')"
      ],
      "metadata": {
        "colab": {
          "base_uri": "https://localhost:8080/",
          "height": 143
        },
        "id": "EVKNrynE7I8Z",
        "outputId": "ef748eca-fffa-40c3-f550-e2c182105125"
      },
      "execution_count": 15,
      "outputs": [
        {
          "output_type": "execute_result",
          "data": {
            "text/html": [
              "\n",
              "  <div id=\"df-254b8b08-546e-4fb8-8f0a-078c53828a3c\">\n",
              "    <div class=\"colab-df-container\">\n",
              "      <div>\n",
              "<style scoped>\n",
              "    .dataframe tbody tr th:only-of-type {\n",
              "        vertical-align: middle;\n",
              "    }\n",
              "\n",
              "    .dataframe tbody tr th {\n",
              "        vertical-align: top;\n",
              "    }\n",
              "\n",
              "    .dataframe thead th {\n",
              "        text-align: right;\n",
              "    }\n",
              "</style>\n",
              "<table border=\"1\" class=\"dataframe\">\n",
              "  <thead>\n",
              "    <tr style=\"text-align: right;\">\n",
              "      <th>bar</th>\n",
              "      <th>A</th>\n",
              "      <th>B</th>\n",
              "      <th>C</th>\n",
              "    </tr>\n",
              "    <tr>\n",
              "      <th>foo</th>\n",
              "      <th></th>\n",
              "      <th></th>\n",
              "      <th></th>\n",
              "    </tr>\n",
              "  </thead>\n",
              "  <tbody>\n",
              "    <tr>\n",
              "      <th>one</th>\n",
              "      <td>1</td>\n",
              "      <td>2</td>\n",
              "      <td>3</td>\n",
              "    </tr>\n",
              "    <tr>\n",
              "      <th>two</th>\n",
              "      <td>4</td>\n",
              "      <td>5</td>\n",
              "      <td>6</td>\n",
              "    </tr>\n",
              "  </tbody>\n",
              "</table>\n",
              "</div>\n",
              "      <button class=\"colab-df-convert\" onclick=\"convertToInteractive('df-254b8b08-546e-4fb8-8f0a-078c53828a3c')\"\n",
              "              title=\"Convert this dataframe to an interactive table.\"\n",
              "              style=\"display:none;\">\n",
              "        \n",
              "  <svg xmlns=\"http://www.w3.org/2000/svg\" height=\"24px\"viewBox=\"0 0 24 24\"\n",
              "       width=\"24px\">\n",
              "    <path d=\"M0 0h24v24H0V0z\" fill=\"none\"/>\n",
              "    <path d=\"M18.56 5.44l.94 2.06.94-2.06 2.06-.94-2.06-.94-.94-2.06-.94 2.06-2.06.94zm-11 1L8.5 8.5l.94-2.06 2.06-.94-2.06-.94L8.5 2.5l-.94 2.06-2.06.94zm10 10l.94 2.06.94-2.06 2.06-.94-2.06-.94-.94-2.06-.94 2.06-2.06.94z\"/><path d=\"M17.41 7.96l-1.37-1.37c-.4-.4-.92-.59-1.43-.59-.52 0-1.04.2-1.43.59L10.3 9.45l-7.72 7.72c-.78.78-.78 2.05 0 2.83L4 21.41c.39.39.9.59 1.41.59.51 0 1.02-.2 1.41-.59l7.78-7.78 2.81-2.81c.8-.78.8-2.07 0-2.86zM5.41 20L4 18.59l7.72-7.72 1.47 1.35L5.41 20z\"/>\n",
              "  </svg>\n",
              "      </button>\n",
              "      \n",
              "  <style>\n",
              "    .colab-df-container {\n",
              "      display:flex;\n",
              "      flex-wrap:wrap;\n",
              "      gap: 12px;\n",
              "    }\n",
              "\n",
              "    .colab-df-convert {\n",
              "      background-color: #E8F0FE;\n",
              "      border: none;\n",
              "      border-radius: 50%;\n",
              "      cursor: pointer;\n",
              "      display: none;\n",
              "      fill: #1967D2;\n",
              "      height: 32px;\n",
              "      padding: 0 0 0 0;\n",
              "      width: 32px;\n",
              "    }\n",
              "\n",
              "    .colab-df-convert:hover {\n",
              "      background-color: #E2EBFA;\n",
              "      box-shadow: 0px 1px 2px rgba(60, 64, 67, 0.3), 0px 1px 3px 1px rgba(60, 64, 67, 0.15);\n",
              "      fill: #174EA6;\n",
              "    }\n",
              "\n",
              "    [theme=dark] .colab-df-convert {\n",
              "      background-color: #3B4455;\n",
              "      fill: #D2E3FC;\n",
              "    }\n",
              "\n",
              "    [theme=dark] .colab-df-convert:hover {\n",
              "      background-color: #434B5C;\n",
              "      box-shadow: 0px 1px 3px 1px rgba(0, 0, 0, 0.15);\n",
              "      filter: drop-shadow(0px 1px 2px rgba(0, 0, 0, 0.3));\n",
              "      fill: #FFFFFF;\n",
              "    }\n",
              "  </style>\n",
              "\n",
              "      <script>\n",
              "        const buttonEl =\n",
              "          document.querySelector('#df-254b8b08-546e-4fb8-8f0a-078c53828a3c button.colab-df-convert');\n",
              "        buttonEl.style.display =\n",
              "          google.colab.kernel.accessAllowed ? 'block' : 'none';\n",
              "\n",
              "        async function convertToInteractive(key) {\n",
              "          const element = document.querySelector('#df-254b8b08-546e-4fb8-8f0a-078c53828a3c');\n",
              "          const dataTable =\n",
              "            await google.colab.kernel.invokeFunction('convertToInteractive',\n",
              "                                                     [key], {});\n",
              "          if (!dataTable) return;\n",
              "\n",
              "          const docLinkHtml = 'Like what you see? Visit the ' +\n",
              "            '<a target=\"_blank\" href=https://colab.research.google.com/notebooks/data_table.ipynb>data table notebook</a>'\n",
              "            + ' to learn more about interactive tables.';\n",
              "          element.innerHTML = '';\n",
              "          dataTable['output_type'] = 'display_data';\n",
              "          await google.colab.output.renderOutput(dataTable, element);\n",
              "          const docLink = document.createElement('div');\n",
              "          docLink.innerHTML = docLinkHtml;\n",
              "          element.appendChild(docLink);\n",
              "        }\n",
              "      </script>\n",
              "    </div>\n",
              "  </div>\n",
              "  "
            ],
            "text/plain": [
              "bar  A  B  C\n",
              "foo         \n",
              "one  1  2  3\n",
              "two  4  5  6"
            ]
          },
          "metadata": {},
          "execution_count": 15
        }
      ]
    },
    {
      "cell_type": "code",
      "source": [
        "df.pivot(index='foo', columns='bar')['baz']\n",
        "print(df)"
      ],
      "metadata": {
        "colab": {
          "base_uri": "https://localhost:8080/"
        },
        "id": "EmwJbH_D7cRo",
        "outputId": "6b43b80b-9ac9-4d23-80c8-5b481f8f062e"
      },
      "execution_count": 16,
      "outputs": [
        {
          "output_type": "stream",
          "name": "stdout",
          "text": [
            "   foo bar  baz zoo\n",
            "0  one   A    1   x\n",
            "1  one   B    2   y\n",
            "2  one   C    3   z\n",
            "3  two   A    4   q\n",
            "4  two   B    5   w\n",
            "5  two   C    6   t\n"
          ]
        }
      ]
    },
    {
      "cell_type": "code",
      "source": [
        "df.pivot(index='foo', columns='bar', values=['baz', 'zoo'])\n",
        "print(df)"
      ],
      "metadata": {
        "colab": {
          "base_uri": "https://localhost:8080/"
        },
        "id": "19xv5Xyk7m74",
        "outputId": "1fecafce-48f0-47f1-8f2f-9d09fa11f0d3"
      },
      "execution_count": 17,
      "outputs": [
        {
          "output_type": "stream",
          "name": "stdout",
          "text": [
            "   foo bar  baz zoo\n",
            "0  one   A    1   x\n",
            "1  one   B    2   y\n",
            "2  one   C    3   z\n",
            "3  two   A    4   q\n",
            "4  two   B    5   w\n",
            "5  two   C    6   t\n"
          ]
        }
      ]
    },
    {
      "cell_type": "code",
      "source": [
        "df = pd.DataFrame({\"foo\": ['one', 'one', 'two', 'two'], \"bar\": ['A', 'A', 'B', 'C'], \"baz\": [1, 2, 3, 4]})\n",
        "print(df)"
      ],
      "metadata": {
        "colab": {
          "base_uri": "https://localhost:8080/"
        },
        "id": "P33cIEMV7sgX",
        "outputId": "5b192e27-05e6-4d3d-f968-159f5c1bf47b"
      },
      "execution_count": 18,
      "outputs": [
        {
          "output_type": "stream",
          "name": "stdout",
          "text": [
            "   foo bar  baz\n",
            "0  one   A    1\n",
            "1  one   A    2\n",
            "2  two   B    3\n",
            "3  two   C    4\n"
          ]
        }
      ]
    },
    {
      "cell_type": "code",
      "source": [
        "d = {'Age':pd.Series([25,26,25,23,30,29,23,34,40,30,51,46]),\n",
        "   'Rating':pd.Series([4.23,3.24,3.98,2.56,3.20,4.6,3.8,3.78,2.98,4.80,4.10,3.65])\n",
        "}\n",
        "df = pd.DataFrame(d)\n",
        "print(df)\n"
      ],
      "metadata": {
        "colab": {
          "base_uri": "https://localhost:8080/"
        },
        "id": "hd65kx1q78AC",
        "outputId": "2acb76f3-689b-44f5-86c9-b65cdfb76cca"
      },
      "execution_count": 20,
      "outputs": [
        {
          "output_type": "stream",
          "name": "stdout",
          "text": [
            "    Age  Rating\n",
            "0    25    4.23\n",
            "1    26    3.24\n",
            "2    25    3.98\n",
            "3    23    2.56\n",
            "4    30    3.20\n",
            "5    29    4.60\n",
            "6    23    3.80\n",
            "7    34    3.78\n",
            "8    40    2.98\n",
            "9    30    4.80\n",
            "10   51    4.10\n",
            "11   46    3.65\n"
          ]
        }
      ]
    },
    {
      "cell_type": "code",
      "source": [
        "df.pivot(index='Age', columns='Rating')"
      ],
      "metadata": {
        "colab": {
          "base_uri": "https://localhost:8080/",
          "height": 331
        },
        "id": "pwoFlYNk8Clh",
        "outputId": "c83c4e81-cffd-4e61-e08f-59da7ecbdc07"
      },
      "execution_count": 21,
      "outputs": [
        {
          "output_type": "execute_result",
          "data": {
            "text/html": [
              "\n",
              "  <div id=\"df-36608674-e53b-4a0b-b98e-661cdf9307d5\">\n",
              "    <div class=\"colab-df-container\">\n",
              "      <div>\n",
              "<style scoped>\n",
              "    .dataframe tbody tr th:only-of-type {\n",
              "        vertical-align: middle;\n",
              "    }\n",
              "\n",
              "    .dataframe tbody tr th {\n",
              "        vertical-align: top;\n",
              "    }\n",
              "\n",
              "    .dataframe thead tr th {\n",
              "        text-align: left;\n",
              "    }\n",
              "\n",
              "    .dataframe thead tr:last-of-type th {\n",
              "        text-align: right;\n",
              "    }\n",
              "</style>\n",
              "<table border=\"1\" class=\"dataframe\">\n",
              "  <thead>\n",
              "    <tr>\n",
              "      <th>Age</th>\n",
              "    </tr>\n",
              "  </thead>\n",
              "  <tbody>\n",
              "    <tr>\n",
              "      <th>23</th>\n",
              "    </tr>\n",
              "    <tr>\n",
              "      <th>25</th>\n",
              "    </tr>\n",
              "    <tr>\n",
              "      <th>26</th>\n",
              "    </tr>\n",
              "    <tr>\n",
              "      <th>29</th>\n",
              "    </tr>\n",
              "    <tr>\n",
              "      <th>30</th>\n",
              "    </tr>\n",
              "    <tr>\n",
              "      <th>34</th>\n",
              "    </tr>\n",
              "    <tr>\n",
              "      <th>40</th>\n",
              "    </tr>\n",
              "    <tr>\n",
              "      <th>46</th>\n",
              "    </tr>\n",
              "    <tr>\n",
              "      <th>51</th>\n",
              "    </tr>\n",
              "  </tbody>\n",
              "</table>\n",
              "</div>\n",
              "      <button class=\"colab-df-convert\" onclick=\"convertToInteractive('df-36608674-e53b-4a0b-b98e-661cdf9307d5')\"\n",
              "              title=\"Convert this dataframe to an interactive table.\"\n",
              "              style=\"display:none;\">\n",
              "        \n",
              "  <svg xmlns=\"http://www.w3.org/2000/svg\" height=\"24px\"viewBox=\"0 0 24 24\"\n",
              "       width=\"24px\">\n",
              "    <path d=\"M0 0h24v24H0V0z\" fill=\"none\"/>\n",
              "    <path d=\"M18.56 5.44l.94 2.06.94-2.06 2.06-.94-2.06-.94-.94-2.06-.94 2.06-2.06.94zm-11 1L8.5 8.5l.94-2.06 2.06-.94-2.06-.94L8.5 2.5l-.94 2.06-2.06.94zm10 10l.94 2.06.94-2.06 2.06-.94-2.06-.94-.94-2.06-.94 2.06-2.06.94z\"/><path d=\"M17.41 7.96l-1.37-1.37c-.4-.4-.92-.59-1.43-.59-.52 0-1.04.2-1.43.59L10.3 9.45l-7.72 7.72c-.78.78-.78 2.05 0 2.83L4 21.41c.39.39.9.59 1.41.59.51 0 1.02-.2 1.41-.59l7.78-7.78 2.81-2.81c.8-.78.8-2.07 0-2.86zM5.41 20L4 18.59l7.72-7.72 1.47 1.35L5.41 20z\"/>\n",
              "  </svg>\n",
              "      </button>\n",
              "      \n",
              "  <style>\n",
              "    .colab-df-container {\n",
              "      display:flex;\n",
              "      flex-wrap:wrap;\n",
              "      gap: 12px;\n",
              "    }\n",
              "\n",
              "    .colab-df-convert {\n",
              "      background-color: #E8F0FE;\n",
              "      border: none;\n",
              "      border-radius: 50%;\n",
              "      cursor: pointer;\n",
              "      display: none;\n",
              "      fill: #1967D2;\n",
              "      height: 32px;\n",
              "      padding: 0 0 0 0;\n",
              "      width: 32px;\n",
              "    }\n",
              "\n",
              "    .colab-df-convert:hover {\n",
              "      background-color: #E2EBFA;\n",
              "      box-shadow: 0px 1px 2px rgba(60, 64, 67, 0.3), 0px 1px 3px 1px rgba(60, 64, 67, 0.15);\n",
              "      fill: #174EA6;\n",
              "    }\n",
              "\n",
              "    [theme=dark] .colab-df-convert {\n",
              "      background-color: #3B4455;\n",
              "      fill: #D2E3FC;\n",
              "    }\n",
              "\n",
              "    [theme=dark] .colab-df-convert:hover {\n",
              "      background-color: #434B5C;\n",
              "      box-shadow: 0px 1px 3px 1px rgba(0, 0, 0, 0.15);\n",
              "      filter: drop-shadow(0px 1px 2px rgba(0, 0, 0, 0.3));\n",
              "      fill: #FFFFFF;\n",
              "    }\n",
              "  </style>\n",
              "\n",
              "      <script>\n",
              "        const buttonEl =\n",
              "          document.querySelector('#df-36608674-e53b-4a0b-b98e-661cdf9307d5 button.colab-df-convert');\n",
              "        buttonEl.style.display =\n",
              "          google.colab.kernel.accessAllowed ? 'block' : 'none';\n",
              "\n",
              "        async function convertToInteractive(key) {\n",
              "          const element = document.querySelector('#df-36608674-e53b-4a0b-b98e-661cdf9307d5');\n",
              "          const dataTable =\n",
              "            await google.colab.kernel.invokeFunction('convertToInteractive',\n",
              "                                                     [key], {});\n",
              "          if (!dataTable) return;\n",
              "\n",
              "          const docLinkHtml = 'Like what you see? Visit the ' +\n",
              "            '<a target=\"_blank\" href=https://colab.research.google.com/notebooks/data_table.ipynb>data table notebook</a>'\n",
              "            + ' to learn more about interactive tables.';\n",
              "          element.innerHTML = '';\n",
              "          dataTable['output_type'] = 'display_data';\n",
              "          await google.colab.output.renderOutput(dataTable, element);\n",
              "          const docLink = document.createElement('div');\n",
              "          docLink.innerHTML = docLinkHtml;\n",
              "          element.appendChild(docLink);\n",
              "        }\n",
              "      </script>\n",
              "    </div>\n",
              "  </div>\n",
              "  "
            ],
            "text/plain": [
              "Empty DataFrame\n",
              "Columns: []\n",
              "Index: [23, 25, 26, 29, 30, 34, 40, 46, 51]"
            ]
          },
          "metadata": {},
          "execution_count": 21
        }
      ]
    },
    {
      "cell_type": "code",
      "source": [
        "# minimum\n",
        "\n",
        "m = df.min()\n",
        "print(m)"
      ],
      "metadata": {
        "colab": {
          "base_uri": "https://localhost:8080/"
        },
        "id": "jcpZwcsA8LKc",
        "outputId": "d7ad711f-dcd6-44b4-8264-bff553612544"
      },
      "execution_count": 22,
      "outputs": [
        {
          "output_type": "stream",
          "name": "stdout",
          "text": [
            "Age       23.00\n",
            "Rating     2.56\n",
            "dtype: float64\n"
          ]
        }
      ]
    },
    {
      "cell_type": "code",
      "source": [
        "#absolute\n",
        "a = df.abs()\n",
        "print(a)"
      ],
      "metadata": {
        "colab": {
          "base_uri": "https://localhost:8080/"
        },
        "id": "H0qnzedt8aL5",
        "outputId": "27848811-1314-4ca6-b9ff-8e6a3563a958"
      },
      "execution_count": 23,
      "outputs": [
        {
          "output_type": "stream",
          "name": "stdout",
          "text": [
            "    Age  Rating\n",
            "0    25    4.23\n",
            "1    26    3.24\n",
            "2    25    3.98\n",
            "3    23    2.56\n",
            "4    30    3.20\n",
            "5    29    4.60\n",
            "6    23    3.80\n",
            "7    34    3.78\n",
            "8    40    2.98\n",
            "9    30    4.80\n",
            "10   51    4.10\n",
            "11   46    3.65\n"
          ]
        }
      ]
    },
    {
      "cell_type": "code",
      "source": [
        "#product\n",
        "\n",
        "pr = df.prod()\n",
        "print(df)\n",
        "print(pr)"
      ],
      "metadata": {
        "colab": {
          "base_uri": "https://localhost:8080/"
        },
        "id": "XL5dJQC08xQs",
        "outputId": "a70e772d-dc6c-49c1-a12b-fc3314985b4f"
      },
      "execution_count": 24,
      "outputs": [
        {
          "output_type": "stream",
          "name": "stdout",
          "text": [
            "    Age  Rating\n",
            "0    25    4.23\n",
            "1    26    3.24\n",
            "2    25    3.98\n",
            "3    23    2.56\n",
            "4    30    3.20\n",
            "5    29    4.60\n",
            "6    23    3.80\n",
            "7    34    3.78\n",
            "8    40    2.98\n",
            "9    30    4.80\n",
            "10   51    4.10\n",
            "11   46    3.65\n",
            "Age       7.158408e+17\n",
            "Rating    6.320128e+06\n",
            "dtype: float64\n"
          ]
        }
      ]
    },
    {
      "cell_type": "code",
      "source": [
        "cpr = df.cumprod()\n",
        "print(cpr)"
      ],
      "metadata": {
        "colab": {
          "base_uri": "https://localhost:8080/"
        },
        "id": "XKlw67pM87C0",
        "outputId": "5ee6a28a-660c-4ac7-82a0-6c2bafa31d06"
      },
      "execution_count": 25,
      "outputs": [
        {
          "output_type": "stream",
          "name": "stdout",
          "text": [
            "                   Age        Rating\n",
            "0                   25  4.230000e+00\n",
            "1                  650  1.370520e+01\n",
            "2                16250  5.454670e+01\n",
            "3               373750  1.396395e+02\n",
            "4             11212500  4.468465e+02\n",
            "5            325162500  2.055494e+03\n",
            "6           7478737500  7.810877e+03\n",
            "7         254277075000  2.952512e+04\n",
            "8       10171083000000  8.798485e+04\n",
            "9      305132490000000  4.223273e+05\n",
            "10   15561756990000000  1.731542e+06\n",
            "11  715840821540000000  6.320128e+06\n"
          ]
        }
      ]
    },
    {
      "cell_type": "code",
      "source": [
        "cs = df.cumsum()\n",
        "print(df)\n",
        "print(cs)"
      ],
      "metadata": {
        "colab": {
          "base_uri": "https://localhost:8080/"
        },
        "id": "dusT0iN49E25",
        "outputId": "e7ecb4b1-d1ea-4769-8ab4-b26257ea674e"
      },
      "execution_count": 27,
      "outputs": [
        {
          "output_type": "stream",
          "name": "stdout",
          "text": [
            "    Age  Rating\n",
            "0    25    4.23\n",
            "1    26    3.24\n",
            "2    25    3.98\n",
            "3    23    2.56\n",
            "4    30    3.20\n",
            "5    29    4.60\n",
            "6    23    3.80\n",
            "7    34    3.78\n",
            "8    40    2.98\n",
            "9    30    4.80\n",
            "10   51    4.10\n",
            "11   46    3.65\n",
            "    Age  Rating\n",
            "0    25    4.23\n",
            "1    51    7.47\n",
            "2    76   11.45\n",
            "3    99   14.01\n",
            "4   129   17.21\n",
            "5   158   21.81\n",
            "6   181   25.61\n",
            "7   215   29.39\n",
            "8   255   32.37\n",
            "9   285   37.17\n",
            "10  336   41.27\n",
            "11  382   44.92\n"
          ]
        }
      ]
    },
    {
      "cell_type": "code",
      "source": [
        "#mean\n",
        "m = df.mean()\n",
        "print(m)"
      ],
      "metadata": {
        "colab": {
          "base_uri": "https://localhost:8080/"
        },
        "id": "aRQxh_XE9R9k",
        "outputId": "dc6ec026-1b41-48c6-a7ad-98280fa60588"
      },
      "execution_count": 28,
      "outputs": [
        {
          "output_type": "stream",
          "name": "stdout",
          "text": [
            "Age       31.833333\n",
            "Rating     3.743333\n",
            "dtype: float64\n"
          ]
        }
      ]
    },
    {
      "cell_type": "code",
      "source": [
        "#mode\n",
        "md = df.mode()\n",
        "print(md)"
      ],
      "metadata": {
        "colab": {
          "base_uri": "https://localhost:8080/"
        },
        "id": "tmIVIgHz9bp3",
        "outputId": "fa1e52ef-812b-4907-dcff-3ef05bd03d8b"
      },
      "execution_count": 29,
      "outputs": [
        {
          "output_type": "stream",
          "name": "stdout",
          "text": [
            "     Age  Rating\n",
            "0   23.0    2.56\n",
            "1   25.0    2.98\n",
            "2   30.0    3.20\n",
            "3    NaN    3.24\n",
            "4    NaN    3.65\n",
            "5    NaN    3.78\n",
            "6    NaN    3.80\n",
            "7    NaN    3.98\n",
            "8    NaN    4.10\n",
            "9    NaN    4.23\n",
            "10   NaN    4.60\n",
            "11   NaN    4.80\n"
          ]
        }
      ]
    },
    {
      "cell_type": "code",
      "source": [
        "#median\n",
        "med = df.median()\n",
        "print(med)"
      ],
      "metadata": {
        "colab": {
          "base_uri": "https://localhost:8080/"
        },
        "id": "ZEp14-xP9iz_",
        "outputId": "1ceff854-3ee5-497f-d701-95a0deaf7541"
      },
      "execution_count": 30,
      "outputs": [
        {
          "output_type": "stream",
          "name": "stdout",
          "text": [
            "Age       29.50\n",
            "Rating     3.79\n",
            "dtype: float64\n"
          ]
        }
      ]
    },
    {
      "cell_type": "code",
      "source": [
        "#count\n",
        "c = df.count()\n",
        "print(c)"
      ],
      "metadata": {
        "colab": {
          "base_uri": "https://localhost:8080/"
        },
        "id": "rw8gl5Uc9tlI",
        "outputId": "c07ef092-68a6-4029-8f37-06097e9ea817"
      },
      "execution_count": 31,
      "outputs": [
        {
          "output_type": "stream",
          "name": "stdout",
          "text": [
            "Age       12\n",
            "Rating    12\n",
            "dtype: int64\n"
          ]
        }
      ]
    },
    {
      "cell_type": "code",
      "source": [
        "#sum\n",
        "s = df.sum()\n",
        "print(s)"
      ],
      "metadata": {
        "colab": {
          "base_uri": "https://localhost:8080/"
        },
        "id": "o_saDwpY9zHc",
        "outputId": "a2f10e98-c5d5-4868-a9ad-5c69d3f01934"
      },
      "execution_count": 32,
      "outputs": [
        {
          "output_type": "stream",
          "name": "stdout",
          "text": [
            "Age       382.00\n",
            "Rating     44.92\n",
            "dtype: float64\n"
          ]
        }
      ]
    },
    {
      "cell_type": "code",
      "source": [
        "#standard deviation\n",
        "sd = np.std([1,4,3,8,6,11,17,18,19,24,27,28])\n",
        "print(sd)"
      ],
      "metadata": {
        "colab": {
          "base_uri": "https://localhost:8080/"
        },
        "id": "Wt0yxWH_-Fm4",
        "outputId": "247ec0f3-ceb6-4793-8148-3e316b900f1e"
      },
      "execution_count": 35,
      "outputs": [
        {
          "output_type": "stream",
          "name": "stdout",
          "text": [
            "9.190877119308157\n"
          ]
        }
      ]
    },
    {
      "cell_type": "code",
      "source": [
        "#standard deviation\n",
        "s = pd.Series([1,4,3,8,6,11,17,18,19,24,27,28])\n",
        "print(s)\n",
        "print(s.std())"
      ],
      "metadata": {
        "colab": {
          "base_uri": "https://localhost:8080/"
        },
        "id": "fP_4Ao-p-_ns",
        "outputId": "cdccdee6-3a8b-4455-8719-c23f12f93d46"
      },
      "execution_count": 38,
      "outputs": [
        {
          "output_type": "stream",
          "name": "stdout",
          "text": [
            "0      1\n",
            "1      4\n",
            "2      3\n",
            "3      8\n",
            "4      6\n",
            "5     11\n",
            "6     17\n",
            "7     18\n",
            "8     19\n",
            "9     24\n",
            "10    27\n",
            "11    28\n",
            "dtype: int64\n",
            "9.599558070636125\n"
          ]
        }
      ]
    },
    {
      "cell_type": "code",
      "source": [
        "sr = pd.Series([19.5, 16.8, None, 22.78, None, 20.124, None, 18.1002, None])\n",
        "print(sr.std())"
      ],
      "metadata": {
        "colab": {
          "base_uri": "https://localhost:8080/"
        },
        "id": "4HLAKTY3_gI4",
        "outputId": "b0d0e353-d8e5-47a4-c493-fd4c731bcb8c"
      },
      "execution_count": 39,
      "outputs": [
        {
          "output_type": "stream",
          "name": "stdout",
          "text": [
            "2.2577393844285925\n"
          ]
        }
      ]
    },
    {
      "cell_type": "code",
      "source": [
        "d = {'Name':pd.Series(['Tina','Ria','Amit','Sumit','Manish','Mayank','Vishal','Vardan','Rahul,','Vikesh','Priyank','Bhavesh']),\n",
        "   'Age':pd.Series([25,26,25,23,30,29,23,34,40,30,51,46]),\n",
        "   'Rating':pd.Series([4.23,3.24,3.98,2.56,3.20,4.6,3.8,3.78,2.98,4.80,4.10,3.65])\n",
        "}\n",
        "df = pd.DataFrame(d)\n",
        "print(df)"
      ],
      "metadata": {
        "colab": {
          "base_uri": "https://localhost:8080/"
        },
        "id": "bRP1lG9I_2Tg",
        "outputId": "d358d303-2c22-44df-9f39-26c14b1afa08"
      },
      "execution_count": 40,
      "outputs": [
        {
          "output_type": "stream",
          "name": "stdout",
          "text": [
            "       Name  Age  Rating\n",
            "0      Tina   25    4.23\n",
            "1       Ria   26    3.24\n",
            "2      Amit   25    3.98\n",
            "3     Sumit   23    2.56\n",
            "4    Manish   30    3.20\n",
            "5    Mayank   29    4.60\n",
            "6    Vishal   23    3.80\n",
            "7    Vardan   34    3.78\n",
            "8    Rahul,   40    2.98\n",
            "9    Vikesh   30    4.80\n",
            "10  Priyank   51    4.10\n",
            "11  Bhavesh   46    3.65\n"
          ]
        }
      ]
    },
    {
      "cell_type": "code",
      "source": [
        "print(df.cumsum())"
      ],
      "metadata": {
        "colab": {
          "base_uri": "https://localhost:8080/"
        },
        "id": "tns31es__7V5",
        "outputId": "2fc59d1a-77ff-4757-b796-937e65515622"
      },
      "execution_count": 41,
      "outputs": [
        {
          "output_type": "stream",
          "name": "stdout",
          "text": [
            "                                                 Name  Age  Rating\n",
            "0                                                Tina   25    4.23\n",
            "1                                             TinaRia   51    7.47\n",
            "2                                         TinaRiaAmit   76   11.45\n",
            "3                                    TinaRiaAmitSumit   99   14.01\n",
            "4                              TinaRiaAmitSumitManish  129   17.21\n",
            "5                        TinaRiaAmitSumitManishMayank  158   21.81\n",
            "6                  TinaRiaAmitSumitManishMayankVishal  181   25.61\n",
            "7            TinaRiaAmitSumitManishMayankVishalVardan  215   29.39\n",
            "8      TinaRiaAmitSumitManishMayankVishalVardanRahul,  255   32.37\n",
            "9   TinaRiaAmitSumitManishMayankVishalVardanRahul,...  285   37.17\n",
            "10  TinaRiaAmitSumitManishMayankVishalVardanRahul,...  336   41.27\n",
            "11  TinaRiaAmitSumitManishMayankVishalVardanRahul,...  382   44.92\n"
          ]
        }
      ]
    },
    {
      "cell_type": "code",
      "source": [
        "print(df.sum())"
      ],
      "metadata": {
        "colab": {
          "base_uri": "https://localhost:8080/"
        },
        "id": "pIN3nrxqACSF",
        "outputId": "f3693750-8afd-4e79-9a49-3113e6910bd6"
      },
      "execution_count": 42,
      "outputs": [
        {
          "output_type": "stream",
          "name": "stdout",
          "text": [
            "Name      TinaRiaAmitSumitManishMayankVishalVardanRahul,...\n",
            "Age                                                     382\n",
            "Rating                                                44.92\n",
            "dtype: object\n"
          ]
        }
      ]
    },
    {
      "cell_type": "code",
      "source": [
        "#should throw an error\n",
        "print(df.abs())"
      ],
      "metadata": {
        "colab": {
          "base_uri": "https://localhost:8080/",
          "height": 329
        },
        "id": "reXkwx0dAPlp",
        "outputId": "58a2afaf-a680-4ef2-8070-2b2edbafafee"
      },
      "execution_count": 43,
      "outputs": [
        {
          "output_type": "error",
          "ename": "TypeError",
          "evalue": "ignored",
          "traceback": [
            "\u001b[0;31m---------------------------------------------------------------------------\u001b[0m",
            "\u001b[0;31mTypeError\u001b[0m                                 Traceback (most recent call last)",
            "\u001b[0;32m<ipython-input-43-6895fe388716>\u001b[0m in \u001b[0;36m<module>\u001b[0;34m()\u001b[0m\n\u001b[1;32m      1\u001b[0m \u001b[0;31m#should throw an error\u001b[0m\u001b[0;34m\u001b[0m\u001b[0;34m\u001b[0m\u001b[0;34m\u001b[0m\u001b[0m\n\u001b[0;32m----> 2\u001b[0;31m \u001b[0mprint\u001b[0m\u001b[0;34m(\u001b[0m\u001b[0mdf\u001b[0m\u001b[0;34m.\u001b[0m\u001b[0mabs\u001b[0m\u001b[0;34m(\u001b[0m\u001b[0;34m)\u001b[0m\u001b[0;34m)\u001b[0m\u001b[0;34m\u001b[0m\u001b[0;34m\u001b[0m\u001b[0m\n\u001b[0m",
            "\u001b[0;32m/usr/local/lib/python3.7/dist-packages/pandas/core/generic.py\u001b[0m in \u001b[0;36mabs\u001b[0;34m(self)\u001b[0m\n\u001b[1;32m   9771\u001b[0m         \u001b[0;31m# error: Incompatible return value type (got \"ndarray[Any, dtype[Any]]\",\u001b[0m\u001b[0;34m\u001b[0m\u001b[0;34m\u001b[0m\u001b[0;34m\u001b[0m\u001b[0m\n\u001b[1;32m   9772\u001b[0m         \u001b[0;31m# expected \"FrameOrSeries\")\u001b[0m\u001b[0;34m\u001b[0m\u001b[0;34m\u001b[0m\u001b[0;34m\u001b[0m\u001b[0m\n\u001b[0;32m-> 9773\u001b[0;31m         \u001b[0;32mreturn\u001b[0m \u001b[0mnp\u001b[0m\u001b[0;34m.\u001b[0m\u001b[0mabs\u001b[0m\u001b[0;34m(\u001b[0m\u001b[0mself\u001b[0m\u001b[0;34m)\u001b[0m  \u001b[0;31m# type: ignore[return-value]\u001b[0m\u001b[0;34m\u001b[0m\u001b[0;34m\u001b[0m\u001b[0m\n\u001b[0m\u001b[1;32m   9774\u001b[0m \u001b[0;34m\u001b[0m\u001b[0m\n\u001b[1;32m   9775\u001b[0m     \u001b[0;34m@\u001b[0m\u001b[0mfinal\u001b[0m\u001b[0;34m\u001b[0m\u001b[0;34m\u001b[0m\u001b[0m\n",
            "\u001b[0;32m/usr/local/lib/python3.7/dist-packages/pandas/core/generic.py\u001b[0m in \u001b[0;36m__array_ufunc__\u001b[0;34m(self, ufunc, method, *inputs, **kwargs)\u001b[0m\n\u001b[1;32m   2030\u001b[0m         \u001b[0mself\u001b[0m\u001b[0;34m,\u001b[0m \u001b[0mufunc\u001b[0m\u001b[0;34m:\u001b[0m \u001b[0mnp\u001b[0m\u001b[0;34m.\u001b[0m\u001b[0mufunc\u001b[0m\u001b[0;34m,\u001b[0m \u001b[0mmethod\u001b[0m\u001b[0;34m:\u001b[0m \u001b[0mstr\u001b[0m\u001b[0;34m,\u001b[0m \u001b[0;34m*\u001b[0m\u001b[0minputs\u001b[0m\u001b[0;34m:\u001b[0m \u001b[0mAny\u001b[0m\u001b[0;34m,\u001b[0m \u001b[0;34m**\u001b[0m\u001b[0mkwargs\u001b[0m\u001b[0;34m:\u001b[0m \u001b[0mAny\u001b[0m\u001b[0;34m\u001b[0m\u001b[0;34m\u001b[0m\u001b[0m\n\u001b[1;32m   2031\u001b[0m     ):\n\u001b[0;32m-> 2032\u001b[0;31m         \u001b[0;32mreturn\u001b[0m \u001b[0marraylike\u001b[0m\u001b[0;34m.\u001b[0m\u001b[0marray_ufunc\u001b[0m\u001b[0;34m(\u001b[0m\u001b[0mself\u001b[0m\u001b[0;34m,\u001b[0m \u001b[0mufunc\u001b[0m\u001b[0;34m,\u001b[0m \u001b[0mmethod\u001b[0m\u001b[0;34m,\u001b[0m \u001b[0;34m*\u001b[0m\u001b[0minputs\u001b[0m\u001b[0;34m,\u001b[0m \u001b[0;34m**\u001b[0m\u001b[0mkwargs\u001b[0m\u001b[0;34m)\u001b[0m\u001b[0;34m\u001b[0m\u001b[0;34m\u001b[0m\u001b[0m\n\u001b[0m\u001b[1;32m   2033\u001b[0m \u001b[0;34m\u001b[0m\u001b[0m\n\u001b[1;32m   2034\u001b[0m     \u001b[0;31m# ideally we would define this to avoid the getattr checks, but\u001b[0m\u001b[0;34m\u001b[0m\u001b[0;34m\u001b[0m\u001b[0;34m\u001b[0m\u001b[0m\n",
            "\u001b[0;32m/usr/local/lib/python3.7/dist-packages/pandas/core/arraylike.py\u001b[0m in \u001b[0;36marray_ufunc\u001b[0;34m(self, ufunc, method, *inputs, **kwargs)\u001b[0m\n\u001b[1;32m    370\u001b[0m             \u001b[0;31m# take this path if there are no kwargs\u001b[0m\u001b[0;34m\u001b[0m\u001b[0;34m\u001b[0m\u001b[0;34m\u001b[0m\u001b[0m\n\u001b[1;32m    371\u001b[0m             \u001b[0mmgr\u001b[0m \u001b[0;34m=\u001b[0m \u001b[0minputs\u001b[0m\u001b[0;34m[\u001b[0m\u001b[0;36m0\u001b[0m\u001b[0;34m]\u001b[0m\u001b[0;34m.\u001b[0m\u001b[0m_mgr\u001b[0m\u001b[0;34m\u001b[0m\u001b[0;34m\u001b[0m\u001b[0m\n\u001b[0;32m--> 372\u001b[0;31m             \u001b[0mresult\u001b[0m \u001b[0;34m=\u001b[0m \u001b[0mmgr\u001b[0m\u001b[0;34m.\u001b[0m\u001b[0mapply\u001b[0m\u001b[0;34m(\u001b[0m\u001b[0mgetattr\u001b[0m\u001b[0;34m(\u001b[0m\u001b[0mufunc\u001b[0m\u001b[0;34m,\u001b[0m \u001b[0mmethod\u001b[0m\u001b[0;34m)\u001b[0m\u001b[0;34m)\u001b[0m\u001b[0;34m\u001b[0m\u001b[0;34m\u001b[0m\u001b[0m\n\u001b[0m\u001b[1;32m    373\u001b[0m         \u001b[0;32melse\u001b[0m\u001b[0;34m:\u001b[0m\u001b[0;34m\u001b[0m\u001b[0;34m\u001b[0m\u001b[0m\n\u001b[1;32m    374\u001b[0m             \u001b[0;31m# otherwise specific ufunc methods (eg np.<ufunc>.accumulate(..))\u001b[0m\u001b[0;34m\u001b[0m\u001b[0;34m\u001b[0m\u001b[0;34m\u001b[0m\u001b[0m\n",
            "\u001b[0;32m/usr/local/lib/python3.7/dist-packages/pandas/core/internals/managers.py\u001b[0m in \u001b[0;36mapply\u001b[0;34m(self, f, align_keys, ignore_failures, **kwargs)\u001b[0m\n\u001b[1;32m    323\u001b[0m             \u001b[0;32mtry\u001b[0m\u001b[0;34m:\u001b[0m\u001b[0;34m\u001b[0m\u001b[0;34m\u001b[0m\u001b[0m\n\u001b[1;32m    324\u001b[0m                 \u001b[0;32mif\u001b[0m \u001b[0mcallable\u001b[0m\u001b[0;34m(\u001b[0m\u001b[0mf\u001b[0m\u001b[0;34m)\u001b[0m\u001b[0;34m:\u001b[0m\u001b[0;34m\u001b[0m\u001b[0;34m\u001b[0m\u001b[0m\n\u001b[0;32m--> 325\u001b[0;31m                     \u001b[0mapplied\u001b[0m \u001b[0;34m=\u001b[0m \u001b[0mb\u001b[0m\u001b[0;34m.\u001b[0m\u001b[0mapply\u001b[0m\u001b[0;34m(\u001b[0m\u001b[0mf\u001b[0m\u001b[0;34m,\u001b[0m \u001b[0;34m**\u001b[0m\u001b[0mkwargs\u001b[0m\u001b[0;34m)\u001b[0m\u001b[0;34m\u001b[0m\u001b[0;34m\u001b[0m\u001b[0m\n\u001b[0m\u001b[1;32m    326\u001b[0m                 \u001b[0;32melse\u001b[0m\u001b[0;34m:\u001b[0m\u001b[0;34m\u001b[0m\u001b[0;34m\u001b[0m\u001b[0m\n\u001b[1;32m    327\u001b[0m                     \u001b[0mapplied\u001b[0m \u001b[0;34m=\u001b[0m \u001b[0mgetattr\u001b[0m\u001b[0;34m(\u001b[0m\u001b[0mb\u001b[0m\u001b[0;34m,\u001b[0m \u001b[0mf\u001b[0m\u001b[0;34m)\u001b[0m\u001b[0;34m(\u001b[0m\u001b[0;34m**\u001b[0m\u001b[0mkwargs\u001b[0m\u001b[0;34m)\u001b[0m\u001b[0;34m\u001b[0m\u001b[0;34m\u001b[0m\u001b[0m\n",
            "\u001b[0;32m/usr/local/lib/python3.7/dist-packages/pandas/core/internals/blocks.py\u001b[0m in \u001b[0;36mapply\u001b[0;34m(self, func, **kwargs)\u001b[0m\n\u001b[1;32m    379\u001b[0m         \"\"\"\n\u001b[1;32m    380\u001b[0m         \u001b[0;32mwith\u001b[0m \u001b[0mnp\u001b[0m\u001b[0;34m.\u001b[0m\u001b[0merrstate\u001b[0m\u001b[0;34m(\u001b[0m\u001b[0mall\u001b[0m\u001b[0;34m=\u001b[0m\u001b[0;34m\"ignore\"\u001b[0m\u001b[0;34m)\u001b[0m\u001b[0;34m:\u001b[0m\u001b[0;34m\u001b[0m\u001b[0;34m\u001b[0m\u001b[0m\n\u001b[0;32m--> 381\u001b[0;31m             \u001b[0mresult\u001b[0m \u001b[0;34m=\u001b[0m \u001b[0mfunc\u001b[0m\u001b[0;34m(\u001b[0m\u001b[0mself\u001b[0m\u001b[0;34m.\u001b[0m\u001b[0mvalues\u001b[0m\u001b[0;34m,\u001b[0m \u001b[0;34m**\u001b[0m\u001b[0mkwargs\u001b[0m\u001b[0;34m)\u001b[0m\u001b[0;34m\u001b[0m\u001b[0;34m\u001b[0m\u001b[0m\n\u001b[0m\u001b[1;32m    382\u001b[0m \u001b[0;34m\u001b[0m\u001b[0m\n\u001b[1;32m    383\u001b[0m         \u001b[0;32mreturn\u001b[0m \u001b[0mself\u001b[0m\u001b[0;34m.\u001b[0m\u001b[0m_split_op_result\u001b[0m\u001b[0;34m(\u001b[0m\u001b[0mresult\u001b[0m\u001b[0;34m)\u001b[0m\u001b[0;34m\u001b[0m\u001b[0;34m\u001b[0m\u001b[0m\n",
            "\u001b[0;31mTypeError\u001b[0m: bad operand type for abs(): 'str'"
          ]
        }
      ]
    },
    {
      "cell_type": "code",
      "source": [
        "#should throw an error\n",
        "print(df.cumprod())"
      ],
      "metadata": {
        "colab": {
          "base_uri": "https://localhost:8080/",
          "height": 467
        },
        "id": "A65Y41BrAaYX",
        "outputId": "fdcd36d4-fcbf-4cef-f6fc-95e1d4f2ea34"
      },
      "execution_count": 44,
      "outputs": [
        {
          "output_type": "error",
          "ename": "TypeError",
          "evalue": "ignored",
          "traceback": [
            "\u001b[0;31m---------------------------------------------------------------------------\u001b[0m",
            "\u001b[0;31mTypeError\u001b[0m                                 Traceback (most recent call last)",
            "\u001b[0;32m/usr/local/lib/python3.7/dist-packages/numpy/core/fromnumeric.py\u001b[0m in \u001b[0;36m_wrapfunc\u001b[0;34m(obj, method, *args, **kwds)\u001b[0m\n\u001b[1;32m     57\u001b[0m     \u001b[0;32mtry\u001b[0m\u001b[0;34m:\u001b[0m\u001b[0;34m\u001b[0m\u001b[0;34m\u001b[0m\u001b[0m\n\u001b[0;32m---> 58\u001b[0;31m         \u001b[0;32mreturn\u001b[0m \u001b[0mbound\u001b[0m\u001b[0;34m(\u001b[0m\u001b[0;34m*\u001b[0m\u001b[0margs\u001b[0m\u001b[0;34m,\u001b[0m \u001b[0;34m**\u001b[0m\u001b[0mkwds\u001b[0m\u001b[0;34m)\u001b[0m\u001b[0;34m\u001b[0m\u001b[0;34m\u001b[0m\u001b[0m\n\u001b[0m\u001b[1;32m     59\u001b[0m     \u001b[0;32mexcept\u001b[0m \u001b[0mTypeError\u001b[0m\u001b[0;34m:\u001b[0m\u001b[0;34m\u001b[0m\u001b[0;34m\u001b[0m\u001b[0m\n",
            "\u001b[0;31mTypeError\u001b[0m: can't multiply sequence by non-int of type 'str'",
            "\nDuring handling of the above exception, another exception occurred:\n",
            "\u001b[0;31mTypeError\u001b[0m                                 Traceback (most recent call last)",
            "\u001b[0;32m<ipython-input-44-8e4449337d3d>\u001b[0m in \u001b[0;36m<module>\u001b[0;34m()\u001b[0m\n\u001b[1;32m      1\u001b[0m \u001b[0;31m#should throw an error\u001b[0m\u001b[0;34m\u001b[0m\u001b[0;34m\u001b[0m\u001b[0;34m\u001b[0m\u001b[0m\n\u001b[0;32m----> 2\u001b[0;31m \u001b[0mprint\u001b[0m\u001b[0;34m(\u001b[0m\u001b[0mdf\u001b[0m\u001b[0;34m.\u001b[0m\u001b[0mcumprod\u001b[0m\u001b[0;34m(\u001b[0m\u001b[0;34m)\u001b[0m\u001b[0;34m)\u001b[0m\u001b[0;34m\u001b[0m\u001b[0;34m\u001b[0m\u001b[0m\n\u001b[0m",
            "\u001b[0;32m/usr/local/lib/python3.7/dist-packages/pandas/core/generic.py\u001b[0m in \u001b[0;36mcumprod\u001b[0;34m(self, axis, skipna, *args, **kwargs)\u001b[0m\n\u001b[1;32m  10682\u001b[0m         )\n\u001b[1;32m  10683\u001b[0m         \u001b[0;32mdef\u001b[0m \u001b[0mcumprod\u001b[0m\u001b[0;34m(\u001b[0m\u001b[0mself\u001b[0m\u001b[0;34m,\u001b[0m \u001b[0maxis\u001b[0m\u001b[0;34m=\u001b[0m\u001b[0;32mNone\u001b[0m\u001b[0;34m,\u001b[0m \u001b[0mskipna\u001b[0m\u001b[0;34m=\u001b[0m\u001b[0;32mTrue\u001b[0m\u001b[0;34m,\u001b[0m \u001b[0;34m*\u001b[0m\u001b[0margs\u001b[0m\u001b[0;34m,\u001b[0m \u001b[0;34m**\u001b[0m\u001b[0mkwargs\u001b[0m\u001b[0;34m)\u001b[0m\u001b[0;34m:\u001b[0m\u001b[0;34m\u001b[0m\u001b[0;34m\u001b[0m\u001b[0m\n\u001b[0;32m> 10684\u001b[0;31m             \u001b[0;32mreturn\u001b[0m \u001b[0mNDFrame\u001b[0m\u001b[0;34m.\u001b[0m\u001b[0mcumprod\u001b[0m\u001b[0;34m(\u001b[0m\u001b[0mself\u001b[0m\u001b[0;34m,\u001b[0m \u001b[0maxis\u001b[0m\u001b[0;34m,\u001b[0m \u001b[0mskipna\u001b[0m\u001b[0;34m,\u001b[0m \u001b[0;34m*\u001b[0m\u001b[0margs\u001b[0m\u001b[0;34m,\u001b[0m \u001b[0;34m**\u001b[0m\u001b[0mkwargs\u001b[0m\u001b[0;34m)\u001b[0m\u001b[0;34m\u001b[0m\u001b[0;34m\u001b[0m\u001b[0m\n\u001b[0m\u001b[1;32m  10685\u001b[0m \u001b[0;34m\u001b[0m\u001b[0m\n\u001b[1;32m  10686\u001b[0m         \u001b[0msetattr\u001b[0m\u001b[0;34m(\u001b[0m\u001b[0mcls\u001b[0m\u001b[0;34m,\u001b[0m \u001b[0;34m\"cumprod\"\u001b[0m\u001b[0;34m,\u001b[0m \u001b[0mcumprod\u001b[0m\u001b[0;34m)\u001b[0m\u001b[0;34m\u001b[0m\u001b[0;34m\u001b[0m\u001b[0m\n",
            "\u001b[0;32m/usr/local/lib/python3.7/dist-packages/pandas/core/generic.py\u001b[0m in \u001b[0;36mcumprod\u001b[0;34m(self, axis, skipna, *args, **kwargs)\u001b[0m\n\u001b[1;32m  10267\u001b[0m \u001b[0;34m\u001b[0m\u001b[0m\n\u001b[1;32m  10268\u001b[0m     \u001b[0;32mdef\u001b[0m \u001b[0mcumprod\u001b[0m\u001b[0;34m(\u001b[0m\u001b[0mself\u001b[0m\u001b[0;34m,\u001b[0m \u001b[0maxis\u001b[0m\u001b[0;34m=\u001b[0m\u001b[0;32mNone\u001b[0m\u001b[0;34m,\u001b[0m \u001b[0mskipna\u001b[0m\u001b[0;34m=\u001b[0m\u001b[0;32mTrue\u001b[0m\u001b[0;34m,\u001b[0m \u001b[0;34m*\u001b[0m\u001b[0margs\u001b[0m\u001b[0;34m,\u001b[0m \u001b[0;34m**\u001b[0m\u001b[0mkwargs\u001b[0m\u001b[0;34m)\u001b[0m\u001b[0;34m:\u001b[0m\u001b[0;34m\u001b[0m\u001b[0;34m\u001b[0m\u001b[0m\n\u001b[0;32m> 10269\u001b[0;31m         \u001b[0;32mreturn\u001b[0m \u001b[0mself\u001b[0m\u001b[0;34m.\u001b[0m\u001b[0m_accum_func\u001b[0m\u001b[0;34m(\u001b[0m\u001b[0;34m\"cumprod\"\u001b[0m\u001b[0;34m,\u001b[0m \u001b[0mnp\u001b[0m\u001b[0;34m.\u001b[0m\u001b[0mcumprod\u001b[0m\u001b[0;34m,\u001b[0m \u001b[0maxis\u001b[0m\u001b[0;34m,\u001b[0m \u001b[0mskipna\u001b[0m\u001b[0;34m,\u001b[0m \u001b[0;34m*\u001b[0m\u001b[0margs\u001b[0m\u001b[0;34m,\u001b[0m \u001b[0;34m**\u001b[0m\u001b[0mkwargs\u001b[0m\u001b[0;34m)\u001b[0m\u001b[0;34m\u001b[0m\u001b[0;34m\u001b[0m\u001b[0m\n\u001b[0m\u001b[1;32m  10270\u001b[0m \u001b[0;34m\u001b[0m\u001b[0m\n\u001b[1;32m  10271\u001b[0m     \u001b[0;34m@\u001b[0m\u001b[0mfinal\u001b[0m\u001b[0;34m\u001b[0m\u001b[0;34m\u001b[0m\u001b[0m\n",
            "\u001b[0;32m/usr/local/lib/python3.7/dist-packages/pandas/core/generic.py\u001b[0m in \u001b[0;36m_accum_func\u001b[0;34m(self, name, func, axis, skipna, *args, **kwargs)\u001b[0m\n\u001b[1;32m  10249\u001b[0m             \u001b[0;32mreturn\u001b[0m \u001b[0mresult\u001b[0m\u001b[0;34m\u001b[0m\u001b[0;34m\u001b[0m\u001b[0m\n\u001b[1;32m  10250\u001b[0m \u001b[0;34m\u001b[0m\u001b[0m\n\u001b[0;32m> 10251\u001b[0;31m         \u001b[0mresult\u001b[0m \u001b[0;34m=\u001b[0m \u001b[0mself\u001b[0m\u001b[0;34m.\u001b[0m\u001b[0m_mgr\u001b[0m\u001b[0;34m.\u001b[0m\u001b[0mapply\u001b[0m\u001b[0;34m(\u001b[0m\u001b[0mblock_accum_func\u001b[0m\u001b[0;34m)\u001b[0m\u001b[0;34m\u001b[0m\u001b[0;34m\u001b[0m\u001b[0m\n\u001b[0m\u001b[1;32m  10252\u001b[0m \u001b[0;34m\u001b[0m\u001b[0m\n\u001b[1;32m  10253\u001b[0m         \u001b[0;32mreturn\u001b[0m \u001b[0mself\u001b[0m\u001b[0;34m.\u001b[0m\u001b[0m_constructor\u001b[0m\u001b[0;34m(\u001b[0m\u001b[0mresult\u001b[0m\u001b[0;34m)\u001b[0m\u001b[0;34m.\u001b[0m\u001b[0m__finalize__\u001b[0m\u001b[0;34m(\u001b[0m\u001b[0mself\u001b[0m\u001b[0;34m,\u001b[0m \u001b[0mmethod\u001b[0m\u001b[0;34m=\u001b[0m\u001b[0mname\u001b[0m\u001b[0;34m)\u001b[0m\u001b[0;34m\u001b[0m\u001b[0;34m\u001b[0m\u001b[0m\n",
            "\u001b[0;32m/usr/local/lib/python3.7/dist-packages/pandas/core/internals/managers.py\u001b[0m in \u001b[0;36mapply\u001b[0;34m(self, f, align_keys, ignore_failures, **kwargs)\u001b[0m\n\u001b[1;32m    323\u001b[0m             \u001b[0;32mtry\u001b[0m\u001b[0;34m:\u001b[0m\u001b[0;34m\u001b[0m\u001b[0;34m\u001b[0m\u001b[0m\n\u001b[1;32m    324\u001b[0m                 \u001b[0;32mif\u001b[0m \u001b[0mcallable\u001b[0m\u001b[0;34m(\u001b[0m\u001b[0mf\u001b[0m\u001b[0;34m)\u001b[0m\u001b[0;34m:\u001b[0m\u001b[0;34m\u001b[0m\u001b[0;34m\u001b[0m\u001b[0m\n\u001b[0;32m--> 325\u001b[0;31m                     \u001b[0mapplied\u001b[0m \u001b[0;34m=\u001b[0m \u001b[0mb\u001b[0m\u001b[0;34m.\u001b[0m\u001b[0mapply\u001b[0m\u001b[0;34m(\u001b[0m\u001b[0mf\u001b[0m\u001b[0;34m,\u001b[0m \u001b[0;34m**\u001b[0m\u001b[0mkwargs\u001b[0m\u001b[0;34m)\u001b[0m\u001b[0;34m\u001b[0m\u001b[0;34m\u001b[0m\u001b[0m\n\u001b[0m\u001b[1;32m    326\u001b[0m                 \u001b[0;32melse\u001b[0m\u001b[0;34m:\u001b[0m\u001b[0;34m\u001b[0m\u001b[0;34m\u001b[0m\u001b[0m\n\u001b[1;32m    327\u001b[0m                     \u001b[0mapplied\u001b[0m \u001b[0;34m=\u001b[0m \u001b[0mgetattr\u001b[0m\u001b[0;34m(\u001b[0m\u001b[0mb\u001b[0m\u001b[0;34m,\u001b[0m \u001b[0mf\u001b[0m\u001b[0;34m)\u001b[0m\u001b[0;34m(\u001b[0m\u001b[0;34m**\u001b[0m\u001b[0mkwargs\u001b[0m\u001b[0;34m)\u001b[0m\u001b[0;34m\u001b[0m\u001b[0;34m\u001b[0m\u001b[0m\n",
            "\u001b[0;32m/usr/local/lib/python3.7/dist-packages/pandas/core/internals/blocks.py\u001b[0m in \u001b[0;36mapply\u001b[0;34m(self, func, **kwargs)\u001b[0m\n\u001b[1;32m    379\u001b[0m         \"\"\"\n\u001b[1;32m    380\u001b[0m         \u001b[0;32mwith\u001b[0m \u001b[0mnp\u001b[0m\u001b[0;34m.\u001b[0m\u001b[0merrstate\u001b[0m\u001b[0;34m(\u001b[0m\u001b[0mall\u001b[0m\u001b[0;34m=\u001b[0m\u001b[0;34m\"ignore\"\u001b[0m\u001b[0;34m)\u001b[0m\u001b[0;34m:\u001b[0m\u001b[0;34m\u001b[0m\u001b[0;34m\u001b[0m\u001b[0m\n\u001b[0;32m--> 381\u001b[0;31m             \u001b[0mresult\u001b[0m \u001b[0;34m=\u001b[0m \u001b[0mfunc\u001b[0m\u001b[0;34m(\u001b[0m\u001b[0mself\u001b[0m\u001b[0;34m.\u001b[0m\u001b[0mvalues\u001b[0m\u001b[0;34m,\u001b[0m \u001b[0;34m**\u001b[0m\u001b[0mkwargs\u001b[0m\u001b[0;34m)\u001b[0m\u001b[0;34m\u001b[0m\u001b[0;34m\u001b[0m\u001b[0m\n\u001b[0m\u001b[1;32m    382\u001b[0m \u001b[0;34m\u001b[0m\u001b[0m\n\u001b[1;32m    383\u001b[0m         \u001b[0;32mreturn\u001b[0m \u001b[0mself\u001b[0m\u001b[0;34m.\u001b[0m\u001b[0m_split_op_result\u001b[0m\u001b[0;34m(\u001b[0m\u001b[0mresult\u001b[0m\u001b[0;34m)\u001b[0m\u001b[0;34m\u001b[0m\u001b[0;34m\u001b[0m\u001b[0m\n",
            "\u001b[0;32m/usr/local/lib/python3.7/dist-packages/pandas/core/generic.py\u001b[0m in \u001b[0;36mblock_accum_func\u001b[0;34m(blk_values)\u001b[0m\n\u001b[1;32m  10244\u001b[0m             \u001b[0mvalues\u001b[0m \u001b[0;34m=\u001b[0m \u001b[0mblk_values\u001b[0m\u001b[0;34m.\u001b[0m\u001b[0mT\u001b[0m \u001b[0;32mif\u001b[0m \u001b[0mhasattr\u001b[0m\u001b[0;34m(\u001b[0m\u001b[0mblk_values\u001b[0m\u001b[0;34m,\u001b[0m \u001b[0;34m\"T\"\u001b[0m\u001b[0;34m)\u001b[0m \u001b[0;32melse\u001b[0m \u001b[0mblk_values\u001b[0m\u001b[0;34m\u001b[0m\u001b[0;34m\u001b[0m\u001b[0m\n\u001b[1;32m  10245\u001b[0m \u001b[0;34m\u001b[0m\u001b[0m\n\u001b[0;32m> 10246\u001b[0;31m             \u001b[0mresult\u001b[0m \u001b[0;34m=\u001b[0m \u001b[0mnanops\u001b[0m\u001b[0;34m.\u001b[0m\u001b[0mna_accum_func\u001b[0m\u001b[0;34m(\u001b[0m\u001b[0mvalues\u001b[0m\u001b[0;34m,\u001b[0m \u001b[0mfunc\u001b[0m\u001b[0;34m,\u001b[0m \u001b[0mskipna\u001b[0m\u001b[0;34m=\u001b[0m\u001b[0mskipna\u001b[0m\u001b[0;34m)\u001b[0m\u001b[0;34m\u001b[0m\u001b[0;34m\u001b[0m\u001b[0m\n\u001b[0m\u001b[1;32m  10247\u001b[0m \u001b[0;34m\u001b[0m\u001b[0m\n\u001b[1;32m  10248\u001b[0m             \u001b[0mresult\u001b[0m \u001b[0;34m=\u001b[0m \u001b[0mresult\u001b[0m\u001b[0;34m.\u001b[0m\u001b[0mT\u001b[0m \u001b[0;32mif\u001b[0m \u001b[0mhasattr\u001b[0m\u001b[0;34m(\u001b[0m\u001b[0mresult\u001b[0m\u001b[0;34m,\u001b[0m \u001b[0;34m\"T\"\u001b[0m\u001b[0;34m)\u001b[0m \u001b[0;32melse\u001b[0m \u001b[0mresult\u001b[0m\u001b[0;34m\u001b[0m\u001b[0;34m\u001b[0m\u001b[0m\n",
            "\u001b[0;32m/usr/local/lib/python3.7/dist-packages/pandas/core/nanops.py\u001b[0m in \u001b[0;36mna_accum_func\u001b[0;34m(values, accum_func, skipna)\u001b[0m\n\u001b[1;32m   1798\u001b[0m         \u001b[0mmask\u001b[0m \u001b[0;34m=\u001b[0m \u001b[0misna\u001b[0m\u001b[0;34m(\u001b[0m\u001b[0mvals\u001b[0m\u001b[0;34m)\u001b[0m\u001b[0;34m\u001b[0m\u001b[0;34m\u001b[0m\u001b[0m\n\u001b[1;32m   1799\u001b[0m         \u001b[0mvals\u001b[0m\u001b[0;34m[\u001b[0m\u001b[0mmask\u001b[0m\u001b[0;34m]\u001b[0m \u001b[0;34m=\u001b[0m \u001b[0mmask_a\u001b[0m\u001b[0;34m\u001b[0m\u001b[0;34m\u001b[0m\u001b[0m\n\u001b[0;32m-> 1800\u001b[0;31m         \u001b[0mresult\u001b[0m \u001b[0;34m=\u001b[0m \u001b[0maccum_func\u001b[0m\u001b[0;34m(\u001b[0m\u001b[0mvals\u001b[0m\u001b[0;34m,\u001b[0m \u001b[0maxis\u001b[0m\u001b[0;34m=\u001b[0m\u001b[0;36m0\u001b[0m\u001b[0;34m)\u001b[0m\u001b[0;34m\u001b[0m\u001b[0;34m\u001b[0m\u001b[0m\n\u001b[0m\u001b[1;32m   1801\u001b[0m         \u001b[0mresult\u001b[0m\u001b[0;34m[\u001b[0m\u001b[0mmask\u001b[0m\u001b[0;34m]\u001b[0m \u001b[0;34m=\u001b[0m \u001b[0mmask_b\u001b[0m\u001b[0;34m\u001b[0m\u001b[0;34m\u001b[0m\u001b[0m\n\u001b[1;32m   1802\u001b[0m     \u001b[0;32melse\u001b[0m\u001b[0;34m:\u001b[0m\u001b[0;34m\u001b[0m\u001b[0;34m\u001b[0m\u001b[0m\n",
            "\u001b[0;32m<__array_function__ internals>\u001b[0m in \u001b[0;36mcumprod\u001b[0;34m(*args, **kwargs)\u001b[0m\n",
            "\u001b[0;32m/usr/local/lib/python3.7/dist-packages/numpy/core/fromnumeric.py\u001b[0m in \u001b[0;36mcumprod\u001b[0;34m(a, axis, dtype, out)\u001b[0m\n\u001b[1;32m   3066\u001b[0m \u001b[0;34m\u001b[0m\u001b[0m\n\u001b[1;32m   3067\u001b[0m     \"\"\"\n\u001b[0;32m-> 3068\u001b[0;31m     \u001b[0;32mreturn\u001b[0m \u001b[0m_wrapfunc\u001b[0m\u001b[0;34m(\u001b[0m\u001b[0ma\u001b[0m\u001b[0;34m,\u001b[0m \u001b[0;34m'cumprod'\u001b[0m\u001b[0;34m,\u001b[0m \u001b[0maxis\u001b[0m\u001b[0;34m=\u001b[0m\u001b[0maxis\u001b[0m\u001b[0;34m,\u001b[0m \u001b[0mdtype\u001b[0m\u001b[0;34m=\u001b[0m\u001b[0mdtype\u001b[0m\u001b[0;34m,\u001b[0m \u001b[0mout\u001b[0m\u001b[0;34m=\u001b[0m\u001b[0mout\u001b[0m\u001b[0;34m)\u001b[0m\u001b[0;34m\u001b[0m\u001b[0;34m\u001b[0m\u001b[0m\n\u001b[0m\u001b[1;32m   3069\u001b[0m \u001b[0;34m\u001b[0m\u001b[0m\n\u001b[1;32m   3070\u001b[0m \u001b[0;34m\u001b[0m\u001b[0m\n",
            "\u001b[0;32m/usr/local/lib/python3.7/dist-packages/numpy/core/fromnumeric.py\u001b[0m in \u001b[0;36m_wrapfunc\u001b[0;34m(obj, method, *args, **kwds)\u001b[0m\n\u001b[1;32m     65\u001b[0m         \u001b[0;31m# Call _wrapit from within the except clause to ensure a potential\u001b[0m\u001b[0;34m\u001b[0m\u001b[0;34m\u001b[0m\u001b[0;34m\u001b[0m\u001b[0m\n\u001b[1;32m     66\u001b[0m         \u001b[0;31m# exception has a traceback chain.\u001b[0m\u001b[0;34m\u001b[0m\u001b[0;34m\u001b[0m\u001b[0;34m\u001b[0m\u001b[0m\n\u001b[0;32m---> 67\u001b[0;31m         \u001b[0;32mreturn\u001b[0m \u001b[0m_wrapit\u001b[0m\u001b[0;34m(\u001b[0m\u001b[0mobj\u001b[0m\u001b[0;34m,\u001b[0m \u001b[0mmethod\u001b[0m\u001b[0;34m,\u001b[0m \u001b[0;34m*\u001b[0m\u001b[0margs\u001b[0m\u001b[0;34m,\u001b[0m \u001b[0;34m**\u001b[0m\u001b[0mkwds\u001b[0m\u001b[0;34m)\u001b[0m\u001b[0;34m\u001b[0m\u001b[0;34m\u001b[0m\u001b[0m\n\u001b[0m\u001b[1;32m     68\u001b[0m \u001b[0;34m\u001b[0m\u001b[0m\n\u001b[1;32m     69\u001b[0m \u001b[0;34m\u001b[0m\u001b[0m\n",
            "\u001b[0;32m/usr/local/lib/python3.7/dist-packages/numpy/core/fromnumeric.py\u001b[0m in \u001b[0;36m_wrapit\u001b[0;34m(obj, method, *args, **kwds)\u001b[0m\n\u001b[1;32m     42\u001b[0m     \u001b[0;32mexcept\u001b[0m \u001b[0mAttributeError\u001b[0m\u001b[0;34m:\u001b[0m\u001b[0;34m\u001b[0m\u001b[0;34m\u001b[0m\u001b[0m\n\u001b[1;32m     43\u001b[0m         \u001b[0mwrap\u001b[0m \u001b[0;34m=\u001b[0m \u001b[0;32mNone\u001b[0m\u001b[0;34m\u001b[0m\u001b[0;34m\u001b[0m\u001b[0m\n\u001b[0;32m---> 44\u001b[0;31m     \u001b[0mresult\u001b[0m \u001b[0;34m=\u001b[0m \u001b[0mgetattr\u001b[0m\u001b[0;34m(\u001b[0m\u001b[0masarray\u001b[0m\u001b[0;34m(\u001b[0m\u001b[0mobj\u001b[0m\u001b[0;34m)\u001b[0m\u001b[0;34m,\u001b[0m \u001b[0mmethod\u001b[0m\u001b[0;34m)\u001b[0m\u001b[0;34m(\u001b[0m\u001b[0;34m*\u001b[0m\u001b[0margs\u001b[0m\u001b[0;34m,\u001b[0m \u001b[0;34m**\u001b[0m\u001b[0mkwds\u001b[0m\u001b[0;34m)\u001b[0m\u001b[0;34m\u001b[0m\u001b[0;34m\u001b[0m\u001b[0m\n\u001b[0m\u001b[1;32m     45\u001b[0m     \u001b[0;32mif\u001b[0m \u001b[0mwrap\u001b[0m\u001b[0;34m:\u001b[0m\u001b[0;34m\u001b[0m\u001b[0;34m\u001b[0m\u001b[0m\n\u001b[1;32m     46\u001b[0m         \u001b[0;32mif\u001b[0m \u001b[0;32mnot\u001b[0m \u001b[0misinstance\u001b[0m\u001b[0;34m(\u001b[0m\u001b[0mresult\u001b[0m\u001b[0;34m,\u001b[0m \u001b[0mmu\u001b[0m\u001b[0;34m.\u001b[0m\u001b[0mndarray\u001b[0m\u001b[0;34m)\u001b[0m\u001b[0;34m:\u001b[0m\u001b[0;34m\u001b[0m\u001b[0;34m\u001b[0m\u001b[0m\n",
            "\u001b[0;31mTypeError\u001b[0m: can't multiply sequence by non-int of type 'str'"
          ]
        }
      ]
    }
  ]
}