{
  "nbformat": 4,
  "nbformat_minor": 0,
  "metadata": {
    "colab": {
      "name": "AIML_LAB_3_1.ipynb",
      "provenance": [],
      "collapsed_sections": [
        "Cxch7jlTfcml"
      ],
      "authorship_tag": "ABX9TyO/L2RHqi5qjgeEAv8yRmPr",
      "include_colab_link": true
    },
    "kernelspec": {
      "name": "python3",
      "display_name": "Python 3"
    },
    "language_info": {
      "name": "python"
    }
  },
  "cells": [
    {
      "cell_type": "markdown",
      "metadata": {
        "id": "view-in-github",
        "colab_type": "text"
      },
      "source": [
        "<a href=\"https://colab.research.google.com/github/anujsaxena/AIML/blob/main/AIML_LAB_3_1.ipynb\" target=\"_parent\"><img src=\"https://colab.research.google.com/assets/colab-badge.svg\" alt=\"Open In Colab\"/></a>"
      ]
    },
    {
      "cell_type": "markdown",
      "source": [
        "# **Pandas**\n",
        "\n",
        "Pandas is an open-source Python library that uses strong data structures to provide a high-performance data manipulation and analysis tool. Pandas gets its name from the term Panel Data, which is an Econometrics term for multidimensional data.\n",
        "\n",
        "When developer Wes McKinney needed a high-performance, versatile tool for data analysis, he started creating pandas in 2008.\n",
        "Python was formerly mostly used for data munging (the act of converting data to a different format) and preparation before Pandas. It made just a minor contribution to data analysis. This issue was fixed by pandas. Regardless of the data's origin, we may perform five common processes in data processing and analysis with Pandas:\n",
        "\n",
        "1. load\n",
        "2. prepare\n",
        "3. manipulate\n",
        "4. model\n",
        "5. analysis\n",
        "\n",
        "# **Key Features of Pandas**\n",
        "1. Fast and efficient DataFrame object with default and customized indexing.\n",
        "2. Tools for loading data into in-memory data objects from different file formats.\n",
        "3. Data alignment and integrated handling of missing data.\n",
        "4. Reshaping and pivoting of data sets.\n",
        "5. Label-based slicing, indexing and subsetting of large data sets.\n",
        "6. Columns from a data structure can be deleted or inserted.\n",
        "7. Group by data for aggregation and transformations.\n",
        "8. High performance merging and joining of data.\n",
        "9. Time Series functionality.\n",
        "\n",
        "# **Series**\n",
        "\n",
        "A pandas Series can be created using the following constructor −\n",
        "\n",
        "**pandas.Series(data, index, dtype, copy)**\n",
        "\n",
        "Description of parameters\n",
        "\n",
        "**data**\n",
        "\n",
        "data takes various forms like ndarray, list, constants\n",
        "\n",
        "**Index**\n",
        "\n",
        "Index values must be unique and hashable, same length as data. Default np.arrange(n) if no index is passed.\n",
        "\n",
        "**dtype**\n",
        "\n",
        "dtype is for data type. If None, data type will be inferred\n",
        "\n",
        "**copy**\n",
        "\n",
        "Copy data. Default False\n",
        "\n",
        "An empty series can be created or it can take following input:\n",
        "1. Array\n",
        "2. Dictionary\n",
        "3. Scalar Values or constants\n"
      ],
      "metadata": {
        "id": "4ibE6xVCZ5IJ"
      }
    },
    {
      "cell_type": "code",
      "execution_count": 86,
      "metadata": {
        "colab": {
          "base_uri": "https://localhost:8080/"
        },
        "id": "5SD9ZLqOZ0QA",
        "outputId": "e5a9658e-4b4c-41ea-9dc9-dcd768633054"
      },
      "outputs": [
        {
          "output_type": "stream",
          "name": "stdout",
          "text": [
            "['a' 'e' 'i' 'o' 'u']\n",
            "<class 'numpy.ndarray'>\n",
            "0    a\n",
            "1    e\n",
            "2    i\n",
            "3    o\n",
            "4    u\n",
            "dtype: object\n",
            "<class 'pandas.core.series.Series'>\n"
          ]
        }
      ],
      "source": [
        "import numpy as np\n",
        "import pandas as pd\n",
        "data = np.array(['a','e','i','o','u'])\n",
        "print(data)\n",
        "print(type(data))\n",
        "s= pd.Series(data)\n",
        "print(s)\n",
        "print(type(s))"
      ]
    },
    {
      "cell_type": "code",
      "source": [
        "s= pd.Series(data, index=[100,101,102, 103, 104])\n",
        "print(s)\n",
        "print(type(s))"
      ],
      "metadata": {
        "colab": {
          "base_uri": "https://localhost:8080/"
        },
        "id": "ROMM0nHQbsNu",
        "outputId": "14ba08a6-1e42-43c6-bf67-558cf0bb11cf"
      },
      "execution_count": 87,
      "outputs": [
        {
          "output_type": "stream",
          "name": "stdout",
          "text": [
            "100    a\n",
            "101    e\n",
            "102    i\n",
            "103    o\n",
            "104    u\n",
            "dtype: object\n",
            "<class 'pandas.core.series.Series'>\n"
          ]
        }
      ]
    },
    {
      "cell_type": "code",
      "source": [
        "a = np.arange(100,105)\n",
        "s= pd.Series(data, a)\n",
        "print(s)\n",
        "print(type(s))"
      ],
      "metadata": {
        "colab": {
          "base_uri": "https://localhost:8080/"
        },
        "id": "uByyMSjOcF_J",
        "outputId": "cb323503-60c0-490e-ea0e-28df261a40b8"
      },
      "execution_count": 88,
      "outputs": [
        {
          "output_type": "stream",
          "name": "stdout",
          "text": [
            "100    a\n",
            "101    e\n",
            "102    i\n",
            "103    o\n",
            "104    u\n",
            "dtype: object\n",
            "<class 'pandas.core.series.Series'>\n"
          ]
        }
      ]
    },
    {
      "cell_type": "markdown",
      "source": [
        "# **From Dictionary**"
      ],
      "metadata": {
        "id": "oUw_CZaucPiu"
      }
    },
    {
      "cell_type": "code",
      "source": [
        "data = {'a':0,'b':4,'c':8}\n",
        "print(data)\n",
        "print(type(data))"
      ],
      "metadata": {
        "colab": {
          "base_uri": "https://localhost:8080/"
        },
        "id": "fjWDsPFCcOa4",
        "outputId": "83440c28-7e9c-4be1-ae02-9f5bf3c0e90c"
      },
      "execution_count": 4,
      "outputs": [
        {
          "output_type": "stream",
          "name": "stdout",
          "text": [
            "{'a': 0, 'b': 4, 'c': 8}\n",
            "<class 'dict'>\n"
          ]
        }
      ]
    },
    {
      "cell_type": "code",
      "source": [
        "s = pd.Series(data)\n",
        "print(s)"
      ],
      "metadata": {
        "colab": {
          "base_uri": "https://localhost:8080/"
        },
        "id": "N9UVaT4NcmR6",
        "outputId": "f273ce5f-0439-44ad-ca1b-d847a3cb6c46"
      },
      "execution_count": 6,
      "outputs": [
        {
          "output_type": "stream",
          "name": "stdout",
          "text": [
            "a    0\n",
            "b    4\n",
            "c    8\n",
            "dtype: int64\n"
          ]
        }
      ]
    },
    {
      "cell_type": "code",
      "source": [
        "s = pd.Series(data,index=['b','c','a'])\n",
        "print(s)"
      ],
      "metadata": {
        "colab": {
          "base_uri": "https://localhost:8080/"
        },
        "id": "Ghp3twqLclom",
        "outputId": "92c71e8f-bb3d-49d5-b731-5d8de83d935f"
      },
      "execution_count": 7,
      "outputs": [
        {
          "output_type": "stream",
          "name": "stdout",
          "text": [
            "b    4\n",
            "c    8\n",
            "a    0\n",
            "dtype: int64\n"
          ]
        }
      ]
    },
    {
      "cell_type": "code",
      "source": [
        "s = pd.Series(data,index=['b','c','d','a'])\n",
        "print(s)"
      ],
      "metadata": {
        "colab": {
          "base_uri": "https://localhost:8080/"
        },
        "id": "KatsuJundAUs",
        "outputId": "c5b11c3f-83a0-4935-96e3-7ae19a152576"
      },
      "execution_count": 8,
      "outputs": [
        {
          "output_type": "stream",
          "name": "stdout",
          "text": [
            "b    4.0\n",
            "c    8.0\n",
            "d    NaN\n",
            "a    0.0\n",
            "dtype: float64\n"
          ]
        }
      ]
    },
    {
      "cell_type": "markdown",
      "source": [
        "# **Scalar**"
      ],
      "metadata": {
        "id": "NgL-nHIudFnV"
      }
    },
    {
      "cell_type": "code",
      "source": [
        "s = pd.Series(5, index=[1,2,3,4,5])\n",
        "print(s)"
      ],
      "metadata": {
        "colab": {
          "base_uri": "https://localhost:8080/"
        },
        "id": "BkE4LsH_dERW",
        "outputId": "f48790ed-b7d9-4599-9bf7-e6cacd4cf924"
      },
      "execution_count": 9,
      "outputs": [
        {
          "output_type": "stream",
          "name": "stdout",
          "text": [
            "1    5\n",
            "2    5\n",
            "3    5\n",
            "4    5\n",
            "5    5\n",
            "dtype: int64\n"
          ]
        }
      ]
    },
    {
      "cell_type": "code",
      "source": [
        "s = pd.Series('k', index=[1,2,3,4,5])\n",
        "print(s)"
      ],
      "metadata": {
        "colab": {
          "base_uri": "https://localhost:8080/"
        },
        "id": "N11unLApdUIM",
        "outputId": "a8df6ac9-4ba4-4b7e-fc22-964503fbd706"
      },
      "execution_count": 10,
      "outputs": [
        {
          "output_type": "stream",
          "name": "stdout",
          "text": [
            "1    k\n",
            "2    k\n",
            "3    k\n",
            "4    k\n",
            "5    k\n",
            "dtype: object\n"
          ]
        }
      ]
    },
    {
      "cell_type": "markdown",
      "source": [
        "# **Access Series with position**"
      ],
      "metadata": {
        "id": "KMpwhb53dd9G"
      }
    },
    {
      "cell_type": "code",
      "source": [
        "s = pd.Series([1,2,3,4,5],index = ['a','b','c','d','e'])\n",
        "print(s)\n",
        "#retrieve the first element\n",
        "print(s[0])\n"
      ],
      "metadata": {
        "colab": {
          "base_uri": "https://localhost:8080/"
        },
        "id": "KKzXxhhxdbiU",
        "outputId": "0039d85c-ae26-41db-fd83-fc588be21ef5"
      },
      "execution_count": 11,
      "outputs": [
        {
          "output_type": "stream",
          "name": "stdout",
          "text": [
            "a    1\n",
            "b    2\n",
            "c    3\n",
            "d    4\n",
            "e    5\n",
            "dtype: int64\n",
            "1\n"
          ]
        }
      ]
    },
    {
      "cell_type": "code",
      "source": [
        "print(s[3])"
      ],
      "metadata": {
        "colab": {
          "base_uri": "https://localhost:8080/"
        },
        "id": "xjzLe1TKdn38",
        "outputId": "faa5f520-cd5e-4c17-ec7c-1c975903006e"
      },
      "execution_count": 12,
      "outputs": [
        {
          "output_type": "stream",
          "name": "stdout",
          "text": [
            "4\n"
          ]
        }
      ]
    },
    {
      "cell_type": "code",
      "source": [
        "#retrieve the elements\n",
        "print('s[0:]',s[0:])\n",
        "print('s[2:]',s[2:])\n",
        "print('s[:1]',s[:1])\n",
        "print('s[:3]',s[:3])\n",
        "print('s[-3:]',s[-3:])\n",
        "print('s[:-3]',s[:-3])\n"
      ],
      "metadata": {
        "colab": {
          "base_uri": "https://localhost:8080/"
        },
        "id": "HBvPc_aidufq",
        "outputId": "40d067d5-2c81-4a37-a019-74c1e219c0f2"
      },
      "execution_count": 14,
      "outputs": [
        {
          "output_type": "stream",
          "name": "stdout",
          "text": [
            "s[0:] a    1\n",
            "b    2\n",
            "c    3\n",
            "d    4\n",
            "e    5\n",
            "dtype: int64\n",
            "s[2:] c    3\n",
            "d    4\n",
            "e    5\n",
            "dtype: int64\n",
            "s[:1] a    1\n",
            "dtype: int64\n",
            "s[:3] a    1\n",
            "b    2\n",
            "c    3\n",
            "dtype: int64\n",
            "s[-3:] c    3\n",
            "d    4\n",
            "e    5\n",
            "dtype: int64\n",
            "s[:-3] a    1\n",
            "b    2\n",
            "dtype: int64\n"
          ]
        }
      ]
    },
    {
      "cell_type": "markdown",
      "source": [
        "# **Retrieve index (labels)**"
      ],
      "metadata": {
        "id": "RZ9W8CmFeich"
      }
    },
    {
      "cell_type": "code",
      "source": [
        "print(s)"
      ],
      "metadata": {
        "colab": {
          "base_uri": "https://localhost:8080/"
        },
        "id": "1S-eVyFAegk7",
        "outputId": "5a6bbd13-8811-4d1b-8e0d-4a76b68c2324"
      },
      "execution_count": 15,
      "outputs": [
        {
          "output_type": "stream",
          "name": "stdout",
          "text": [
            "a    1\n",
            "b    2\n",
            "c    3\n",
            "d    4\n",
            "e    5\n",
            "dtype: int64\n"
          ]
        }
      ]
    },
    {
      "cell_type": "code",
      "source": [
        "print(s['b'])"
      ],
      "metadata": {
        "colab": {
          "base_uri": "https://localhost:8080/"
        },
        "id": "c2fViNUReqAo",
        "outputId": "8da9b812-7bb2-495e-f6aa-f23b370461ef"
      },
      "execution_count": 16,
      "outputs": [
        {
          "output_type": "stream",
          "name": "stdout",
          "text": [
            "2\n"
          ]
        }
      ]
    },
    {
      "cell_type": "code",
      "source": [
        "s = pd.Series(np.random.randn(4))\n",
        "print(s)\n",
        "print (\"Is the Object empty?\")\n",
        "print(s.empty)"
      ],
      "metadata": {
        "colab": {
          "base_uri": "https://localhost:8080/"
        },
        "id": "gUZY0bZKet0l",
        "outputId": "d48f0cb9-510c-49a4-9e7f-412e600a419a"
      },
      "execution_count": 17,
      "outputs": [
        {
          "output_type": "stream",
          "name": "stdout",
          "text": [
            "0   -1.336760\n",
            "1   -0.043544\n",
            "2    1.166165\n",
            "3    0.648623\n",
            "dtype: float64\n",
            "Is the Object empty?\n",
            "False\n"
          ]
        }
      ]
    },
    {
      "cell_type": "code",
      "source": [
        "#get the dimension\n",
        "s = pd.Series(np.random.randn(10))\n",
        "print(s)\n",
        "print (\"The dimensions of the object:\")\n",
        "print(s.ndim)\n"
      ],
      "metadata": {
        "colab": {
          "base_uri": "https://localhost:8080/"
        },
        "id": "il8X1ZQ6e8t8",
        "outputId": "67b64fa0-65c0-45f5-ed2e-f35b10606a3c"
      },
      "execution_count": 18,
      "outputs": [
        {
          "output_type": "stream",
          "name": "stdout",
          "text": [
            "0   -0.883393\n",
            "1   -0.825048\n",
            "2   -1.060432\n",
            "3   -0.228159\n",
            "4   -1.516877\n",
            "5   -1.027429\n",
            "6   -0.505182\n",
            "7   -0.735062\n",
            "8   -0.483171\n",
            "9    0.832217\n",
            "dtype: float64\n",
            "The dimensions of the object:\n",
            "1\n"
          ]
        }
      ]
    },
    {
      "cell_type": "code",
      "source": [
        "#size\n",
        "print(s.size)"
      ],
      "metadata": {
        "colab": {
          "base_uri": "https://localhost:8080/"
        },
        "id": "7vDdFkZJfF4s",
        "outputId": "7f6ed71c-4bbd-443c-91cb-d5ce9e7d8f21"
      },
      "execution_count": 19,
      "outputs": [
        {
          "output_type": "stream",
          "name": "stdout",
          "text": [
            "10\n"
          ]
        }
      ]
    },
    {
      "cell_type": "code",
      "source": [
        "print (\"The actual data series is:\")\n",
        "l = s.values\n",
        "print(l)\n",
        "print(type(l))"
      ],
      "metadata": {
        "colab": {
          "base_uri": "https://localhost:8080/"
        },
        "id": "bU9Hs0MufUdh",
        "outputId": "1e7aeb7c-f3e1-4f9b-8ea7-95847b2393da"
      },
      "execution_count": 20,
      "outputs": [
        {
          "output_type": "stream",
          "name": "stdout",
          "text": [
            "The actual data series is:\n",
            "[-0.88339305 -0.82504764 -1.06043202 -0.22815926 -1.51687667 -1.02742859\n",
            " -0.50518227 -0.73506218 -0.48317067  0.83221693]\n",
            "<class 'numpy.ndarray'>\n"
          ]
        }
      ]
    },
    {
      "cell_type": "code",
      "source": [
        "print(s)"
      ],
      "metadata": {
        "colab": {
          "base_uri": "https://localhost:8080/"
        },
        "id": "spHZTujMfYAv",
        "outputId": "077ebba3-db00-48bb-f900-7aeb33305090"
      },
      "execution_count": 21,
      "outputs": [
        {
          "output_type": "stream",
          "name": "stdout",
          "text": [
            "0   -0.883393\n",
            "1   -0.825048\n",
            "2   -1.060432\n",
            "3   -0.228159\n",
            "4   -1.516877\n",
            "5   -1.027429\n",
            "6   -0.505182\n",
            "7   -0.735062\n",
            "8   -0.483171\n",
            "9    0.832217\n",
            "dtype: float64\n"
          ]
        }
      ]
    },
    {
      "cell_type": "markdown",
      "source": [
        "# **Head and Tail**"
      ],
      "metadata": {
        "id": "Cxch7jlTfcml"
      }
    },
    {
      "cell_type": "code",
      "source": [
        "print (\"The first two rows of the data series:\")\n",
        "print(s.head(2))"
      ],
      "metadata": {
        "colab": {
          "base_uri": "https://localhost:8080/"
        },
        "id": "CJzlw5yFfaj0",
        "outputId": "ddac038d-52bb-4869-a3cc-2a2a21ab0bda"
      },
      "execution_count": 22,
      "outputs": [
        {
          "output_type": "stream",
          "name": "stdout",
          "text": [
            "The first two rows of the data series:\n",
            "0   -0.883393\n",
            "1   -0.825048\n",
            "dtype: float64\n"
          ]
        }
      ]
    },
    {
      "cell_type": "code",
      "source": [
        "print(s.head())"
      ],
      "metadata": {
        "colab": {
          "base_uri": "https://localhost:8080/"
        },
        "id": "FEoni40ifq6S",
        "outputId": "4fbd5e79-47a0-4197-f990-5b6f54fa4f0d"
      },
      "execution_count": 23,
      "outputs": [
        {
          "output_type": "stream",
          "name": "stdout",
          "text": [
            "0   -0.883393\n",
            "1   -0.825048\n",
            "2   -1.060432\n",
            "3   -0.228159\n",
            "4   -1.516877\n",
            "dtype: float64\n"
          ]
        }
      ]
    },
    {
      "cell_type": "code",
      "source": [
        "print(s.tail())"
      ],
      "metadata": {
        "colab": {
          "base_uri": "https://localhost:8080/"
        },
        "id": "BjHKCwdQfweB",
        "outputId": "6ed9b65c-9c17-49ea-8ef1-ae99f045eeaa"
      },
      "execution_count": 24,
      "outputs": [
        {
          "output_type": "stream",
          "name": "stdout",
          "text": [
            "5   -1.027429\n",
            "6   -0.505182\n",
            "7   -0.735062\n",
            "8   -0.483171\n",
            "9    0.832217\n",
            "dtype: float64\n"
          ]
        }
      ]
    },
    {
      "cell_type": "code",
      "source": [
        "print(s.tail(2))"
      ],
      "metadata": {
        "colab": {
          "base_uri": "https://localhost:8080/"
        },
        "id": "uLtLOv2uf2cZ",
        "outputId": "6e91c1d0-d892-40b4-e934-6a0d51ddc0b4"
      },
      "execution_count": 25,
      "outputs": [
        {
          "output_type": "stream",
          "name": "stdout",
          "text": [
            "8   -0.483171\n",
            "9    0.832217\n",
            "dtype: float64\n"
          ]
        }
      ]
    },
    {
      "cell_type": "markdown",
      "source": [
        "# **Data Frame**"
      ],
      "metadata": {
        "id": "Jy8Jpu-pf7V3"
      }
    },
    {
      "cell_type": "code",
      "source": [
        "data =[['Sameer',45],['Akshita','32'],['Dhruv', 22]]\n",
        "print(data)\n",
        "print(type(data))"
      ],
      "metadata": {
        "colab": {
          "base_uri": "https://localhost:8080/"
        },
        "id": "UJBTeNy7gBH-",
        "outputId": "7de647ee-48f8-4c27-e8d6-f09abfdb21d0"
      },
      "execution_count": 28,
      "outputs": [
        {
          "output_type": "stream",
          "name": "stdout",
          "text": [
            "[['Sameer', 45], ['Akshita', '32'], ['Dhruv', 22]]\n",
            "<class 'list'>\n"
          ]
        }
      ]
    },
    {
      "cell_type": "code",
      "source": [
        "df = pd.DataFrame(data, columns=['Name','Age'])\n",
        "print(df)"
      ],
      "metadata": {
        "colab": {
          "base_uri": "https://localhost:8080/"
        },
        "id": "ovnnOjGwgayn",
        "outputId": "51bfa403-7623-4672-bbd2-ba7a84f5e49f"
      },
      "execution_count": 29,
      "outputs": [
        {
          "output_type": "stream",
          "name": "stdout",
          "text": [
            "      Name Age\n",
            "0   Sameer  45\n",
            "1  Akshita  32\n",
            "2    Dhruv  22\n"
          ]
        }
      ]
    },
    {
      "cell_type": "markdown",
      "source": [
        "# **Create a DataFrame from Dict of ndarrays / Lists**"
      ],
      "metadata": {
        "id": "YR1wz8EDg1cM"
      }
    },
    {
      "cell_type": "code",
      "source": [
        "data ={'Name':['Sam','Ayushi','Varun','Vidushi'], 'Age':[22,25,21,29]}\n",
        "print(data)\n",
        "print(type(data))"
      ],
      "metadata": {
        "colab": {
          "base_uri": "https://localhost:8080/"
        },
        "id": "II9xF9JIguoQ",
        "outputId": "f48a2ce8-4e3b-4fca-a425-d41bd3f9b1fe"
      },
      "execution_count": 30,
      "outputs": [
        {
          "output_type": "stream",
          "name": "stdout",
          "text": [
            "{'Name': ['Sam', 'Ayushi', 'Varun', 'Vidushi'], 'Age': [22, 25, 21, 29]}\n",
            "<class 'dict'>\n"
          ]
        }
      ]
    },
    {
      "cell_type": "code",
      "source": [
        "df = pd.DataFrame(data)\n",
        "print(df)\n",
        "print(type(df))"
      ],
      "metadata": {
        "colab": {
          "base_uri": "https://localhost:8080/"
        },
        "id": "0X22OUVJhar3",
        "outputId": "9d281aec-b1ac-40c5-8ebd-360c02301046"
      },
      "execution_count": 32,
      "outputs": [
        {
          "output_type": "stream",
          "name": "stdout",
          "text": [
            "      Name  Age\n",
            "0      Sam   22\n",
            "1   Ayushi   25\n",
            "2    Varun   21\n",
            "3  Vidushi   29\n",
            "<class 'pandas.core.frame.DataFrame'>\n"
          ]
        }
      ]
    },
    {
      "cell_type": "code",
      "source": [
        "data ={'Name':['Sam','Ayushi','Varun','Vidushi'], 'Percentage':[89,98,87,99]}\n",
        "df = pd.DataFrame(data, index=['rank3', 'rank2','rank4','rank1'])\n",
        "print(df)"
      ],
      "metadata": {
        "colab": {
          "base_uri": "https://localhost:8080/"
        },
        "id": "x-9gB-RIhxwz",
        "outputId": "cfbe147a-a5d5-4fba-a0ac-8a8bd68feed1"
      },
      "execution_count": 34,
      "outputs": [
        {
          "output_type": "stream",
          "name": "stdout",
          "text": [
            "          Name  Percentage\n",
            "rank3      Sam          89\n",
            "rank2   Ayushi          98\n",
            "rank4    Varun          87\n",
            "rank1  Vidushi          99\n"
          ]
        }
      ]
    },
    {
      "cell_type": "code",
      "source": [
        "data = [{'a': 1, 'b': 2},{'a': 5, 'b': 10, 'c': 20}]\n",
        "print(data)\n",
        "print(type(data))\n",
        "df = pd.DataFrame(data)\n",
        "print(df)"
      ],
      "metadata": {
        "colab": {
          "base_uri": "https://localhost:8080/"
        },
        "id": "zxUzv6u1iPGJ",
        "outputId": "2e390351-7687-4719-cf95-6a11a5f452b6"
      },
      "execution_count": 35,
      "outputs": [
        {
          "output_type": "stream",
          "name": "stdout",
          "text": [
            "[{'a': 1, 'b': 2}, {'a': 5, 'b': 10, 'c': 20}]\n",
            "<class 'list'>\n",
            "   a   b     c\n",
            "0  1   2   NaN\n",
            "1  5  10  20.0\n"
          ]
        }
      ]
    },
    {
      "cell_type": "code",
      "source": [
        "df = pd.DataFrame(data, index=['first', 'second'])\n",
        "print(df)"
      ],
      "metadata": {
        "colab": {
          "base_uri": "https://localhost:8080/"
        },
        "id": "nVmEHeF7igUl",
        "outputId": "8fe23f94-74f8-4b2c-b433-9ece0dc13a6d"
      },
      "execution_count": 36,
      "outputs": [
        {
          "output_type": "stream",
          "name": "stdout",
          "text": [
            "        a   b     c\n",
            "first   1   2   NaN\n",
            "second  5  10  20.0\n"
          ]
        }
      ]
    },
    {
      "cell_type": "code",
      "source": [
        "df0 = pd.DataFrame(data, index=['first', 'second'], columns=['a', 'b','c'])\n",
        "print(df0)\n",
        "#With two column indices, values same as dictionary keys\n",
        "df1 = pd.DataFrame(data, index=['first', 'second'], columns=['a', 'b'])\n",
        "#With two column indices with one index with other name\n",
        "df2 = pd.DataFrame(data, index=['first', 'second'], columns=['a', 'b1'])\n",
        "print(df1)\n",
        "print(df2)"
      ],
      "metadata": {
        "colab": {
          "base_uri": "https://localhost:8080/"
        },
        "id": "HR-g4r3tilzL",
        "outputId": "ca35fc1e-243e-4ced-e9df-22748b2af4a0"
      },
      "execution_count": 37,
      "outputs": [
        {
          "output_type": "stream",
          "name": "stdout",
          "text": [
            "        a   b     c\n",
            "first   1   2   NaN\n",
            "second  5  10  20.0\n",
            "        a   b\n",
            "first   1   2\n",
            "second  5  10\n",
            "        a  b1\n",
            "first   1 NaN\n",
            "second  5 NaN\n"
          ]
        }
      ]
    },
    {
      "cell_type": "markdown",
      "source": [
        "# **Create a DataFrame from Dict of Series**"
      ],
      "metadata": {
        "id": "fKTylqcgjC1I"
      }
    },
    {
      "cell_type": "code",
      "source": [
        "d = {'one' : pd.Series([1, 2, 3], index=['a', 'b', 'c']),\n",
        "   'two' : pd.Series([1, 2, 3, 4], index=['a', 'b', 'c', 'd'])}\n",
        "print(d)\n",
        "df = pd.DataFrame(d)\n",
        "print('-----------------')\n",
        "print(df)\n"
      ],
      "metadata": {
        "colab": {
          "base_uri": "https://localhost:8080/"
        },
        "id": "wi-1Zplgi_K8",
        "outputId": "66878482-252d-4bb4-8eae-c766cda0b685"
      },
      "execution_count": 40,
      "outputs": [
        {
          "output_type": "stream",
          "name": "stdout",
          "text": [
            "{'one': a    1\n",
            "b    2\n",
            "c    3\n",
            "dtype: int64, 'two': a    1\n",
            "b    2\n",
            "c    3\n",
            "d    4\n",
            "dtype: int64}\n",
            "-----------------\n",
            "   one  two\n",
            "a  1.0    1\n",
            "b  2.0    2\n",
            "c  3.0    3\n",
            "d  NaN    4\n"
          ]
        }
      ]
    },
    {
      "cell_type": "code",
      "source": [
        "print(df ['one'])"
      ],
      "metadata": {
        "colab": {
          "base_uri": "https://localhost:8080/"
        },
        "id": "GHiaM9aojWua",
        "outputId": "56e8da83-b263-4234-9049-022210d6d155"
      },
      "execution_count": 41,
      "outputs": [
        {
          "output_type": "stream",
          "name": "stdout",
          "text": [
            "a    1.0\n",
            "b    2.0\n",
            "c    3.0\n",
            "d    NaN\n",
            "Name: one, dtype: float64\n"
          ]
        }
      ]
    },
    {
      "cell_type": "markdown",
      "source": [
        "# **Column Addition**"
      ],
      "metadata": {
        "id": "mQs_strLjoEF"
      }
    },
    {
      "cell_type": "code",
      "source": [
        "print(df)"
      ],
      "metadata": {
        "colab": {
          "base_uri": "https://localhost:8080/"
        },
        "id": "msKuYKNhjmVY",
        "outputId": "b4eba900-f114-4c16-b5b4-5166d2abb18e"
      },
      "execution_count": 42,
      "outputs": [
        {
          "output_type": "stream",
          "name": "stdout",
          "text": [
            "   one  two\n",
            "a  1.0    1\n",
            "b  2.0    2\n",
            "c  3.0    3\n",
            "d  NaN    4\n"
          ]
        }
      ]
    },
    {
      "cell_type": "markdown",
      "source": [
        "# **Adding a new column to an existing DataFrame object with column label by passing new series**"
      ],
      "metadata": {
        "id": "Kt9EgubYj19g"
      }
    },
    {
      "cell_type": "code",
      "source": [
        "df[\"three\"] = pd.Series([10,15,20,25], index=['a','b','c','d'])\n",
        "print(df)"
      ],
      "metadata": {
        "colab": {
          "base_uri": "https://localhost:8080/"
        },
        "id": "psvYVWo_jw4X",
        "outputId": "8838b8f5-953d-478c-8c78-2ab85fe11b3a"
      },
      "execution_count": 43,
      "outputs": [
        {
          "output_type": "stream",
          "name": "stdout",
          "text": [
            "   one  two  three\n",
            "a  1.0    1     10\n",
            "b  2.0    2     15\n",
            "c  3.0    3     20\n",
            "d  NaN    4     25\n"
          ]
        }
      ]
    },
    {
      "cell_type": "code",
      "source": [
        "df[\"four\"] = pd.Series([10,15,20,25,30], index=['a','b','c','d','e'])\n",
        "print(df)"
      ],
      "metadata": {
        "colab": {
          "base_uri": "https://localhost:8080/"
        },
        "id": "Qq211cHokL3l",
        "outputId": "83a9de56-95ff-460c-be72-f6c6c8d7111d"
      },
      "execution_count": 44,
      "outputs": [
        {
          "output_type": "stream",
          "name": "stdout",
          "text": [
            "   one  two  three  four\n",
            "a  1.0    1     10    10\n",
            "b  2.0    2     15    15\n",
            "c  3.0    3     20    20\n",
            "d  NaN    4     25    25\n"
          ]
        }
      ]
    },
    {
      "cell_type": "code",
      "source": [
        "df[\"five\"] =df[\"one\"]+df[\"two\"] + df[\"three\"] + df[\"four\"]\n",
        "print(df)"
      ],
      "metadata": {
        "colab": {
          "base_uri": "https://localhost:8080/"
        },
        "id": "BqFoAbCekeZ8",
        "outputId": "f0ca33cf-6975-4a35-eeb2-e0f4b9aae870"
      },
      "execution_count": 45,
      "outputs": [
        {
          "output_type": "stream",
          "name": "stdout",
          "text": [
            "   one  two  three  four  five\n",
            "a  1.0    1     10    10  22.0\n",
            "b  2.0    2     15    15  34.0\n",
            "c  3.0    3     20    20  46.0\n",
            "d  NaN    4     25    25   NaN\n"
          ]
        }
      ]
    },
    {
      "cell_type": "code",
      "source": [
        "df[\"six\"] = df['two']+df['three']+df['four']\n",
        "print(df)"
      ],
      "metadata": {
        "colab": {
          "base_uri": "https://localhost:8080/"
        },
        "id": "lz2IwTxwks46",
        "outputId": "a579a0a3-ba38-4bba-95fb-b63e682070fc"
      },
      "execution_count": 46,
      "outputs": [
        {
          "output_type": "stream",
          "name": "stdout",
          "text": [
            "   one  two  three  four  five  six\n",
            "a  1.0    1     10    10  22.0   21\n",
            "b  2.0    2     15    15  34.0   32\n",
            "c  3.0    3     20    20  46.0   43\n",
            "d  NaN    4     25    25   NaN   54\n"
          ]
        }
      ]
    },
    {
      "cell_type": "markdown",
      "source": [
        "# **Column Deletion**"
      ],
      "metadata": {
        "id": "mWk5ox8Pk48F"
      }
    },
    {
      "cell_type": "code",
      "source": [
        "print(\"Original dataframe\")\n",
        "print(df)\n",
        "print (\"Deleting the first column using del function:\")\n",
        "del df['one']\n",
        "print(\"After deletion\")\n",
        "print(df)"
      ],
      "metadata": {
        "colab": {
          "base_uri": "https://localhost:8080/"
        },
        "id": "T4x15t3Zk3J-",
        "outputId": "c97aa586-05ea-469f-ea8d-23d4c887c15c"
      },
      "execution_count": 47,
      "outputs": [
        {
          "output_type": "stream",
          "name": "stdout",
          "text": [
            "Original dataframe\n",
            "   one  two  three  four  five  six\n",
            "a  1.0    1     10    10  22.0   21\n",
            "b  2.0    2     15    15  34.0   32\n",
            "c  3.0    3     20    20  46.0   43\n",
            "d  NaN    4     25    25   NaN   54\n",
            "Deleting the first column using del function:\n",
            "After deletion\n",
            "   two  three  four  five  six\n",
            "a    1     10    10  22.0   21\n",
            "b    2     15    15  34.0   32\n",
            "c    3     20    20  46.0   43\n",
            "d    4     25    25   NaN   54\n"
          ]
        }
      ]
    },
    {
      "cell_type": "code",
      "source": [
        "df.pop('five')\n",
        "print(df)"
      ],
      "metadata": {
        "colab": {
          "base_uri": "https://localhost:8080/"
        },
        "id": "8GC3-qyHlMs0",
        "outputId": "d385804c-3e03-4ac1-cf03-ac25d180797d"
      },
      "execution_count": 48,
      "outputs": [
        {
          "output_type": "stream",
          "name": "stdout",
          "text": [
            "   two  three  four  six\n",
            "a    1     10    10   21\n",
            "b    2     15    15   32\n",
            "c    3     20    20   43\n",
            "d    4     25    25   54\n"
          ]
        }
      ]
    },
    {
      "cell_type": "markdown",
      "source": [
        "# **Selecting a row / Accessing Dataframe**\n",
        "Using Label\n"
      ],
      "metadata": {
        "id": "e-J_8Zc1lZCz"
      }
    },
    {
      "cell_type": "code",
      "source": [
        "d = df.loc['a']\n",
        "print(d)"
      ],
      "metadata": {
        "colab": {
          "base_uri": "https://localhost:8080/"
        },
        "id": "gblquVoKlgDL",
        "outputId": "ed521912-18c5-40b0-dab0-208ca31fe6f1"
      },
      "execution_count": 49,
      "outputs": [
        {
          "output_type": "stream",
          "name": "stdout",
          "text": [
            "two       1\n",
            "three    10\n",
            "four     10\n",
            "six      21\n",
            "Name: a, dtype: int64\n"
          ]
        }
      ]
    },
    {
      "cell_type": "code",
      "source": [
        "d = df.loc['c']\n",
        "print(d)"
      ],
      "metadata": {
        "colab": {
          "base_uri": "https://localhost:8080/"
        },
        "id": "v54XcM1DlvPy",
        "outputId": "0fc15ddb-f630-4510-8f99-328e9de8aff9"
      },
      "execution_count": 50,
      "outputs": [
        {
          "output_type": "stream",
          "name": "stdout",
          "text": [
            "two       3\n",
            "three    20\n",
            "four     20\n",
            "six      43\n",
            "Name: c, dtype: int64\n"
          ]
        }
      ]
    },
    {
      "cell_type": "markdown",
      "source": [
        "# **Using Integer Location**"
      ],
      "metadata": {
        "id": "sCUYwVnOl4G_"
      }
    },
    {
      "cell_type": "code",
      "source": [
        "print(df)\n",
        "print('----------------')\n",
        "d = df.iloc[2]   #loction of the row\n",
        "print(d)"
      ],
      "metadata": {
        "colab": {
          "base_uri": "https://localhost:8080/"
        },
        "id": "42Z7MPTnl2uI",
        "outputId": "18f578ff-5622-46be-9e82-53fb3c342a90"
      },
      "execution_count": 52,
      "outputs": [
        {
          "output_type": "stream",
          "name": "stdout",
          "text": [
            "   two  three  four  six\n",
            "a    1     10    10   21\n",
            "b    2     15    15   32\n",
            "c    3     20    20   43\n",
            "d    4     25    25   54\n",
            "----------------\n",
            "two       3\n",
            "three    20\n",
            "four     20\n",
            "six      43\n",
            "Name: c, dtype: int64\n"
          ]
        }
      ]
    },
    {
      "cell_type": "markdown",
      "source": [
        "# **Slicing**\n",
        "\n"
      ],
      "metadata": {
        "id": "Aj0cgD5imZ0N"
      }
    },
    {
      "cell_type": "code",
      "source": [
        "d = df[2:4]\n",
        "print(d)"
      ],
      "metadata": {
        "colab": {
          "base_uri": "https://localhost:8080/"
        },
        "id": "Y-4nG2ICmWnF",
        "outputId": "49446498-6f47-45b4-b661-450eb2de937c"
      },
      "execution_count": 53,
      "outputs": [
        {
          "output_type": "stream",
          "name": "stdout",
          "text": [
            "   two  three  four  six\n",
            "c    3     20    20   43\n",
            "d    4     25    25   54\n"
          ]
        }
      ]
    },
    {
      "cell_type": "code",
      "source": [
        "d = df[1:]\n",
        "print(d)"
      ],
      "metadata": {
        "colab": {
          "base_uri": "https://localhost:8080/"
        },
        "id": "DPXreV-Mmvy3",
        "outputId": "02033f17-691e-4841-8f00-ca7db9299d3f"
      },
      "execution_count": 54,
      "outputs": [
        {
          "output_type": "stream",
          "name": "stdout",
          "text": [
            "   two  three  four  six\n",
            "b    2     15    15   32\n",
            "c    3     20    20   43\n",
            "d    4     25    25   54\n"
          ]
        }
      ]
    },
    {
      "cell_type": "markdown",
      "source": [
        "# **Row Addition**"
      ],
      "metadata": {
        "id": "_Y7ovxt6m-m0"
      }
    },
    {
      "cell_type": "code",
      "source": [
        "df = pd.DataFrame([[1, 2], [3, 4]], columns = ['a','b'])\n",
        "df2 = pd.DataFrame([[5, 6], [7, 8]], columns = ['a','b'])\n",
        "print(df)\n",
        "print(df2)"
      ],
      "metadata": {
        "colab": {
          "base_uri": "https://localhost:8080/"
        },
        "id": "YqGMmnBRm9dx",
        "outputId": "f0e19eda-110e-4fde-a2b6-bca8fa55eae7"
      },
      "execution_count": 55,
      "outputs": [
        {
          "output_type": "stream",
          "name": "stdout",
          "text": [
            "   a  b\n",
            "0  1  2\n",
            "1  3  4\n",
            "   a  b\n",
            "0  5  6\n",
            "1  7  8\n"
          ]
        }
      ]
    },
    {
      "cell_type": "code",
      "source": [
        "d = df.append(df2)\n",
        "print(d)"
      ],
      "metadata": {
        "colab": {
          "base_uri": "https://localhost:8080/"
        },
        "id": "XFY2CVXknJxs",
        "outputId": "a23ef509-b4a0-4531-ac30-09cfc9ad2e50"
      },
      "execution_count": 56,
      "outputs": [
        {
          "output_type": "stream",
          "name": "stdout",
          "text": [
            "   a  b\n",
            "0  1  2\n",
            "1  3  4\n",
            "0  5  6\n",
            "1  7  8\n"
          ]
        }
      ]
    },
    {
      "cell_type": "markdown",
      "source": [
        "# **Delete Rows**"
      ],
      "metadata": {
        "id": "JvfTkLvYnWF4"
      }
    },
    {
      "cell_type": "code",
      "source": [
        "d = d.drop(0)\n",
        "print(d)"
      ],
      "metadata": {
        "colab": {
          "base_uri": "https://localhost:8080/"
        },
        "id": "slLtC55OnSz0",
        "outputId": "f14f87db-d92c-463a-f498-5231950c9fe8"
      },
      "execution_count": 57,
      "outputs": [
        {
          "output_type": "stream",
          "name": "stdout",
          "text": [
            "   a  b\n",
            "1  3  4\n",
            "1  7  8\n"
          ]
        }
      ]
    },
    {
      "cell_type": "markdown",
      "source": [
        "# **Functonality**\n",
        "\n",
        "Transpose"
      ],
      "metadata": {
        "id": "MYM_IQuEnm2o"
      }
    },
    {
      "cell_type": "code",
      "source": [
        "#Create a Dictionary of series\n",
        "d = {'Name':pd.Series(['Tom','James','Ricky','Vin','Steve','Smith','Jack']),\n",
        "   'Age':pd.Series([25,26,25,23,30,29,23]),\n",
        "   'Rating':pd.Series([4.23,3.24,3.98,2.56,3.20,4.6,3.8])}\n",
        "df = pd.DataFrame(d)\n",
        "print(df)\n",
        "t = df.T\n",
        "print(t)"
      ],
      "metadata": {
        "colab": {
          "base_uri": "https://localhost:8080/"
        },
        "id": "Iv2XBet-njv0",
        "outputId": "da57e2ab-c743-49e5-c38d-757452531742"
      },
      "execution_count": 58,
      "outputs": [
        {
          "output_type": "stream",
          "name": "stdout",
          "text": [
            "    Name  Age  Rating\n",
            "0    Tom   25    4.23\n",
            "1  James   26    3.24\n",
            "2  Ricky   25    3.98\n",
            "3    Vin   23    2.56\n",
            "4  Steve   30    3.20\n",
            "5  Smith   29    4.60\n",
            "6   Jack   23    3.80\n",
            "           0      1      2     3      4      5     6\n",
            "Name     Tom  James  Ricky   Vin  Steve  Smith  Jack\n",
            "Age       25     26     25    23     30     29    23\n",
            "Rating  4.23   3.24   3.98  2.56    3.2    4.6   3.8\n"
          ]
        }
      ]
    },
    {
      "cell_type": "markdown",
      "source": [
        "# **axes**"
      ],
      "metadata": {
        "id": "D-aa85C6n9Jr"
      }
    },
    {
      "cell_type": "code",
      "source": [
        "print(df)"
      ],
      "metadata": {
        "colab": {
          "base_uri": "https://localhost:8080/"
        },
        "id": "iizZKfJcn7eE",
        "outputId": "dcd65416-09e5-4e44-b989-2ac85d6d0925"
      },
      "execution_count": 60,
      "outputs": [
        {
          "output_type": "stream",
          "name": "stdout",
          "text": [
            "    Name  Age  Rating\n",
            "0    Tom   25    4.23\n",
            "1  James   26    3.24\n",
            "2  Ricky   25    3.98\n",
            "3    Vin   23    2.56\n",
            "4  Steve   30    3.20\n",
            "5  Smith   29    4.60\n",
            "6   Jack   23    3.80\n"
          ]
        }
      ]
    },
    {
      "cell_type": "code",
      "source": [
        "print(df.axes)"
      ],
      "metadata": {
        "colab": {
          "base_uri": "https://localhost:8080/"
        },
        "id": "7l9L6eluoFVf",
        "outputId": "eaed7e06-7a8f-465d-9b79-34aff7eae219"
      },
      "execution_count": 61,
      "outputs": [
        {
          "output_type": "stream",
          "name": "stdout",
          "text": [
            "[RangeIndex(start=0, stop=7, step=1), Index(['Name', 'Age', 'Rating'], dtype='object')]\n"
          ]
        }
      ]
    },
    {
      "cell_type": "markdown",
      "source": [
        "# **dtype**"
      ],
      "metadata": {
        "id": "ZabNH5GRoPqT"
      }
    },
    {
      "cell_type": "code",
      "source": [
        "print(df.dtypes)"
      ],
      "metadata": {
        "colab": {
          "base_uri": "https://localhost:8080/"
        },
        "id": "PkP0o30roPAg",
        "outputId": "766c4bee-bb17-451b-86d4-8f2be9c03427"
      },
      "execution_count": 62,
      "outputs": [
        {
          "output_type": "stream",
          "name": "stdout",
          "text": [
            "Name       object\n",
            "Age         int64\n",
            "Rating    float64\n",
            "dtype: object\n"
          ]
        }
      ]
    },
    {
      "cell_type": "markdown",
      "source": [
        "# **empty**"
      ],
      "metadata": {
        "id": "yc_b0yGzogI0"
      }
    },
    {
      "cell_type": "code",
      "source": [
        "print(df)"
      ],
      "metadata": {
        "colab": {
          "base_uri": "https://localhost:8080/"
        },
        "id": "Cx7WIvpgoc_j",
        "outputId": "9a013ec2-f6e6-49e6-eefb-a561c86384cf"
      },
      "execution_count": 63,
      "outputs": [
        {
          "output_type": "stream",
          "name": "stdout",
          "text": [
            "    Name  Age  Rating\n",
            "0    Tom   25    4.23\n",
            "1  James   26    3.24\n",
            "2  Ricky   25    3.98\n",
            "3    Vin   23    2.56\n",
            "4  Steve   30    3.20\n",
            "5  Smith   29    4.60\n",
            "6   Jack   23    3.80\n"
          ]
        }
      ]
    },
    {
      "cell_type": "code",
      "source": [
        "print(df.empty)"
      ],
      "metadata": {
        "colab": {
          "base_uri": "https://localhost:8080/"
        },
        "id": "XMBdS6jzomAm",
        "outputId": "72ba4795-c1ef-4760-db14-dd86cbfd44d7"
      },
      "execution_count": 64,
      "outputs": [
        {
          "output_type": "stream",
          "name": "stdout",
          "text": [
            "False\n"
          ]
        }
      ]
    },
    {
      "cell_type": "markdown",
      "source": [
        "# **ndim**"
      ],
      "metadata": {
        "id": "SDIA_LUGosm1"
      }
    },
    {
      "cell_type": "code",
      "source": [
        "print(df.ndim)"
      ],
      "metadata": {
        "colab": {
          "base_uri": "https://localhost:8080/"
        },
        "id": "SHYyJazgovNv",
        "outputId": "7bc79132-ea23-4ade-9a80-bda1de8fb846"
      },
      "execution_count": 65,
      "outputs": [
        {
          "output_type": "stream",
          "name": "stdout",
          "text": [
            "2\n"
          ]
        }
      ]
    },
    {
      "cell_type": "markdown",
      "source": [
        "# **Shape**"
      ],
      "metadata": {
        "id": "rTGY9NLDo2Nt"
      }
    },
    {
      "cell_type": "code",
      "source": [
        "print(df.shape)"
      ],
      "metadata": {
        "colab": {
          "base_uri": "https://localhost:8080/"
        },
        "id": "v9xrGhZ5o65Q",
        "outputId": "a7ddc72c-b5cf-4cb5-d66a-413661311caf"
      },
      "execution_count": 66,
      "outputs": [
        {
          "output_type": "stream",
          "name": "stdout",
          "text": [
            "(7, 3)\n"
          ]
        }
      ]
    },
    {
      "cell_type": "markdown",
      "source": [
        "# **size**"
      ],
      "metadata": {
        "id": "TKLSEXlYpAAj"
      }
    },
    {
      "cell_type": "code",
      "source": [
        "print(df.size)"
      ],
      "metadata": {
        "colab": {
          "base_uri": "https://localhost:8080/"
        },
        "id": "8qhqPooCo-WA",
        "outputId": "f0c5a75b-2d45-4041-99a3-8f145f6ed500"
      },
      "execution_count": 67,
      "outputs": [
        {
          "output_type": "stream",
          "name": "stdout",
          "text": [
            "21\n"
          ]
        }
      ]
    },
    {
      "cell_type": "markdown",
      "source": [
        "# **Values**"
      ],
      "metadata": {
        "id": "TxzaqfD3pJF_"
      }
    },
    {
      "cell_type": "code",
      "source": [
        "print(df.values)"
      ],
      "metadata": {
        "colab": {
          "base_uri": "https://localhost:8080/"
        },
        "id": "JKQwZfXOpIW1",
        "outputId": "e34e5bb7-a2a2-4f95-a147-5ae5bac2be86"
      },
      "execution_count": 68,
      "outputs": [
        {
          "output_type": "stream",
          "name": "stdout",
          "text": [
            "[['Tom' 25 4.23]\n",
            " ['James' 26 3.24]\n",
            " ['Ricky' 25 3.98]\n",
            " ['Vin' 23 2.56]\n",
            " ['Steve' 30 3.2]\n",
            " ['Smith' 29 4.6]\n",
            " ['Jack' 23 3.8]]\n"
          ]
        }
      ]
    },
    {
      "cell_type": "markdown",
      "source": [
        "Statisiical functions "
      ],
      "metadata": {
        "id": "yzbwPBSGpXAl"
      }
    },
    {
      "cell_type": "code",
      "source": [
        "print(df.std())"
      ],
      "metadata": {
        "colab": {
          "base_uri": "https://localhost:8080/"
        },
        "id": "E7_5T3-XpcLZ",
        "outputId": "2828603e-f64f-4b4a-937e-b3d3182b76e3"
      },
      "execution_count": 69,
      "outputs": [
        {
          "output_type": "stream",
          "name": "stdout",
          "text": [
            "Age       2.734262\n",
            "Rating    0.698628\n",
            "dtype: float64\n"
          ]
        },
        {
          "output_type": "stream",
          "name": "stderr",
          "text": [
            "/usr/local/lib/python3.7/dist-packages/ipykernel_launcher.py:1: FutureWarning: Dropping of nuisance columns in DataFrame reductions (with 'numeric_only=None') is deprecated; in a future version this will raise TypeError.  Select only valid columns before calling the reduction.\n",
            "  \"\"\"Entry point for launching an IPython kernel.\n"
          ]
        }
      ]
    },
    {
      "cell_type": "markdown",
      "source": [
        "# **Functions & Description**\n",
        "Let us now understand the functions under Descriptive Statistics in Python Pandas. The following table list down the important functions −\n",
        "\n",
        "1.\tcount()\t:Number of non-null observations\n",
        "2.\tsum()\t:Sum of values\n",
        "3.\tmean()\t:Mean of Values\n",
        "4.\tmedian()\t:Median of Values\n",
        "5.\tmode()\t:Mode of values\n",
        "6.\tstd()\t:Standard Deviation of the Values\n",
        "7.\tmin()\t:Minimum Value\n",
        "8.\tmax()\t:Maximum Value\n",
        "9.\tabs()\t:Absolute Value\n",
        "10.\tprod()\t:Product of Values\n",
        "11.\tcumsum()\t:Cumulative Sum\n",
        "12.\tcumprod()\t:Cumulative Product\n",
        "\n",
        "Note − Since DataFrame is a Heterogeneous data structure. Generic operations don’t work with all functions.\n",
        "\n",
        "•\tFunctions like sum(), cumsum() work with both numeric and character (or) string data elements without any error. Though npractice, character aggregations are never used generally, these functions do not throw any exception.\n",
        "\n",
        "•\tFunctions like abs(), cumprod() throw exception when the DataFrame contains character or string data because such operations cannot be performed."
      ],
      "metadata": {
        "id": "i5pk703npwcQ"
      }
    },
    {
      "cell_type": "code",
      "source": [
        "#max()\n",
        "import pandas as pd\n",
        "df = pd.DataFrame({\"A\":[12, 4, 5, 44, 1], \n",
        "                   \"B\":[5, 2, 54, 3, 2], \n",
        "                   \"C\":[20, 16, 7, 3, 8],  \n",
        "                   \"D\":[14, 3, 17, 2, 6]}) \n",
        "print(df)\n",
        "print(df.max())"
      ],
      "metadata": {
        "colab": {
          "base_uri": "https://localhost:8080/"
        },
        "id": "1goqMpOwposc",
        "outputId": "59861556-4ef0-4795-c8ef-0e33be9d892f"
      },
      "execution_count": 70,
      "outputs": [
        {
          "output_type": "stream",
          "name": "stdout",
          "text": [
            "    A   B   C   D\n",
            "0  12   5  20  14\n",
            "1   4   2  16   3\n",
            "2   5  54   7  17\n",
            "3  44   3   3   2\n",
            "4   1   2   8   6\n",
            "A    44\n",
            "B    54\n",
            "C    20\n",
            "D    17\n",
            "dtype: int64\n"
          ]
        }
      ]
    },
    {
      "cell_type": "code",
      "source": [
        "print(df.max(axis=0)) #gets max of each column"
      ],
      "metadata": {
        "colab": {
          "base_uri": "https://localhost:8080/"
        },
        "id": "QTbMaeTfqG7n",
        "outputId": "6e5059f0-2c93-4f44-c17e-69827726e430"
      },
      "execution_count": 71,
      "outputs": [
        {
          "output_type": "stream",
          "name": "stdout",
          "text": [
            "A    44\n",
            "B    54\n",
            "C    20\n",
            "D    17\n",
            "dtype: int64\n"
          ]
        }
      ]
    },
    {
      "cell_type": "code",
      "source": [
        "print(df.max(axis=1)) #gets max of each row"
      ],
      "metadata": {
        "colab": {
          "base_uri": "https://localhost:8080/"
        },
        "id": "wWlQzlTUqJLs",
        "outputId": "0b12df64-0d5b-4beb-ca4e-1e9ea65bc740"
      },
      "execution_count": 72,
      "outputs": [
        {
          "output_type": "stream",
          "name": "stdout",
          "text": [
            "0    20\n",
            "1    16\n",
            "2    54\n",
            "3    44\n",
            "4     8\n",
            "dtype: int64\n"
          ]
        }
      ]
    },
    {
      "cell_type": "code",
      "source": [
        "df = pd.DataFrame({\"A\":[12, 4, 5, None, 1],  \n",
        "                   \"B\":[7, 2, 54, 3, None], \n",
        "                   \"C\":[20, 16, 11, 3, 8], \n",
        "                   \"D\":[14, 3, None, 2, 6]}) \n",
        "\n",
        "df.max()"
      ],
      "metadata": {
        "colab": {
          "base_uri": "https://localhost:8080/"
        },
        "id": "joAdjtUlqZCA",
        "outputId": "295506d4-7240-4bb2-b8ab-9fe6a49f1333"
      },
      "execution_count": 73,
      "outputs": [
        {
          "output_type": "execute_result",
          "data": {
            "text/plain": [
              "A    12.0\n",
              "B    54.0\n",
              "C    20.0\n",
              "D    14.0\n",
              "dtype: float64"
            ]
          },
          "metadata": {},
          "execution_count": 73
        }
      ]
    },
    {
      "cell_type": "code",
      "source": [
        "print(df.max(axis=1)) #gets max of each row"
      ],
      "metadata": {
        "colab": {
          "base_uri": "https://localhost:8080/"
        },
        "id": "kOb6euO6qiE9",
        "outputId": "4e9ab12f-845a-45c7-d677-cbdbe1a657fa"
      },
      "execution_count": 74,
      "outputs": [
        {
          "output_type": "stream",
          "name": "stdout",
          "text": [
            "0    20.0\n",
            "1    16.0\n",
            "2    54.0\n",
            "3     3.0\n",
            "4     8.0\n",
            "dtype: float64\n"
          ]
        }
      ]
    },
    {
      "cell_type": "code",
      "source": [
        "df = pd.DataFrame({\"A\":[12, 4, 5, None, 1],  \n",
        "                   \"B\":[7, 2, 54, None, 3], \n",
        "                   \"C\":[20, 16, 11, None, 8], \n",
        "                   \"D\":[14, 3, 2, None, 6]}) \n",
        "\n",
        "df.max()"
      ],
      "metadata": {
        "colab": {
          "base_uri": "https://localhost:8080/"
        },
        "id": "BeDd8Fm0qz5g",
        "outputId": "0930cabc-b093-43a9-a866-ef2478710512"
      },
      "execution_count": 75,
      "outputs": [
        {
          "output_type": "execute_result",
          "data": {
            "text/plain": [
              "A    12.0\n",
              "B    54.0\n",
              "C    20.0\n",
              "D    14.0\n",
              "dtype: float64"
            ]
          },
          "metadata": {},
          "execution_count": 75
        }
      ]
    },
    {
      "cell_type": "code",
      "source": [
        "print(df.max(axis=1)) #gets max of each row"
      ],
      "metadata": {
        "colab": {
          "base_uri": "https://localhost:8080/"
        },
        "id": "VVMzzoSDq62R",
        "outputId": "1abfc98c-afdc-4f69-d279-d74334cc49de"
      },
      "execution_count": 76,
      "outputs": [
        {
          "output_type": "stream",
          "name": "stdout",
          "text": [
            "0    20.0\n",
            "1    16.0\n",
            "2    54.0\n",
            "3     NaN\n",
            "4     8.0\n",
            "dtype: float64\n"
          ]
        }
      ]
    },
    {
      "cell_type": "code",
      "source": [
        "# skip the NaN values while finding the maximum \n",
        "df.max(axis = 0, skipna = True)"
      ],
      "metadata": {
        "colab": {
          "base_uri": "https://localhost:8080/"
        },
        "id": "tv_OQV8zrCJ1",
        "outputId": "b608b54f-b2dc-4d8c-cc45-8f53914a2a3c"
      },
      "execution_count": 77,
      "outputs": [
        {
          "output_type": "execute_result",
          "data": {
            "text/plain": [
              "A    12.0\n",
              "B    54.0\n",
              "C    20.0\n",
              "D    14.0\n",
              "dtype: float64"
            ]
          },
          "metadata": {},
          "execution_count": 77
        }
      ]
    },
    {
      "cell_type": "code",
      "source": [
        "df.max(axis = 1, skipna = True)"
      ],
      "metadata": {
        "colab": {
          "base_uri": "https://localhost:8080/"
        },
        "id": "gZS607bbrGvM",
        "outputId": "e94e7495-01d3-48f7-aad3-27daae681933"
      },
      "execution_count": 78,
      "outputs": [
        {
          "output_type": "execute_result",
          "data": {
            "text/plain": [
              "0    20.0\n",
              "1    16.0\n",
              "2    54.0\n",
              "3     NaN\n",
              "4     8.0\n",
              "dtype: float64"
            ]
          },
          "metadata": {},
          "execution_count": 78
        }
      ]
    },
    {
      "cell_type": "code",
      "source": [
        "#Create a Dictionary of series\n",
        "d = {'Name':pd.Series(['Tom','James','Ricky','Vin','Steve','Smith','Jack','Lee','David','Gasper','Betina','Andres']),\n",
        "   'Age':pd.Series([25,26,25,23,30,29,23,34,40,30,51,46]),\n",
        "   'Rating':pd.Series([4.23,3.24,3.98,2.56,3.20,4.6,3.8,3.78,2.98,4.80,4.10,3.65])\n",
        "}\n",
        "print(df)\n",
        "#Create a DataFrame\n",
        "df = pd.DataFrame(d)\n",
        "print(df.std())"
      ],
      "metadata": {
        "colab": {
          "base_uri": "https://localhost:8080/"
        },
        "id": "v0UnvuM5rUdV",
        "outputId": "0fad408e-ee7b-4638-9a65-20cc393d0a3c"
      },
      "execution_count": 79,
      "outputs": [
        {
          "output_type": "stream",
          "name": "stdout",
          "text": [
            "      A     B     C     D\n",
            "0  12.0   7.0  20.0  14.0\n",
            "1   4.0   2.0  16.0   3.0\n",
            "2   5.0  54.0  11.0   2.0\n",
            "3   NaN   NaN   NaN   NaN\n",
            "4   1.0   3.0   8.0   6.0\n",
            "Age       9.232682\n",
            "Rating    0.661628\n",
            "dtype: float64\n"
          ]
        },
        {
          "output_type": "stream",
          "name": "stderr",
          "text": [
            "/usr/local/lib/python3.7/dist-packages/ipykernel_launcher.py:9: FutureWarning: Dropping of nuisance columns in DataFrame reductions (with 'numeric_only=None') is deprecated; in a future version this will raise TypeError.  Select only valid columns before calling the reduction.\n",
            "  if __name__ == '__main__':\n"
          ]
        }
      ]
    },
    {
      "cell_type": "markdown",
      "source": [
        "# **Summaraize**\n",
        "\n"
      ],
      "metadata": {
        "id": "S06ZsISir1zJ"
      }
    },
    {
      "cell_type": "code",
      "source": [
        "print(df.describe())"
      ],
      "metadata": {
        "colab": {
          "base_uri": "https://localhost:8080/"
        },
        "id": "ZWtlVkcmr8F3",
        "outputId": "c2902952-73d3-44bd-83d9-9863a827b618"
      },
      "execution_count": 80,
      "outputs": [
        {
          "output_type": "stream",
          "name": "stdout",
          "text": [
            "             Age     Rating\n",
            "count  12.000000  12.000000\n",
            "mean   31.833333   3.743333\n",
            "std     9.232682   0.661628\n",
            "min    23.000000   2.560000\n",
            "25%    25.000000   3.230000\n",
            "50%    29.500000   3.790000\n",
            "75%    35.500000   4.132500\n",
            "max    51.000000   4.800000\n"
          ]
        }
      ]
    },
    {
      "cell_type": "code",
      "source": [
        "#Create a Dictionary of series\n",
        "d = {'Name':pd.Series(['Tina','Ria','Amit','Sumit','Manish','Mayank','Vishal','Vardan','Rahul,','Vikesh','Priyank','Bhavesh']),\n",
        "   'Age':pd.Series([25,26,25,23,30,29,23,34,40,30,51,46]),\n",
        "   'Rating':pd.Series([4.23,3.24,3.98,2.56,3.20,4.6,3.8,3.78,2.98,4.80,4.10,3.65])\n",
        "}\n",
        "\n",
        "#Create a DataFrame\n",
        "df = pd.DataFrame(d)\n",
        "print(df)"
      ],
      "metadata": {
        "colab": {
          "base_uri": "https://localhost:8080/"
        },
        "id": "VSK8vxUYsRU4",
        "outputId": "6ec9f756-12c5-4db0-b05d-e878934fce15"
      },
      "execution_count": 83,
      "outputs": [
        {
          "output_type": "stream",
          "name": "stdout",
          "text": [
            "       Name  Age  Rating\n",
            "0      Tina   25    4.23\n",
            "1       Ria   26    3.24\n",
            "2      Amit   25    3.98\n",
            "3     Sumit   23    2.56\n",
            "4    Manish   30    3.20\n",
            "5    Mayank   29    4.60\n",
            "6    Vishal   23    3.80\n",
            "7    Vardan   34    3.78\n",
            "8    Rahul,   40    2.98\n",
            "9    Vikesh   30    4.80\n",
            "10  Priyank   51    4.10\n",
            "11  Bhavesh   46    3.65\n"
          ]
        }
      ]
    },
    {
      "cell_type": "code",
      "source": [
        "print(df.describe(include=['object']))"
      ],
      "metadata": {
        "colab": {
          "base_uri": "https://localhost:8080/"
        },
        "id": "kM0PqbDzsVSf",
        "outputId": "5ebaea4e-3850-4a62-c02e-46a21d749bbd"
      },
      "execution_count": 82,
      "outputs": [
        {
          "output_type": "stream",
          "name": "stdout",
          "text": [
            "        Name\n",
            "count     12\n",
            "unique    12\n",
            "top     Tina\n",
            "freq       1\n"
          ]
        }
      ]
    },
    {
      "cell_type": "code",
      "source": [
        "print(df.describe(include='all'))"
      ],
      "metadata": {
        "colab": {
          "base_uri": "https://localhost:8080/"
        },
        "id": "Ya6WtZWissFo",
        "outputId": "394946fe-2615-4a97-dcb6-0b349c8dfd5c"
      },
      "execution_count": 85,
      "outputs": [
        {
          "output_type": "stream",
          "name": "stdout",
          "text": [
            "        Name        Age     Rating\n",
            "count     12  12.000000  12.000000\n",
            "unique    12        NaN        NaN\n",
            "top     Tina        NaN        NaN\n",
            "freq       1        NaN        NaN\n",
            "mean     NaN  31.833333   3.743333\n",
            "std      NaN   9.232682   0.661628\n",
            "min      NaN  23.000000   2.560000\n",
            "25%      NaN  25.000000   3.230000\n",
            "50%      NaN  29.500000   3.790000\n",
            "75%      NaN  35.500000   4.132500\n",
            "max      NaN  51.000000   4.800000\n"
          ]
        }
      ]
    }
  ]
}