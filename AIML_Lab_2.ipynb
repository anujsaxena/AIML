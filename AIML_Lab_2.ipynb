{
  "nbformat": 4,
  "nbformat_minor": 0,
  "metadata": {
    "colab": {
      "name": "aIML_Lab_2.ipynb",
      "provenance": [],
      "collapsed_sections": [],
      "authorship_tag": "ABX9TyNa9gg/jrJ4y8ZGXkNd3Q8r",
      "include_colab_link": true
    },
    "kernelspec": {
      "name": "python3",
      "display_name": "Python 3"
    },
    "language_info": {
      "name": "python"
    }
  },
  "cells": [
    {
      "cell_type": "markdown",
      "metadata": {
        "id": "view-in-github",
        "colab_type": "text"
      },
      "source": [
        "<a href=\"https://colab.research.google.com/github/anujsaxena/AIML/blob/main/AIML_Lab_2.ipynb\" target=\"_parent\"><img src=\"https://colab.research.google.com/assets/colab-badge.svg\" alt=\"Open In Colab\"/></a>"
      ]
    },
    {
      "cell_type": "markdown",
      "source": [
        "# **File Handling**\n",
        "\n",
        "When you’re working with Python, you don’t need to import a library in order to read and write files. It’s handled natively in the language, albeit in a unique manner.\n",
        "\n",
        "The first thing you’ll need to do is use Python’s built-in open function to get a file object. \n",
        "\n",
        "The open function opens a file. It’s simple. \n",
        "\n",
        "When you use the open function, it returns something called a file object. File objects contain methods and attributes that can be used to collect information about the file you opened. They can also be used to manipulate said file.\n",
        "\n",
        "For example, the mode attribute of a file object tells you which mode a file was opened in. And the name attribute tells you the name of the file that the file object has opened. \n",
        "\n",
        "You must understand that a file and file object are two wholly separate – yet related – things.\n",
        " \n",
        "**File Types**\n",
        "\n",
        "What you may know as a file is slightly different in Python. \n",
        "In Windows, for example, a file can be any item manipulated, edited or created by the user/OS. That means files can be images, text documents, executables, and much more. Most files are organized by keeping them in individual folders. \n",
        "In Python, a file is categorized as either text or binary, and the difference between the two file types is important. \n",
        "Text files are structured as a sequence of lines, where each line includes a sequence of characters. This is what you know as code or syntax. \n",
        "Each line is terminated with a special character, called the EOL or End of Line character. There are several types, but the most common is the comma {,} or newline character. It ends the current line and tells the interpreter a new one has begun. \n",
        "A backslash character can also be used, and it tells the interpreter that the next character – following the slash – should be treated as a new line. This character is useful when you don’t want to start a new line in the text itself but in the code. \n",
        "A binary file is any type of file that is not a text file. Because of their nature, binary files can only be processed by an application that know or understand the file’s structure. In other words, they must be applications that can read and interpret binary.\n",
        "\n",
        "**Open ( ) Function**\n",
        "\n",
        "In order to open a file for writing or use in Python, you must rely on the built-in open () function. \n",
        "As explained above, open ( ) will return a file object, so it is most commonly used with two arguments.  \n",
        "An argument is nothing more than a value that has been provided to a function, which is relayed when you call it. So, for instance, if we declare the name of a file as “Test File,” that name would be considered an argument. \n",
        "The syntax to open a file object in Python is:\n",
        "\n",
        "*File_object = open(\"filename\",\"mode\")*\n",
        "\n",
        "**Mode**\n",
        "\n",
        "Including a mode argument is optional because a default value of ‘r’ will be assumed if it is omitted. The ‘r’ value stands for read mode, which is just one of many. \n",
        "The modes are: \n",
        "1.\t‘r’ – Read mode which is used when the file is only being read \n",
        "2. ‘w’ – Write mode which is used to edit and write new information to the file (any existing files with the same name will be erased when this mode is activated) \n",
        "3.\t‘a’ – Appending mode, which is used to add new data to the end of the file; that is new information is automatically appended to the end \n",
        "4.\t‘r+’ – Special read and write mode, which is used to handle both actions when working with a file \n"
      ],
      "metadata": {
        "id": "rO0InslK4UIA"
      }
    },
    {
      "cell_type": "markdown",
      "source": [
        "# **Difference between r+ and a+**\n",
        "\n",
        "r+ Open for reading and writing. The stream is positioned at the beginning of the file.\n",
        "\n",
        "a+ Open for reading and appending (writing at end of file). The file is created if it does not exist. The initial file position for reading is at the beginning of the file, but output is appended to the end of the file (but in some Unix systems regardless of the current seek position)."
      ],
      "metadata": {
        "id": "9Oh3lIaF5YVS"
      }
    },
    {
      "cell_type": "code",
      "execution_count": null,
      "metadata": {
        "id": "7MjtehUK4NJm"
      },
      "outputs": [],
      "source": [
        "f = open(\"test.txt\", \"w\")\n",
        "f.write(\"Hello\")\n",
        "f.write(\"How are you today\")\n",
        "f.write(\"What are your plans for your future\")\n",
        "f.write(\"Python is an interesting language\")\n",
        "f.close()  # you have to close the file so that the data can be written"
      ]
    },
    {
      "cell_type": "code",
      "source": [
        "#open the file again and insert new data\n",
        "f = open(\"test.txt\", \"w\")\n",
        "f.write(\"Hi Guys !! \")\n",
        "f.write(\"Where are yoy ? \")\n",
        "f.write(\"What are your plans for today ? \")\n",
        "f.write(\"The class should be interesting \")\n",
        "f.close()  # you have to close the file so that the data can be written"
      ],
      "metadata": {
        "id": "WPwXWt6L-SoV"
      },
      "execution_count": null,
      "outputs": []
    },
    {
      "cell_type": "code",
      "source": [
        "f = open(\"test.txt\", \"w\")\n",
        "f.write(\"Hello \\n\")\n",
        "f.write(\"How are you today \\n\")\n",
        "f.write(\"What are your plans for your future \\n\")\n",
        "f.write(\"Python is an interesting language\")\n",
        "f.close()  # you have to close the file so that the data can be written"
      ],
      "metadata": {
        "id": "ZwIySIb7-xGg"
      },
      "execution_count": null,
      "outputs": []
    },
    {
      "cell_type": "code",
      "source": [
        "f = open('test.txt', 'r')\n",
        "d = f.read()\n",
        "print(d)"
      ],
      "metadata": {
        "colab": {
          "base_uri": "https://localhost:8080/"
        },
        "id": "tOeINAsr_Cry",
        "outputId": "78c074b9-b3a5-4940-f4ac-00f7bb6987db"
      },
      "execution_count": null,
      "outputs": [
        {
          "output_type": "stream",
          "name": "stdout",
          "text": [
            "Hello \n",
            "How are you today \n",
            "What are your plans for your future \n",
            "Python is an interesting language\n"
          ]
        }
      ]
    },
    {
      "cell_type": "code",
      "source": [
        "f = open('test.txt', 'r')\n",
        "d = f.read(5)\n",
        "print(d)"
      ],
      "metadata": {
        "colab": {
          "base_uri": "https://localhost:8080/"
        },
        "id": "cDytHO0P_Wfu",
        "outputId": "842d3843-7f59-4774-f434-d06a193f8291"
      },
      "execution_count": null,
      "outputs": [
        {
          "output_type": "stream",
          "name": "stdout",
          "text": [
            "Hello\n"
          ]
        }
      ]
    },
    {
      "cell_type": "code",
      "source": [
        "f = open('test.txt', 'r')\n",
        "d = f.read(24)\n",
        "print(d)"
      ],
      "metadata": {
        "colab": {
          "base_uri": "https://localhost:8080/"
        },
        "id": "yVbJGGKW_fZn",
        "outputId": "775e9cf8-1859-46f8-f9da-8b83a72fbb4f"
      },
      "execution_count": null,
      "outputs": [
        {
          "output_type": "stream",
          "name": "stdout",
          "text": [
            "Hello \n",
            "How are you today\n"
          ]
        }
      ]
    },
    {
      "cell_type": "code",
      "source": [
        "f = open(\"test.txt\", \"w\")\n",
        "f.writelines(\"Hello\")\n",
        "f.writelines(\"How are you today \")\n",
        "f.writelines(\"What are your plans for your future \")\n",
        "f.writelines(\"Python is an interesting language\")\n",
        "f.close()  # you have to close the file so that the data can be written"
      ],
      "metadata": {
        "id": "tDIhMBbh_wHV"
      },
      "execution_count": null,
      "outputs": []
    },
    {
      "cell_type": "code",
      "source": [
        "f = open(\"test.txt\", \"w\")\n",
        "f.write(\"Hello \\n\")\n",
        "f.write(\"How are you today \\n\")\n",
        "f.write(\"What are your plans for your future \\n\")\n",
        "f.write(\"Python is an interesting language\")\n",
        "f.close()  # you have to close the file so that the data can be written"
      ],
      "metadata": {
        "id": "FwZ1Ye5kAUUT"
      },
      "execution_count": null,
      "outputs": []
    },
    {
      "cell_type": "code",
      "source": [
        "f = open('test.txt', 'r')\n",
        "d = f.readlines()\n",
        "print(d)"
      ],
      "metadata": {
        "colab": {
          "base_uri": "https://localhost:8080/"
        },
        "id": "svKuYTkXAY98",
        "outputId": "86f55db6-8291-4eee-fd23-3635d87e5277"
      },
      "execution_count": null,
      "outputs": [
        {
          "output_type": "stream",
          "name": "stdout",
          "text": [
            "['Hello \\n', 'How are you today \\n', 'What are your plans for your future \\n', 'Python is an interesting language']\n"
          ]
        }
      ]
    },
    {
      "cell_type": "code",
      "source": [
        "f = open('test.txt', 'r')\n",
        "d = f.read()\n",
        "print(d)"
      ],
      "metadata": {
        "colab": {
          "base_uri": "https://localhost:8080/"
        },
        "id": "vyJd-ZdDAqAQ",
        "outputId": "c5445bce-bf0c-4207-8cc8-3e8be0cb726e"
      },
      "execution_count": null,
      "outputs": [
        {
          "output_type": "stream",
          "name": "stdout",
          "text": [
            "Hello \n",
            "How are you today \n",
            "What are your plans for your future \n",
            "Python is an interesting language\n"
          ]
        }
      ]
    },
    {
      "cell_type": "code",
      "source": [
        "f = open('test.txt', 'r')\n",
        "d = f.readlines(1)\n",
        "print(d)"
      ],
      "metadata": {
        "colab": {
          "base_uri": "https://localhost:8080/"
        },
        "id": "V9jutsuHAtiv",
        "outputId": "f0e6d571-ad2f-4c9f-8742-bdb5f7dc3497"
      },
      "execution_count": null,
      "outputs": [
        {
          "output_type": "stream",
          "name": "stdout",
          "text": [
            "['Hello \\n']\n"
          ]
        }
      ]
    },
    {
      "cell_type": "code",
      "source": [
        "f = open('test2.txt', 'a')\n",
        "f.writelines(['Hello \\n','How are you \\n', 'Have a nice day'])\n",
        "f.close()"
      ],
      "metadata": {
        "id": "2dWo7Ob9A7em"
      },
      "execution_count": null,
      "outputs": []
    },
    {
      "cell_type": "code",
      "source": [
        "f = open('test2.txt', 'r')\n",
        "d = f.readlines()\n",
        "print(d)"
      ],
      "metadata": {
        "colab": {
          "base_uri": "https://localhost:8080/"
        },
        "id": "5MUXf3afBoon",
        "outputId": "db0d2c84-aa6c-4551-9cb1-172d3297486c"
      },
      "execution_count": null,
      "outputs": [
        {
          "output_type": "stream",
          "name": "stdout",
          "text": [
            "['Hello \\n', 'How are you \\n', 'Have a nice day']\n"
          ]
        }
      ]
    },
    {
      "cell_type": "code",
      "source": [
        "f = open('test2.txt', 'a')\n",
        "f.writelines(['In ML \\n','Data Handling is very important \\n', 'We should have clean data'])\n",
        "f.close()"
      ],
      "metadata": {
        "id": "qZf90mAoBxOo"
      },
      "execution_count": null,
      "outputs": []
    },
    {
      "cell_type": "code",
      "source": [
        "f = open('test2.txt', 'r')\n",
        "for text in f:\n",
        "  print(text)"
      ],
      "metadata": {
        "colab": {
          "base_uri": "https://localhost:8080/"
        },
        "id": "eKQcB_3YCIuC",
        "outputId": "3ff988b8-39f6-4883-a816-765440c67938"
      },
      "execution_count": null,
      "outputs": [
        {
          "output_type": "stream",
          "name": "stdout",
          "text": [
            "Hello \n",
            "\n",
            "How are you \n",
            "\n",
            "Have a nice dayIn ML \n",
            "\n",
            "Data Handling is very important \n",
            "\n",
            "We should have clean data\n"
          ]
        }
      ]
    },
    {
      "cell_type": "code",
      "source": [
        "f=open(\"test2.txt\",\"r\")\n",
        "for txt in f:\n",
        "  wrd = txt.split() #split the line into tokens (words)\n",
        "  print(wrd)"
      ],
      "metadata": {
        "colab": {
          "base_uri": "https://localhost:8080/"
        },
        "id": "fDz2C4GlCdPq",
        "outputId": "1ec2435d-e800-4d5b-b857-b0c5dc77caf0"
      },
      "execution_count": null,
      "outputs": [
        {
          "output_type": "stream",
          "name": "stdout",
          "text": [
            "['Hello']\n",
            "['How', 'are', 'you']\n",
            "['Have', 'a', 'nice', 'dayIn', 'ML']\n",
            "['Data', 'Handling', 'is', 'very', 'important']\n",
            "['We', 'should', 'have', 'clean', 'data']\n"
          ]
        }
      ]
    },
    {
      "cell_type": "code",
      "source": [
        "with open(\"test3.txt\",'w') as f:\n",
        "  f.write(\"Welocme to my python online classes !!!\")\n",
        "  f.write(\"\\n institue de informatica !!!\")"
      ],
      "metadata": {
        "id": "eOdBpuurCvJQ"
      },
      "execution_count": null,
      "outputs": []
    },
    {
      "cell_type": "code",
      "source": [
        "with open('test3.txt', 'r') as f:\n",
        "  d=f.readlines()\n",
        "  print(d)"
      ],
      "metadata": {
        "colab": {
          "base_uri": "https://localhost:8080/"
        },
        "id": "8HmouNeUDBZs",
        "outputId": "2909847c-a051-49ca-d955-fe6a591abed1"
      },
      "execution_count": null,
      "outputs": [
        {
          "output_type": "stream",
          "name": "stdout",
          "text": [
            "['Welocme to my python online classes !!!\\n', ' institue de informatica !!!']\n"
          ]
        }
      ]
    },
    {
      "cell_type": "code",
      "source": [
        "for txt in d:\n",
        "  wrd = txt.split()\n",
        "  print(wrd)"
      ],
      "metadata": {
        "colab": {
          "base_uri": "https://localhost:8080/"
        },
        "id": "PDdU87Z4Di8a",
        "outputId": "e97ce214-5ab5-4130-b7da-3feb59f97981"
      },
      "execution_count": null,
      "outputs": [
        {
          "output_type": "stream",
          "name": "stdout",
          "text": [
            "['Welocme', 'to', 'my', 'python', 'online', 'classes', '!!!']\n",
            "['institue', 'de', 'informatica', '!!!']\n"
          ]
        }
      ]
    },
    {
      "cell_type": "markdown",
      "source": [
        "# **CSV files**\n",
        "\n",
        "**Module**\n",
        "\n",
        "CSV\n",
        "\n",
        "In CSV module documentation you can find following functions:\n",
        "1. csv.field_size_limit – return maximum field size\n",
        "2. csv.get_dialect – get the dialect which is associated with the name\n",
        "3.\tcsv.list_dialects – show all registered dialects\n",
        "4.\tcsv.reader – read data from a csv file\n",
        "4.\tcsv.register_dialect - associate dialect with name\n",
        "5.\tcsv.writer – write data to a csv file\n",
        "6.\tcsv.unregister_dialect - delete the dialect associated with the name the dialect registry\n",
        "7.\tcsv.QUOTE_ALL - Quote everything, regardless of type.\n",
        "8.\tcsv.QUOTE_MINIMAL - Quote fields with special characters\n",
        "9.\tcsv.QUOTE_NONNUMERIC - Quote all fields that aren't numbers value\n",
        "10.\tcsv.QUOTE_NONE – Don't quote anything in output\n"
      ],
      "metadata": {
        "id": "SSQjfHuvFDY8"
      }
    },
    {
      "cell_type": "code",
      "source": [
        "#import module to read a csv file\n",
        "\n",
        "import csv\n",
        "# field names \n",
        "fields = ['Name', 'Branch', 'Year', 'CGPA'] \n",
        "  \n",
        "# data rows of csv file \n",
        "rows = [ ['Nikhil', 'COE', '2021', '9.0'], \n",
        "         ['Sanchit', 'COE', '2020', '9.1'], \n",
        "         ['Aditya', 'IT', '2021', '9.3'], \n",
        "         ['Sagar', 'SE', '2021', '9.5'], \n",
        "         ['Prateek', 'MCE', '2020', '7.8'], \n",
        "         ['Sahil', 'EP', '2019', '9.1']] \n",
        "  \n",
        "# name of csv file \n",
        "filename =\"university_records.csv\"\n",
        "# writing to csv file \n",
        "with open(filename, 'w') as csvfile: \n",
        "    # creating a csv writer object \n",
        "    csvwriter = csv.writer(csvfile)\n",
        "    # write the header\n",
        "    csvwriter.writerow(fields)\n",
        "    # write the rows\n",
        "    csvwriter.writerows(rows)\n"
      ],
      "metadata": {
        "id": "bsBD6ecGFM29"
      },
      "execution_count": null,
      "outputs": []
    },
    {
      "cell_type": "code",
      "source": [
        "# write from a dictionary\n",
        "\n",
        "# my data rows as dictionary objects \n",
        "mydict =[{'branch': 'COE', 'cgpa': '9.0', 'name': 'Nikhil', 'year': '2020'}, \n",
        "         {'branch': 'COE', 'cgpa': '9.1', 'name': 'Sanchit', 'year': '2021'}, \n",
        "         {'branch': 'IT', 'cgpa': '9.3', 'name': 'Aditya', 'year': '2020'}, \n",
        "         {'branch': 'SE', 'cgpa': '9.5', 'name': 'Sagar', 'year': '2021'}, \n",
        "         {'branch': 'MCE', 'cgpa': '7.8', 'name': 'Prateek', 'year': '2021'}, \n",
        "         {'branch': 'EP', 'cgpa': '9.1', 'name': 'Sahil', 'year': '2019'}] \n",
        "  \n",
        "# field names \n",
        "fields = ['name', 'branch', 'year', 'cgpa'] \n",
        "  \n",
        "# name of csv file \n",
        "filename = \"university_dict.csv\"\n",
        "\n",
        "with open(filename, 'w') as csvfile: \n",
        "    # creating a csv writer object \n",
        "    writer = csv.DictWriter(csvfile, fieldnames = fields) \n",
        "    # write the header\n",
        "    writer.writeheader() \n",
        "    # write the rows\n",
        "    writer.writerows(mydict)"
      ],
      "metadata": {
        "id": "0wPM4TApIEia"
      },
      "execution_count": null,
      "outputs": []
    },
    {
      "cell_type": "code",
      "source": [
        "#read CSV file\n",
        "\n",
        "with open(\"university_records.csv\") as f:\n",
        "  data = csv.reader(f)\n",
        "  for row in data:\n",
        "    print(row)\n"
      ],
      "metadata": {
        "colab": {
          "base_uri": "https://localhost:8080/"
        },
        "id": "EbTg2eIPJv89",
        "outputId": "32d0ec23-a9ed-4ee6-e7da-ebdbf5b4b9bb"
      },
      "execution_count": null,
      "outputs": [
        {
          "output_type": "stream",
          "name": "stdout",
          "text": [
            "['Name', 'Branch', 'Year', 'CGPA']\n",
            "['Nikhil', 'COE', '2021', '9.0']\n",
            "['Sanchit', 'COE', '2020', '9.1']\n",
            "['Aditya', 'IT', '2021', '9.3']\n",
            "['Sagar', 'SE', '2021', '9.5']\n",
            "['Prateek', 'MCE', '2020', '7.8']\n",
            "['Sahil', 'EP', '2019', '9.1']\n"
          ]
        }
      ]
    },
    {
      "cell_type": "code",
      "source": [
        "# csv file name \n",
        "filename = \"university_records.csv\"\n",
        "  \n",
        "# initializing the headers and rows list \n",
        "fields = [] \n",
        "rows = [] \n",
        "  \n",
        "# reading csv file \n",
        "with open(filename, 'r') as csvfile: \n",
        "    # creating a csv reader object \n",
        "    csvreader = csv.reader(csvfile) \n",
        "      \n",
        "    # extracting field names through first row \n",
        "    fields = next(csvreader) \n",
        "    \n",
        "    for row in csvreader:\n",
        "      rows.append(row)\n",
        "      # get total number of rows \n",
        "      print(\"Total no. of rows: %d\"%(csvreader.line_num))\n",
        "# printing the field names \n",
        "print('Header names are:' + ', '.join(field for field in fields))\n",
        "\n",
        "#  printing first 5 rows \n",
        "print('\\nFirst 5 rows are:\\n') \n",
        "for row in rows[1:5]: \n",
        "    # parsing each column of a row \n",
        "    for col in row: \n",
        "        print(\"%10s\"%col), \n",
        "    print('\\n') \n",
        "\n"
      ],
      "metadata": {
        "colab": {
          "base_uri": "https://localhost:8080/"
        },
        "id": "2AIzq4NNKXw0",
        "outputId": "e8f300ab-4acb-4ec1-8814-5e7a2a19775e"
      },
      "execution_count": null,
      "outputs": [
        {
          "output_type": "stream",
          "name": "stdout",
          "text": [
            "Total no. of rows: 2\n",
            "Total no. of rows: 3\n",
            "Total no. of rows: 4\n",
            "Total no. of rows: 5\n",
            "Total no. of rows: 6\n",
            "Total no. of rows: 7\n",
            "Header names are:Name, Branch, Year, CGPA\n",
            "\n",
            "First 5 rows are:\n",
            "\n",
            "   Sanchit\n",
            "       COE\n",
            "      2020\n",
            "       9.1\n",
            "\n",
            "\n",
            "    Aditya\n",
            "        IT\n",
            "      2021\n",
            "       9.3\n",
            "\n",
            "\n",
            "     Sagar\n",
            "        SE\n",
            "      2021\n",
            "       9.5\n",
            "\n",
            "\n",
            "   Prateek\n",
            "       MCE\n",
            "      2020\n",
            "       7.8\n",
            "\n",
            "\n"
          ]
        }
      ]
    },
    {
      "cell_type": "code",
      "source": [
        "reader = csv.DictReader(open(\"university_records.csv\"))\n",
        "for txt in reader:\n",
        "\tprint(txt)\n"
      ],
      "metadata": {
        "colab": {
          "base_uri": "https://localhost:8080/"
        },
        "id": "YM3BbG0ZLO7M",
        "outputId": "01c7dee7-d254-44a6-c0f0-f936feca3b7e"
      },
      "execution_count": null,
      "outputs": [
        {
          "output_type": "stream",
          "name": "stdout",
          "text": [
            "OrderedDict([('Name', 'Nikhil'), ('Branch', 'COE'), ('Year', '2021'), ('CGPA', '9.0')])\n",
            "OrderedDict([('Name', 'Sanchit'), ('Branch', 'COE'), ('Year', '2020'), ('CGPA', '9.1')])\n",
            "OrderedDict([('Name', 'Aditya'), ('Branch', 'IT'), ('Year', '2021'), ('CGPA', '9.3')])\n",
            "OrderedDict([('Name', 'Sagar'), ('Branch', 'SE'), ('Year', '2021'), ('CGPA', '9.5')])\n",
            "OrderedDict([('Name', 'Prateek'), ('Branch', 'MCE'), ('Year', '2020'), ('CGPA', '7.8')])\n",
            "OrderedDict([('Name', 'Sahil'), ('Branch', 'EP'), ('Year', '2019'), ('CGPA', '9.1')])\n"
          ]
        }
      ]
    },
    {
      "cell_type": "code",
      "source": [
        "import pandas as pd\n",
        "data=pd.read_csv(\"university_records.csv\", header=0)\n",
        "print(data)"
      ],
      "metadata": {
        "colab": {
          "base_uri": "https://localhost:8080/"
        },
        "id": "rwuMJaMZMgzo",
        "outputId": "c3c25493-8c81-4d44-d7fa-81d2b45712d4"
      },
      "execution_count": null,
      "outputs": [
        {
          "output_type": "stream",
          "name": "stdout",
          "text": [
            "      Name Branch  Year  CGPA\n",
            "0   Nikhil    COE  2021   9.0\n",
            "1  Sanchit    COE  2020   9.1\n",
            "2   Aditya     IT  2021   9.3\n",
            "3    Sagar     SE  2021   9.5\n",
            "4  Prateek    MCE  2020   7.8\n",
            "5    Sahil     EP  2019   9.1\n"
          ]
        }
      ]
    },
    {
      "cell_type": "code",
      "source": [
        "data=pd.read_csv(\"university_records.csv\", header=1)\n",
        "print(data)"
      ],
      "metadata": {
        "colab": {
          "base_uri": "https://localhost:8080/"
        },
        "id": "ollBuBdRMurO",
        "outputId": "c2e36349-c890-401c-b2e4-329ba45c68b7"
      },
      "execution_count": null,
      "outputs": [
        {
          "output_type": "stream",
          "name": "stdout",
          "text": [
            "    Nikhil  COE  2021  9.0\n",
            "0  Sanchit  COE  2020  9.1\n",
            "1   Aditya   IT  2021  9.3\n",
            "2    Sagar   SE  2021  9.5\n",
            "3  Prateek  MCE  2020  7.8\n",
            "4    Sahil   EP  2019  9.1\n"
          ]
        }
      ]
    },
    {
      "cell_type": "code",
      "source": [
        "#get the shape of the matrix(data)\n",
        "data=pd.read_csv(\"university_records.csv\", header=0)\n",
        "print(data.shape)\n",
        "print(data.columns)\n",
        "print(data.dtypes)"
      ],
      "metadata": {
        "colab": {
          "base_uri": "https://localhost:8080/"
        },
        "id": "IuAHvuOBM0q1",
        "outputId": "5fab07e0-fa28-4fdf-cc65-e3cd6a335f62"
      },
      "execution_count": null,
      "outputs": [
        {
          "output_type": "stream",
          "name": "stdout",
          "text": [
            "(6, 4)\n",
            "Index(['Name', 'Branch', 'Year', 'CGPA'], dtype='object')\n",
            "Name       object\n",
            "Branch     object\n",
            "Year        int64\n",
            "CGPA      float64\n",
            "dtype: object\n"
          ]
        }
      ]
    },
    {
      "cell_type": "code",
      "source": [
        "#add own headers\n",
        "import pandas as pd \n",
        "data=pd.read_csv(\"university_records.csv\",skiprows=1, names=['SName', 'Course', 'Duration', 'Score']) \n",
        "print(data) "
      ],
      "metadata": {
        "colab": {
          "base_uri": "https://localhost:8080/"
        },
        "id": "RnH_2JYxU2Rb",
        "outputId": "cdde807b-09ce-4b83-8deb-7955b73de14f"
      },
      "execution_count": null,
      "outputs": [
        {
          "output_type": "stream",
          "name": "stdout",
          "text": [
            "     SName Course  Duration  Score\n",
            "0   Nikhil    COE      2021    9.0\n",
            "1  Sanchit    COE      2020    9.1\n",
            "2   Aditya     IT      2021    9.3\n",
            "3    Sagar     SE      2021    9.5\n",
            "4  Prateek    MCE      2020    7.8\n",
            "5    Sahil     EP      2019    9.1\n"
          ]
        }
      ]
    },
    {
      "cell_type": "code",
      "source": [
        "#skip the rows and retain headers\n",
        "data=pd.read_csv(\"university_records.csv\",skiprows=[1,2]) \n",
        "print(data) "
      ],
      "metadata": {
        "colab": {
          "base_uri": "https://localhost:8080/"
        },
        "id": "E9tb_e8iV1vV",
        "outputId": "13a52209-0adb-4666-a23c-40c0870b4165"
      },
      "execution_count": null,
      "outputs": [
        {
          "output_type": "stream",
          "name": "stdout",
          "text": [
            "      Name Branch  Year  CGPA\n",
            "0   Aditya     IT  2021   9.3\n",
            "1    Sagar     SE  2021   9.5\n",
            "2  Prateek    MCE  2020   7.8\n",
            "3    Sahil     EP  2019   9.1\n"
          ]
        }
      ]
    },
    {
      "cell_type": "code",
      "source": [
        "data=pd.read_csv(\"university_records.csv\",header=None) \n",
        "print(data) "
      ],
      "metadata": {
        "colab": {
          "base_uri": "https://localhost:8080/"
        },
        "id": "_MVEatiTWFHp",
        "outputId": "7c728a2d-9f13-4514-ebef-e6e2b8c517df"
      },
      "execution_count": null,
      "outputs": [
        {
          "output_type": "stream",
          "name": "stdout",
          "text": [
            "         0       1     2     3\n",
            "0     Name  Branch  Year  CGPA\n",
            "1   Nikhil     COE  2021   9.0\n",
            "2  Sanchit     COE  2020   9.1\n",
            "3   Aditya      IT  2021   9.3\n",
            "4    Sagar      SE  2021   9.5\n",
            "5  Prateek     MCE  2020   7.8\n",
            "6    Sahil      EP  2019   9.1\n"
          ]
        }
      ]
    },
    {
      "cell_type": "code",
      "source": [
        "#Add Prefix to column names\n",
        "data=pd.read_csv(\"university_records.csv\",header=None, prefix='var') \n",
        "print(data) "
      ],
      "metadata": {
        "colab": {
          "base_uri": "https://localhost:8080/"
        },
        "id": "XSj77BgAWySY",
        "outputId": "a39c6092-ae70-4d5c-f454-a5b9baaf5302"
      },
      "execution_count": null,
      "outputs": [
        {
          "output_type": "stream",
          "name": "stdout",
          "text": [
            "      var0    var1  var2  var3\n",
            "0     Name  Branch  Year  CGPA\n",
            "1   Nikhil     COE  2021   9.0\n",
            "2  Sanchit     COE  2020   9.1\n",
            "3   Aditya      IT  2021   9.3\n",
            "4    Sagar      SE  2021   9.5\n",
            "5  Prateek     MCE  2020   7.8\n",
            "6    Sahil      EP  2019   9.1\n"
          ]
        }
      ]
    },
    {
      "cell_type": "code",
      "source": [
        "# field names \n",
        "fields = ['Name', 'Branch', 'Year', 'CGPA'] \n",
        "  \n",
        "# data rows of csv file \n",
        "rows = [ ['Nikhil', 'COE', '2021', '9.0'], \n",
        "         ['Sanchit', 'COE', '2020', '9.1'], \n",
        "         ['Aditya', 'IT', '2021', ' '], \n",
        "         ['Sagar', 'SE', '2021', '9.5'], \n",
        "         ['Prateek', 'MCE', 'nan', '7.8'], \n",
        "         ['Sahil', 'EP', '2019', '9.1']] \n",
        "  \n",
        "# name of csv file \n",
        "filename = \"university_records2.csv\"\n",
        "\n",
        "# writing to csv file \n",
        "with open(filename, 'w') as csvfile: \n",
        "    # creating a csv writer object \n",
        "    csvwriter = csv.writer(csvfile)      \n",
        "    # writing the headers \n",
        "    csvwriter.writerow(fields) \n",
        "    # writing the data rows \n",
        "    csvwriter.writerows(rows)"
      ],
      "metadata": {
        "id": "1Zfy0PaKXK_h"
      },
      "execution_count": null,
      "outputs": []
    },
    {
      "cell_type": "code",
      "source": [
        "data=pd.read_csv(\"university_records2.csv\",header=None, na_values=\"-\") \n",
        "print(data)\n"
      ],
      "metadata": {
        "colab": {
          "base_uri": "https://localhost:8080/"
        },
        "id": "_0t-QVQZXtv1",
        "outputId": "d127846e-8234-440a-b590-f46ea00a7655"
      },
      "execution_count": null,
      "outputs": [
        {
          "output_type": "stream",
          "name": "stdout",
          "text": [
            "         0       1     2     3\n",
            "0     Name  Branch  Year  CGPA\n",
            "1   Nikhil     COE  2021   9.0\n",
            "2  Sanchit     COE  2020   9.1\n",
            "3   Aditya      IT  2021      \n",
            "4    Sagar      SE  2021   9.5\n",
            "5  Prateek     MCE   NaN   7.8\n",
            "6    Sahil      EP  2019   9.1\n"
          ]
        }
      ]
    },
    {
      "cell_type": "code",
      "source": [
        "print(type(data))"
      ],
      "metadata": {
        "colab": {
          "base_uri": "https://localhost:8080/"
        },
        "id": "yEp8t7GyYatL",
        "outputId": "cb3b6309-c3a9-4aae-bcdd-9886ad9a2897"
      },
      "execution_count": null,
      "outputs": [
        {
          "output_type": "stream",
          "name": "stdout",
          "text": [
            "<class 'pandas.core.frame.DataFrame'>\n"
          ]
        }
      ]
    },
    {
      "cell_type": "code",
      "source": [
        "#reading CSV file from a url\n",
        "medals = pd.read_csv(\"http://winterolympicsmedals.com/medals.csv\")\n",
        "print(medals)\n"
      ],
      "metadata": {
        "colab": {
          "base_uri": "https://localhost:8080/"
        },
        "id": "Zm1DH2UVYuvB",
        "outputId": "078b6e8c-f7e4-424d-ad66-48542f0bb210"
      },
      "execution_count": null,
      "outputs": [
        {
          "output_type": "stream",
          "name": "stdout",
          "text": [
            "      Year      City       Sport  ...            Event Event gender   Medal\n",
            "0     1924  Chamonix     Skating  ...       individual            M  Silver\n",
            "1     1924  Chamonix     Skating  ...       individual            W    Gold\n",
            "2     1924  Chamonix     Skating  ...            pairs            X    Gold\n",
            "3     1924  Chamonix   Bobsleigh  ...         four-man            M  Bronze\n",
            "4     1924  Chamonix  Ice Hockey  ...       ice hockey            M    Gold\n",
            "...    ...       ...         ...  ...              ...          ...     ...\n",
            "2306  2006     Turin      Skiing  ...        Half-pipe            M  Silver\n",
            "2307  2006     Turin      Skiing  ...        Half-pipe            W    Gold\n",
            "2308  2006     Turin      Skiing  ...        Half-pipe            W  Silver\n",
            "2309  2006     Turin      Skiing  ...  Snowboard Cross            M    Gold\n",
            "2310  2006     Turin      Skiing  ...  Snowboard Cross            W  Silver\n",
            "\n",
            "[2311 rows x 8 columns]\n"
          ]
        }
      ]
    },
    {
      "cell_type": "code",
      "source": [
        "#skip last 5 rows\n",
        "medals = pd.read_csv(\"http://winterolympicsmedals.com/medals.csv\", skipfooter=5) \n",
        "print(medals) "
      ],
      "metadata": {
        "colab": {
          "base_uri": "https://localhost:8080/"
        },
        "id": "C1CqSi86aXCR",
        "outputId": "6b43adbf-5838-4db4-a703-b136c514f819"
      },
      "execution_count": null,
      "outputs": [
        {
          "output_type": "stream",
          "name": "stdout",
          "text": [
            "      Year      City       Sport  ...                  Event Event gender   Medal\n",
            "0     1924  Chamonix     Skating  ...             individual            M  Silver\n",
            "1     1924  Chamonix     Skating  ...             individual            W    Gold\n",
            "2     1924  Chamonix     Skating  ...                  pairs            X    Gold\n",
            "3     1924  Chamonix   Bobsleigh  ...               four-man            M  Bronze\n",
            "4     1924  Chamonix  Ice Hockey  ...             ice hockey            M    Gold\n",
            "...    ...       ...         ...  ...                    ...          ...     ...\n",
            "2301  2006     Turin      Skiing  ...        Alpine combined            M    Gold\n",
            "2302  2006     Turin      Skiing  ...           giant slalom            W    Gold\n",
            "2303  2006     Turin      Skiing  ...                 moguls            M  Bronze\n",
            "2304  2006     Turin      Skiing  ...  Giant parallel slalom            W  Bronze\n",
            "2305  2006     Turin      Skiing  ...              Half-pipe            M    Gold\n",
            "\n",
            "[2306 rows x 8 columns]\n"
          ]
        },
        {
          "output_type": "stream",
          "name": "stderr",
          "text": [
            "/usr/local/lib/python3.7/dist-packages/ipykernel_launcher.py:2: ParserWarning: Falling back to the 'python' engine because the 'c' engine does not support skipfooter; you can avoid this warning by specifying engine='python'.\n",
            "  \n"
          ]
        }
      ]
    },
    {
      "cell_type": "code",
      "source": [
        "#Read few rows\n",
        "medals = pd.read_csv(\"http://winterolympicsmedals.com/medals.csv\", nrows=5) \n",
        "print(medals) "
      ],
      "metadata": {
        "colab": {
          "base_uri": "https://localhost:8080/"
        },
        "id": "JRpxXcYCanKc",
        "outputId": "cbbb3042-c3a5-490d-edf5-7a1319344cfd"
      },
      "execution_count": null,
      "outputs": [
        {
          "output_type": "stream",
          "name": "stdout",
          "text": [
            "   Year      City       Sport  ...       Event Event gender   Medal\n",
            "0  1924  Chamonix     Skating  ...  individual            M  Silver\n",
            "1  1924  Chamonix     Skating  ...  individual            W    Gold\n",
            "2  1924  Chamonix     Skating  ...       pairs            X    Gold\n",
            "3  1924  Chamonix   Bobsleigh  ...    four-man            M  Bronze\n",
            "4  1924  Chamonix  Ice Hockey  ...  ice hockey            M    Gold\n",
            "\n",
            "[5 rows x 8 columns]\n"
          ]
        }
      ]
    },
    {
      "cell_type": "code",
      "source": [
        "#read specific column\n",
        "\n",
        "medals = pd.read_csv(\"http://winterolympicsmedals.com/medals.csv\", usecols=[1,5,7]) \n",
        "print(medals) "
      ],
      "metadata": {
        "colab": {
          "base_uri": "https://localhost:8080/"
        },
        "id": "tu26awSgbvqS",
        "outputId": "116748a9-9cb4-4bbd-ffee-bcc6a746bfe7"
      },
      "execution_count": null,
      "outputs": [
        {
          "output_type": "stream",
          "name": "stdout",
          "text": [
            "          City            Event   Medal\n",
            "0     Chamonix       individual  Silver\n",
            "1     Chamonix       individual    Gold\n",
            "2     Chamonix            pairs    Gold\n",
            "3     Chamonix         four-man  Bronze\n",
            "4     Chamonix       ice hockey    Gold\n",
            "...        ...              ...     ...\n",
            "2306     Turin        Half-pipe  Silver\n",
            "2307     Turin        Half-pipe    Gold\n",
            "2308     Turin        Half-pipe  Silver\n",
            "2309     Turin  Snowboard Cross    Gold\n",
            "2310     Turin  Snowboard Cross  Silver\n",
            "\n",
            "[2311 rows x 3 columns]\n"
          ]
        }
      ]
    },
    {
      "cell_type": "code",
      "source": [
        "#time taken to read the file\n",
        "\n",
        "medals = pd.read_csv(\"http://winterolympicsmedals.com/medals.csv\", verbose=True) \n",
        "print(medals) "
      ],
      "metadata": {
        "colab": {
          "base_uri": "https://localhost:8080/"
        },
        "id": "Y5Fv_tQib7QA",
        "outputId": "ea5c6b89-7c12-4d15-f1b0-a55e1dd39bf8"
      },
      "execution_count": null,
      "outputs": [
        {
          "output_type": "stream",
          "name": "stdout",
          "text": [
            "Tokenization took: 0.73 ms\n",
            "Type conversion took: 2.49 ms\n",
            "Parser memory cleanup took: 0.01 ms\n",
            "      Year      City       Sport  ...            Event Event gender   Medal\n",
            "0     1924  Chamonix     Skating  ...       individual            M  Silver\n",
            "1     1924  Chamonix     Skating  ...       individual            W    Gold\n",
            "2     1924  Chamonix     Skating  ...            pairs            X    Gold\n",
            "3     1924  Chamonix   Bobsleigh  ...         four-man            M  Bronze\n",
            "4     1924  Chamonix  Ice Hockey  ...       ice hockey            M    Gold\n",
            "...    ...       ...         ...  ...              ...          ...     ...\n",
            "2306  2006     Turin      Skiing  ...        Half-pipe            M  Silver\n",
            "2307  2006     Turin      Skiing  ...        Half-pipe            W    Gold\n",
            "2308  2006     Turin      Skiing  ...        Half-pipe            W  Silver\n",
            "2309  2006     Turin      Skiing  ...  Snowboard Cross            M    Gold\n",
            "2310  2006     Turin      Skiing  ...  Snowboard Cross            W  Silver\n",
            "\n",
            "[2311 rows x 8 columns]\n"
          ]
        }
      ]
    },
    {
      "cell_type": "code",
      "source": [
        "#read the file with delimiters\n",
        "medals = pd.read_csv(\"university_dict.csv\", sep=\":\") \n",
        "print(medals) "
      ],
      "metadata": {
        "colab": {
          "base_uri": "https://localhost:8080/"
        },
        "id": "l1WRgHbZcQM4",
        "outputId": "eb400ae4-3a89-44d9-cffa-743fb8c54a0e"
      },
      "execution_count": null,
      "outputs": [
        {
          "output_type": "stream",
          "name": "stdout",
          "text": [
            "  name,branch,year,cgpa\n",
            "0   Nikhil,COE,2020,9.0\n",
            "1  Sanchit,COE,2021,9.1\n",
            "2    Aditya,IT,2020,9.3\n",
            "3     Sagar,SE,2021,9.5\n",
            "4  Prateek,MCE,2021,7.8\n",
            "5     Sahil,EP,2019,9.1\n"
          ]
        }
      ]
    },
    {
      "cell_type": "code",
      "source": [
        "#change column type while importing data\n",
        "data = pd.read_csv(\"university_dict.csv\", dtype={\"year\":\"float64\"}) \n",
        "print(data) "
      ],
      "metadata": {
        "colab": {
          "base_uri": "https://localhost:8080/"
        },
        "id": "8_iqFbbzcccY",
        "outputId": "11e3192f-fbbe-46da-e7dc-29eb8178c96d"
      },
      "execution_count": null,
      "outputs": [
        {
          "output_type": "stream",
          "name": "stdout",
          "text": [
            "      name branch    year  cgpa\n",
            "0   Nikhil    COE  2020.0   9.0\n",
            "1  Sanchit    COE  2021.0   9.1\n",
            "2   Aditya     IT  2020.0   9.3\n",
            "3    Sagar     SE  2021.0   9.5\n",
            "4  Prateek    MCE  2021.0   7.8\n",
            "5    Sahil     EP  2019.0   9.1\n"
          ]
        }
      ]
    },
    {
      "cell_type": "markdown",
      "source": [
        "# **Read PDF files**"
      ],
      "metadata": {
        "id": "jb5EVhNpc9Um"
      }
    },
    {
      "cell_type": "code",
      "source": [
        "!pip install PyPDF2"
      ],
      "metadata": {
        "colab": {
          "base_uri": "https://localhost:8080/"
        },
        "id": "FPLmXk40czod",
        "outputId": "8dd56ef0-4219-43a1-d47d-479258c2c219"
      },
      "execution_count": null,
      "outputs": [
        {
          "output_type": "stream",
          "name": "stdout",
          "text": [
            "Collecting PyPDF2\n",
            "  Downloading PyPDF2-1.26.0.tar.gz (77 kB)\n",
            "\u001b[?25l\r\u001b[K     |████▎                           | 10 kB 24.9 MB/s eta 0:00:01\r\u001b[K     |████████▌                       | 20 kB 29.6 MB/s eta 0:00:01\r\u001b[K     |████████████▊                   | 30 kB 14.9 MB/s eta 0:00:01\r\u001b[K     |█████████████████               | 40 kB 10.9 MB/s eta 0:00:01\r\u001b[K     |█████████████████████▏          | 51 kB 7.2 MB/s eta 0:00:01\r\u001b[K     |█████████████████████████▍      | 61 kB 7.6 MB/s eta 0:00:01\r\u001b[K     |█████████████████████████████▋  | 71 kB 7.2 MB/s eta 0:00:01\r\u001b[K     |████████████████████████████████| 77 kB 4.0 MB/s \n",
            "\u001b[?25hBuilding wheels for collected packages: PyPDF2\n",
            "  Building wheel for PyPDF2 (setup.py) ... \u001b[?25l\u001b[?25hdone\n",
            "  Created wheel for PyPDF2: filename=PyPDF2-1.26.0-py3-none-any.whl size=61102 sha256=a1c908a32a75584b0300bcbd6aa91ec4aeaa2f5f27faf204724c9f708ea8782a\n",
            "  Stored in directory: /root/.cache/pip/wheels/80/1a/24/648467ade3a77ed20f35cfd2badd32134e96dd25ca811e64b3\n",
            "Successfully built PyPDF2\n",
            "Installing collected packages: PyPDF2\n",
            "Successfully installed PyPDF2-1.26.0\n"
          ]
        }
      ]
    },
    {
      "cell_type": "code",
      "source": [
        "import PyPDF2\n",
        "pdfName = \"AI.pdf\"\n",
        "read_pdf = PyPDF2.PdfFileReader(pdfName) \n",
        "page = read_pdf.getPage(0) \n",
        "page_content = page.extractText() \n",
        "print(page_content) \n"
      ],
      "metadata": {
        "colab": {
          "base_uri": "https://localhost:8080/"
        },
        "id": "IBIVaJcYdKPH",
        "outputId": "b32c3dbf-0315-4afd-e01d-7317a907e978"
      },
      "execution_count": null,
      "outputs": [
        {
          "output_type": "stream",
          "name": "stdout",
          "text": [
            "Artificial Intelligence\n",
            " \n",
            " \n",
            "Artificial Intelligence refers to the intelligence displayed by computers. In today's world, \n",
            "Artificial Intelligence has become highly popular. It is the replication of human intelligence in \n",
            "computers that have been programmed to learn and replicate human \n",
            "activities. These computers \n",
            "can learn from their mistakes and do human\n",
            "-\n",
            "like jobs. Artificial intelligence (AI) will have a \n",
            "significant influence on our quality of life as it develops. It's only natural that everyone \n",
            "nowadays wants to engage with AI technol\n",
            "ogy in some way, whether as a consumer or as a \n",
            "professional in the field.\n",
            " \n",
            " \n",
            "What is Intelligence\n",
            "?\n",
            " \n",
            "Calculation, reasoning, perceiving relationships and analogies, learning from experience, \n",
            "storing and retrieving information from memory, solving problems, comprehending complex \n",
            "ideas\n",
            ", fluently using natural language, classifying, generalising, and adapting to new situations \n",
            "are all capabilities of a system.\n",
            " \n",
            " \n",
            "Types\n",
            " \n",
            "Intelligence occurs in many forms, according to Howard Gardner, an American developmental \n",
            "psychologist\n",
            ":\n",
            " \n",
            " \n",
            "Sr.No\n",
            " \n",
            "Intelligence & Description\n",
            " \n",
            "Example\n",
            " \n",
            "1\n",
            " \n",
            "L\n",
            "inguistic\n",
            " \n",
            "The capacity to communicate, identify, and employ \n",
            "phonology (speech sounds), syntax (grammar), and \n",
            "semantics systems (meaning).\n",
            " \n",
            "Orators and \n",
            "Narrators\n",
            " \n",
            "2\n",
            " \n",
            "Musical\n",
            " \n",
            "The ability to create, com\n",
            "municate with, and understand \n",
            "meanings made of sound, understanding of pitch, rhythm.\n",
            " \n",
            "Composers, singers, \n",
            "and musicians\n",
            " \n",
            "3\n",
            " \n",
            "Logical\n",
            " \n",
            "The ability to use and understand relationships in the \n",
            "absence of action or objects. It is also the ability to \n",
            "understand complex and abstract ideas.\n",
            " \n",
            "Mathematicians, \n",
            "Scientists\n",
            " \n",
            "4\n",
            " \n",
            "Spatial\n",
            " \n",
            "The ability to perceive visual or spatial information, \n",
            "change it, and re\n",
            "-\n",
            "create visual images without reference \n",
            "to the objects, construct 3D images, and to move and \n",
            "rotate them.\n",
            " \n",
            "Map readers, \n",
            "Astronauts, \n",
            "Physicists\n",
            " \n",
            "\n"
          ]
        }
      ]
    },
    {
      "cell_type": "code",
      "source": [
        "for i in range(read_pdf.getNumPages()):\n",
        "  page = read_pdf.getPage(i) \n",
        "  print('Page No - ' + str(1+read_pdf.getPageNumber(page))) \n",
        "  page_content = page.extractText() \n",
        "  print(page_content) "
      ],
      "metadata": {
        "colab": {
          "base_uri": "https://localhost:8080/"
        },
        "id": "AWGKVcd2dzD_",
        "outputId": "2fe536c4-4e87-4332-bf93-3315232bdc93"
      },
      "execution_count": null,
      "outputs": [
        {
          "output_type": "stream",
          "name": "stdout",
          "text": [
            "Page No - 1\n",
            "Artificial Intelligence\n",
            " \n",
            " \n",
            "Artificial Intelligence refers to the intelligence displayed by computers. In today's world, \n",
            "Artificial Intelligence has become highly popular. It is the replication of human intelligence in \n",
            "computers that have been programmed to learn and replicate human \n",
            "activities. These computers \n",
            "can learn from their mistakes and do human\n",
            "-\n",
            "like jobs. Artificial intelligence (AI) will have a \n",
            "significant influence on our quality of life as it develops. It's only natural that everyone \n",
            "nowadays wants to engage with AI technol\n",
            "ogy in some way, whether as a consumer or as a \n",
            "professional in the field.\n",
            " \n",
            " \n",
            "What is Intelligence\n",
            "?\n",
            " \n",
            "Calculation, reasoning, perceiving relationships and analogies, learning from experience, \n",
            "storing and retrieving information from memory, solving problems, comprehending complex \n",
            "ideas\n",
            ", fluently using natural language, classifying, generalising, and adapting to new situations \n",
            "are all capabilities of a system.\n",
            " \n",
            " \n",
            "Types\n",
            " \n",
            "Intelligence occurs in many forms, according to Howard Gardner, an American developmental \n",
            "psychologist\n",
            ":\n",
            " \n",
            " \n",
            "Sr.No\n",
            " \n",
            "Intelligence & Description\n",
            " \n",
            "Example\n",
            " \n",
            "1\n",
            " \n",
            "L\n",
            "inguistic\n",
            " \n",
            "The capacity to communicate, identify, and employ \n",
            "phonology (speech sounds), syntax (grammar), and \n",
            "semantics systems (meaning).\n",
            " \n",
            "Orators and \n",
            "Narrators\n",
            " \n",
            "2\n",
            " \n",
            "Musical\n",
            " \n",
            "The ability to create, com\n",
            "municate with, and understand \n",
            "meanings made of sound, understanding of pitch, rhythm.\n",
            " \n",
            "Composers, singers, \n",
            "and musicians\n",
            " \n",
            "3\n",
            " \n",
            "Logical\n",
            " \n",
            "The ability to use and understand relationships in the \n",
            "absence of action or objects. It is also the ability to \n",
            "understand complex and abstract ideas.\n",
            " \n",
            "Mathematicians, \n",
            "Scientists\n",
            " \n",
            "4\n",
            " \n",
            "Spatial\n",
            " \n",
            "The ability to perceive visual or spatial information, \n",
            "change it, and re\n",
            "-\n",
            "create visual images without reference \n",
            "to the objects, construct 3D images, and to move and \n",
            "rotate them.\n",
            " \n",
            "Map readers, \n",
            "Astronauts, \n",
            "Physicists\n",
            " \n",
            "\n",
            "Page No - 2\n",
            "5\n",
            " \n",
            "Bodily\n",
            "-\n",
            "Kinaesthetic\n",
            " \n",
            "The ability to use complete or part of the body to solve \n",
            "probl\n",
            "ems or fashion products, control over fine and coarse \n",
            "motor skills, and manipulate the objects.\n",
            " \n",
            "Players, Dancers\n",
            " \n",
            "6\n",
            " \n",
            "Intra\n",
            "-\n",
            "personal\n",
            " \n",
            "\n",
            "intentions, and motivations.\n",
            " \n",
            "Gautam Buddhha\n",
            " \n",
            "7\n",
            " \n",
            "Interpersona\n",
            "l\n",
            " \n",
            "The ability to recognize and make distinctions among \n",
            "\n",
            " \n",
            "Mass \n",
            "Communicators, \n",
            "Interviewers\n",
            " \n",
            "You can say a machine or a system is artificially intelligent when it is equipped with at least \n",
            "one or all intelligences in it.\n",
            " \n",
            " \n",
            "Com\n",
            "pos\n",
            "i\n",
            "ti\n",
            "on of\n",
            " \n",
            "Intelligence\n",
            " \n",
            "1.\n",
            " \n",
            "Perception\n",
            " \n",
            "Sight, hearing, touch, taste, and smell are the five senses we all have. The world around \n",
            "us is perceived via our senses. \n",
            "Perception is\n",
            " \n",
            "the collection, interpretation, selection, and \n",
            "organisation of sensory data.\n",
            " \n",
            " \n",
            "2.\n",
            " \n",
            "Learning\n",
            " \n",
            "Humans, some types of animals, and AI\n",
            "-\n",
            "enabled systems all have the potential to learn.\n",
            " \n",
            " \n",
            "3.\n",
            " \n",
            "Reasoning\n",
            " \n",
            "Reasoning\n",
            " \n",
            "can be inductive or deductive. Inductive is bas\n",
            "ed on \n",
            "assumption\n",
            " \n",
            "and \n",
            "deductive is drawing conclusion.\n",
            " \n",
            " \n",
            "4.\n",
            " \n",
            "Linguist\n",
            "ic intelligence\n",
            " \n",
            "It refers to a person's capacity to utilise, comprehend, communicate, and wri\n",
            "te in both \n",
            "oral and written form. In interpersonal communication, it is critical.\n",
            " \n",
            " \n",
            "5.\n",
            " \n",
            "Problem solving\n",
            " \n",
            "It is the act of seeing and attempting to reach a desired solution from a current \n",
            "circums\n",
            "tance by following a path that is hindered by known or unknown obstacles.\n",
            " \n",
            " \n",
            "Problem solving also involves decision making, which is the act of picking the most \n",
            "suited alternative from a variety of options \n",
            "to\n",
            " \n",
            "achieve the intended result.\n",
            " \n",
            " \n",
            "y= f(x\n",
            ")\n",
            " \n",
            " \n",
            "H\n",
            "ow to measure that an AI machine is behaving like a human\n",
            " \n",
            "\n",
            "Page No - 3\n",
            " \n",
            " \n",
            "Turning\n",
            " \n",
            "The basis of the Turing Test is that the Artificial Intelligence entity should be able to hold a \n",
            "conversation with a human agent. The human agent ideally should not able to conclude that \n",
            "they are talking to an A\n",
            "rtificial Intelligence.\n",
            " \n",
            "Rational Agent Approach\n",
            " \n",
            "In its current situation, a rational agent acts to attain the best possible outcome. The Laws of \n",
            "Thought method states that an entity must act in accordance with logical assertions. However, \n",
            "there are also si\n",
            "tuations in which there is no logical correct thing to do, such as when \n",
            "numerous outcomes are involved, each with its own set of tradeoffs. In the rational agent \n",
            "method, the goal is to make the best decision feasible given the present situation. It means i\n",
            "t's \n",
            "a far more adaptive and dynamic agent.\n",
            " \n",
            "Cognitive\n",
            " \n",
            "As the name suggests, this approach tries to build an Artificial Intelligence model based on \n",
            "Human Cognition. To distil the essence of the human mind, there are 3 approaches:\n",
            " \n",
            "1.\n",
            " \n",
            "Introspection: observing our thoughts, and building a model based on that\n",
            " \n",
            "2.\n",
            " \n",
            "Psychol\n",
            "ogical Experiments: conducting experiments on humans and observing their \n",
            "behaviour\n",
            " \n",
            "\n",
            "Page No - 4\n",
            "3.\n",
            " \n",
            "Brain Imaging: Using MRI to observe how the brain functions in different scenarios \n",
            "and replicating that through code.\n",
            " \n",
            "Law of Thought\n",
            " \n",
            "The Laws of Thought are a set of logical\n",
            " \n",
            "assertions that regulate how our minds work. \n",
            "Artificial intelligence algorithms may be codified and implemented using the same laws. The \n",
            "problems with this technique arise from the fact that addressing a problem in theory (strictly \n",
            "according to the rules \n",
            "of thinking) and solving it in practise might be extremely different, \n",
            "necessitating the application of contextual subtleties. Also, if there are too many parameters, \n",
            "an algorithm might not be able to reproduce some activities that we conduct without being \n",
            "100 percent confident of the outcome.\n",
            " \n",
            "Types of AI\n",
            " \n",
            " \n",
            " \n",
            " \n",
            "\n",
            "Page No - 5\n",
            "Artificial N\n",
            "a\n",
            "rrow \n",
            "Intelligence (\n",
            "ANI\n",
            ")\n",
            " \n",
            "This is the most popular type of AI on the market right now. These Artificial Intelligence \n",
            "systems are intended to address a specific problem and \n",
            "can do\n",
            " \n",
            "a single task very effectively.\n",
            " \n",
            "They have limited \n",
            "capabilities, such\n",
            " \n",
            "as recommending a product to an e\n",
            "-\n",
            "commerce consumer\n",
            " \n",
            "or forecasting the weather. This is the only type of artificial intelligence currently available.\n",
            " \n",
            "They can mimic, and in\n",
            " \n",
            "some cases even outperform, human performance in very narrow\n",
            " \n",
            "situations, but only in tightly controlled circumstances with a limited range of parameters.\n",
            " \n",
            "Artificial General Intelligence (\n",
            "AGI\n",
            ")\n",
            " \n",
            "AGI is still an idea under development. It's characterised as AI with a human\n",
            "-\n",
            "level of cognitive \n",
            "function in a range of disciplines, including language processing, picture processing, \n",
            "computational reasoning, and so on.\n",
            " \n",
            "We're still a long way from developing an artificial intelligence system. To emulate human \n",
            "reasoning, an AGI system would need to be \n",
            "made up of thousands of Artificial Narrow \n",
            "Intelligence systems functioning in unison and interacting with one another. It took them 40 \n",
            "minutes to mimic a single second of neural activity using the most modern computing \n",
            "systems and infrastructures, such as \n",
            "Fujitsu's K or IBM's Watson.\n",
            " \n",
            "ASI\n",
            " \n",
            "Although we're approaching science fiction territory, ASI is viewed as the natural next step \n",
            "after AGI. A system of Artificial Super Intelligence (ASI) would be able to outperform \n",
            "humans in every way. This would involve thi\n",
            "ngs like generating better art and developing \n",
            "emotional relationships, as well as decision\n",
            "-\n",
            "making and rational decision\n",
            "-\n",
            "making.\n",
            " \n",
            " \n",
            "\n"
          ]
        }
      ]
    },
    {
      "cell_type": "code",
      "source": [
        "#display information of the file\n",
        "\n",
        "with open(pdfName, 'rb') as f: \n",
        "        pdf = PyPDF2.PdfFileReader(f) \n",
        "        info = pdf.getDocumentInfo() \n",
        "        number_of_pages = pdf.getNumPages() \n",
        "\n",
        "print(info) \n",
        "author = info.author \n",
        "creator = info.creator \n",
        "producer = info.producer \n",
        "subject = info.subject \n",
        "title = info.title \n",
        "print(author)\n",
        "print(creator)\n",
        "print(producer)\n",
        "print(subject)\n",
        "print(title)"
      ],
      "metadata": {
        "colab": {
          "base_uri": "https://localhost:8080/"
        },
        "id": "C-uMnbateWc6",
        "outputId": "764b34a4-f88f-4868-b736-4215df8b6513"
      },
      "execution_count": null,
      "outputs": [
        {
          "output_type": "stream",
          "name": "stdout",
          "text": [
            "{'/Author': 'Anuj Saxena', '/Creator': 'Microsoft® Word for Microsoft 365', '/CreationDate': \"D:20220121194836+05'30'\", '/ModDate': \"D:20220121194836+05'30'\", '/Producer': 'Microsoft® Word for Microsoft 365'}\n",
            "Anuj Saxena\n",
            "Microsoft® Word for Microsoft 365\n",
            "Microsoft® Word for Microsoft 365\n",
            "None\n",
            "None\n"
          ]
        }
      ]
    },
    {
      "cell_type": "code",
      "source": [
        "import os #operating system\n",
        "from PyPDF2 import PdfFileReader, PdfFileWriter  \n",
        "\n",
        "pdfName = 'AI.pdf' \n",
        "fname = os.path.splitext(os.path.basename(pdfName))[0] \n",
        "pdf = PdfFileReader(pdfName) \n",
        "for page in range(pdf.getNumPages()): \n",
        "        pdf_writer = PdfFileWriter() \n",
        "        pdf_writer.addPage(pdf.getPage(page)) \n",
        "        output_filename = '{}_page_{}.pdf'.format(fname, page+1) \n",
        "\n",
        "        with open(output_filename, 'wb') as out: \n",
        "            pdf_writer.write(out) \n",
        "        print('Created: {}'.format(output_filename)) "
      ],
      "metadata": {
        "colab": {
          "base_uri": "https://localhost:8080/"
        },
        "id": "MNHS0B7ue1Ww",
        "outputId": "8fdecb09-b920-455d-fddc-8ce9aaf2add8"
      },
      "execution_count": null,
      "outputs": [
        {
          "output_type": "stream",
          "name": "stdout",
          "text": [
            "Created: AI_page_1.pdf\n",
            "Created: AI_page_2.pdf\n",
            "Created: AI_page_3.pdf\n",
            "Created: AI_page_4.pdf\n",
            "Created: AI_page_5.pdf\n"
          ]
        }
      ]
    },
    {
      "cell_type": "markdown",
      "source": [
        "# **Read / Write a DOCX file**"
      ],
      "metadata": {
        "id": "oAAbye_kgAHl"
      }
    },
    {
      "cell_type": "code",
      "source": [
        "!pip install python-docx"
      ],
      "metadata": {
        "colab": {
          "base_uri": "https://localhost:8080/"
        },
        "id": "FC_BtRVkf46z",
        "outputId": "ee4d0f4a-4df6-4d7a-a3ac-e835e9f69b36"
      },
      "execution_count": null,
      "outputs": [
        {
          "output_type": "stream",
          "name": "stdout",
          "text": [
            "Collecting python-docx\n",
            "  Downloading python-docx-0.8.11.tar.gz (5.6 MB)\n",
            "\u001b[K     |████████████████████████████████| 5.6 MB 6.6 MB/s \n",
            "\u001b[?25hRequirement already satisfied: lxml>=2.3.2 in /usr/local/lib/python3.7/dist-packages (from python-docx) (4.2.6)\n",
            "Building wheels for collected packages: python-docx\n",
            "  Building wheel for python-docx (setup.py) ... \u001b[?25l\u001b[?25hdone\n",
            "  Created wheel for python-docx: filename=python_docx-0.8.11-py3-none-any.whl size=184507 sha256=742ba82f2527807630814ae76a1ed0ec91b7ddd6adb55bb39df4a680fd5f987c\n",
            "  Stored in directory: /root/.cache/pip/wheels/f6/6f/b9/d798122a8b55b74ad30b5f52b01482169b445fbb84a11797a6\n",
            "Successfully built python-docx\n",
            "Installing collected packages: python-docx\n",
            "Successfully installed python-docx-0.8.11\n"
          ]
        }
      ]
    },
    {
      "cell_type": "code",
      "source": [
        "import docx\n",
        "#create an instance\n",
        "doc = docx.Document()\n",
        "doc.add_heading('My document file using Python', 0)\n",
        "#add a paragraph\n",
        "doc_p = doc.add_paragraph(\"We are adding a pragraph in the document\")\n",
        "\n",
        "#add_run to add bold, italics, undeline\n",
        "doc_p.add_run(\"We will make the text bold\").bold=True\n",
        "doc_p.add_run(', and')\n",
        "doc_p.add_run(\"This text will be italic\").italic = True\n",
        "\n",
        "#break the page\n",
        "doc.add_page_break()\n",
        "\n",
        "#add level 2 heading\n",
        "doc.add_heading(\"First heading level 1\", 1)\n",
        "doc.add_heading(\"Second heading level 2\", 2)\n",
        "\n",
        "#save the file\n",
        "doc.save(\"test1.docx\")"
      ],
      "metadata": {
        "id": "Su5V-sGwgMA0"
      },
      "execution_count": null,
      "outputs": []
    },
    {
      "cell_type": "code",
      "source": [
        "from docx.shared import Inches\n",
        "\n",
        "document = docx.Document()\n",
        "\n",
        "document.add_heading('Document with text and image', 0)\n",
        "\n",
        "p = document.add_paragraph('We will be adding an image in this document ')\n",
        "p.add_run('bold').bold = True\n",
        "p.add_run(' and some text also ')\n",
        "p.add_run('and make it italic.').italic = True\n",
        "\n",
        "document.add_heading('Let us add Heading, level 1', level=1)\n",
        "document.add_paragraph('Check the intense quote', style='Intense Quote')\n",
        "\n",
        "document.add_paragraph('First item in the Bullet', style='List Bullet')\n",
        "document.add_paragraph('First item in the ordered list', style='List Number')\n",
        "document.add_picture('lenna.tif', width=Inches(1.25))\n",
        "\n",
        "records = ((3, '101', 'Spam'),\n",
        "    (7, '422', 'Eggs'),\n",
        "    (4, '631', 'Spam, spam, eggs, and spam'))\n",
        "\n",
        "#add table\n",
        "table = document.add_table(rows=1, cols=3)\n",
        "# create an object of the table\n",
        "hdr_cells = table.rows[0].cells\n",
        "hdr_cells[0].text = 'Qty'\n",
        "hdr_cells[1].text = 'Id'\n",
        "hdr_cells[2].text = 'Desc'\n",
        "#add data\n",
        "for qty, id, desc in records:\n",
        "    #create row\n",
        "    row_cells = table.add_row().cells\n",
        "    #add data in row\n",
        "    row_cells[0].text = str(qty)\n",
        "    row_cells[1].text = id\n",
        "    row_cells[2].text = desc\n",
        "\n",
        "document.add_page_break()\n",
        "\n",
        "document.save('test2.docx')"
      ],
      "metadata": {
        "id": "O5gnnpoqhflv"
      },
      "execution_count": null,
      "outputs": []
    },
    {
      "cell_type": "code",
      "source": [
        "#read a docx file\n",
        "from docx import Document\n",
        "#read a document file\n",
        "doc = Document(\"test2.docx\")\n",
        "\n",
        "#read the contents\n",
        "#list paragraphs \n",
        "print(\"Paragraphs ...\")\n",
        "print(doc.paragraphs)"
      ],
      "metadata": {
        "colab": {
          "base_uri": "https://localhost:8080/"
        },
        "id": "N7Iq1TfskXUr",
        "outputId": "32fb1711-713d-474d-e59e-dc9023b92561"
      },
      "execution_count": null,
      "outputs": [
        {
          "output_type": "stream",
          "name": "stdout",
          "text": [
            "Paragraphs ...\n",
            "[<docx.text.paragraph.Paragraph object at 0x7f471d04cd50>, <docx.text.paragraph.Paragraph object at 0x7f471d04c0d0>, <docx.text.paragraph.Paragraph object at 0x7f471d04cf50>, <docx.text.paragraph.Paragraph object at 0x7f471d04c290>, <docx.text.paragraph.Paragraph object at 0x7f471d04c310>, <docx.text.paragraph.Paragraph object at 0x7f471d04c2d0>, <docx.text.paragraph.Paragraph object at 0x7f471d04c390>, <docx.text.paragraph.Paragraph object at 0x7f471d04ced0>]\n"
          ]
        }
      ]
    },
    {
      "cell_type": "code",
      "source": [
        "#print list of runs\n",
        "\n",
        "print(\"\\nlist of runs..\")\n",
        "print(doc.paragraphs[0].runs)\n"
      ],
      "metadata": {
        "colab": {
          "base_uri": "https://localhost:8080/"
        },
        "id": "G9ooYJ1ykmju",
        "outputId": "b8693c6e-0957-44ee-dc46-6670c38f1703"
      },
      "execution_count": null,
      "outputs": [
        {
          "output_type": "stream",
          "name": "stdout",
          "text": [
            "\n",
            "list of runs..\n",
            "[<docx.text.run.Run object at 0x7f471d044c10>]\n"
          ]
        }
      ]
    },
    {
      "cell_type": "code",
      "source": [
        "#print text in runs\n",
        "\n",
        "print(doc.paragraphs[0].text)"
      ],
      "metadata": {
        "colab": {
          "base_uri": "https://localhost:8080/"
        },
        "id": "-MMq3G_Fks7X",
        "outputId": "1cfc8c0d-8300-4722-87f4-213d376cb8a6"
      },
      "execution_count": null,
      "outputs": [
        {
          "output_type": "stream",
          "name": "stdout",
          "text": [
            "Document with text and image\n"
          ]
        }
      ]
    },
    {
      "cell_type": "code",
      "source": [
        "#print the entrie document\n",
        "\n",
        "for p in doc.paragraphs:\n",
        "  print(p.text)"
      ],
      "metadata": {
        "colab": {
          "base_uri": "https://localhost:8080/"
        },
        "id": "jBB1fsEhkyz4",
        "outputId": "2234ef3e-2fe6-43f3-b8f0-6e18db7aeda9"
      },
      "execution_count": null,
      "outputs": [
        {
          "output_type": "stream",
          "name": "stdout",
          "text": [
            "Document with text and image\n",
            "We will be adding an image in this document bold and some text also and make it italic.\n",
            "Let us add Heading, level 1\n",
            "Check the intense quote\n",
            "First item in the Bullet\n",
            "First item in the ordered list\n",
            "\n",
            "\n",
            "\n"
          ]
        }
      ]
    },
    {
      "cell_type": "code",
      "source": [
        "doc = Document(\"def.docx\")\n",
        "for p in doc.paragraphs:\n",
        "  print(p.text)"
      ],
      "metadata": {
        "colab": {
          "base_uri": "https://localhost:8080/"
        },
        "id": "83MYtwTPk8Nk",
        "outputId": "1e3c1a50-30cb-436c-889a-1c83e5698a8d"
      },
      "execution_count": null,
      "outputs": [
        {
          "output_type": "stream",
          "name": "stdout",
          "text": [
            "Public Relations(PR)\n",
            "Public Relations(PR) is a strategic communication process that builds mutually beneficaial relationships between organization and their public. \n",
            "\n",
            "\n",
            "Public Relations(PR) in Media\n",
            "Public Relations(PR) in media is defined as the practice of deliberately managing the release and spread of information between an individual or an organization(such as business, government agency, or nonprofit organization) and the public.\n",
            "Strategies used for Public Relations(PR)\n",
            "1)Developing Relations with Media and Influncers-  by interacting with journalists, media outlets, and influencers on social media they extend the public relationship beyond the press release pitch. This increases the chances of gaining media coverage with right outlets.\n",
            "2)Facilitate the Brand Message through Content Distribution- by distributing original and branded content audience is a tried and true social media tactic. In addition, it allows public relations teams to strategically facilitate the brand message online. By having control of the type of content shared, and the copywriting within the post, PR pros ensure the proper brand message is sent each time.\n",
            "3)Incorporate Social Sharing into Press Release- A simple, yet effective way to integrate social media into a public relations campaign is by adding social sharing capabilities to press releases. This allows readers and media outlets to distribute your intended message online in seconds.Embedding relevant social media links and posts into your press releases also promotes social sharing and engagement among readers.\n",
            "4)Create and Leverage Campaign Hashtags- Hashtags, while initially used to follow conversations online, can be a strategic tool for public relations objectives. By creating and leveraging specific campaign hashtags on social media platforms.\n",
            "PR teams can accomplish the following:\n",
            "Monitor customer conversations centered around the particular campaign\n",
            "Understand how the campaign is performing among intended audiences\n",
            "Engage in user/customer conversations online\n",
            "Ensure campaign and brand content is easily searchable.\n",
            "\n",
            "5)Holding Media Events- Hold a press conference or a media junket whenever you have something important to announce. These events will give the media a chance to ask questions in a way that a press release does not. Thus, help build a more robust story on your business. Use the opportunity to further build in some time for journalists to talk one-on-one with your partners, customers and staff. Schedule the event to suit the media’s deadlines and always consult with them beforehand.\n",
            "6)Real Time Crisis Management- Public relations professionals are responsible for extinguishing all online crises that may lead to a negative brand reputation. Social media platforms allow brands, and PR teams alike, to respond in real-time to situations and/or customer conversations. With the growing ability for customers to interact directly with brands online, PR teams must take advantage of the “instant” nature of social media to tackle crises and maintain a positive online reputation for the brand.\n",
            "7)Get Organised- PR is achieved through a planned, sustained set of activities. You will need a calendar to organize your outreach activities. You must also start generating a contact list of media, opinion leaders, personalities, customers and likeminded companies to engage and collaborate with.\n",
            "8)Enhancing Online Presence- In this world where everyone is digitally connected you need an online presence to reach to your customers. Your “social media presence”. Facebook, Instagram, twitter are great mediums to reach your public. You can use them to make announcements, make connections and publish content.\n",
            "9)Create Compelling content- Public relations is about sharing the right information to the right places and people. This helps build your brand and brand reputation. You need to learn your target language, desires, things that resonate with them, and the things they don’t like. Choose the right topic for your content. Compelling content should include elements of curiosity, urgency, relevancy, value and emotion.\n",
            "10)Working with a Team- Your team will help you add value to your messaging, provide feedback and help you distribute your messages. A team can help ensure that any messages you convey are by design rather than an accident.\n",
            "\n",
            "\n",
            "\n",
            "  \n"
          ]
        }
      ]
    }
  ]
}