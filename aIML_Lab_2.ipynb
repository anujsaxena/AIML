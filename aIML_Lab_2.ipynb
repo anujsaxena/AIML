{
  "nbformat": 4,
  "nbformat_minor": 0,
  "metadata": {
    "colab": {
      "name": "aIML_Lab_2.ipynb",
      "provenance": [],
      "collapsed_sections": [],
      "authorship_tag": "ABX9TyP/MPDLK1Gzrz6kws52AZ+R",
      "include_colab_link": true
    },
    "kernelspec": {
      "name": "python3",
      "display_name": "Python 3"
    },
    "language_info": {
      "name": "python"
    }
  },
  "cells": [
    {
      "cell_type": "markdown",
      "metadata": {
        "id": "view-in-github",
        "colab_type": "text"
      },
      "source": [
        "<a href=\"https://colab.research.google.com/github/anujsaxena/AIML/blob/main/aIML_Lab_2.ipynb\" target=\"_parent\"><img src=\"https://colab.research.google.com/assets/colab-badge.svg\" alt=\"Open In Colab\"/></a>"
      ]
    },
    {
      "cell_type": "markdown",
      "source": [
        "# **File Handling**\n",
        "\n",
        "When you’re working with Python, you don’t need to import a library in order to read and write files. It’s handled natively in the language, albeit in a unique manner.\n",
        "\n",
        "The first thing you’ll need to do is use Python’s built-in open function to get a file object. \n",
        "\n",
        "The open function opens a file. It’s simple. \n",
        "\n",
        "When you use the open function, it returns something called a file object. File objects contain methods and attributes that can be used to collect information about the file you opened. They can also be used to manipulate said file.\n",
        "\n",
        "For example, the mode attribute of a file object tells you which mode a file was opened in. And the name attribute tells you the name of the file that the file object has opened. \n",
        "\n",
        "You must understand that a file and file object are two wholly separate – yet related – things.\n",
        " \n",
        "**File Types**\n",
        "\n",
        "What you may know as a file is slightly different in Python. \n",
        "In Windows, for example, a file can be any item manipulated, edited or created by the user/OS. That means files can be images, text documents, executables, and much more. Most files are organized by keeping them in individual folders. \n",
        "In Python, a file is categorized as either text or binary, and the difference between the two file types is important. \n",
        "Text files are structured as a sequence of lines, where each line includes a sequence of characters. This is what you know as code or syntax. \n",
        "Each line is terminated with a special character, called the EOL or End of Line character. There are several types, but the most common is the comma {,} or newline character. It ends the current line and tells the interpreter a new one has begun. \n",
        "A backslash character can also be used, and it tells the interpreter that the next character – following the slash – should be treated as a new line. This character is useful when you don’t want to start a new line in the text itself but in the code. \n",
        "A binary file is any type of file that is not a text file. Because of their nature, binary files can only be processed by an application that know or understand the file’s structure. In other words, they must be applications that can read and interpret binary.\n",
        "\n",
        "**Open ( ) Function**\n",
        "\n",
        "In order to open a file for writing or use in Python, you must rely on the built-in open () function. \n",
        "As explained above, open ( ) will return a file object, so it is most commonly used with two arguments.  \n",
        "An argument is nothing more than a value that has been provided to a function, which is relayed when you call it. So, for instance, if we declare the name of a file as “Test File,” that name would be considered an argument. \n",
        "The syntax to open a file object in Python is:\n",
        "\n",
        "*File_object = open(\"filename\",\"mode\")*\n",
        "\n",
        "**Mode**\n",
        "\n",
        "Including a mode argument is optional because a default value of ‘r’ will be assumed if it is omitted. The ‘r’ value stands for read mode, which is just one of many. \n",
        "The modes are: \n",
        "1.\t‘r’ – Read mode which is used when the file is only being read \n",
        "2. ‘w’ – Write mode which is used to edit and write new information to the file (any existing files with the same name will be erased when this mode is activated) \n",
        "3.\t‘a’ – Appending mode, which is used to add new data to the end of the file; that is new information is automatically appended to the end \n",
        "4.\t‘r+’ – Special read and write mode, which is used to handle both actions when working with a file \n"
      ],
      "metadata": {
        "id": "rO0InslK4UIA"
      }
    },
    {
      "cell_type": "markdown",
      "source": [
        "# **Difference between r+ and a+**\n",
        "\n",
        "r+ Open for reading and writing. The stream is positioned at the beginning of the file.\n",
        "\n",
        "a+ Open for reading and appending (writing at end of file). The file is created if it does not exist. The initial file position for reading is at the beginning of the file, but output is appended to the end of the file (but in some Unix systems regardless of the current seek position)."
      ],
      "metadata": {
        "id": "9Oh3lIaF5YVS"
      }
    },
    {
      "cell_type": "code",
      "execution_count": 2,
      "metadata": {
        "id": "7MjtehUK4NJm"
      },
      "outputs": [],
      "source": [
        "f = open(\"test.txt\", \"w\")\n",
        "f.write(\"Hello\")\n",
        "f.write(\"How are you today\")\n",
        "f.write(\"What are your plans for your future\")\n",
        "f.write(\"Python is an interesting language\")\n",
        "f.close()  # you have to close the file so that the data can be written"
      ]
    },
    {
      "cell_type": "code",
      "source": [
        "#open the file again and insert new data\n",
        "f = open(\"test.txt\", \"w\")\n",
        "f.write(\"Hi Guys !! \")\n",
        "f.write(\"Where are yoy ? \")\n",
        "f.write(\"What are your plans for today ? \")\n",
        "f.write(\"The class should be interesting \")\n",
        "f.close()  # you have to close the file so that the data can be written"
      ],
      "metadata": {
        "id": "WPwXWt6L-SoV"
      },
      "execution_count": 3,
      "outputs": []
    },
    {
      "cell_type": "code",
      "source": [
        "f = open(\"test.txt\", \"w\")\n",
        "f.write(\"Hello \\n\")\n",
        "f.write(\"How are you today \\n\")\n",
        "f.write(\"What are your plans for your future \\n\")\n",
        "f.write(\"Python is an interesting language\")\n",
        "f.close()  # you have to close the file so that the data can be written"
      ],
      "metadata": {
        "id": "ZwIySIb7-xGg"
      },
      "execution_count": 4,
      "outputs": []
    },
    {
      "cell_type": "code",
      "source": [
        "f = open('test.txt', 'r')\n",
        "d = f.read()\n",
        "print(d)"
      ],
      "metadata": {
        "colab": {
          "base_uri": "https://localhost:8080/"
        },
        "id": "tOeINAsr_Cry",
        "outputId": "78c074b9-b3a5-4940-f4ac-00f7bb6987db"
      },
      "execution_count": 5,
      "outputs": [
        {
          "output_type": "stream",
          "name": "stdout",
          "text": [
            "Hello \n",
            "How are you today \n",
            "What are your plans for your future \n",
            "Python is an interesting language\n"
          ]
        }
      ]
    },
    {
      "cell_type": "code",
      "source": [
        "f = open('test.txt', 'r')\n",
        "d = f.read(5)\n",
        "print(d)"
      ],
      "metadata": {
        "colab": {
          "base_uri": "https://localhost:8080/"
        },
        "id": "cDytHO0P_Wfu",
        "outputId": "842d3843-7f59-4774-f434-d06a193f8291"
      },
      "execution_count": 7,
      "outputs": [
        {
          "output_type": "stream",
          "name": "stdout",
          "text": [
            "Hello\n"
          ]
        }
      ]
    },
    {
      "cell_type": "code",
      "source": [
        "f = open('test.txt', 'r')\n",
        "d = f.read(24)\n",
        "print(d)"
      ],
      "metadata": {
        "colab": {
          "base_uri": "https://localhost:8080/"
        },
        "id": "yVbJGGKW_fZn",
        "outputId": "775e9cf8-1859-46f8-f9da-8b83a72fbb4f"
      },
      "execution_count": 9,
      "outputs": [
        {
          "output_type": "stream",
          "name": "stdout",
          "text": [
            "Hello \n",
            "How are you today\n"
          ]
        }
      ]
    },
    {
      "cell_type": "code",
      "source": [
        "f = open(\"test.txt\", \"w\")\n",
        "f.writelines(\"Hello\")\n",
        "f.writelines(\"How are you today \")\n",
        "f.writelines(\"What are your plans for your future \")\n",
        "f.writelines(\"Python is an interesting language\")\n",
        "f.close()  # you have to close the file so that the data can be written"
      ],
      "metadata": {
        "id": "tDIhMBbh_wHV"
      },
      "execution_count": 10,
      "outputs": []
    },
    {
      "cell_type": "code",
      "source": [
        "f = open(\"test.txt\", \"w\")\n",
        "f.write(\"Hello \\n\")\n",
        "f.write(\"How are you today \\n\")\n",
        "f.write(\"What are your plans for your future \\n\")\n",
        "f.write(\"Python is an interesting language\")\n",
        "f.close()  # you have to close the file so that the data can be written"
      ],
      "metadata": {
        "id": "FwZ1Ye5kAUUT"
      },
      "execution_count": 11,
      "outputs": []
    },
    {
      "cell_type": "code",
      "source": [
        "f = open('test.txt', 'r')\n",
        "d = f.readlines()\n",
        "print(d)"
      ],
      "metadata": {
        "colab": {
          "base_uri": "https://localhost:8080/"
        },
        "id": "svKuYTkXAY98",
        "outputId": "86f55db6-8291-4eee-fd23-3635d87e5277"
      },
      "execution_count": 12,
      "outputs": [
        {
          "output_type": "stream",
          "name": "stdout",
          "text": [
            "['Hello \\n', 'How are you today \\n', 'What are your plans for your future \\n', 'Python is an interesting language']\n"
          ]
        }
      ]
    },
    {
      "cell_type": "code",
      "source": [
        "f = open('test.txt', 'r')\n",
        "d = f.read()\n",
        "print(d)"
      ],
      "metadata": {
        "colab": {
          "base_uri": "https://localhost:8080/"
        },
        "id": "vyJd-ZdDAqAQ",
        "outputId": "c5445bce-bf0c-4207-8cc8-3e8be0cb726e"
      },
      "execution_count": 13,
      "outputs": [
        {
          "output_type": "stream",
          "name": "stdout",
          "text": [
            "Hello \n",
            "How are you today \n",
            "What are your plans for your future \n",
            "Python is an interesting language\n"
          ]
        }
      ]
    },
    {
      "cell_type": "code",
      "source": [
        "f = open('test.txt', 'r')\n",
        "d = f.readlines(1)\n",
        "print(d)"
      ],
      "metadata": {
        "colab": {
          "base_uri": "https://localhost:8080/"
        },
        "id": "V9jutsuHAtiv",
        "outputId": "f0e6d571-ad2f-4c9f-8742-bdb5f7dc3497"
      },
      "execution_count": 14,
      "outputs": [
        {
          "output_type": "stream",
          "name": "stdout",
          "text": [
            "['Hello \\n']\n"
          ]
        }
      ]
    },
    {
      "cell_type": "code",
      "source": [
        "f = open('test2.txt', 'a')\n",
        "f.writelines(['Hello \\n','How are you \\n', 'Have a nice day'])\n",
        "f.close()"
      ],
      "metadata": {
        "id": "2dWo7Ob9A7em"
      },
      "execution_count": 15,
      "outputs": []
    },
    {
      "cell_type": "code",
      "source": [
        "f = open('test2.txt', 'r')\n",
        "d = f.readlines()\n",
        "print(d)"
      ],
      "metadata": {
        "colab": {
          "base_uri": "https://localhost:8080/"
        },
        "id": "5MUXf3afBoon",
        "outputId": "db0d2c84-aa6c-4551-9cb1-172d3297486c"
      },
      "execution_count": 16,
      "outputs": [
        {
          "output_type": "stream",
          "name": "stdout",
          "text": [
            "['Hello \\n', 'How are you \\n', 'Have a nice day']\n"
          ]
        }
      ]
    },
    {
      "cell_type": "code",
      "source": [
        "f = open('test2.txt', 'a')\n",
        "f.writelines(['In ML \\n','Data Handling is very important \\n', 'We should have clean data'])\n",
        "f.close()"
      ],
      "metadata": {
        "id": "qZf90mAoBxOo"
      },
      "execution_count": 17,
      "outputs": []
    },
    {
      "cell_type": "code",
      "source": [
        "f = open('test2.txt', 'r')\n",
        "for text in f:\n",
        "  print(text)"
      ],
      "metadata": {
        "colab": {
          "base_uri": "https://localhost:8080/"
        },
        "id": "eKQcB_3YCIuC",
        "outputId": "3ff988b8-39f6-4883-a816-765440c67938"
      },
      "execution_count": 18,
      "outputs": [
        {
          "output_type": "stream",
          "name": "stdout",
          "text": [
            "Hello \n",
            "\n",
            "How are you \n",
            "\n",
            "Have a nice dayIn ML \n",
            "\n",
            "Data Handling is very important \n",
            "\n",
            "We should have clean data\n"
          ]
        }
      ]
    },
    {
      "cell_type": "code",
      "source": [
        "f=open(\"test2.txt\",\"r\")\n",
        "for txt in f:\n",
        "  wrd = txt.split() #split the line into tokens (words)\n",
        "  print(wrd)"
      ],
      "metadata": {
        "colab": {
          "base_uri": "https://localhost:8080/"
        },
        "id": "fDz2C4GlCdPq",
        "outputId": "1ec2435d-e800-4d5b-b857-b0c5dc77caf0"
      },
      "execution_count": 19,
      "outputs": [
        {
          "output_type": "stream",
          "name": "stdout",
          "text": [
            "['Hello']\n",
            "['How', 'are', 'you']\n",
            "['Have', 'a', 'nice', 'dayIn', 'ML']\n",
            "['Data', 'Handling', 'is', 'very', 'important']\n",
            "['We', 'should', 'have', 'clean', 'data']\n"
          ]
        }
      ]
    },
    {
      "cell_type": "code",
      "source": [
        "with open(\"test3.txt\",'w') as f:\n",
        "  f.write(\"Welocme to my python online classes !!!\")\n",
        "  f.write(\"\\n institue de informatica !!!\")"
      ],
      "metadata": {
        "id": "eOdBpuurCvJQ"
      },
      "execution_count": 23,
      "outputs": []
    },
    {
      "cell_type": "code",
      "source": [
        "with open('test3.txt', 'r') as f:\n",
        "  d=f.readlines()\n",
        "  print(d)"
      ],
      "metadata": {
        "colab": {
          "base_uri": "https://localhost:8080/"
        },
        "id": "8HmouNeUDBZs",
        "outputId": "2909847c-a051-49ca-d955-fe6a591abed1"
      },
      "execution_count": 24,
      "outputs": [
        {
          "output_type": "stream",
          "name": "stdout",
          "text": [
            "['Welocme to my python online classes !!!\\n', ' institue de informatica !!!']\n"
          ]
        }
      ]
    },
    {
      "cell_type": "code",
      "source": [
        "for txt in d:\n",
        "  wrd = txt.split()\n",
        "  print(wrd)"
      ],
      "metadata": {
        "colab": {
          "base_uri": "https://localhost:8080/"
        },
        "id": "PDdU87Z4Di8a",
        "outputId": "e97ce214-5ab5-4130-b7da-3feb59f97981"
      },
      "execution_count": 25,
      "outputs": [
        {
          "output_type": "stream",
          "name": "stdout",
          "text": [
            "['Welocme', 'to', 'my', 'python', 'online', 'classes', '!!!']\n",
            "['institue', 'de', 'informatica', '!!!']\n"
          ]
        }
      ]
    },
    {
      "cell_type": "markdown",
      "source": [
        "# **CSV files**\n",
        "\n",
        "**Module**\n",
        "\n",
        "CSV\n",
        "\n",
        "In CSV module documentation you can find following functions:\n",
        "1. csv.field_size_limit – return maximum field size\n",
        "2. csv.get_dialect – get the dialect which is associated with the name\n",
        "3.\tcsv.list_dialects – show all registered dialects\n",
        "4.\tcsv.reader – read data from a csv file\n",
        "4.\tcsv.register_dialect - associate dialect with name\n",
        "5.\tcsv.writer – write data to a csv file\n",
        "6.\tcsv.unregister_dialect - delete the dialect associated with the name the dialect registry\n",
        "7.\tcsv.QUOTE_ALL - Quote everything, regardless of type.\n",
        "8.\tcsv.QUOTE_MINIMAL - Quote fields with special characters\n",
        "9.\tcsv.QUOTE_NONNUMERIC - Quote all fields that aren't numbers value\n",
        "10.\tcsv.QUOTE_NONE – Don't quote anything in output\n"
      ],
      "metadata": {
        "id": "SSQjfHuvFDY8"
      }
    },
    {
      "cell_type": "code",
      "source": [
        "#import module to read a csv file\n",
        "\n",
        "import csv\n",
        "# field names \n",
        "fields = ['Name', 'Branch', 'Year', 'CGPA'] \n",
        "  \n",
        "# data rows of csv file \n",
        "rows = [ ['Nikhil', 'COE', '2021', '9.0'], \n",
        "         ['Sanchit', 'COE', '2020', '9.1'], \n",
        "         ['Aditya', 'IT', '2021', '9.3'], \n",
        "         ['Sagar', 'SE', '2021', '9.5'], \n",
        "         ['Prateek', 'MCE', '2020', '7.8'], \n",
        "         ['Sahil', 'EP', '2019', '9.1']] \n",
        "  \n",
        "# name of csv file \n",
        "filename =\"university_records.csv\"\n",
        "# writing to csv file \n",
        "with open(filename, 'w') as csvfile: \n",
        "    # creating a csv writer object \n",
        "    csvwriter = csv.writer(csvfile)\n",
        "    # write the header\n",
        "    csvwriter.writerow(fields)\n",
        "    # write the rows\n",
        "    csvwriter.writerows(rows)\n"
      ],
      "metadata": {
        "id": "bsBD6ecGFM29"
      },
      "execution_count": 28,
      "outputs": []
    },
    {
      "cell_type": "code",
      "source": [
        "# write from a dictionary\n",
        "\n",
        "# my data rows as dictionary objects \n",
        "mydict =[{'branch': 'COE', 'cgpa': '9.0', 'name': 'Nikhil', 'year': '2020'}, \n",
        "         {'branch': 'COE', 'cgpa': '9.1', 'name': 'Sanchit', 'year': '2021'}, \n",
        "         {'branch': 'IT', 'cgpa': '9.3', 'name': 'Aditya', 'year': '2020'}, \n",
        "         {'branch': 'SE', 'cgpa': '9.5', 'name': 'Sagar', 'year': '2021'}, \n",
        "         {'branch': 'MCE', 'cgpa': '7.8', 'name': 'Prateek', 'year': '2021'}, \n",
        "         {'branch': 'EP', 'cgpa': '9.1', 'name': 'Sahil', 'year': '2019'}] \n",
        "  \n",
        "# field names \n",
        "fields = ['name', 'branch', 'year', 'cgpa'] \n",
        "  \n",
        "# name of csv file \n",
        "filename = \"university_dict.csv\"\n",
        "\n",
        "with open(filename, 'w') as csvfile: \n",
        "    # creating a csv writer object \n",
        "    writer = csv.DictWriter(csvfile, fieldnames = fields) \n",
        "    # write the header\n",
        "    writer.writeheader() \n",
        "    # write the rows\n",
        "    writer.writerows(mydict)"
      ],
      "metadata": {
        "id": "0wPM4TApIEia"
      },
      "execution_count": 31,
      "outputs": []
    },
    {
      "cell_type": "code",
      "source": [
        "#read CSV file\n",
        "\n",
        "with open(\"university_records.csv\") as f:\n",
        "  data = csv.reader(f)\n",
        "  for row in data:\n",
        "    print(row)\n"
      ],
      "metadata": {
        "colab": {
          "base_uri": "https://localhost:8080/"
        },
        "id": "EbTg2eIPJv89",
        "outputId": "32d0ec23-a9ed-4ee6-e7da-ebdbf5b4b9bb"
      },
      "execution_count": 32,
      "outputs": [
        {
          "output_type": "stream",
          "name": "stdout",
          "text": [
            "['Name', 'Branch', 'Year', 'CGPA']\n",
            "['Nikhil', 'COE', '2021', '9.0']\n",
            "['Sanchit', 'COE', '2020', '9.1']\n",
            "['Aditya', 'IT', '2021', '9.3']\n",
            "['Sagar', 'SE', '2021', '9.5']\n",
            "['Prateek', 'MCE', '2020', '7.8']\n",
            "['Sahil', 'EP', '2019', '9.1']\n"
          ]
        }
      ]
    },
    {
      "cell_type": "code",
      "source": [
        "# csv file name \n",
        "filename = \"university_records.csv\"\n",
        "  \n",
        "# initializing the headers and rows list \n",
        "fields = [] \n",
        "rows = [] \n",
        "  \n",
        "# reading csv file \n",
        "with open(filename, 'r') as csvfile: \n",
        "    # creating a csv reader object \n",
        "    csvreader = csv.reader(csvfile) \n",
        "      \n",
        "    # extracting field names through first row \n",
        "    #fields = csvreader.next() \n",
        "    \n",
        "    for row in csvreader:\n",
        "      rows.append(row)\n",
        "      # get total number of rows \n",
        "      print(\"Total no. of rows: %d\"%(csvreader.line_num))\n",
        "# printing the field names \n",
        "print('Header names are:' + ', '.join(field for field in fields))\n",
        "\n",
        "#  printing first 5 rows \n",
        "print('\\nFirst 5 rows are:\\n') \n",
        "for row in rows[1:5]: \n",
        "    # parsing each column of a row \n",
        "    for col in row: \n",
        "        print(\"%10s\"%col), \n",
        "    print('\\n') \n",
        "\n"
      ],
      "metadata": {
        "colab": {
          "base_uri": "https://localhost:8080/"
        },
        "id": "2AIzq4NNKXw0",
        "outputId": "ef1a0b17-6b30-4ea4-92a2-d183ebcda1bb"
      },
      "execution_count": 40,
      "outputs": [
        {
          "output_type": "stream",
          "name": "stdout",
          "text": [
            "Total no. of rows: 1\n",
            "Total no. of rows: 2\n",
            "Total no. of rows: 3\n",
            "Total no. of rows: 4\n",
            "Total no. of rows: 5\n",
            "Total no. of rows: 6\n",
            "Total no. of rows: 7\n",
            "Header names are:\n",
            "\n",
            "First 5 rows are:\n",
            "\n",
            "    Nikhil\n",
            "       COE\n",
            "      2021\n",
            "       9.0\n",
            "\n",
            "\n",
            "   Sanchit\n",
            "       COE\n",
            "      2020\n",
            "       9.1\n",
            "\n",
            "\n",
            "    Aditya\n",
            "        IT\n",
            "      2021\n",
            "       9.3\n",
            "\n",
            "\n",
            "     Sagar\n",
            "        SE\n",
            "      2021\n",
            "       9.5\n",
            "\n",
            "\n"
          ]
        }
      ]
    },
    {
      "cell_type": "code",
      "source": [
        "reader = csv.DictReader(open(\"university_records.csv\"))\n",
        "for txt in reader:\n",
        "\tprint(txt)\n"
      ],
      "metadata": {
        "colab": {
          "base_uri": "https://localhost:8080/"
        },
        "id": "YM3BbG0ZLO7M",
        "outputId": "01c7dee7-d254-44a6-c0f0-f936feca3b7e"
      },
      "execution_count": 41,
      "outputs": [
        {
          "output_type": "stream",
          "name": "stdout",
          "text": [
            "OrderedDict([('Name', 'Nikhil'), ('Branch', 'COE'), ('Year', '2021'), ('CGPA', '9.0')])\n",
            "OrderedDict([('Name', 'Sanchit'), ('Branch', 'COE'), ('Year', '2020'), ('CGPA', '9.1')])\n",
            "OrderedDict([('Name', 'Aditya'), ('Branch', 'IT'), ('Year', '2021'), ('CGPA', '9.3')])\n",
            "OrderedDict([('Name', 'Sagar'), ('Branch', 'SE'), ('Year', '2021'), ('CGPA', '9.5')])\n",
            "OrderedDict([('Name', 'Prateek'), ('Branch', 'MCE'), ('Year', '2020'), ('CGPA', '7.8')])\n",
            "OrderedDict([('Name', 'Sahil'), ('Branch', 'EP'), ('Year', '2019'), ('CGPA', '9.1')])\n"
          ]
        }
      ]
    },
    {
      "cell_type": "code",
      "source": [
        "import pandas as pd\n",
        "data=pd.read_csv(\"university_records.csv\", header=0)\n",
        "print(data)"
      ],
      "metadata": {
        "colab": {
          "base_uri": "https://localhost:8080/"
        },
        "id": "rwuMJaMZMgzo",
        "outputId": "c3c25493-8c81-4d44-d7fa-81d2b45712d4"
      },
      "execution_count": 42,
      "outputs": [
        {
          "output_type": "stream",
          "name": "stdout",
          "text": [
            "      Name Branch  Year  CGPA\n",
            "0   Nikhil    COE  2021   9.0\n",
            "1  Sanchit    COE  2020   9.1\n",
            "2   Aditya     IT  2021   9.3\n",
            "3    Sagar     SE  2021   9.5\n",
            "4  Prateek    MCE  2020   7.8\n",
            "5    Sahil     EP  2019   9.1\n"
          ]
        }
      ]
    },
    {
      "cell_type": "code",
      "source": [
        "data=pd.read_csv(\"university_records.csv\", header=1)\n",
        "print(data)"
      ],
      "metadata": {
        "colab": {
          "base_uri": "https://localhost:8080/"
        },
        "id": "ollBuBdRMurO",
        "outputId": "c2e36349-c890-401c-b2e4-329ba45c68b7"
      },
      "execution_count": 43,
      "outputs": [
        {
          "output_type": "stream",
          "name": "stdout",
          "text": [
            "    Nikhil  COE  2021  9.0\n",
            "0  Sanchit  COE  2020  9.1\n",
            "1   Aditya   IT  2021  9.3\n",
            "2    Sagar   SE  2021  9.5\n",
            "3  Prateek  MCE  2020  7.8\n",
            "4    Sahil   EP  2019  9.1\n"
          ]
        }
      ]
    },
    {
      "cell_type": "code",
      "source": [
        "#get the shape of the matrix(data)\n",
        "data=pd.read_csv(\"university_records.csv\", header=0)\n",
        "print(data.shape)\n",
        "print(data.columns)\n",
        "print(data.dtypes)"
      ],
      "metadata": {
        "colab": {
          "base_uri": "https://localhost:8080/"
        },
        "id": "IuAHvuOBM0q1",
        "outputId": "5fab07e0-fa28-4fdf-cc65-e3cd6a335f62"
      },
      "execution_count": 45,
      "outputs": [
        {
          "output_type": "stream",
          "name": "stdout",
          "text": [
            "(6, 4)\n",
            "Index(['Name', 'Branch', 'Year', 'CGPA'], dtype='object')\n",
            "Name       object\n",
            "Branch     object\n",
            "Year        int64\n",
            "CGPA      float64\n",
            "dtype: object\n"
          ]
        }
      ]
    }
  ]
}