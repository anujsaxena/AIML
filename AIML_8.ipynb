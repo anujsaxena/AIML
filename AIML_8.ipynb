{
  "nbformat": 4,
  "nbformat_minor": 0,
  "metadata": {
    "colab": {
      "name": "AIML_8.ipynb",
      "provenance": [],
      "collapsed_sections": [],
      "authorship_tag": "ABX9TyM6B4sP/wZ/PjcNM1TLplgO",
      "include_colab_link": true
    },
    "kernelspec": {
      "name": "python3",
      "display_name": "Python 3"
    },
    "language_info": {
      "name": "python"
    }
  },
  "cells": [
    {
      "cell_type": "markdown",
      "metadata": {
        "id": "view-in-github",
        "colab_type": "text"
      },
      "source": [
        "<a href=\"https://colab.research.google.com/github/anujsaxena/AIML/blob/main/AIML_8.ipynb\" target=\"_parent\"><img src=\"https://colab.research.google.com/assets/colab-badge.svg\" alt=\"Open In Colab\"/></a>"
      ]
    },
    {
      "cell_type": "markdown",
      "source": [
        "# **Functions**"
      ],
      "metadata": {
        "id": "DG_jK2Nt4iAa"
      }
    },
    {
      "cell_type": "code",
      "execution_count": 1,
      "metadata": {
        "colab": {
          "base_uri": "https://localhost:8080/"
        },
        "id": "TZ1BZFWZ4C6o",
        "outputId": "99ee3faf-2455-43ea-aa79-5fd58916f932"
      },
      "outputs": [
        {
          "output_type": "stream",
          "name": "stdout",
          "text": [
            "Welcome to functions\n"
          ]
        }
      ],
      "source": [
        "def example():\n",
        "  print(\"Welcome to functions\")\n",
        "\n",
        "example()  #call the fucntion"
      ]
    },
    {
      "cell_type": "code",
      "source": [
        "def fn(str):\n",
        "  print(str)\n",
        "\n",
        "fn(\"Python\")\n",
        "fn(\"class\")\n",
        "fn(\"AIML\")"
      ],
      "metadata": {
        "colab": {
          "base_uri": "https://localhost:8080/"
        },
        "id": "G29hhIQp5Kl1",
        "outputId": "bab4cfab-0125-4c80-9d12-139b124c82a8"
      },
      "execution_count": 2,
      "outputs": [
        {
          "output_type": "stream",
          "name": "stdout",
          "text": [
            "Python\n",
            "class\n",
            "AIML\n"
          ]
        }
      ]
    },
    {
      "cell_type": "code",
      "source": [
        "def sum(a,b):\n",
        "  s=a+b\n",
        "  print(s)\n",
        "\n",
        "sum(4,9)"
      ],
      "metadata": {
        "colab": {
          "base_uri": "https://localhost:8080/"
        },
        "id": "Nr0VunO85dk1",
        "outputId": "e641d8be-ddc8-46f9-f39b-dd43ff4d026f"
      },
      "execution_count": 3,
      "outputs": [
        {
          "output_type": "stream",
          "name": "stdout",
          "text": [
            "13\n"
          ]
        }
      ]
    },
    {
      "cell_type": "code",
      "source": [
        "def sum(a,b):\n",
        "  s=a+b\n",
        "  print(s)\n",
        "\n",
        "a = input(\"enter a number \")   #takes input as a string\n",
        "b = input(\"enter second number \")\n",
        "sum(a,b)"
      ],
      "metadata": {
        "colab": {
          "base_uri": "https://localhost:8080/"
        },
        "id": "2_WrPcPm5rIR",
        "outputId": "577169f0-d987-4116-9e6e-2fc1efe443d9"
      },
      "execution_count": 4,
      "outputs": [
        {
          "output_type": "stream",
          "name": "stdout",
          "text": [
            "enter a number 33\n",
            "enter second number 21\n",
            "3321\n"
          ]
        }
      ]
    },
    {
      "cell_type": "code",
      "source": [
        "def sum(a,b):\n",
        "  s=a+b\n",
        "  print(s)\n",
        "\n",
        "a = int(input(\"enter a number \"))  #convert string into integer\n",
        "b = int(input(\"enter second number \"))\n",
        "sum(a,b)"
      ],
      "metadata": {
        "colab": {
          "base_uri": "https://localhost:8080/"
        },
        "id": "WftjtK6B58A2",
        "outputId": "ac4e8623-2404-4631-86d6-486711a04e47"
      },
      "execution_count": 5,
      "outputs": [
        {
          "output_type": "stream",
          "name": "stdout",
          "text": [
            "enter a number 21\n",
            "enter second number 44\n",
            "65\n"
          ]
        }
      ]
    },
    {
      "cell_type": "code",
      "source": [
        "# return\n",
        "\n",
        "def sum(a,b):\n",
        "  s=a+b\n",
        "  return(s)   #return the varaible to the calling method\n",
        "\n",
        "a = int(input(\"enter a number \"))  #convert string into integer\n",
        "b = int(input(\"enter second number \"))\n",
        "s = sum(a,b)\n",
        "print(s)"
      ],
      "metadata": {
        "colab": {
          "base_uri": "https://localhost:8080/"
        },
        "id": "BU7a4g1_6PEN",
        "outputId": "bb650593-c43e-4dff-c3bc-2ed5059b9279"
      },
      "execution_count": 6,
      "outputs": [
        {
          "output_type": "stream",
          "name": "stdout",
          "text": [
            "enter a number 21\n",
            "enter second number 43\n",
            "64\n"
          ]
        }
      ]
    },
    {
      "cell_type": "code",
      "source": [
        "# what happens if we pass only one parameter\n",
        "\n",
        "def sum(a,b):\n",
        "  s=a+b\n",
        "  return(s)   #return the varaible to the calling method\n",
        "\n",
        "a = int(input(\"enter a number \"))  #convert string into integer\n",
        "b = int(input(\"enter second number \"))\n",
        "s = sum(a)\n",
        "print(s)"
      ],
      "metadata": {
        "colab": {
          "base_uri": "https://localhost:8080/",
          "height": 253
        },
        "id": "RipaBEOz7C5O",
        "outputId": "a22e625a-62fd-4c8e-bdd5-1d3750319106"
      },
      "execution_count": 7,
      "outputs": [
        {
          "name": "stdout",
          "output_type": "stream",
          "text": [
            "enter a number 22\n",
            "enter second number 32\n"
          ]
        },
        {
          "output_type": "error",
          "ename": "TypeError",
          "evalue": "ignored",
          "traceback": [
            "\u001b[0;31m---------------------------------------------------------------------------\u001b[0m",
            "\u001b[0;31mTypeError\u001b[0m                                 Traceback (most recent call last)",
            "\u001b[0;32m<ipython-input-7-6c2a4b7961eb>\u001b[0m in \u001b[0;36m<module>\u001b[0;34m()\u001b[0m\n\u001b[1;32m      7\u001b[0m \u001b[0ma\u001b[0m \u001b[0;34m=\u001b[0m \u001b[0mint\u001b[0m\u001b[0;34m(\u001b[0m\u001b[0minput\u001b[0m\u001b[0;34m(\u001b[0m\u001b[0;34m\"enter a number \"\u001b[0m\u001b[0;34m)\u001b[0m\u001b[0;34m)\u001b[0m  \u001b[0;31m#convert string into integer\u001b[0m\u001b[0;34m\u001b[0m\u001b[0;34m\u001b[0m\u001b[0m\n\u001b[1;32m      8\u001b[0m \u001b[0mb\u001b[0m \u001b[0;34m=\u001b[0m \u001b[0mint\u001b[0m\u001b[0;34m(\u001b[0m\u001b[0minput\u001b[0m\u001b[0;34m(\u001b[0m\u001b[0;34m\"enter second number \"\u001b[0m\u001b[0;34m)\u001b[0m\u001b[0;34m)\u001b[0m\u001b[0;34m\u001b[0m\u001b[0;34m\u001b[0m\u001b[0m\n\u001b[0;32m----> 9\u001b[0;31m \u001b[0ms\u001b[0m \u001b[0;34m=\u001b[0m \u001b[0msum\u001b[0m\u001b[0;34m(\u001b[0m\u001b[0ma\u001b[0m\u001b[0;34m)\u001b[0m\u001b[0;34m\u001b[0m\u001b[0;34m\u001b[0m\u001b[0m\n\u001b[0m\u001b[1;32m     10\u001b[0m \u001b[0mprint\u001b[0m\u001b[0;34m(\u001b[0m\u001b[0ms\u001b[0m\u001b[0;34m)\u001b[0m\u001b[0;34m\u001b[0m\u001b[0;34m\u001b[0m\u001b[0m\n",
            "\u001b[0;31mTypeError\u001b[0m: sum() missing 1 required positional argument: 'b'"
          ]
        }
      ]
    },
    {
      "cell_type": "code",
      "source": [
        "# you can pass n number of arguments \n",
        "\n",
        "def my(*arg):\n",
        "  print(arg[4], \"is the eldest\")\n",
        "\n",
        "my(\"Rahul\", \"Preeti\", \"Ritika\", \"Sameer\", \"Vivek\")"
      ],
      "metadata": {
        "colab": {
          "base_uri": "https://localhost:8080/"
        },
        "id": "4-_OPi0Y7UT9",
        "outputId": "5dc1c4a7-31ac-4200-8697-04a21100f1cd"
      },
      "execution_count": 10,
      "outputs": [
        {
          "output_type": "stream",
          "name": "stdout",
          "text": [
            "Vivek is the eldest\n"
          ]
        }
      ]
    },
    {
      "cell_type": "code",
      "source": [
        "def my(child1, child2, child3, child4, child5):\n",
        "  print(child1, \"is the eldest\")\n",
        "\n",
        "my(child1=\"Rajeev\", child2=\"Ria\", child3=\"Vivek\", child4=\"Vikas\", child5=\"Priya\")"
      ],
      "metadata": {
        "colab": {
          "base_uri": "https://localhost:8080/"
        },
        "id": "H7o84izz8OhK",
        "outputId": "56ebfdd6-f0cf-4971-b24e-34c686d68d06"
      },
      "execution_count": 11,
      "outputs": [
        {
          "output_type": "stream",
          "name": "stdout",
          "text": [
            "Rajeev is the eldest\n"
          ]
        }
      ]
    },
    {
      "cell_type": "markdown",
      "source": [
        "# **Unknown number of arguments**\n",
        "\n",
        "You can use ** with the parameter name"
      ],
      "metadata": {
        "id": "4Da3_yFj8bkf"
      }
    },
    {
      "cell_type": "code",
      "source": [
        "def fn(**nn):\n",
        "  print(\"Last name of the child is \", nn[\"lname\"])\n",
        "\n",
        "fn(fname=\"Varun\", lname=\"Goel\")"
      ],
      "metadata": {
        "colab": {
          "base_uri": "https://localhost:8080/"
        },
        "id": "cSUe2Cq_8alr",
        "outputId": "0ba2b4bc-907e-4a94-aeaa-61744044e6ae"
      },
      "execution_count": 12,
      "outputs": [
        {
          "output_type": "stream",
          "name": "stdout",
          "text": [
            "Last name of the child is  Goel\n"
          ]
        }
      ]
    },
    {
      "cell_type": "code",
      "source": [
        "def my(**kw):\n",
        "  for key, value in kw.items():\n",
        "    print(\"%s = %s\" % (key, value))\n",
        "\n",
        "my(first=\"Arvind\", mid=\"Kumar\", last=\"Srivastava\")"
      ],
      "metadata": {
        "colab": {
          "base_uri": "https://localhost:8080/"
        },
        "id": "NZAP_snj852W",
        "outputId": "aaba3f5d-d58d-4cb6-f265-f3dc1b1b8e44"
      },
      "execution_count": 13,
      "outputs": [
        {
          "output_type": "stream",
          "name": "stdout",
          "text": [
            "first = Arvind\n",
            "mid = Kumar\n",
            "last = Srivastava\n"
          ]
        }
      ]
    },
    {
      "cell_type": "markdown",
      "source": [
        "# **Default Parameter Value**"
      ],
      "metadata": {
        "id": "P-bsX9TC9jbW"
      }
    },
    {
      "cell_type": "code",
      "source": [
        "def my(country=\"India\"):\n",
        "  print(\"I belong to \", country)\n",
        "\n",
        "my()"
      ],
      "metadata": {
        "colab": {
          "base_uri": "https://localhost:8080/"
        },
        "id": "vsaUztBV9f38",
        "outputId": "7a51f67a-05c2-40c6-9eac-496aa41a39a8"
      },
      "execution_count": 14,
      "outputs": [
        {
          "output_type": "stream",
          "name": "stdout",
          "text": [
            "I belong to  India\n"
          ]
        }
      ]
    },
    {
      "cell_type": "code",
      "source": [
        "def my(country=\"India\"):\n",
        "  print(\"I belong to \", country)\n",
        "\n",
        "my()\n",
        "my(\"UK\")   # default parameter will be replaced\n",
        "my(\"Singapore\")\n",
        "my(\"USA\")"
      ],
      "metadata": {
        "colab": {
          "base_uri": "https://localhost:8080/"
        },
        "id": "N6SuZHqD-CkE",
        "outputId": "44db917c-a45c-4189-eb5c-fae7de2eeb8b"
      },
      "execution_count": 15,
      "outputs": [
        {
          "output_type": "stream",
          "name": "stdout",
          "text": [
            "I belong to  India\n",
            "I belong to  UK\n",
            "I belong to  Singapore\n",
            "I belong to  USA\n"
          ]
        }
      ]
    },
    {
      "cell_type": "code",
      "source": [
        "#pass list to a function\n",
        "\n",
        "def my(food):\n",
        "  for item in food:\n",
        "    print(item)\n",
        "\n",
        "food =[\"Rice\", \"Curd\",\"Pulses\", \"Bread\"]\n",
        "my(food)"
      ],
      "metadata": {
        "colab": {
          "base_uri": "https://localhost:8080/"
        },
        "id": "fLl5tAjv-xTr",
        "outputId": "af3bd8ef-ae63-4718-915a-1918facd8f96"
      },
      "execution_count": 16,
      "outputs": [
        {
          "output_type": "stream",
          "name": "stdout",
          "text": [
            "Rice\n",
            "Curd\n",
            "Pulses\n",
            "Bread\n"
          ]
        }
      ]
    },
    {
      "cell_type": "code",
      "source": [
        "#return values\n",
        "\n",
        "def mult(n):\n",
        "  return 4*n\n",
        "\n",
        "print(mult(6))\n",
        "print(mult(90))\n",
        "print(mult(120))\n",
        "print(mult(324))"
      ],
      "metadata": {
        "colab": {
          "base_uri": "https://localhost:8080/"
        },
        "id": "qi7UfA_Z_ajf",
        "outputId": "a8513d97-1b0c-42de-f953-0e9360e7c220"
      },
      "execution_count": 17,
      "outputs": [
        {
          "output_type": "stream",
          "name": "stdout",
          "text": [
            "24\n",
            "360\n",
            "480\n",
            "1296\n"
          ]
        }
      ]
    },
    {
      "cell_type": "code",
      "source": [
        "#recursive\n",
        "\n",
        "def rec(n):\n",
        "  print(\"inside \",n,end=\"\\t\")\n",
        "  if n>0:\n",
        "    r = n + rec(n-1)\n",
        "    print(\"n =\", n, \"r= \",r)\n",
        "  else:\n",
        "    r=0\n",
        "  return(r)\n",
        "\n",
        "print(\"Recursive function output\")\n",
        "rec(6)"
      ],
      "metadata": {
        "colab": {
          "base_uri": "https://localhost:8080/"
        },
        "id": "bT5ju9Qj_hCz",
        "outputId": "d728774d-30d5-48d3-af77-86916148b331"
      },
      "execution_count": 24,
      "outputs": [
        {
          "output_type": "stream",
          "name": "stdout",
          "text": [
            "Recursive function output\n",
            "inside  6\tinside  5\tinside  4\tinside  3\tinside  2\tinside  1\tinside  0\tn = 1 r=  1\n",
            "n = 2 r=  3\n",
            "n = 3 r=  6\n",
            "n = 4 r=  10\n",
            "n = 5 r=  15\n",
            "n = 6 r=  21\n"
          ]
        },
        {
          "output_type": "execute_result",
          "data": {
            "text/plain": [
              "21"
            ]
          },
          "metadata": {},
          "execution_count": 24
        }
      ]
    },
    {
      "cell_type": "markdown",
      "source": [
        "# **Main function**\n",
        "\n",
        "The main function is the entry point of a programme. The Python interpreter, on the other hand, starts running the code from the first line. The code is executed one line at a time, beginning with the first line. It makes no difference whether the main function is present or not.\n",
        "\n",
        "Since there is no main() function in Python, when the command to run a Python program is given to the interpreter, the code that is at level 0 indentation is to be executed. However, before doing that, it will define a few special variables. \n",
        "\n",
        "```\n",
        "# __name__ is one such special variable. If the source file is executed as the main program, the interpreter sets the __name__ variable to \n",
        "have a value __main__. If this file is being imported from another module, __name__ will be set to the module’s name. \n",
        "__name__ is a built-in variable which evaluates to the name of the current module.\n",
        "```\n",
        "\n"
      ],
      "metadata": {
        "id": "bHo3W97QBd_4"
      }
    },
    {
      "cell_type": "code",
      "source": [
        "def main():\n",
        "  print(\"Welcome to my code\")\n",
        "\n",
        "if __name__ == \"__main__\" :\n",
        "  main()"
      ],
      "metadata": {
        "colab": {
          "base_uri": "https://localhost:8080/"
        },
        "id": "bmuJQz6DBaRV",
        "outputId": "fad04b3d-437a-4558-b33b-61e3b27ee2ca"
      },
      "execution_count": 25,
      "outputs": [
        {
          "output_type": "stream",
          "name": "stdout",
          "text": [
            "Welcome to my code\n"
          ]
        }
      ]
    },
    {
      "cell_type": "code",
      "source": [
        "print(\"Before main\")\n",
        "def main():\n",
        "  print(\"Welcome to my code\")\n",
        "\n",
        "if __name__ == \"__main__\" :\n",
        "  main()"
      ],
      "metadata": {
        "colab": {
          "base_uri": "https://localhost:8080/"
        },
        "id": "rnSvWu8GB5TP",
        "outputId": "71b6855a-2fd3-4e87-bf15-1a34ab7c5239"
      },
      "execution_count": 26,
      "outputs": [
        {
          "output_type": "stream",
          "name": "stdout",
          "text": [
            "Before main\n",
            "Welcome to my code\n"
          ]
        }
      ]
    },
    {
      "cell_type": "code",
      "source": [
        "print(\"File1 __name__ = %s\" %__name__)\n",
        "\t\n",
        "if __name__ == \"__main__\":\n",
        "\tprint(\"File1 is being run directly\")\n",
        "else:\n",
        "\tprint(\"File1 is being imported\")\n"
      ],
      "metadata": {
        "colab": {
          "base_uri": "https://localhost:8080/"
        },
        "id": "CTNkmDS2B8X8",
        "outputId": "6a66130e-a16d-4930-e96b-63de815b3b00"
      },
      "execution_count": 27,
      "outputs": [
        {
          "output_type": "stream",
          "name": "stdout",
          "text": [
            "File1 __name__ = __main__\n",
            "File1 is being run directly\n"
          ]
        }
      ]
    },
    {
      "cell_type": "code",
      "source": [
        "print(\"Demo of main function\")\n",
        "def demo(g):\n",
        "    print(\"Before the split\")\n",
        "    new_g = str.split(g)\n",
        "    print(\"After the split\")\n",
        "    return new_g\n",
        "def main():\n",
        "    g =\"We are cheking main function\"\n",
        "    print(g)\n",
        "    new_g = demo(g)\n",
        "    print(new_g)\n",
        "if __name__ == \"__main__\":\n",
        "    main()"
      ],
      "metadata": {
        "colab": {
          "base_uri": "https://localhost:8080/"
        },
        "id": "SugEc5bbCRxO",
        "outputId": "13de2678-c2c7-4dc4-b2ec-74f837f6f294"
      },
      "execution_count": 28,
      "outputs": [
        {
          "output_type": "stream",
          "name": "stdout",
          "text": [
            "Demo of main function\n",
            "We are cheking main function\n",
            "Before the split\n",
            "After the split\n",
            "['We', 'are', 'cheking', 'main', 'function']\n"
          ]
        }
      ]
    },
    {
      "cell_type": "code",
      "source": [
        "print(\"Demo of main function\")\n",
        "def main():\n",
        "    g =\"We are cheking main function\"\n",
        "    print(g)\n",
        "    new_g = demo(g)\n",
        "    print(new_g)\n",
        "def demo(g):\n",
        "    print(\"Before the split\")\n",
        "    new_g = str.split(g)\n",
        "    print(\"After the split\")\n",
        "    return new_g\n",
        "\n",
        "if __name__ == \"__main__\":\n",
        "    main()"
      ],
      "metadata": {
        "colab": {
          "base_uri": "https://localhost:8080/"
        },
        "id": "TAI-9pBNC0la",
        "outputId": "c20f5ce7-7155-4893-d86c-8db8bd509f11"
      },
      "execution_count": 29,
      "outputs": [
        {
          "output_type": "stream",
          "name": "stdout",
          "text": [
            "Demo of main function\n",
            "We are cheking main function\n",
            "Before the split\n",
            "After the split\n",
            "['We', 'are', 'cheking', 'main', 'function']\n"
          ]
        }
      ]
    },
    {
      "cell_type": "code",
      "source": [
        "print(\"Demo of main function\")\n",
        "def demo1(g):\n",
        "    print(\"Before the split\")\n",
        "    new_g = str.split(g)\n",
        "    print(\"After the split\")\n",
        "    return new_g\n",
        "def demo2():\n",
        "    print(\"Before the second function\")\n",
        "    g =\"We are cheking main function\"\n",
        "    print(\"After the second function\")\n",
        "    return g\n",
        "def main():\n",
        "    g =demo2()\n",
        "    print(g)\n",
        "    new_g = demo1(g)\n",
        "    print(new_g)\n",
        "if __name__ == \"__main__\":\n",
        "    main()"
      ],
      "metadata": {
        "colab": {
          "base_uri": "https://localhost:8080/"
        },
        "id": "XQW2i2NKC7Qf",
        "outputId": "342e411d-3fe6-41a4-fdb8-bdaab2f41ec0"
      },
      "execution_count": 30,
      "outputs": [
        {
          "output_type": "stream",
          "name": "stdout",
          "text": [
            "Demo of main function\n",
            "Before the second function\n",
            "After the second function\n",
            "We are cheking main function\n",
            "Before the split\n",
            "After the split\n",
            "['We', 'are', 'cheking', 'main', 'function']\n"
          ]
        }
      ]
    }
  ]
}