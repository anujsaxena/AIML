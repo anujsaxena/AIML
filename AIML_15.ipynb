{
  "nbformat": 4,
  "nbformat_minor": 0,
  "metadata": {
    "colab": {
      "name": "AIML_15.ipynb",
      "provenance": [],
      "collapsed_sections": [],
      "authorship_tag": "ABX9TyNUl2tmw6g44LD5bxTAqGXr",
      "include_colab_link": true
    },
    "kernelspec": {
      "name": "python3",
      "display_name": "Python 3"
    },
    "language_info": {
      "name": "python"
    }
  },
  "cells": [
    {
      "cell_type": "markdown",
      "metadata": {
        "id": "view-in-github",
        "colab_type": "text"
      },
      "source": [
        "<a href=\"https://colab.research.google.com/github/anujsaxena/AIML/blob/main/AIML_15.ipynb\" target=\"_parent\"><img src=\"https://colab.research.google.com/assets/colab-badge.svg\" alt=\"Open In Colab\"/></a>"
      ]
    },
    {
      "cell_type": "markdown",
      "source": [
        "# **Catboost implementation on wine dataset**"
      ],
      "metadata": {
        "id": "4ry4x-e0HILj"
      }
    },
    {
      "cell_type": "code",
      "execution_count": 1,
      "metadata": {
        "colab": {
          "base_uri": "https://localhost:8080/"
        },
        "id": "TYFweSskG_BF",
        "outputId": "cb3d271f-e101-4637-89f0-4d9f57b2a91e"
      },
      "outputs": [
        {
          "output_type": "stream",
          "name": "stdout",
          "text": [
            "Collecting catboost\n",
            "  Downloading catboost-1.0.4-cp37-none-manylinux1_x86_64.whl (76.1 MB)\n",
            "\u001b[K     |████████████████████████████████| 76.1 MB 1.3 MB/s \n",
            "\u001b[?25hRequirement already satisfied: matplotlib in /usr/local/lib/python3.7/dist-packages (from catboost) (3.2.2)\n",
            "Requirement already satisfied: six in /usr/local/lib/python3.7/dist-packages (from catboost) (1.15.0)\n",
            "Requirement already satisfied: plotly in /usr/local/lib/python3.7/dist-packages (from catboost) (5.5.0)\n",
            "Requirement already satisfied: graphviz in /usr/local/lib/python3.7/dist-packages (from catboost) (0.10.1)\n",
            "Requirement already satisfied: numpy>=1.16.0 in /usr/local/lib/python3.7/dist-packages (from catboost) (1.21.5)\n",
            "Requirement already satisfied: pandas>=0.24.0 in /usr/local/lib/python3.7/dist-packages (from catboost) (1.3.5)\n",
            "Requirement already satisfied: scipy in /usr/local/lib/python3.7/dist-packages (from catboost) (1.4.1)\n",
            "Requirement already satisfied: pytz>=2017.3 in /usr/local/lib/python3.7/dist-packages (from pandas>=0.24.0->catboost) (2018.9)\n",
            "Requirement already satisfied: python-dateutil>=2.7.3 in /usr/local/lib/python3.7/dist-packages (from pandas>=0.24.0->catboost) (2.8.2)\n",
            "Requirement already satisfied: pyparsing!=2.0.4,!=2.1.2,!=2.1.6,>=2.0.1 in /usr/local/lib/python3.7/dist-packages (from matplotlib->catboost) (3.0.7)\n",
            "Requirement already satisfied: kiwisolver>=1.0.1 in /usr/local/lib/python3.7/dist-packages (from matplotlib->catboost) (1.3.2)\n",
            "Requirement already satisfied: cycler>=0.10 in /usr/local/lib/python3.7/dist-packages (from matplotlib->catboost) (0.11.0)\n",
            "Requirement already satisfied: tenacity>=6.2.0 in /usr/local/lib/python3.7/dist-packages (from plotly->catboost) (8.0.1)\n",
            "Installing collected packages: catboost\n",
            "Successfully installed catboost-1.0.4\n"
          ]
        }
      ],
      "source": [
        "!pip install catboost"
      ]
    },
    {
      "cell_type": "code",
      "source": [
        "import pandas as pd\n",
        "data = pd.read_csv(\"winemag_2.csv\")\n",
        "data.head()"
      ],
      "metadata": {
        "colab": {
          "base_uri": "https://localhost:8080/",
          "height": 704
        },
        "id": "UdRHPOh3I1Ln",
        "outputId": "8e5b5295-6b0a-452f-e4fc-0281095238a6"
      },
      "execution_count": 35,
      "outputs": [
        {
          "output_type": "execute_result",
          "data": {
            "text/html": [
              "\n",
              "  <div id=\"df-43c9ab67-14a0-4231-87f7-bdc59c940fe7\">\n",
              "    <div class=\"colab-df-container\">\n",
              "      <div>\n",
              "<style scoped>\n",
              "    .dataframe tbody tr th:only-of-type {\n",
              "        vertical-align: middle;\n",
              "    }\n",
              "\n",
              "    .dataframe tbody tr th {\n",
              "        vertical-align: top;\n",
              "    }\n",
              "\n",
              "    .dataframe thead th {\n",
              "        text-align: right;\n",
              "    }\n",
              "</style>\n",
              "<table border=\"1\" class=\"dataframe\">\n",
              "  <thead>\n",
              "    <tr style=\"text-align: right;\">\n",
              "      <th></th>\n",
              "      <th>Unnamed: 0</th>\n",
              "      <th>country</th>\n",
              "      <th>description</th>\n",
              "      <th>designation</th>\n",
              "      <th>points</th>\n",
              "      <th>price</th>\n",
              "      <th>province</th>\n",
              "      <th>region_1</th>\n",
              "      <th>region_2</th>\n",
              "      <th>taster_name</th>\n",
              "      <th>taster_twitter_handle</th>\n",
              "      <th>title</th>\n",
              "      <th>variety</th>\n",
              "      <th>winery</th>\n",
              "    </tr>\n",
              "  </thead>\n",
              "  <tbody>\n",
              "    <tr>\n",
              "      <th>0</th>\n",
              "      <td>0</td>\n",
              "      <td>Italy</td>\n",
              "      <td>Aromas include tropical fruit, broom, brimston...</td>\n",
              "      <td>Vulkà Bianco</td>\n",
              "      <td>87</td>\n",
              "      <td>NaN</td>\n",
              "      <td>Sicily &amp; Sardinia</td>\n",
              "      <td>Etna</td>\n",
              "      <td>NaN</td>\n",
              "      <td>Kerin O’Keefe</td>\n",
              "      <td>@kerinokeefe</td>\n",
              "      <td>Nicosia 2013 Vulkà Bianco  (Etna)</td>\n",
              "      <td>White Blend</td>\n",
              "      <td>Nicosia</td>\n",
              "    </tr>\n",
              "    <tr>\n",
              "      <th>1</th>\n",
              "      <td>1</td>\n",
              "      <td>Portugal</td>\n",
              "      <td>This is ripe and fruity, a wine that is smooth...</td>\n",
              "      <td>Avidagos</td>\n",
              "      <td>87</td>\n",
              "      <td>15.0</td>\n",
              "      <td>Douro</td>\n",
              "      <td>NaN</td>\n",
              "      <td>NaN</td>\n",
              "      <td>Roger Voss</td>\n",
              "      <td>@vossroger</td>\n",
              "      <td>Quinta dos Avidagos 2011 Avidagos Red (Douro)</td>\n",
              "      <td>Portuguese Red</td>\n",
              "      <td>Quinta dos Avidagos</td>\n",
              "    </tr>\n",
              "    <tr>\n",
              "      <th>2</th>\n",
              "      <td>2</td>\n",
              "      <td>US</td>\n",
              "      <td>Tart and snappy, the flavors of lime flesh and...</td>\n",
              "      <td>NaN</td>\n",
              "      <td>87</td>\n",
              "      <td>14.0</td>\n",
              "      <td>Oregon</td>\n",
              "      <td>Willamette Valley</td>\n",
              "      <td>Willamette Valley</td>\n",
              "      <td>Paul Gregutt</td>\n",
              "      <td>@paulgwine</td>\n",
              "      <td>Rainstorm 2013 Pinot Gris (Willamette Valley)</td>\n",
              "      <td>Pinot Gris</td>\n",
              "      <td>Rainstorm</td>\n",
              "    </tr>\n",
              "    <tr>\n",
              "      <th>3</th>\n",
              "      <td>3</td>\n",
              "      <td>US</td>\n",
              "      <td>Pineapple rind, lemon pith and orange blossom ...</td>\n",
              "      <td>Reserve Late Harvest</td>\n",
              "      <td>87</td>\n",
              "      <td>13.0</td>\n",
              "      <td>Michigan</td>\n",
              "      <td>Lake Michigan Shore</td>\n",
              "      <td>NaN</td>\n",
              "      <td>Alexander Peartree</td>\n",
              "      <td>NaN</td>\n",
              "      <td>St. Julian 2013 Reserve Late Harvest Riesling ...</td>\n",
              "      <td>Riesling</td>\n",
              "      <td>St. Julian</td>\n",
              "    </tr>\n",
              "    <tr>\n",
              "      <th>4</th>\n",
              "      <td>4</td>\n",
              "      <td>US</td>\n",
              "      <td>Much like the regular bottling from 2012, this...</td>\n",
              "      <td>Vintner's Reserve Wild Child Block</td>\n",
              "      <td>87</td>\n",
              "      <td>65.0</td>\n",
              "      <td>Oregon</td>\n",
              "      <td>Willamette Valley</td>\n",
              "      <td>Willamette Valley</td>\n",
              "      <td>Paul Gregutt</td>\n",
              "      <td>@paulgwine</td>\n",
              "      <td>Sweet Cheeks 2012 Vintner's Reserve Wild Child...</td>\n",
              "      <td>Pinot Noir</td>\n",
              "      <td>Sweet Cheeks</td>\n",
              "    </tr>\n",
              "  </tbody>\n",
              "</table>\n",
              "</div>\n",
              "      <button class=\"colab-df-convert\" onclick=\"convertToInteractive('df-43c9ab67-14a0-4231-87f7-bdc59c940fe7')\"\n",
              "              title=\"Convert this dataframe to an interactive table.\"\n",
              "              style=\"display:none;\">\n",
              "        \n",
              "  <svg xmlns=\"http://www.w3.org/2000/svg\" height=\"24px\"viewBox=\"0 0 24 24\"\n",
              "       width=\"24px\">\n",
              "    <path d=\"M0 0h24v24H0V0z\" fill=\"none\"/>\n",
              "    <path d=\"M18.56 5.44l.94 2.06.94-2.06 2.06-.94-2.06-.94-.94-2.06-.94 2.06-2.06.94zm-11 1L8.5 8.5l.94-2.06 2.06-.94-2.06-.94L8.5 2.5l-.94 2.06-2.06.94zm10 10l.94 2.06.94-2.06 2.06-.94-2.06-.94-.94-2.06-.94 2.06-2.06.94z\"/><path d=\"M17.41 7.96l-1.37-1.37c-.4-.4-.92-.59-1.43-.59-.52 0-1.04.2-1.43.59L10.3 9.45l-7.72 7.72c-.78.78-.78 2.05 0 2.83L4 21.41c.39.39.9.59 1.41.59.51 0 1.02-.2 1.41-.59l7.78-7.78 2.81-2.81c.8-.78.8-2.07 0-2.86zM5.41 20L4 18.59l7.72-7.72 1.47 1.35L5.41 20z\"/>\n",
              "  </svg>\n",
              "      </button>\n",
              "      \n",
              "  <style>\n",
              "    .colab-df-container {\n",
              "      display:flex;\n",
              "      flex-wrap:wrap;\n",
              "      gap: 12px;\n",
              "    }\n",
              "\n",
              "    .colab-df-convert {\n",
              "      background-color: #E8F0FE;\n",
              "      border: none;\n",
              "      border-radius: 50%;\n",
              "      cursor: pointer;\n",
              "      display: none;\n",
              "      fill: #1967D2;\n",
              "      height: 32px;\n",
              "      padding: 0 0 0 0;\n",
              "      width: 32px;\n",
              "    }\n",
              "\n",
              "    .colab-df-convert:hover {\n",
              "      background-color: #E2EBFA;\n",
              "      box-shadow: 0px 1px 2px rgba(60, 64, 67, 0.3), 0px 1px 3px 1px rgba(60, 64, 67, 0.15);\n",
              "      fill: #174EA6;\n",
              "    }\n",
              "\n",
              "    [theme=dark] .colab-df-convert {\n",
              "      background-color: #3B4455;\n",
              "      fill: #D2E3FC;\n",
              "    }\n",
              "\n",
              "    [theme=dark] .colab-df-convert:hover {\n",
              "      background-color: #434B5C;\n",
              "      box-shadow: 0px 1px 3px 1px rgba(0, 0, 0, 0.15);\n",
              "      filter: drop-shadow(0px 1px 2px rgba(0, 0, 0, 0.3));\n",
              "      fill: #FFFFFF;\n",
              "    }\n",
              "  </style>\n",
              "\n",
              "      <script>\n",
              "        const buttonEl =\n",
              "          document.querySelector('#df-43c9ab67-14a0-4231-87f7-bdc59c940fe7 button.colab-df-convert');\n",
              "        buttonEl.style.display =\n",
              "          google.colab.kernel.accessAllowed ? 'block' : 'none';\n",
              "\n",
              "        async function convertToInteractive(key) {\n",
              "          const element = document.querySelector('#df-43c9ab67-14a0-4231-87f7-bdc59c940fe7');\n",
              "          const dataTable =\n",
              "            await google.colab.kernel.invokeFunction('convertToInteractive',\n",
              "                                                     [key], {});\n",
              "          if (!dataTable) return;\n",
              "\n",
              "          const docLinkHtml = 'Like what you see? Visit the ' +\n",
              "            '<a target=\"_blank\" href=https://colab.research.google.com/notebooks/data_table.ipynb>data table notebook</a>'\n",
              "            + ' to learn more about interactive tables.';\n",
              "          element.innerHTML = '';\n",
              "          dataTable['output_type'] = 'display_data';\n",
              "          await google.colab.output.renderOutput(dataTable, element);\n",
              "          const docLink = document.createElement('div');\n",
              "          docLink.innerHTML = docLinkHtml;\n",
              "          element.appendChild(docLink);\n",
              "        }\n",
              "      </script>\n",
              "    </div>\n",
              "  </div>\n",
              "  "
            ],
            "text/plain": [
              "   Unnamed: 0   country                                        description  \\\n",
              "0           0     Italy  Aromas include tropical fruit, broom, brimston...   \n",
              "1           1  Portugal  This is ripe and fruity, a wine that is smooth...   \n",
              "2           2        US  Tart and snappy, the flavors of lime flesh and...   \n",
              "3           3        US  Pineapple rind, lemon pith and orange blossom ...   \n",
              "4           4        US  Much like the regular bottling from 2012, this...   \n",
              "\n",
              "                          designation  points  price           province  \\\n",
              "0                        Vulkà Bianco      87    NaN  Sicily & Sardinia   \n",
              "1                            Avidagos      87   15.0              Douro   \n",
              "2                                 NaN      87   14.0             Oregon   \n",
              "3                Reserve Late Harvest      87   13.0           Michigan   \n",
              "4  Vintner's Reserve Wild Child Block      87   65.0             Oregon   \n",
              "\n",
              "              region_1           region_2         taster_name  \\\n",
              "0                 Etna                NaN       Kerin O’Keefe   \n",
              "1                  NaN                NaN          Roger Voss   \n",
              "2    Willamette Valley  Willamette Valley        Paul Gregutt   \n",
              "3  Lake Michigan Shore                NaN  Alexander Peartree   \n",
              "4    Willamette Valley  Willamette Valley        Paul Gregutt   \n",
              "\n",
              "  taster_twitter_handle                                              title  \\\n",
              "0          @kerinokeefe                  Nicosia 2013 Vulkà Bianco  (Etna)   \n",
              "1            @vossroger      Quinta dos Avidagos 2011 Avidagos Red (Douro)   \n",
              "2           @paulgwine       Rainstorm 2013 Pinot Gris (Willamette Valley)   \n",
              "3                   NaN  St. Julian 2013 Reserve Late Harvest Riesling ...   \n",
              "4           @paulgwine   Sweet Cheeks 2012 Vintner's Reserve Wild Child...   \n",
              "\n",
              "          variety               winery  \n",
              "0     White Blend              Nicosia  \n",
              "1  Portuguese Red  Quinta dos Avidagos  \n",
              "2      Pinot Gris            Rainstorm  \n",
              "3        Riesling           St. Julian  \n",
              "4      Pinot Noir         Sweet Cheeks  "
            ]
          },
          "metadata": {},
          "execution_count": 35
        }
      ]
    },
    {
      "cell_type": "code",
      "source": [
        "print(data.info)"
      ],
      "metadata": {
        "colab": {
          "base_uri": "https://localhost:8080/"
        },
        "id": "z_Yh6WeIMCzC",
        "outputId": "7c8cbf53-3ed9-4d82-c7ab-25a04a9a433b"
      },
      "execution_count": 36,
      "outputs": [
        {
          "output_type": "stream",
          "name": "stdout",
          "text": [
            "<bound method DataFrame.info of        Unnamed: 0    country  \\\n",
            "0               0      Italy   \n",
            "1               1   Portugal   \n",
            "2               2         US   \n",
            "3               3         US   \n",
            "4               4         US   \n",
            "...           ...        ...   \n",
            "65494       65494     France   \n",
            "65495       65495  Australia   \n",
            "65496       65496         US   \n",
            "65497       65497         US   \n",
            "65498       65498      Spain   \n",
            "\n",
            "                                             description  \\\n",
            "0      Aromas include tropical fruit, broom, brimston...   \n",
            "1      This is ripe and fruity, a wine that is smooth...   \n",
            "2      Tart and snappy, the flavors of lime flesh and...   \n",
            "3      Pineapple rind, lemon pith and orange blossom ...   \n",
            "4      Much like the regular bottling from 2012, this...   \n",
            "...                                                  ...   \n",
            "65494  Made from young vines from the Vaulorent porti...   \n",
            "65495  This is a big, fat, almost sweet-tasting Caber...   \n",
            "65496  Much improved over the unripe 2005, Fritz's 20...   \n",
            "65497  This wine wears its 15.8% alcohol better than ...   \n",
            "65498  A unique take on Manzanilla Sherry, which is o...   \n",
            "\n",
            "                              designation  points  price           province  \\\n",
            "0                            Vulkà Bianco      87    NaN  Sicily & Sardinia   \n",
            "1                                Avidagos      87   15.0              Douro   \n",
            "2                                     NaN      87   14.0             Oregon   \n",
            "3                    Reserve Late Harvest      87   13.0           Michigan   \n",
            "4      Vintner's Reserve Wild Child Block      87   65.0             Oregon   \n",
            "...                                   ...     ...    ...                ...   \n",
            "65494              Fourchaume Premier Cru      90   45.0           Burgundy   \n",
            "65495                                 NaN      90   22.0    South Australia   \n",
            "65496                              Estate      90   20.0         California   \n",
            "65497                            Block 24      90   31.0         California   \n",
            "65498                          Manzanilla      90   10.0          Andalucia   \n",
            "\n",
            "                  region_1           region_2         taster_name  \\\n",
            "0                     Etna                NaN       Kerin O’Keefe   \n",
            "1                      NaN                NaN          Roger Voss   \n",
            "2        Willamette Valley  Willamette Valley        Paul Gregutt   \n",
            "3      Lake Michigan Shore                NaN  Alexander Peartree   \n",
            "4        Willamette Valley  Willamette Valley        Paul Gregutt   \n",
            "...                    ...                ...                 ...   \n",
            "65494              Chablis                NaN          Roger Voss   \n",
            "65495         McLaren Vale                NaN      Joe Czerwinski   \n",
            "65496     Dry Creek Valley             Sonoma                 NaN   \n",
            "65497          Napa Valley               Napa                 NaN   \n",
            "65498                Jerez                NaN   Michael Schachner   \n",
            "\n",
            "      taster_twitter_handle  \\\n",
            "0              @kerinokeefe   \n",
            "1                @vossroger   \n",
            "2               @paulgwine    \n",
            "3                       NaN   \n",
            "4               @paulgwine    \n",
            "...                     ...   \n",
            "65494            @vossroger   \n",
            "65495                @JoeCz   \n",
            "65496                   NaN   \n",
            "65497                   NaN   \n",
            "65498           @wineschach   \n",
            "\n",
            "                                                   title             variety  \\\n",
            "0                      Nicosia 2013 Vulkà Bianco  (Etna)         White Blend   \n",
            "1          Quinta dos Avidagos 2011 Avidagos Red (Douro)      Portuguese Red   \n",
            "2          Rainstorm 2013 Pinot Gris (Willamette Valley)          Pinot Gris   \n",
            "3      St. Julian 2013 Reserve Late Harvest Riesling ...            Riesling   \n",
            "4      Sweet Cheeks 2012 Vintner's Reserve Wild Child...          Pinot Noir   \n",
            "...                                                  ...                 ...   \n",
            "65494  William Fèvre 2005 Fourchaume Premier Cru  (Ch...          Chardonnay   \n",
            "65495    Tapestry 2005 Cabernet Sauvignon (McLaren Vale)  Cabernet Sauvignon   \n",
            "65496  Fritz 2006 Estate Sauvignon Blanc (Dry Creek V...     Sauvignon Blanc   \n",
            "65497       Hendry 2004 Block 24 Primitivo (Napa Valley)           Primitivo   \n",
            "65498  Bodegas Dios Baco S.L. NV Manzanilla Sherry (J...              Sherry   \n",
            "\n",
            "                       winery  \n",
            "0                     Nicosia  \n",
            "1         Quinta dos Avidagos  \n",
            "2                   Rainstorm  \n",
            "3                  St. Julian  \n",
            "4                Sweet Cheeks  \n",
            "...                       ...  \n",
            "65494           William Fèvre  \n",
            "65495                Tapestry  \n",
            "65496                   Fritz  \n",
            "65497                  Hendry  \n",
            "65498  Bodegas Dios Baco S.L.  \n",
            "\n",
            "[65499 rows x 14 columns]>\n"
          ]
        }
      ]
    },
    {
      "cell_type": "code",
      "source": [
        "print(data.shape)"
      ],
      "metadata": {
        "colab": {
          "base_uri": "https://localhost:8080/"
        },
        "id": "QgQOpMuGML8I",
        "outputId": "eeb1d86b-01a9-4f78-e89b-64a84c24e9d6"
      },
      "execution_count": 37,
      "outputs": [
        {
          "output_type": "stream",
          "name": "stdout",
          "text": [
            "(65499, 14)\n"
          ]
        }
      ]
    },
    {
      "cell_type": "code",
      "source": [
        "data[data.duplicated(subset=['title','description'])].shape[0]"
      ],
      "metadata": {
        "colab": {
          "base_uri": "https://localhost:8080/"
        },
        "id": "7_2QA1ICMQb1",
        "outputId": "1e929e08-2940-483b-bda8-5d1589d777c3"
      },
      "execution_count": 38,
      "outputs": [
        {
          "output_type": "execute_result",
          "data": {
            "text/plain": [
              "2660"
            ]
          },
          "metadata": {},
          "execution_count": 38
        }
      ]
    },
    {
      "cell_type": "code",
      "source": [
        "data.drop_duplicates(subset=['title','description'],inplace=True)\n",
        "data.shape[0]"
      ],
      "metadata": {
        "colab": {
          "base_uri": "https://localhost:8080/"
        },
        "id": "9ZRisGl7MbC7",
        "outputId": "640f4c43-240a-4999-e732-a06a0e9f47f3"
      },
      "execution_count": 39,
      "outputs": [
        {
          "output_type": "execute_result",
          "data": {
            "text/plain": [
              "62839"
            ]
          },
          "metadata": {},
          "execution_count": 39
        }
      ]
    },
    {
      "cell_type": "code",
      "source": [
        "print(data.head())"
      ],
      "metadata": {
        "colab": {
          "base_uri": "https://localhost:8080/"
        },
        "id": "PrLvnk7LMiuJ",
        "outputId": "0bc34715-9590-4ff0-c615-d1db7c877e85"
      },
      "execution_count": 40,
      "outputs": [
        {
          "output_type": "stream",
          "name": "stdout",
          "text": [
            "   Unnamed: 0   country                                        description  \\\n",
            "0           0     Italy  Aromas include tropical fruit, broom, brimston...   \n",
            "1           1  Portugal  This is ripe and fruity, a wine that is smooth...   \n",
            "2           2        US  Tart and snappy, the flavors of lime flesh and...   \n",
            "3           3        US  Pineapple rind, lemon pith and orange blossom ...   \n",
            "4           4        US  Much like the regular bottling from 2012, this...   \n",
            "\n",
            "                          designation  points  price           province  \\\n",
            "0                        Vulkà Bianco      87    NaN  Sicily & Sardinia   \n",
            "1                            Avidagos      87   15.0              Douro   \n",
            "2                                 NaN      87   14.0             Oregon   \n",
            "3                Reserve Late Harvest      87   13.0           Michigan   \n",
            "4  Vintner's Reserve Wild Child Block      87   65.0             Oregon   \n",
            "\n",
            "              region_1           region_2         taster_name  \\\n",
            "0                 Etna                NaN       Kerin O’Keefe   \n",
            "1                  NaN                NaN          Roger Voss   \n",
            "2    Willamette Valley  Willamette Valley        Paul Gregutt   \n",
            "3  Lake Michigan Shore                NaN  Alexander Peartree   \n",
            "4    Willamette Valley  Willamette Valley        Paul Gregutt   \n",
            "\n",
            "  taster_twitter_handle                                              title  \\\n",
            "0          @kerinokeefe                  Nicosia 2013 Vulkà Bianco  (Etna)   \n",
            "1            @vossroger      Quinta dos Avidagos 2011 Avidagos Red (Douro)   \n",
            "2           @paulgwine       Rainstorm 2013 Pinot Gris (Willamette Valley)   \n",
            "3                   NaN  St. Julian 2013 Reserve Late Harvest Riesling ...   \n",
            "4           @paulgwine   Sweet Cheeks 2012 Vintner's Reserve Wild Child...   \n",
            "\n",
            "          variety               winery  \n",
            "0     White Blend              Nicosia  \n",
            "1  Portuguese Red  Quinta dos Avidagos  \n",
            "2      Pinot Gris            Rainstorm  \n",
            "3        Riesling           St. Julian  \n",
            "4      Pinot Noir         Sweet Cheeks  \n"
          ]
        }
      ]
    },
    {
      "cell_type": "code",
      "source": [
        "data.drop(columns=['description'],inplace=True)"
      ],
      "metadata": {
        "id": "sdK4W4o6MoEL"
      },
      "execution_count": 41,
      "outputs": []
    },
    {
      "cell_type": "code",
      "source": [
        "print(data.head())"
      ],
      "metadata": {
        "colab": {
          "base_uri": "https://localhost:8080/"
        },
        "id": "2YPlMaoEMvrI",
        "outputId": "fc209266-dd68-40ac-a9ad-fe90ee31433d"
      },
      "execution_count": 42,
      "outputs": [
        {
          "output_type": "stream",
          "name": "stdout",
          "text": [
            "   Unnamed: 0   country                         designation  points  price  \\\n",
            "0           0     Italy                        Vulkà Bianco      87    NaN   \n",
            "1           1  Portugal                            Avidagos      87   15.0   \n",
            "2           2        US                                 NaN      87   14.0   \n",
            "3           3        US                Reserve Late Harvest      87   13.0   \n",
            "4           4        US  Vintner's Reserve Wild Child Block      87   65.0   \n",
            "\n",
            "            province             region_1           region_2  \\\n",
            "0  Sicily & Sardinia                 Etna                NaN   \n",
            "1              Douro                  NaN                NaN   \n",
            "2             Oregon    Willamette Valley  Willamette Valley   \n",
            "3           Michigan  Lake Michigan Shore                NaN   \n",
            "4             Oregon    Willamette Valley  Willamette Valley   \n",
            "\n",
            "          taster_name taster_twitter_handle  \\\n",
            "0       Kerin O’Keefe          @kerinokeefe   \n",
            "1          Roger Voss            @vossroger   \n",
            "2        Paul Gregutt           @paulgwine    \n",
            "3  Alexander Peartree                   NaN   \n",
            "4        Paul Gregutt           @paulgwine    \n",
            "\n",
            "                                               title         variety  \\\n",
            "0                  Nicosia 2013 Vulkà Bianco  (Etna)     White Blend   \n",
            "1      Quinta dos Avidagos 2011 Avidagos Red (Douro)  Portuguese Red   \n",
            "2      Rainstorm 2013 Pinot Gris (Willamette Valley)      Pinot Gris   \n",
            "3  St. Julian 2013 Reserve Late Harvest Riesling ...        Riesling   \n",
            "4  Sweet Cheeks 2012 Vintner's Reserve Wild Child...      Pinot Noir   \n",
            "\n",
            "                winery  \n",
            "0              Nicosia  \n",
            "1  Quinta dos Avidagos  \n",
            "2            Rainstorm  \n",
            "3           St. Julian  \n",
            "4         Sweet Cheeks  \n"
          ]
        }
      ]
    },
    {
      "cell_type": "code",
      "source": [
        "data.drop(columns=['Unnamed: 0'],inplace=True)"
      ],
      "metadata": {
        "id": "6cVLt44LM06B"
      },
      "execution_count": 43,
      "outputs": []
    },
    {
      "cell_type": "code",
      "source": [
        "print(data.head())"
      ],
      "metadata": {
        "colab": {
          "base_uri": "https://localhost:8080/"
        },
        "id": "x12Q_6isM9u7",
        "outputId": "1483d8c5-52aa-4a50-8a93-97f957b6a04b"
      },
      "execution_count": 44,
      "outputs": [
        {
          "output_type": "stream",
          "name": "stdout",
          "text": [
            "    country                         designation  points  price  \\\n",
            "0     Italy                        Vulkà Bianco      87    NaN   \n",
            "1  Portugal                            Avidagos      87   15.0   \n",
            "2        US                                 NaN      87   14.0   \n",
            "3        US                Reserve Late Harvest      87   13.0   \n",
            "4        US  Vintner's Reserve Wild Child Block      87   65.0   \n",
            "\n",
            "            province             region_1           region_2  \\\n",
            "0  Sicily & Sardinia                 Etna                NaN   \n",
            "1              Douro                  NaN                NaN   \n",
            "2             Oregon    Willamette Valley  Willamette Valley   \n",
            "3           Michigan  Lake Michigan Shore                NaN   \n",
            "4             Oregon    Willamette Valley  Willamette Valley   \n",
            "\n",
            "          taster_name taster_twitter_handle  \\\n",
            "0       Kerin O’Keefe          @kerinokeefe   \n",
            "1          Roger Voss            @vossroger   \n",
            "2        Paul Gregutt           @paulgwine    \n",
            "3  Alexander Peartree                   NaN   \n",
            "4        Paul Gregutt           @paulgwine    \n",
            "\n",
            "                                               title         variety  \\\n",
            "0                  Nicosia 2013 Vulkà Bianco  (Etna)     White Blend   \n",
            "1      Quinta dos Avidagos 2011 Avidagos Red (Douro)  Portuguese Red   \n",
            "2      Rainstorm 2013 Pinot Gris (Willamette Valley)      Pinot Gris   \n",
            "3  St. Julian 2013 Reserve Late Harvest Riesling ...        Riesling   \n",
            "4  Sweet Cheeks 2012 Vintner's Reserve Wild Child...      Pinot Noir   \n",
            "\n",
            "                winery  \n",
            "0              Nicosia  \n",
            "1  Quinta dos Avidagos  \n",
            "2            Rainstorm  \n",
            "3           St. Julian  \n",
            "4         Sweet Cheeks  \n"
          ]
        }
      ]
    },
    {
      "cell_type": "code",
      "source": [
        "# Getting the insight of null values present in the feature columns\n",
        "data.isnull().sum()"
      ],
      "metadata": {
        "colab": {
          "base_uri": "https://localhost:8080/"
        },
        "id": "HHhBe5avNBIV",
        "outputId": "ee2bfbad-28a2-46b1-a60c-43ed830e0a48"
      },
      "execution_count": 45,
      "outputs": [
        {
          "output_type": "execute_result",
          "data": {
            "text/plain": [
              "country                     32\n",
              "designation              18164\n",
              "points                       0\n",
              "price                     4509\n",
              "province                    32\n",
              "region_1                 10294\n",
              "region_2                 38653\n",
              "taster_name              13227\n",
              "taster_twitter_handle    15507\n",
              "title                        0\n",
              "variety                      0\n",
              "winery                       0\n",
              "dtype: int64"
            ]
          },
          "metadata": {},
          "execution_count": 45
        }
      ]
    },
    {
      "cell_type": "code",
      "source": [
        "wine_price = data.groupby('variety')['price'].describe()"
      ],
      "metadata": {
        "id": "uls-eQL3NIle"
      },
      "execution_count": 46,
      "outputs": []
    },
    {
      "cell_type": "code",
      "source": [
        "print(wine_price)"
      ],
      "metadata": {
        "colab": {
          "base_uri": "https://localhost:8080/"
        },
        "id": "niyGEvOHNOse",
        "outputId": "cdc0de2d-5308-4df0-fbc8-916e830a49c9"
      },
      "execution_count": 47,
      "outputs": [
        {
          "output_type": "stream",
          "name": "stdout",
          "text": [
            "              count       mean        std   min    25%   50%    75%    max\n",
            "variety                                                                   \n",
            "Abouriou        1.0  75.000000        NaN  75.0  75.00  75.0  75.00   75.0\n",
            "Agiorgitiko    32.0  24.343750  14.081810  10.0  13.75  21.0  29.25   66.0\n",
            "Aglianico     145.0  39.751724  24.422363   6.0  24.00  35.0  46.00  180.0\n",
            "Aidani          1.0  27.000000        NaN  27.0  27.00  27.0  27.00   27.0\n",
            "Airen           2.0   8.500000   0.707107   8.0   8.25   8.5   8.75    9.0\n",
            "...             ...        ...        ...   ...    ...   ...    ...    ...\n",
            "Zinfandel    1313.0  29.746382  12.015315   5.0  20.00  29.0  37.00  100.0\n",
            "Zlahtina        1.0  13.000000        NaN  13.0  13.00  13.0  13.00   13.0\n",
            "Zweigelt       70.0  23.371429  11.357397   9.0  15.25  20.0  29.75   65.0\n",
            "Çalkarası       1.0  19.000000        NaN  19.0  19.00  19.0  19.00   19.0\n",
            "Žilavka         1.0  15.000000        NaN  15.0  15.00  15.0  15.00   15.0\n",
            "\n",
            "[590 rows x 8 columns]\n"
          ]
        }
      ]
    },
    {
      "cell_type": "code",
      "source": [
        "print(wine_price['mean'])"
      ],
      "metadata": {
        "colab": {
          "base_uri": "https://localhost:8080/"
        },
        "id": "b5AolRDFNVEh",
        "outputId": "acd3c131-0b9d-4a60-ca8c-89414a095457"
      },
      "execution_count": 48,
      "outputs": [
        {
          "output_type": "stream",
          "name": "stdout",
          "text": [
            "variety\n",
            "Abouriou       75.000000\n",
            "Agiorgitiko    24.343750\n",
            "Aglianico      39.751724\n",
            "Aidani         27.000000\n",
            "Airen           8.500000\n",
            "                 ...    \n",
            "Zinfandel      29.746382\n",
            "Zlahtina       13.000000\n",
            "Zweigelt       23.371429\n",
            "Çalkarası      19.000000\n",
            "Žilavka        15.000000\n",
            "Name: mean, Length: 590, dtype: float64\n"
          ]
        }
      ]
    },
    {
      "cell_type": "code",
      "source": [
        "x=data['price']\n",
        "print(wine_price['mean'])\n",
        "var=x[0]\n",
        "print(round(wine_price['mean'],2))"
      ],
      "metadata": {
        "colab": {
          "base_uri": "https://localhost:8080/"
        },
        "id": "sEqcFWv-Ne9s",
        "outputId": "32b5c8be-0699-44c7-df05-42c20329afff"
      },
      "execution_count": 49,
      "outputs": [
        {
          "output_type": "stream",
          "name": "stdout",
          "text": [
            "variety\n",
            "Abouriou       75.000000\n",
            "Agiorgitiko    24.343750\n",
            "Aglianico      39.751724\n",
            "Aidani         27.000000\n",
            "Airen           8.500000\n",
            "                 ...    \n",
            "Zinfandel      29.746382\n",
            "Zlahtina       13.000000\n",
            "Zweigelt       23.371429\n",
            "Çalkarası      19.000000\n",
            "Žilavka        15.000000\n",
            "Name: mean, Length: 590, dtype: float64\n",
            "variety\n",
            "Abouriou       75.00\n",
            "Agiorgitiko    24.34\n",
            "Aglianico      39.75\n",
            "Aidani         27.00\n",
            "Airen           8.50\n",
            "               ...  \n",
            "Zinfandel      29.75\n",
            "Zlahtina       13.00\n",
            "Zweigelt       23.37\n",
            "Çalkarası      19.00\n",
            "Žilavka        15.00\n",
            "Name: mean, Length: 590, dtype: float64\n"
          ]
        }
      ]
    },
    {
      "cell_type": "code",
      "source": [
        "data.isnull().sum()"
      ],
      "metadata": {
        "colab": {
          "base_uri": "https://localhost:8080/"
        },
        "id": "8-cokCRvUDj4",
        "outputId": "5dd872a9-c94a-4ed8-ab04-72fa9811f9d1"
      },
      "execution_count": 51,
      "outputs": [
        {
          "output_type": "execute_result",
          "data": {
            "text/plain": [
              "country                     32\n",
              "designation              18164\n",
              "points                       0\n",
              "price                     4509\n",
              "province                    32\n",
              "region_1                 10294\n",
              "region_2                 38653\n",
              "taster_name              13227\n",
              "taster_twitter_handle    15507\n",
              "title                        0\n",
              "variety                      0\n",
              "winery                       0\n",
              "dtype: int64"
            ]
          },
          "metadata": {},
          "execution_count": 51
        }
      ]
    },
    {
      "cell_type": "code",
      "source": [
        "data = data[data['price'].notna()]"
      ],
      "metadata": {
        "id": "6_4N9HzyUZrT"
      },
      "execution_count": 52,
      "outputs": []
    },
    {
      "cell_type": "code",
      "source": [
        "data.isnull().sum()"
      ],
      "metadata": {
        "colab": {
          "base_uri": "https://localhost:8080/"
        },
        "id": "feqv4E8AUc_r",
        "outputId": "a12d734c-255f-4130-edaf-b43ffdebd57e"
      },
      "execution_count": 53,
      "outputs": [
        {
          "output_type": "execute_result",
          "data": {
            "text/plain": [
              "country                     28\n",
              "designation              16830\n",
              "points                       0\n",
              "price                        0\n",
              "province                    28\n",
              "region_1                  9426\n",
              "region_2                 34248\n",
              "taster_name              12328\n",
              "taster_twitter_handle    14585\n",
              "title                        0\n",
              "variety                      0\n",
              "winery                       0\n",
              "dtype: int64"
            ]
          },
          "metadata": {},
          "execution_count": 53
        }
      ]
    },
    {
      "cell_type": "code",
      "source": [
        "data = data[data['variety'].notna()]"
      ],
      "metadata": {
        "id": "OA_RB4OgUg2u"
      },
      "execution_count": 54,
      "outputs": []
    },
    {
      "cell_type": "code",
      "source": [
        "data.isnull().sum()"
      ],
      "metadata": {
        "colab": {
          "base_uri": "https://localhost:8080/"
        },
        "id": "uwxnypOBUlU5",
        "outputId": "1597c3ec-dd52-468a-8058-94280000e44c"
      },
      "execution_count": 55,
      "outputs": [
        {
          "output_type": "execute_result",
          "data": {
            "text/plain": [
              "country                     28\n",
              "designation              16830\n",
              "points                       0\n",
              "price                        0\n",
              "province                    28\n",
              "region_1                  9426\n",
              "region_2                 34248\n",
              "taster_name              12328\n",
              "taster_twitter_handle    14585\n",
              "title                        0\n",
              "variety                      0\n",
              "winery                       0\n",
              "dtype: int64"
            ]
          },
          "metadata": {},
          "execution_count": 55
        }
      ]
    },
    {
      "cell_type": "code",
      "source": [
        "import numpy as np\n",
        "from sklearn.model_selection import train_test_split\n",
        "X=data.drop(columns=['points'])\n",
        "X=X.fillna(0)\n",
        "y=data['points']\n",
        "X_train, X_test, y_train, y_test = train_test_split(X,y, test_size=0.2, random_state=11032022)"
      ],
      "metadata": {
        "id": "iBsBYP_rUqR-"
      },
      "execution_count": 56,
      "outputs": []
    },
    {
      "cell_type": "code",
      "source": [
        "print(X_test)"
      ],
      "metadata": {
        "colab": {
          "base_uri": "https://localhost:8080/"
        },
        "id": "0n2Yl7ZeU2cT",
        "outputId": "0b7ce909-087c-406e-f63d-339831451b94"
      },
      "execution_count": 57,
      "outputs": [
        {
          "output_type": "stream",
          "name": "stdout",
          "text": [
            "         country               designation  price          province  \\\n",
            "27112     Brazil    Aurora Cellars Reserva   15.0      Serra Gaúcha   \n",
            "1346   Argentina                         0   11.0  Mendoza Province   \n",
            "6456          US  The Enchantress Old Vine   28.0        Washington   \n",
            "10247         US          Burbank Vineyard   40.0        California   \n",
            "26455         US                    Improv   38.0        California   \n",
            "...          ...                       ...    ...               ...   \n",
            "19301         US     Monarch Mine Vineyard   30.0        California   \n",
            "35532     France                         0   17.0          Bordeaux   \n",
            "9152       Chile                 Selección   12.0      Maipo Valley   \n",
            "30414      Chile                   Reserva   12.0  Colchagua Valley   \n",
            "14767     France                         0   18.0            Alsace   \n",
            "\n",
            "               region_1          region_2        taster_name  \\\n",
            "27112                 0                 0  Michael Schachner   \n",
            "1346            Mendoza                 0  Michael Schachner   \n",
            "6456      Yakima Valley   Columbia Valley       Paul Gregutt   \n",
            "10247       Paso Robles     Central Coast      Matt Kettmann   \n",
            "26455       Paso Robles     Central Coast      Matt Kettmann   \n",
            "...                 ...               ...                ...   \n",
            "19301  Sierra Foothills  Sierra Foothills     Virginie Boone   \n",
            "35532           Fronsac                 0         Roger Voss   \n",
            "9152                  0                 0  Michael Schachner   \n",
            "30414                 0                 0  Michael Schachner   \n",
            "14767            Alsace                 0   Anne Krebiehl MW   \n",
            "\n",
            "      taster_twitter_handle  \\\n",
            "27112           @wineschach   \n",
            "1346            @wineschach   \n",
            "6456            @paulgwine    \n",
            "10247         @mattkettmann   \n",
            "26455         @mattkettmann   \n",
            "...                     ...   \n",
            "19301               @vboone   \n",
            "35532            @vossroger   \n",
            "9152            @wineschach   \n",
            "30414           @wineschach   \n",
            "14767           @AnneInVino   \n",
            "\n",
            "                                                   title  \\\n",
            "27112  Vinícola Aurora 2011 Aurora Cellars Reserva Ta...   \n",
            "1346                        Tilia 2011 Bonarda (Mendoza)   \n",
            "6456   Sleight of Hand 2010 The Enchantress Old Vine ...   \n",
            "10247  Cinnabar 2012 Burbank Vineyard Tempranillo (Pa...   \n",
            "26455               Écluse 2013 Improv Red (Paso Robles)   \n",
            "...                                                  ...   \n",
            "19301  Terre Rouge 2011 Monarch Mine Vineyard Syrah (...   \n",
            "35532                   Château Beauséjour 2014  Fronsac   \n",
            "9152   Viña Chocalan 2011 Selección Sauvignon Blanc (...   \n",
            "30414  Alto Los Romeros 2012 Reserva Malbec (Colchagu...   \n",
            "14767                  Wolfberger 2016 Riesling (Alsace)   \n",
            "\n",
            "                        variety              winery  \n",
            "27112                    Tannat     Vinícola Aurora  \n",
            "1346                    Bonarda               Tilia  \n",
            "6456                 Chardonnay     Sleight of Hand  \n",
            "10247               Tempranillo            Cinnabar  \n",
            "26455                 Red Blend              Écluse  \n",
            "...                         ...                 ...  \n",
            "19301                     Syrah         Terre Rouge  \n",
            "35532  Bordeaux-style Red Blend  Château Beauséjour  \n",
            "9152            Sauvignon Blanc       Viña Chocalan  \n",
            "30414                    Malbec    Alto Los Romeros  \n",
            "14767                  Riesling          Wolfberger  \n",
            "\n",
            "[11666 rows x 11 columns]\n"
          ]
        }
      ]
    },
    {
      "cell_type": "code",
      "source": [
        "print(y_test)"
      ],
      "metadata": {
        "colab": {
          "base_uri": "https://localhost:8080/"
        },
        "id": "WcqSvb6UU7qZ",
        "outputId": "284d3c0a-78ca-4455-f760-95bcd7ce793a"
      },
      "execution_count": 58,
      "outputs": [
        {
          "output_type": "stream",
          "name": "stdout",
          "text": [
            "27112    82\n",
            "1346     86\n",
            "6456     91\n",
            "10247    91\n",
            "26455    93\n",
            "         ..\n",
            "19301    94\n",
            "35532    87\n",
            "9152     83\n",
            "30414    87\n",
            "14767    90\n",
            "Name: points, Length: 11666, dtype: int64\n"
          ]
        }
      ]
    },
    {
      "cell_type": "code",
      "source": [
        "#To be used during Catboost's Feature Importance extractor\n",
        "categorical_features_indices =np.where(X.dtypes == np.object)[0]\n",
        "\n",
        "y=data['points']"
      ],
      "metadata": {
        "colab": {
          "base_uri": "https://localhost:8080/"
        },
        "id": "qpsEEIw_VAzX",
        "outputId": "89c48755-5bce-4e57-9748-86581c75caf7"
      },
      "execution_count": 59,
      "outputs": [
        {
          "output_type": "stream",
          "name": "stderr",
          "text": [
            "/usr/local/lib/python3.7/dist-packages/ipykernel_launcher.py:2: DeprecationWarning: `np.object` is a deprecated alias for the builtin `object`. To silence this warning, use `object` by itself. Doing this will not modify any behavior and is safe. \n",
            "Deprecated in NumPy 1.20; for more details and guidance: https://numpy.org/devdocs/release/1.20.0-notes.html#deprecations\n",
            "  \n"
          ]
        }
      ]
    },
    {
      "cell_type": "code",
      "source": [
        "categorical_features_indices"
      ],
      "metadata": {
        "colab": {
          "base_uri": "https://localhost:8080/"
        },
        "id": "X2B-guIwVNJe",
        "outputId": "83e555cd-6166-43b5-bba5-fc724a0dcb04"
      },
      "execution_count": 60,
      "outputs": [
        {
          "output_type": "execute_result",
          "data": {
            "text/plain": [
              "array([ 0,  1,  3,  4,  5,  6,  7,  8,  9, 10])"
            ]
          },
          "metadata": {},
          "execution_count": 60
        }
      ]
    },
    {
      "cell_type": "code",
      "source": [
        "from catboost import Pool, CatBoostRegressor, cv\n",
        "model = CatBoostRegressor(random_seed = 350,loss_function = 'RMSE',iterations=350)\n",
        "#fitting the train data"
      ],
      "metadata": {
        "id": "teE2icPgVQVY"
      },
      "execution_count": 61,
      "outputs": []
    },
    {
      "cell_type": "code",
      "source": [
        "model.fit(X_train, y_train,cat_features = categorical_features_indices,verbose=False)"
      ],
      "metadata": {
        "colab": {
          "base_uri": "https://localhost:8080/"
        },
        "id": "_AmDKEi9VcR-",
        "outputId": "8f18d9e9-e69e-4bc0-bc2e-a73437b52922"
      },
      "execution_count": 62,
      "outputs": [
        {
          "output_type": "execute_result",
          "data": {
            "text/plain": [
              "<catboost.core.CatBoostRegressor at 0x7f5a0b477350>"
            ]
          },
          "metadata": {},
          "execution_count": 62
        }
      ]
    },
    {
      "cell_type": "code",
      "source": [
        "pred = model.predict(X_test)\n",
        "print(pred)"
      ],
      "metadata": {
        "colab": {
          "base_uri": "https://localhost:8080/"
        },
        "id": "__QreQFdVmon",
        "outputId": "921e01f4-ed31-4cab-c935-49bc2752188d"
      },
      "execution_count": 63,
      "outputs": [
        {
          "output_type": "stream",
          "name": "stdout",
          "text": [
            "[82.99746405 85.03282573 90.33068084 ... 85.19491982 85.76260984\n",
            " 89.24497254]\n"
          ]
        }
      ]
    },
    {
      "cell_type": "code",
      "source": [
        "import matplotlib.pyplot as plt\n",
        "fig=plt.figure(figsize=(8,8))\n",
        "plt.scatter(y_test,pred,color='darkred')\n",
        "# Plot-label\n",
        "fig.suptitle('y_test vs predictions',fontsize = 20)\n",
        "\n",
        "#X-label\n",
        "plt.xlabel('y_test')\n",
        "\n",
        "# Y-label\n",
        "plt.ylabel('predcitions')"
      ],
      "metadata": {
        "colab": {
          "base_uri": "https://localhost:8080/",
          "height": 573
        },
        "id": "qrky_CtjVzE2",
        "outputId": "0f3db756-83a6-47d9-fe4a-7e87e7142adc"
      },
      "execution_count": 64,
      "outputs": [
        {
          "output_type": "execute_result",
          "data": {
            "text/plain": [
              "Text(0, 0.5, 'predcitions')"
            ]
          },
          "metadata": {},
          "execution_count": 64
        },
        {
          "output_type": "display_data",
          "data": {
            "image/png": "[encoded data removed]",
            "text/plain": [
              "<Figure size 576x576 with 1 Axes>"
            ]
          },
          "metadata": {
            "needs_background": "light"
          }
        }
      ]
    },
    {
      "cell_type": "code",
      "source": [
        "import seaborn as sns\n",
        "fig=plt.figure(figsize=(8,8))\n",
        "sns.displot((y_test-pred),bins=20,color='darkred')\n",
        "\n",
        "#Plot Label\n",
        "fig.suptitle('Residual Analysis', fontsize = 20) \n"
      ],
      "metadata": {
        "colab": {
          "base_uri": "https://localhost:8080/",
          "height": 404
        },
        "id": "dnQWYJ5KWN_-",
        "outputId": "e2d05d6d-3b01-419c-b99f-9f068b88bbfe"
      },
      "execution_count": 65,
      "outputs": [
        {
          "output_type": "execute_result",
          "data": {
            "text/plain": [
              "Text(0.5, 0.98, 'Residual Analysis')"
            ]
          },
          "metadata": {},
          "execution_count": 65
        },
        {
          "output_type": "display_data",
          "data": {
            "text/plain": [
              "<Figure size 576x576 with 0 Axes>"
            ]
          },
          "metadata": {}
        },
        {
          "output_type": "display_data",
          "data": {
            "image/png": "[encoded data removed]",
            "text/plain": [
              "<Figure size 360x360 with 1 Axes>"
            ]
          },
          "metadata": {
            "needs_background": "light"
          }
        }
      ]
    },
    {
      "cell_type": "code",
      "source": [
        "from sklearn import metrics\n",
        "print('Mean Absolute Error     MAE:', metrics.mean_absolute_error(y_test, pred))\n",
        "print('Mean Squared Error      MSE:', metrics.mean_squared_error(y_test, pred))\n",
        "print('Root Mean Squared Error RMSE:', np.sqrt(metrics.mean_squared_error(y_test, pred)))"
      ],
      "metadata": {
        "colab": {
          "base_uri": "https://localhost:8080/"
        },
        "id": "9k0Iy40pWdHo",
        "outputId": "9d2cb4c4-4416-4f7b-cfda-7809b4d86d5f"
      },
      "execution_count": 66,
      "outputs": [
        {
          "output_type": "stream",
          "name": "stdout",
          "text": [
            "Mean Absolute Error     MAE: 1.64348793851529\n",
            "Mean Squared Error      MSE: 4.332231053083578\n",
            "Root Mean Squared Error RMSE: 2.0814012234750843\n"
          ]
        }
      ]
    },
    {
      "cell_type": "code",
      "source": [
        "errors = abs(pred - y_test)\n",
        "print(errors)\n",
        "mape = (errors / y_test)*100\n",
        "print(mape)\n",
        "# Calculate and display accuracy\n",
        "accuracy = 100 - np.mean(mape)\n",
        "print(accuracy)"
      ],
      "metadata": {
        "colab": {
          "base_uri": "https://localhost:8080/"
        },
        "id": "PtwHQenkW1_t",
        "outputId": "f43e8882-118f-4193-af9b-f9f76f40dc59"
      },
      "execution_count": 68,
      "outputs": [
        {
          "output_type": "stream",
          "name": "stdout",
          "text": [
            "27112    0.997464\n",
            "1346     0.967174\n",
            "6456     0.669319\n",
            "10247    1.144714\n",
            "26455    2.489327\n",
            "           ...   \n",
            "19301    3.269521\n",
            "35532    0.617721\n",
            "9152     2.194920\n",
            "30414    1.237390\n",
            "14767    0.755027\n",
            "Name: points, Length: 11666, dtype: float64\n",
            "27112    1.216420\n",
            "1346     1.124621\n",
            "6456     0.735516\n",
            "10247    1.257927\n",
            "26455    2.676696\n",
            "           ...   \n",
            "19301    3.478214\n",
            "35532    0.710024\n",
            "9152     2.644482\n",
            "30414    1.422288\n",
            "14767    0.838919\n",
            "Name: points, Length: 11666, dtype: float64\n",
            "98.13640293593605\n"
          ]
        }
      ]
    }
  ]
}