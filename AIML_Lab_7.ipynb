{
  "nbformat": 4,
  "nbformat_minor": 0,
  "metadata": {
    "colab": {
      "name": "AIML_Lab_7.ipynb",
      "provenance": [],
      "collapsed_sections": [],
      "authorship_tag": "ABX9TyOcRbVTElVwYHVUVOMJhiAi",
      "include_colab_link": true
    },
    "kernelspec": {
      "name": "python3",
      "display_name": "Python 3"
    },
    "language_info": {
      "name": "python"
    }
  },
  "cells": [
    {
      "cell_type": "markdown",
      "metadata": {
        "id": "view-in-github",
        "colab_type": "text"
      },
      "source": [
        "<a href=\"https://colab.research.google.com/github/anujsaxena/AIML/blob/main/AIML_Lab_7.ipynb\" target=\"_parent\"><img src=\"https://colab.research.google.com/assets/colab-badge.svg\" alt=\"Open In Colab\"/></a>"
      ]
    },
    {
      "cell_type": "markdown",
      "source": [
        "# **Confusion Matrix**\n",
        "\n",
        "\n",
        "Syntax:\n",
        "\n",
        "tf.math.confusion_matrix(\n",
        "  \n",
        "    labels, predictions, num_classes=None, weights=None, dtype=tf.dtypes.int32,\n",
        "    name=None\n",
        ")"
      ],
      "metadata": {
        "id": "g33OYRE_FqF_"
      }
    },
    {
      "cell_type": "code",
      "execution_count": null,
      "metadata": {
        "colab": {
          "base_uri": "https://localhost:8080/"
        },
        "id": "H3XE4o_VFk7F",
        "outputId": "3fefde5d-7a1b-4118-ad8f-b3e25784fde5"
      },
      "outputs": [
        {
          "output_type": "execute_result",
          "data": {
            "text/plain": [
              "<tf.Tensor: shape=(5, 5), dtype=int32, numpy=\n",
              "array([[0, 0, 0, 0, 0],\n",
              "       [0, 0, 1, 0, 0],\n",
              "       [0, 0, 1, 0, 0],\n",
              "       [0, 0, 0, 1, 0],\n",
              "       [0, 0, 0, 0, 1]], dtype=int32)>"
            ]
          },
          "metadata": {},
          "execution_count": 2
        }
      ],
      "source": [
        "import tensorflow as tf\n",
        "tf.math.confusion_matrix([1,2,3,4],[2,2,3,4])  #real labels and predicted labels"
      ]
    },
    {
      "cell_type": "code",
      "source": [
        "tf.math.confusion_matrix([1,2,3,4],[1,2,3,4])"
      ],
      "metadata": {
        "colab": {
          "base_uri": "https://localhost:8080/"
        },
        "id": "PTJxlDqVONZX",
        "outputId": "ae58f040-5453-41f3-d38e-374748f17744"
      },
      "execution_count": null,
      "outputs": [
        {
          "output_type": "execute_result",
          "data": {
            "text/plain": [
              "<tf.Tensor: shape=(5, 5), dtype=int32, numpy=\n",
              "array([[0, 0, 0, 0, 0],\n",
              "       [0, 1, 0, 0, 0],\n",
              "       [0, 0, 1, 0, 0],\n",
              "       [0, 0, 0, 1, 0],\n",
              "       [0, 0, 0, 0, 1]], dtype=int32)>"
            ]
          },
          "metadata": {},
          "execution_count": 3
        }
      ]
    },
    {
      "cell_type": "code",
      "source": [
        "tf.math.confusion_matrix([1,2,3,4],[4,3,1,2])"
      ],
      "metadata": {
        "colab": {
          "base_uri": "https://localhost:8080/"
        },
        "id": "ZgMzXaYMOTcQ",
        "outputId": "b2b00bef-a7ac-4a91-da4a-615c63b18d89"
      },
      "execution_count": null,
      "outputs": [
        {
          "output_type": "execute_result",
          "data": {
            "text/plain": [
              "<tf.Tensor: shape=(5, 5), dtype=int32, numpy=\n",
              "array([[0, 0, 0, 0, 0],\n",
              "       [0, 0, 0, 0, 1],\n",
              "       [0, 0, 0, 1, 0],\n",
              "       [0, 1, 0, 0, 0],\n",
              "       [0, 0, 1, 0, 0]], dtype=int32)>"
            ]
          },
          "metadata": {},
          "execution_count": 4
        }
      ]
    },
    {
      "cell_type": "code",
      "source": [
        "original = tf.constant([0,1,2,4,5,6,8,9,10], dtype=tf.int32)  #create a constant tensor from tensor like object\n",
        "predictions = tf.constant([0,1,2,3,4,5,6,7,8], dtype=tf.int32)\n",
        "print(predictions)\n",
        "print(original)"
      ],
      "metadata": {
        "colab": {
          "base_uri": "https://localhost:8080/"
        },
        "id": "fQcAnVuyOjIZ",
        "outputId": "81ba5cfe-3fe8-4e58-e850-c487d354d04a"
      },
      "execution_count": null,
      "outputs": [
        {
          "output_type": "stream",
          "name": "stdout",
          "text": [
            "tf.Tensor([0 1 2 3 4 5 6 7 8], shape=(9,), dtype=int32)\n",
            "tf.Tensor([ 0  1  2  4  5  6  8  9 10], shape=(9,), dtype=int32)\n"
          ]
        }
      ]
    },
    {
      "cell_type": "code",
      "source": [
        "cf = tf.math.confusion_matrix(original,predictions)\n",
        "print(cf)"
      ],
      "metadata": {
        "colab": {
          "base_uri": "https://localhost:8080/"
        },
        "id": "piCR_h8GOwy8",
        "outputId": "fcc99e54-7999-4ca0-da3f-3a4bb6b57722"
      },
      "execution_count": null,
      "outputs": [
        {
          "output_type": "stream",
          "name": "stdout",
          "text": [
            "tf.Tensor(\n",
            "[[1 0 0 0 0 0 0 0 0 0 0]\n",
            " [0 1 0 0 0 0 0 0 0 0 0]\n",
            " [0 0 1 0 0 0 0 0 0 0 0]\n",
            " [0 0 0 0 0 0 0 0 0 0 0]\n",
            " [0 0 0 1 0 0 0 0 0 0 0]\n",
            " [0 0 0 0 1 0 0 0 0 0 0]\n",
            " [0 0 0 0 0 1 0 0 0 0 0]\n",
            " [0 0 0 0 0 0 0 0 0 0 0]\n",
            " [0 0 0 0 0 0 1 0 0 0 0]\n",
            " [0 0 0 0 0 0 0 1 0 0 0]\n",
            " [0 0 0 0 0 0 0 0 1 0 0]], shape=(11, 11), dtype=int32)\n"
          ]
        }
      ]
    },
    {
      "cell_type": "code",
      "source": [
        "original = tf.constant([0,1,2,4,5,6,8,9,10], dtype=tf.int32)  #create a constant tensor from tensor like object\n",
        "predictions = tf.constant([0,1,2,4,5,6,8,9,10], dtype=tf.int32)\n",
        "print(predictions)\n",
        "print(original)\n",
        "cf = tf.math.confusion_matrix(original,predictions)\n",
        "print(cf)"
      ],
      "metadata": {
        "colab": {
          "base_uri": "https://localhost:8080/"
        },
        "id": "WwXx66RwPHU7",
        "outputId": "8ae33005-f638-4f12-e0dd-8a163f74d7d5"
      },
      "execution_count": null,
      "outputs": [
        {
          "output_type": "stream",
          "name": "stdout",
          "text": [
            "tf.Tensor([ 0  1  2  4  5  6  8  9 10], shape=(9,), dtype=int32)\n",
            "tf.Tensor([ 0  1  2  4  5  6  8  9 10], shape=(9,), dtype=int32)\n",
            "tf.Tensor(\n",
            "[[1 0 0 0 0 0 0 0 0 0 0]\n",
            " [0 1 0 0 0 0 0 0 0 0 0]\n",
            " [0 0 1 0 0 0 0 0 0 0 0]\n",
            " [0 0 0 0 0 0 0 0 0 0 0]\n",
            " [0 0 0 0 1 0 0 0 0 0 0]\n",
            " [0 0 0 0 0 1 0 0 0 0 0]\n",
            " [0 0 0 0 0 0 1 0 0 0 0]\n",
            " [0 0 0 0 0 0 0 0 0 0 0]\n",
            " [0 0 0 0 0 0 0 0 1 0 0]\n",
            " [0 0 0 0 0 0 0 0 0 1 0]\n",
            " [0 0 0 0 0 0 0 0 0 0 1]], shape=(11, 11), dtype=int32)\n"
          ]
        }
      ]
    },
    {
      "cell_type": "code",
      "source": [
        "labels = tf.constant([0,1,2,4,5,6,8,9,10], dtype=tf.int32)\n",
        "predictions = tf.constant([0,1,2,3,4,5,6,7,8], dtype=tf.int32)\n",
        "wt = tf.constant([1,2,2,1,4,5,5,6,7], dtype=tf.int32)\n",
        "cf = tf.math.confusion_matrix(labels,predictions,weights=wt)\n",
        "print('confusion matrix')\n",
        "print(cf)"
      ],
      "metadata": {
        "colab": {
          "base_uri": "https://localhost:8080/"
        },
        "id": "XkztGmDnPwAZ",
        "outputId": "c754324a-c944-4e38-d671-585696a14f2a"
      },
      "execution_count": null,
      "outputs": [
        {
          "output_type": "stream",
          "name": "stdout",
          "text": [
            "confusion matrix\n",
            "tf.Tensor(\n",
            "[[1 0 0 0 0 0 0 0 0 0 0]\n",
            " [0 2 0 0 0 0 0 0 0 0 0]\n",
            " [0 0 2 0 0 0 0 0 0 0 0]\n",
            " [0 0 0 0 0 0 0 0 0 0 0]\n",
            " [0 0 0 1 0 0 0 0 0 0 0]\n",
            " [0 0 0 0 4 0 0 0 0 0 0]\n",
            " [0 0 0 0 0 5 0 0 0 0 0]\n",
            " [0 0 0 0 0 0 0 0 0 0 0]\n",
            " [0 0 0 0 0 0 5 0 0 0 0]\n",
            " [0 0 0 0 0 0 0 6 0 0 0]\n",
            " [0 0 0 0 0 0 0 0 7 0 0]], shape=(11, 11), dtype=int32)\n"
          ]
        }
      ]
    },
    {
      "cell_type": "code",
      "source": [
        "labels = tf.constant([0,1,2,4,5,6,8,9,10], dtype=tf.int32)\n",
        "predictions = tf.constant([0,1,2,4,5,6,8,9,10], dtype=tf.int32)\n",
        "wt = tf.constant([1,2,2,1,4,5,5,6,7], dtype=tf.int32)\n",
        "cf = tf.math.confusion_matrix(labels,predictions,weights=wt)\n",
        "print('confusion matrix')\n",
        "print(cf)"
      ],
      "metadata": {
        "colab": {
          "base_uri": "https://localhost:8080/"
        },
        "id": "hen7o6AbQFX0",
        "outputId": "09f529c6-6364-4e02-add3-b0f6d633e721"
      },
      "execution_count": null,
      "outputs": [
        {
          "output_type": "stream",
          "name": "stdout",
          "text": [
            "confusion matrix\n",
            "tf.Tensor(\n",
            "[[1 0 0 0 0 0 0 0 0 0 0]\n",
            " [0 2 0 0 0 0 0 0 0 0 0]\n",
            " [0 0 2 0 0 0 0 0 0 0 0]\n",
            " [0 0 0 0 0 0 0 0 0 0 0]\n",
            " [0 0 0 0 1 0 0 0 0 0 0]\n",
            " [0 0 0 0 0 4 0 0 0 0 0]\n",
            " [0 0 0 0 0 0 5 0 0 0 0]\n",
            " [0 0 0 0 0 0 0 0 0 0 0]\n",
            " [0 0 0 0 0 0 0 0 5 0 0]\n",
            " [0 0 0 0 0 0 0 0 0 6 0]\n",
            " [0 0 0 0 0 0 0 0 0 0 7]], shape=(11, 11), dtype=int32)\n"
          ]
        }
      ]
    },
    {
      "cell_type": "code",
      "source": [
        "from tensorflow.keras import datasets, layers, models\n",
        "import matplotlib.pyplot as plt\n",
        "import tensorflow as tf\n",
        "import numpy as np\n",
        "import pandas as pd\n",
        "import seaborn as sns\n",
        "%load_ext tensorboard\n",
        "logdir='log'\n",
        "(train_images, train_labels), (test_images, test_labels) = datasets.mnist.load_data()\n",
        "train_images = train_images.reshape((60000,28,28,1))\n",
        "test_images = test_images.reshape((10000, 28,28,1))\n",
        "\n",
        "train_images = train_images/255.0\n",
        "test_images = test_images/255.0\n",
        "\n",
        "classes=[0,1,2,3,4,5,6,7,8,9]\n",
        "model = models.Sequential()\n",
        "model.add(layers.Conv2D(32, (3, 3), activation='relu', input_shape=(28, 28, 1)))\n",
        "model.add(layers.MaxPooling2D((2, 2)))\n",
        "model.add(layers.Conv2D(64, (3, 3), activation='relu'))\n",
        "model.add(layers.MaxPooling2D((2, 2)))\n",
        "model.add(layers.Conv2D(64, (3, 3), activation='relu'))\n",
        "model.add(layers.Flatten())\n",
        "model.add(layers.Dense(64, activation='relu'))\n",
        "model.add(layers.Dense(64, activation='softmax'))\n",
        "\n",
        "tensorboard_rollback = tf.keras.callbacks.TensorBoard(logdir, histogram_freq=1)\n",
        "\n",
        "model.compile(optimizer='adam',\n",
        "              loss='sparse_categorical_crossentropy',\n",
        "              metrics=['accuracy'])\n",
        "\n",
        "model.fit(x =train_images, y=train_labels, epochs=5, validation_data=(test_images, test_labels))\n"
      ],
      "metadata": {
        "colab": {
          "base_uri": "https://localhost:8080/"
        },
        "id": "0vdwXuSoQSw9",
        "outputId": "2248086a-35bd-4cd4-db9a-d63c37ff188d"
      },
      "execution_count": null,
      "outputs": [
        {
          "output_type": "stream",
          "name": "stdout",
          "text": [
            "Downloading data from https://storage.googleapis.com/tensorflow/tf-keras-datasets/mnist.npz\n",
            "11493376/11490434 [==============================] - 0s 0us/step\n",
            "11501568/11490434 [==============================] - 0s 0us/step\n",
            "Epoch 1/5\n",
            "1875/1875 [==============================] - 66s 35ms/step - loss: 0.1888 - accuracy: 0.9421 - val_loss: 0.0513 - val_accuracy: 0.9837\n",
            "Epoch 2/5\n",
            "1875/1875 [==============================] - 61s 33ms/step - loss: 0.0520 - accuracy: 0.9833 - val_loss: 0.0395 - val_accuracy: 0.9872\n",
            "Epoch 3/5\n",
            "1875/1875 [==============================] - 56s 30ms/step - loss: 0.0358 - accuracy: 0.9888 - val_loss: 0.0342 - val_accuracy: 0.9886\n",
            "Epoch 4/5\n",
            "1875/1875 [==============================] - 57s 31ms/step - loss: 0.0288 - accuracy: 0.9907 - val_loss: 0.0287 - val_accuracy: 0.9912\n",
            "Epoch 5/5\n",
            "1875/1875 [==============================] - 59s 31ms/step - loss: 0.0208 - accuracy: 0.9934 - val_loss: 0.0431 - val_accuracy: 0.9872\n"
          ]
        },
        {
          "output_type": "execute_result",
          "data": {
            "text/plain": [
              "<keras.callbacks.History at 0x7f3575f11110>"
            ]
          },
          "metadata": {},
          "execution_count": 13
        }
      ]
    },
    {
      "cell_type": "code",
      "source": [
        "y_pred = model.predict(test_images)\n",
        "yy=y_pred[:,:1]\n",
        "print(yy.shape)\n",
        "y_true=test_labels\n",
        "print(y_true.shape)\n",
        "#y_pred=model.predict_classes(test_images)\n",
        "classes=[0,1,2,3,4,5,6,7,8,9]\n",
        "con_mat = tf.math.confusion_matrix(labels=y_true, predictions=yy, num_classes=len(classes)).numpy()\n",
        "con_mat_norm = np.around(con_mat.astype('float') / con_mat.sum(axis=1)[:, np.newaxis], decimals=2)\n",
        "\n",
        "con_mat_df = pd.DataFrame(con_mat_norm,\n",
        "                     index = classes, \n",
        "                     columns = classes)\n",
        "print(con_mat_df)"
      ],
      "metadata": {
        "colab": {
          "base_uri": "https://localhost:8080/"
        },
        "id": "TAmuNTTTQy9B",
        "outputId": "3a6fefeb-3e45-4f14-ba29-67b7784af5e3"
      },
      "execution_count": null,
      "outputs": [
        {
          "output_type": "stream",
          "name": "stdout",
          "text": [
            "(10000, 1)\n",
            "(10000,)\n",
            "      0     1    2    3    4    5    6    7    8    9\n",
            "0  0.98  0.02  0.0  0.0  0.0  0.0  0.0  0.0  0.0  0.0\n",
            "1  1.00  0.00  0.0  0.0  0.0  0.0  0.0  0.0  0.0  0.0\n",
            "2  1.00  0.00  0.0  0.0  0.0  0.0  0.0  0.0  0.0  0.0\n",
            "3  1.00  0.00  0.0  0.0  0.0  0.0  0.0  0.0  0.0  0.0\n",
            "4  1.00  0.00  0.0  0.0  0.0  0.0  0.0  0.0  0.0  0.0\n",
            "5  1.00  0.00  0.0  0.0  0.0  0.0  0.0  0.0  0.0  0.0\n",
            "6  1.00  0.00  0.0  0.0  0.0  0.0  0.0  0.0  0.0  0.0\n",
            "7  1.00  0.00  0.0  0.0  0.0  0.0  0.0  0.0  0.0  0.0\n",
            "8  1.00  0.00  0.0  0.0  0.0  0.0  0.0  0.0  0.0  0.0\n",
            "9  1.00  0.00  0.0  0.0  0.0  0.0  0.0  0.0  0.0  0.0\n"
          ]
        }
      ]
    },
    {
      "cell_type": "code",
      "source": [
        "print(con_mat)"
      ],
      "metadata": {
        "colab": {
          "base_uri": "https://localhost:8080/"
        },
        "id": "NcoWgmtASdrp",
        "outputId": "aa229ee7-740f-42cf-9e79-319f96049957"
      },
      "execution_count": null,
      "outputs": [
        {
          "output_type": "stream",
          "name": "stdout",
          "text": [
            "[[ 959   21    0    0    0    0    0    0    0    0]\n",
            " [1135    0    0    0    0    0    0    0    0    0]\n",
            " [1032    0    0    0    0    0    0    0    0    0]\n",
            " [1010    0    0    0    0    0    0    0    0    0]\n",
            " [ 982    0    0    0    0    0    0    0    0    0]\n",
            " [ 892    0    0    0    0    0    0    0    0    0]\n",
            " [ 958    0    0    0    0    0    0    0    0    0]\n",
            " [1028    0    0    0    0    0    0    0    0    0]\n",
            " [ 974    0    0    0    0    0    0    0    0    0]\n",
            " [1009    0    0    0    0    0    0    0    0    0]]\n"
          ]
        }
      ]
    },
    {
      "cell_type": "code",
      "source": [
        "print(con_mat_norm)"
      ],
      "metadata": {
        "id": "XepimLumSjwH",
        "outputId": "09f3a606-0b27-4378-c99e-f24fd822bfa0",
        "colab": {
          "base_uri": "https://localhost:8080/"
        }
      },
      "execution_count": null,
      "outputs": [
        {
          "output_type": "stream",
          "name": "stdout",
          "text": [
            "[[0.98 0.02 0.   0.   0.   0.   0.   0.   0.   0.  ]\n",
            " [1.   0.   0.   0.   0.   0.   0.   0.   0.   0.  ]\n",
            " [1.   0.   0.   0.   0.   0.   0.   0.   0.   0.  ]\n",
            " [1.   0.   0.   0.   0.   0.   0.   0.   0.   0.  ]\n",
            " [1.   0.   0.   0.   0.   0.   0.   0.   0.   0.  ]\n",
            " [1.   0.   0.   0.   0.   0.   0.   0.   0.   0.  ]\n",
            " [1.   0.   0.   0.   0.   0.   0.   0.   0.   0.  ]\n",
            " [1.   0.   0.   0.   0.   0.   0.   0.   0.   0.  ]\n",
            " [1.   0.   0.   0.   0.   0.   0.   0.   0.   0.  ]\n",
            " [1.   0.   0.   0.   0.   0.   0.   0.   0.   0.  ]]\n"
          ]
        }
      ]
    },
    {
      "cell_type": "code",
      "source": [
        "figure = plt.figure(figsize=(8, 8))\n",
        "sns.heatmap(con_mat_df, annot=True,cmap=plt.cm.Blues)\n",
        "plt.tight_layout()\n",
        "plt.ylabel('True label')\n",
        "plt.xlabel('Predicted label')\n",
        "plt.show()"
      ],
      "metadata": {
        "colab": {
          "base_uri": "https://localhost:8080/",
          "height": 599
        },
        "id": "f9QpLq9BSC-C",
        "outputId": "00371cce-db8e-46f5-8da6-ec007abe8f3c"
      },
      "execution_count": null,
      "outputs": [
        {
          "output_type": "display_data",
          "data": {
            "image/png": "[encoded data removed]",
            "text/plain": [
              "<Figure size 576x576 with 2 Axes>"
            ]
          },
          "metadata": {
            "needs_background": "light"
          }
        }
      ]
    }
  ]
}