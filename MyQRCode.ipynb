{
  "nbformat": 4,
  "nbformat_minor": 0,
  "metadata": {
    "colab": {
      "name": "MyQRCode.ipynb",
      "provenance": [],
      "collapsed_sections": [],
      "authorship_tag": "ABX9TyPVcZHYQn7eUL0Jyn6X5m6I",
      "include_colab_link": true
    },
    "kernelspec": {
      "name": "python3",
      "display_name": "Python 3"
    },
    "language_info": {
      "name": "python"
    }
  },
  "cells": [
    {
      "cell_type": "markdown",
      "metadata": {
        "id": "view-in-github",
        "colab_type": "text"
      },
      "source": [
        "<a href=\"https://colab.research.google.com/github/anujsaxena/AIML/blob/main/MyQRCode.ipynb\" target=\"_parent\"><img src=\"https://colab.research.google.com/assets/colab-badge.svg\" alt=\"Open In Colab\"/></a>"
      ]
    },
    {
      "cell_type": "markdown",
      "source": [
        "# **Generate a QR Code**"
      ],
      "metadata": {
        "id": "or3IleopaN4G"
      }
    },
    {
      "cell_type": "code",
      "execution_count": 1,
      "metadata": {
        "colab": {
          "base_uri": "https://localhost:8080/"
        },
        "id": "uB3r-JmwXg4a",
        "outputId": "d9c0393c-f873-445a-943e-134f7d0835b4"
      },
      "outputs": [
        {
          "output_type": "stream",
          "name": "stdout",
          "text": [
            "Collecting qrcode\n",
            "  Downloading qrcode-7.3.1.tar.gz (43 kB)\n",
            "\u001b[?25l\r\u001b[K     |███████▌                        | 10 kB 21.3 MB/s eta 0:00:01\r\u001b[K     |███████████████                 | 20 kB 28.4 MB/s eta 0:00:01\r\u001b[K     |██████████████████████▋         | 30 kB 29.9 MB/s eta 0:00:01\r\u001b[K     |██████████████████████████████▏ | 40 kB 15.7 MB/s eta 0:00:01\r\u001b[K     |████████████████████████████████| 43 kB 1.8 MB/s \n",
            "\u001b[?25hBuilding wheels for collected packages: qrcode\n",
            "  Building wheel for qrcode (setup.py) ... \u001b[?25l\u001b[?25hdone\n",
            "  Created wheel for qrcode: filename=qrcode-7.3.1-py3-none-any.whl size=40402 sha256=a0faeac437d6614a57bf69991475bafb728aff00b8c62e79abc00f8b7c95bf0a\n",
            "  Stored in directory: /root/.cache/pip/wheels/93/d7/39/a4111be2cfb8e679938aa671a37888b6afb1f9e7d748e94492\n",
            "Successfully built qrcode\n",
            "Installing collected packages: qrcode\n",
            "Successfully installed qrcode-7.3.1\n"
          ]
        }
      ],
      "source": [
        "!pip install qrcode"
      ]
    },
    {
      "cell_type": "code",
      "source": [
        "import qrcode\n",
        "img = qrcode.make(\"https://youtu.be/so74T6Q4NVc\")\n",
        "img.save(\"mytube.jpg\")"
      ],
      "metadata": {
        "id": "lKyFBVmbab4e"
      },
      "execution_count": 2,
      "outputs": []
    },
    {
      "cell_type": "markdown",
      "source": [
        "# **Decode**"
      ],
      "metadata": {
        "id": "oH3oNqula45-"
      }
    },
    {
      "cell_type": "code",
      "source": [
        "import cv2\n",
        "from google.colab.patches import cv2_imshow\n",
        "d = cv2.QRCodeDetector()  #create an object of the detector\n",
        "img = cv2.imread(\"mytube.jpg\");\n",
        "cv2_imshow(img)\n",
        "val, _,_ = d.detectAndDecode(img)\n",
        "print(\"Deoced value \", val) \n"
      ],
      "metadata": {
        "colab": {
          "base_uri": "https://localhost:8080/",
          "height": 405
        },
        "id": "1MwCzVMKa7oF",
        "outputId": "b76a6ca3-072d-4c35-a8ea-276ffc39e5a1"
      },
      "execution_count": 5,
      "outputs": [
        {
          "output_type": "display_data",
          "data": {
            "text/plain": [
              "<PIL.Image.Image image mode=RGB size=370x370 at 0x7F439B7ECED0>"
            ],
            "image/png": "[encoded data removed]"
          },
          "metadata": {}
        },
        {
          "output_type": "stream",
          "name": "stdout",
          "text": [
            "Deoced value  https://youtu.be/so74T6Q4NVc\n"
          ]
        }
      ]
    },
    {
      "cell_type": "code",
      "source": [
        "img = qrcode.make(\"I love you all\")\n",
        "img.save(\"il.jpg\")\n",
        "img = cv2.imread(\"il.jpg\");\n",
        "cv2_imshow(img)"
      ],
      "metadata": {
        "colab": {
          "base_uri": "https://localhost:8080/",
          "height": 307
        },
        "id": "W3xpxkUncoda",
        "outputId": "049f4da3-1a71-4d99-e154-c6f1e0211289"
      },
      "execution_count": 6,
      "outputs": [
        {
          "output_type": "display_data",
          "data": {
            "text/plain": [
              "<PIL.Image.Image image mode=RGB size=290x290 at 0x7F439B87FC50>"
            ],
            "image/png": "[encoded data removed]"
          },
          "metadata": {}
        }
      ]
    },
    {
      "cell_type": "code",
      "source": [
        "d = cv2.QRCodeDetector()  #create an object of the detector\n",
        "val, _,_ = d.detectAndDecode(img)\n",
        "print(\"Deoced value \", val) "
      ],
      "metadata": {
        "colab": {
          "base_uri": "https://localhost:8080/"
        },
        "id": "CSOR-gYQc8FH",
        "outputId": "69c22d9d-2933-4c7c-e272-10c4698146a7"
      },
      "execution_count": 7,
      "outputs": [
        {
          "output_type": "stream",
          "name": "stdout",
          "text": [
            "Deoced value  I love you all\n"
          ]
        }
      ]
    }
  ]
}