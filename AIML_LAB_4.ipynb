{
  "nbformat": 4,
  "nbformat_minor": 0,
  "metadata": {
    "colab": {
      "name": "AIML_LAB_4.ipynb",
      "provenance": [],
      "collapsed_sections": [],
      "authorship_tag": "ABX9TyO4oUfFk8t7mrmZou0r2PeW",
      "include_colab_link": true
    },
    "kernelspec": {
      "name": "python3",
      "display_name": "Python 3"
    },
    "language_info": {
      "name": "python"
    }
  },
  "cells": [
    {
      "cell_type": "markdown",
      "metadata": {
        "id": "view-in-github",
        "colab_type": "text"
      },
      "source": [
        "<a href=\"https://colab.research.google.com/github/anujsaxena/AIML/blob/main/AIML_LAB_4.ipynb\" target=\"_parent\"><img src=\"https://colab.research.google.com/assets/colab-badge.svg\" alt=\"Open In Colab\"/></a>"
      ]
    },
    {
      "cell_type": "markdown",
      "source": [
        "# **Natural Language processing (NLP)**\n",
        "\n",
        "**Text Analytics and NLP**\n",
        "\n",
        "One of the most common kinds of day-to-day conversion is text communication. In our everyday routine, we talk, message, tweet, post status, email, create blogs, and offer opinions and criticism. All of these actions result in a substantial volume of unstructured text being produced. It is critical to examine enormous amounts of data in this sector of the internet marketplace and social media to comprehend people's opinions.\n",
        "\n",
        "\n",
        "NLP allows a computer to communicate with people in a natural way. It assists the computer with comprehending and deriving meaning from human words. NLP may be used to solve a variety of problems, including speech recognition, language translation, document classification, and information extraction. Analyzing movie reviews is a famous example of using a simple NLP Bag-of-words model to show a simple NLP Bag-of-words model.\n",
        "\n",
        "**Compare Text Analytics, NLP and Text Mining**\n",
        "\n",
        "Text mining also referred to as text analytics. Text mining is a process of exploring sizeable textual data and find patterns. Text Mining process the text itself, while NLP process with the underlying metadata. Finding frequency counts of words, length of the sentence, presence/absence of specific words is known as text mining. Natural language processing is one of the components of text mining. NLP helps identified sentiment, finding entities in the sentence, and category of blog/article. Text mining is preprocessed data for text analytics. In Text Analytics, statistical and machine learning algorithm used to classify information.\n",
        "\n",
        "**Text Analysis Operations using NLTK**\n",
        "\n",
        "NLTK is a powerful Python package that provides a set of diverse natural languages algorithms. It is free, opensource, easy to use, large community, and well documented. NLTK consists of the most common algorithms such as tokenizing, part-of-speech tagging, stemming, sentiment analysis, topic segmentation, and named entity recognition. NLTK helps the computer to analysis, preprocess, and understand the written text.\n"
      ],
      "metadata": {
        "id": "fXnCsunY9BRO"
      }
    },
    {
      "cell_type": "code",
      "execution_count": 1,
      "metadata": {
        "id": "TtsOI76j80zD"
      },
      "outputs": [],
      "source": [
        "import nltk"
      ]
    },
    {
      "cell_type": "markdown",
      "source": [
        "# **Tokenization**\n",
        "\n",
        "Tokenization is the first step in text analytics. The process of breaking down a text paragraph into smaller chunks such as words or sentence is called Tokenization. Token is a single entity that is building blocks for sentence or paragraph.\n"
      ],
      "metadata": {
        "id": "JF6augNyEXB1"
      }
    },
    {
      "cell_type": "code",
      "source": [
        "nltk.download('punkt')"
      ],
      "metadata": {
        "colab": {
          "base_uri": "https://localhost:8080/"
        },
        "id": "1fGUrGoqEYts",
        "outputId": "579ede12-f015-446b-dc99-8239ee3bf149"
      },
      "execution_count": 2,
      "outputs": [
        {
          "output_type": "stream",
          "name": "stdout",
          "text": [
            "[nltk_data] Downloading package punkt to /root/nltk_data...\n",
            "[nltk_data]   Unzipping tokenizers/punkt.zip.\n"
          ]
        },
        {
          "output_type": "execute_result",
          "data": {
            "text/plain": [
              "True"
            ]
          },
          "metadata": {},
          "execution_count": 2
        }
      ]
    },
    {
      "cell_type": "code",
      "source": [
        "from nltk.tokenize import sent_tokenize\n",
        "\n",
        "text = \"US intelligence believes a rapid assault on Kyiv was also possible. Russian President Vladimir Putin could order an invasion before the Winter Olympics end on February 20, Sullivan said, adding it remains unclear whether such a command has been given.\"\n",
        "tks = sent_tokenize(text)\n",
        "print(tks)\n",
        "print(len(tks))"
      ],
      "metadata": {
        "colab": {
          "base_uri": "https://localhost:8080/"
        },
        "id": "n2jCehUkEhux",
        "outputId": "ec87258c-834e-46bc-b878-9417d27f4ea4"
      },
      "execution_count": 8,
      "outputs": [
        {
          "output_type": "stream",
          "name": "stdout",
          "text": [
            "['US intelligence believes a rapid assault on Kyiv was also possible.', 'Russian President Vladimir Putin could order an invasion before the Winter Olympics end on February 20, Sullivan said, adding it remains unclear whether such a command has been given.']\n",
            "2\n"
          ]
        }
      ]
    },
    {
      "cell_type": "markdown",
      "source": [
        "# **Tokenize words**\n",
        "\n",
        "Word tokenizer breaks text paragraph into words."
      ],
      "metadata": {
        "id": "CdqGIF6pFZ7E"
      }
    },
    {
      "cell_type": "code",
      "source": [
        "from nltk.tokenize import word_tokenize\n",
        "\n",
        "text = \"US intelligence believes a rapid assault on Kyiv was also possible. Russian President Vladimir Putin could order an invasion before the Winter Olympics end on February 20, Sullivan said, adding it remains unclear whether such a command has been given.\"\n",
        "tks = word_tokenize(text)\n",
        "print(tks)\n",
        "print(len(tks))"
      ],
      "metadata": {
        "colab": {
          "base_uri": "https://localhost:8080/"
        },
        "id": "ILOeSNB8Fcy9",
        "outputId": "56505b07-be2b-42b3-f702-f689fc3d98e7"
      },
      "execution_count": 11,
      "outputs": [
        {
          "output_type": "stream",
          "name": "stdout",
          "text": [
            "['US', 'intelligence', 'believes', 'a', 'rapid', 'assault', 'on', 'Kyiv', 'was', 'also', 'possible', '.', 'Russian', 'President', 'Vladimir', 'Putin', 'could', 'order', 'an', 'invasion', 'before', 'the', 'Winter', 'Olympics', 'end', 'on', 'February', '20', ',', 'Sullivan', 'said', ',', 'adding', 'it', 'remains', 'unclear', 'whether', 'such', 'a', 'command', 'has', 'been', 'given', '.']\n",
            "44\n"
          ]
        }
      ]
    },
    {
      "cell_type": "markdown",
      "source": [
        "# **Frequency**"
      ],
      "metadata": {
        "id": "wgmGQLJNF9dO"
      }
    },
    {
      "cell_type": "code",
      "source": [
        "from nltk.probability import FreqDist\n",
        "fdist = FreqDist(tks)\n",
        "print(fdist)"
      ],
      "metadata": {
        "colab": {
          "base_uri": "https://localhost:8080/"
        },
        "id": "TYoYunpAF1zz",
        "outputId": "536f3a4d-3b99-4d5f-cc4d-179432c39b3c"
      },
      "execution_count": 12,
      "outputs": [
        {
          "output_type": "stream",
          "name": "stdout",
          "text": [
            "<FreqDist with 40 samples and 44 outcomes>\n"
          ]
        }
      ]
    },
    {
      "cell_type": "code",
      "source": [
        "print(list(fdist))"
      ],
      "metadata": {
        "colab": {
          "base_uri": "https://localhost:8080/"
        },
        "id": "fjyiBriEGPu9",
        "outputId": "d3e6a5c5-d17e-4ed7-96d2-5007b041671c"
      },
      "execution_count": 13,
      "outputs": [
        {
          "output_type": "stream",
          "name": "stdout",
          "text": [
            "['US', 'intelligence', 'believes', 'a', 'rapid', 'assault', 'on', 'Kyiv', 'was', 'also', 'possible', '.', 'Russian', 'President', 'Vladimir', 'Putin', 'could', 'order', 'an', 'invasion', 'before', 'the', 'Winter', 'Olympics', 'end', 'February', '20', ',', 'Sullivan', 'said', 'adding', 'it', 'remains', 'unclear', 'whether', 'such', 'command', 'has', 'been', 'given']\n"
          ]
        }
      ]
    },
    {
      "cell_type": "code",
      "source": [
        "print(fdist.most_common(2))"
      ],
      "metadata": {
        "colab": {
          "base_uri": "https://localhost:8080/"
        },
        "id": "xbimS5K3GalZ",
        "outputId": "053d8c76-6139-4b28-9dc3-abbab9a22f6b"
      },
      "execution_count": 19,
      "outputs": [
        {
          "output_type": "stream",
          "name": "stdout",
          "text": [
            "[('a', 2), ('on', 2)]\n"
          ]
        }
      ]
    },
    {
      "cell_type": "code",
      "source": [
        "import matplotlib.pyplot as plt\n",
        "fdist.plot(20,cumulative=False)\n",
        "plt.show()"
      ],
      "metadata": {
        "colab": {
          "base_uri": "https://localhost:8080/",
          "height": 328
        },
        "id": "0vvNYrhwHDnD",
        "outputId": "9eb7032d-675b-4522-cf91-94247827ae4a"
      },
      "execution_count": 21,
      "outputs": [
        {
          "output_type": "display_data",
          "data": {
            "image/png": "[encoded data removed]",
            "text/plain": [
              "<Figure size 432x288 with 1 Axes>"
            ]
          },
          "metadata": {
            "needs_background": "light"
          }
        }
      ]
    },
    {
      "cell_type": "markdown",
      "source": [
        "# **Stop words**\n",
        "\n",
        "Stopwords considered as noise in the text. Text may contain stop words such as is, am, are, this, a, an, the, etc.\n",
        "\n",
        "In NLTK for removing stopwords, you need to create a list of stopwords and filter out your list of tokens from these words.\n"
      ],
      "metadata": {
        "id": "P_DlmMzuHVml"
      }
    },
    {
      "cell_type": "code",
      "source": [
        "nltk.download('stopwords')"
      ],
      "metadata": {
        "colab": {
          "base_uri": "https://localhost:8080/"
        },
        "id": "3HzTbLNUHMs2",
        "outputId": "d7244623-eaba-40aa-ced2-004ae860d4a7"
      },
      "execution_count": 22,
      "outputs": [
        {
          "output_type": "stream",
          "name": "stdout",
          "text": [
            "[nltk_data] Downloading package stopwords to /root/nltk_data...\n",
            "[nltk_data]   Unzipping corpora/stopwords.zip.\n"
          ]
        },
        {
          "output_type": "execute_result",
          "data": {
            "text/plain": [
              "True"
            ]
          },
          "metadata": {},
          "execution_count": 22
        }
      ]
    },
    {
      "cell_type": "code",
      "source": [
        "from nltk.corpus import stopwords\n",
        "stop_words=set(stopwords.words(\"english\"))\n",
        "print(stop_words)"
      ],
      "metadata": {
        "colab": {
          "base_uri": "https://localhost:8080/"
        },
        "id": "4wLI5UXLHtpz",
        "outputId": "f1433deb-97f9-443b-899a-ef9c8c6deb39"
      },
      "execution_count": 23,
      "outputs": [
        {
          "output_type": "stream",
          "name": "stdout",
          "text": [
            "{'am', \"aren't\", 'while', 'which', 'that', 'himself', 'hadn', 'do', 'there', \"don't\", \"should've\", 've', 'were', 'before', 'been', 'mightn', 'weren', \"you're\", 'up', 'o', 'whom', 'i', 'have', 'him', \"hasn't\", 'with', 'how', 'had', 'yourself', 'won', 'where', 'ain', 'wasn', 'will', 'such', 'until', 'down', \"doesn't\", \"shan't\", 'only', 'themselves', 'they', 'a', 'because', 'myself', \"isn't\", \"didn't\", 'once', 'here', 'against', \"won't\", 'did', 'd', 'from', 'his', 'aren', 'having', \"couldn't\", 'me', \"she's\", 'm', 'ourselves', 'each', 't', 'all', 'most', 'don', 'we', 'her', \"mustn't\", \"hadn't\", 'couldn', 'then', 'this', 'after', 'mustn', 'itself', 'she', 'an', 'herself', 'but', 'or', 'further', 'to', 'doesn', 'into', 'these', 'was', 'is', 'does', 'be', 'didn', 'than', 'just', 'your', \"shouldn't\", 'very', 'if', 'ma', 'being', 'in', 'any', 'on', 'are', \"mightn't\", \"needn't\", 'those', 'll', 'few', 'shouldn', 'at', 'y', 'you', 'who', 'when', 'what', 'off', 'haven', 'as', 'out', \"weren't\", 'shan', 'them', 'has', 'about', 'its', 'above', 're', 'should', 'their', 'no', 'so', \"you'd\", \"you'll\", 'of', 'yours', \"it's\", 'nor', 'now', 'ours', 'some', 'under', 's', 'can', 'isn', 'wouldn', \"wouldn't\", 'our', 'theirs', 'my', 'hers', 'needn', 'below', 'between', 'why', 'other', \"wasn't\", 'doing', 'again', 'over', 'he', 'both', 'yourselves', \"you've\", 'hasn', 'for', 'too', 'own', 'it', 'through', 'by', \"haven't\", 'during', 'the', 'more', \"that'll\", 'and', 'same', 'not'}\n"
          ]
        }
      ]
    },
    {
      "cell_type": "code",
      "source": [
        "from nltk.corpus import stopwords\n",
        "stop_wordsf=set(stopwords.words(\"french\"))\n",
        "print(stop_wordsf)"
      ],
      "metadata": {
        "colab": {
          "base_uri": "https://localhost:8080/"
        },
        "id": "GGs3NnQtHtXI",
        "outputId": "d8518f8d-7905-4256-a520-17f83494b2f0"
      },
      "execution_count": 25,
      "outputs": [
        {
          "output_type": "stream",
          "name": "stdout",
          "text": [
            "{'soyez', 'mon', 'toi', 'notre', 'fussions', 'la', 'fusse', 'aura', 'n', 'mes', 'aurons', 'fus', 'eûmes', 'au', 'seront', 'était', 'ai', 'aient', 'j', 'fûtes', 'eux', 'serait', 'se', 'avait', 'étants', 'avions', 'sois', 'étantes', 'dans', 'fussent', 'auriez', 'eurent', 'votre', 'es', 'qu', 'fusses', 'eût', 'moi', 'suis', 'eussiez', 'sera', 'te', 'sont', 'avaient', 'serais', 'par', 'étions', 'furent', 'avais', 'd', 'eue', 'le', 'étée', 'ils', 'me', 'aux', 'm', 't', 'aies', 'soient', 'ayants', 'aurez', 'aurait', 'mais', 'serions', 'ayante', 'seras', 'pour', 'avec', 'étiez', 'eussent', 'ce', 'ou', 'ayez', 'et', 'ayons', 'je', 'son', 'l', 'leur', 'avons', 'ses', 'sa', 'étante', 'aviez', 'qui', 'sommes', 'ma', 'avez', 'à', 'on', 'elle', 'étées', 'seraient', 'vous', 'soit', 'nous', 'auras', 'soyons', 'étaient', 'ont', 'sur', 'serai', 'ne', 'serons', 'fut', 'aurais', 'y', 'vos', 'eussions', 'aurai', 'as', 'êtes', 'eusses', 'fussiez', 'eusse', 'est', 'c', 'serez', 'de', 'étant', 'il', 'ayantes', 'ces', 'des', 'ait', 'ta', 'auraient', 'que', 'fût', 'eus', 's', 'eu', 'une', 'eûtes', 'eues', 'ayant', 'aurions', 'en', 'pas', 'nos', 'eut', 'du', 'seriez', 'tu', 'ton', 'été', 'les', 'même', 'étés', 'auront', 'un', 'fûmes', 'étais', 'aie', 'lui', 'tes'}\n"
          ]
        }
      ]
    },
    {
      "cell_type": "markdown",
      "source": [
        "# **Remove Stop words**"
      ],
      "metadata": {
        "id": "XEmyXezjITZ0"
      }
    },
    {
      "cell_type": "code",
      "source": [
        "filtered_sent =[]\n",
        "for w in tks:\n",
        "   if w.lower() not in stop_words:\n",
        "        filtered_sent.append(w)\n",
        "print(\"Tokenized Sentence:\",tks)\n",
        "print(len(tks))\n",
        "print(\"Filterd Sentence:\",filtered_sent)\n",
        "print(len(filtered_sent))"
      ],
      "metadata": {
        "colab": {
          "base_uri": "https://localhost:8080/"
        },
        "id": "sVrsQ_6XIS5z",
        "outputId": "a5c99c85-2459-4255-a598-2b58850d72ec"
      },
      "execution_count": 27,
      "outputs": [
        {
          "output_type": "stream",
          "name": "stdout",
          "text": [
            "Tokenized Sentence: ['US', 'intelligence', 'believes', 'a', 'rapid', 'assault', 'on', 'Kyiv', 'was', 'also', 'possible', '.', 'Russian', 'President', 'Vladimir', 'Putin', 'could', 'order', 'an', 'invasion', 'before', 'the', 'Winter', 'Olympics', 'end', 'on', 'February', '20', ',', 'Sullivan', 'said', ',', 'adding', 'it', 'remains', 'unclear', 'whether', 'such', 'a', 'command', 'has', 'been', 'given', '.']\n",
            "44\n",
            "Filterd Sentence: ['US', 'intelligence', 'believes', 'rapid', 'assault', 'Kyiv', 'also', 'possible', '.', 'Russian', 'President', 'Vladimir', 'Putin', 'could', 'order', 'invasion', 'Winter', 'Olympics', 'end', 'February', '20', ',', 'Sullivan', 'said', ',', 'adding', 'remains', 'unclear', 'whether', 'command', 'given', '.']\n",
            "32\n"
          ]
        }
      ]
    },
    {
      "cell_type": "markdown",
      "source": [
        "# **Lexicon Normalization**\n",
        "Lexicon normalization considers another type of noise in the text. For example, connection, connected, connecting word reduce to a common word \"connect\". It reduces derivationally related forms of a word to a common root word.\n",
        "\n",
        "# **Stemming**\n",
        "Stemming is a process of linguistic normalization, which reduces words to their word root word or chops off the derivational affixes. For example, connection, connected, connecting word reduce to a common word \"connect\".\n",
        "\n",
        "**Difference**\n",
        "\n",
        "Stemming and Lemmatization both generate the foundation sort of the inflected words and therefore the only difference is that stem may not be an actual word whereas, lemma is an actual language word.\n",
        "\n",
        "Stemming follows an algorithm with steps to perform on the words which makes it faster. Whereas, in lemmatization, you used a corpus also to supply lemma which makes it slower than stemming. you furthermore might had to define a parts-of-speech to get the proper lemma.\n"
      ],
      "metadata": {
        "id": "3oawW9rKJOkV"
      }
    },
    {
      "cell_type": "code",
      "source": [
        "#Lexicon Normalization\n",
        "#performing stemming and Lemmatization\n",
        "\n",
        "nltk.download('wordnet')\n",
        "\n",
        "from nltk.stem.wordnet import WordNetLemmatizer\n",
        "lem = WordNetLemmatizer() \n",
        "\n",
        "from nltk.stem.porter import PorterStemmer\n",
        "stem = PorterStemmer()\n",
        "\n",
        "word = \"flying\"\n",
        "print(\"Lemmatized Word:\",lem.lemmatize(word,\"v\"))\n",
        "print(\"Stemmed Word:\",stem.stem(word))"
      ],
      "metadata": {
        "colab": {
          "base_uri": "https://localhost:8080/"
        },
        "id": "AxnBKzh-JKV5",
        "outputId": "ffd7f993-b24f-4461-9086-f65ab7394517"
      },
      "execution_count": 28,
      "outputs": [
        {
          "output_type": "stream",
          "name": "stdout",
          "text": [
            "[nltk_data] Downloading package wordnet to /root/nltk_data...\n",
            "[nltk_data]   Unzipping corpora/wordnet.zip.\n",
            "Lemmatized Word: fly\n",
            "Stemmed Word: fli\n"
          ]
        }
      ]
    },
    {
      "cell_type": "code",
      "source": [
        "word = \"conducted\"\n",
        "print(\"Lemmatized Word:\",lem.lemmatize(word,\"v\"))\n",
        "print(\"Stemmed Word:\",stem.stem(word))"
      ],
      "metadata": {
        "colab": {
          "base_uri": "https://localhost:8080/"
        },
        "id": "_UsRlXfzKDZd",
        "outputId": "5975a44b-f558-4e07-ddff-aa306932166e"
      },
      "execution_count": 30,
      "outputs": [
        {
          "output_type": "stream",
          "name": "stdout",
          "text": [
            "Lemmatized Word: conduct\n",
            "Stemmed Word: conduct\n"
          ]
        }
      ]
    },
    {
      "cell_type": "markdown",
      "source": [
        "# **Part of Speech (POS)**\n",
        "\n",
        "The primary target of Part-of-Speech(POS) tagging is to identify the grammatical group of a given word. Whether it is a NOUN, PRONOUN, ADJECTIVE, VERB, ADVERBS, etc. based on the context. POS Tagging looks for relationships within the sentence and assigns a corresponding tag to the word."
      ],
      "metadata": {
        "id": "GScb8LOPKXwJ"
      }
    },
    {
      "cell_type": "code",
      "source": [
        "sent =\"Ravi Shastri was a great cricketer of India. He played for Maharstra in domestic cricket. He had a record of htting 6 fours in an over.\"\n",
        "tokens=nltk.word_tokenize(sent)\n",
        "print(tokens)\n"
      ],
      "metadata": {
        "colab": {
          "base_uri": "https://localhost:8080/"
        },
        "id": "LHGSO83AKcaR",
        "outputId": "5e0ffe8b-fea3-4e25-a54f-d6e043a9609c"
      },
      "execution_count": 31,
      "outputs": [
        {
          "output_type": "stream",
          "name": "stdout",
          "text": [
            "['Ravi', 'Shastri', 'was', 'a', 'great', 'cricketer', 'of', 'India', '.', 'He', 'played', 'for', 'Maharstra', 'in', 'domestic', 'cricket', '.', 'He', 'had', 'a', 'record', 'of', 'htting', '6', 'fours', 'in', 'an', 'over', '.']\n"
          ]
        }
      ]
    },
    {
      "cell_type": "code",
      "source": [
        "nltk.download('averaged_perceptron_tagger')  #download\n",
        "ps = nltk.pos_tag(tokens)\n",
        "print(ps)"
      ],
      "metadata": {
        "colab": {
          "base_uri": "https://localhost:8080/"
        },
        "id": "DErNg0slKihK",
        "outputId": "153d18d6-5a0f-4a83-8f63-603d91e16d60"
      },
      "execution_count": 32,
      "outputs": [
        {
          "output_type": "stream",
          "name": "stdout",
          "text": [
            "[nltk_data] Downloading package averaged_perceptron_tagger to\n",
            "[nltk_data]     /root/nltk_data...\n",
            "[nltk_data]   Unzipping taggers/averaged_perceptron_tagger.zip.\n",
            "[('Ravi', 'NNP'), ('Shastri', 'NNP'), ('was', 'VBD'), ('a', 'DT'), ('great', 'JJ'), ('cricketer', 'NN'), ('of', 'IN'), ('India', 'NNP'), ('.', '.'), ('He', 'PRP'), ('played', 'VBD'), ('for', 'IN'), ('Maharstra', 'NNP'), ('in', 'IN'), ('domestic', 'JJ'), ('cricket', 'NN'), ('.', '.'), ('He', 'PRP'), ('had', 'VBD'), ('a', 'DT'), ('record', 'NN'), ('of', 'IN'), ('htting', 'VBG'), ('6', 'CD'), ('fours', 'NNS'), ('in', 'IN'), ('an', 'DT'), ('over', 'NN'), ('.', '.')]\n"
          ]
        }
      ]
    },
    {
      "cell_type": "markdown",
      "source": [
        "\n",
        "\n",
        "```\n",
        "POS tag list:\n",
        "CC\tcoordinating conjunction\n",
        "CD\tcardinal digit\n",
        "DT\tdeterminer\n",
        "EX\texistential there (like: \"there is\" ... think of it like \"there exists\")\n",
        "FW\tforeign word\n",
        "IN\tpreposition/subordinating conjunction\n",
        "JJ\tadjective\t'big'\n",
        "JJR\tadjective, comparative\t'bigger'\n",
        "JJS\tadjective, superlative\t'biggest'\n",
        "LS\tlist marker\t1)\n",
        "MD\tmodal\tcould, will\n",
        "NN\tnoun, singular 'desk'\n",
        "NNS\tnoun plural\t'desks'\n",
        "NNP\tproper noun, singular\t'Harrison'\n",
        "NNPS\tproper noun, plural\t'Americans'\n",
        "PDT\tpredeterminer\t'all the kids'\n",
        "POS\tpossessive ending\tparent\\'s\n",
        "PRP\tpersonal pronoun\tI, he, she\n",
        "PRP$\tpossessive pronoun\tmy, his, hers\n",
        "RB\tadverb\tvery, silently,\n",
        "RBR\tadverb, comparative\tbetter\n",
        "RBS\tadverb, superlative\tbest\n",
        "RP\tparticle\tgive up\n",
        "TO\tto\tgo 'to' the store.\n",
        "UH\tinterjection\terrrrrrrrm\n",
        "VB\tverb, base form\ttake\n",
        "VBD\tverb, past tense\ttook\n",
        "VBG\tverb, gerund/present participle\ttaking\n",
        "VBN\tverb, past participle\ttaken\n",
        "VBP\tverb, sing. present, non-3d\ttake\n",
        "VBZ\tverb, 3rd person sing. present\ttakes\n",
        "WDT\twh-determiner\twhich\n",
        "WP\twh-pronoun\twho, what\n",
        "WP$\tpossessive wh-pronoun\twhose\n",
        "WRB\twh-abverb\twhere, when\n",
        "\n",
        "```"
      ],
      "metadata": {
        "id": "NIKYuoozKw8m"
      }
    },
    {
      "cell_type": "markdown",
      "source": [
        "# **Sentiment Analysis**\n",
        "\n",
        "Nowadays companies want to understand, what went wrong with their latest products? What users and the general public think about the latest feature? You can quantify such information with reasonable accuracy using sentiment analysis.\n",
        "Quantifying users content, idea, belief, and opinion is known as sentiment analysis. User's online post, blogs, tweets, feedback of product helps business people to the target audience and innovate in products and services. Sentiment analysis helps in understanding people in a better and more accurate way. It is not only limited to marketing, but it can also be utilized in politics, research, and security.\n",
        "\n",
        "Human communication just not limited to words, it is more than words. Sentiments are combination words, tone, and writing style. As a data analyst, It is more important to understand our sentiments, what it really means?\n",
        "\n",
        "There are mainly two approaches for performing sentiment analysis.\n",
        "Lexicon-based: count number of positive and negative words in given text and \n",
        "the larger count will be the sentiment of text.\n",
        "\n",
        "Machine learning based approach: Develop a classification model, which is trained using the pre-labelled dataset of positive, negative, and neutral.\n",
        "In this Tutorial, you will use the second approach(Machine learning based approach). This is how you learn sentiment and text classification with a single example.\n",
        "Text Classification\n",
        "Text classification is one of the important tasks of text mining. It is a supervised approach. Identifying category or class of given text such as a blog, book, web page, news articles, and tweets. It has various application in today's computer world such as spam detection, task categorization in CRM services, categorizing products on E-retailer websites, classifying the content of websites for a search engine, sentiments of customer feedback, etc. In the next section, you will learn how you can do text classification in python.\n",
        "\n",
        "![image.png](data:image/png;base64,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)\n"
      ],
      "metadata": {
        "id": "jcWMJl1gLPXW"
      }
    },
    {
      "cell_type": "code",
      "source": [
        "import pandas as pd\n",
        "data = pd.read_csv('train.tsv', sep='\\t')\n",
        "data.head()\n",
        "data = data.dropna(axis=\"columns\", how=\"any\")"
      ],
      "metadata": {
        "id": "eXrIA3XILk86"
      },
      "execution_count": 41,
      "outputs": []
    },
    {
      "cell_type": "code",
      "source": [
        "data.info()"
      ],
      "metadata": {
        "colab": {
          "base_uri": "https://localhost:8080/"
        },
        "id": "T1UkrMDvOiIS",
        "outputId": "7f494c23-9aeb-44ea-e982-4ce0d152319a"
      },
      "execution_count": 42,
      "outputs": [
        {
          "output_type": "stream",
          "name": "stdout",
          "text": [
            "<class 'pandas.core.frame.DataFrame'>\n",
            "RangeIndex: 156054 entries, 0 to 156053\n",
            "Data columns (total 4 columns):\n",
            " #   Column      Non-Null Count   Dtype \n",
            "---  ------      --------------   ----- \n",
            " 0   PhraseId    156054 non-null  int64 \n",
            " 1   SentenceId  156054 non-null  int64 \n",
            " 2   Phrase      156054 non-null  object\n",
            " 3   Sentiment   156054 non-null  int64 \n",
            "dtypes: int64(3), object(1)\n",
            "memory usage: 4.8+ MB\n"
          ]
        }
      ]
    },
    {
      "cell_type": "code",
      "source": [
        "data.Sentiment.value_counts()"
      ],
      "metadata": {
        "colab": {
          "base_uri": "https://localhost:8080/"
        },
        "id": "PwQY72JpOnic",
        "outputId": "c460f52d-b69d-4c77-c2d4-84a3b8520f70"
      },
      "execution_count": 43,
      "outputs": [
        {
          "output_type": "execute_result",
          "data": {
            "text/plain": [
              "2    79577\n",
              "3    32927\n",
              "1    27272\n",
              "4     9206\n",
              "0     7072\n",
              "Name: Sentiment, dtype: int64"
            ]
          },
          "metadata": {},
          "execution_count": 43
        }
      ]
    },
    {
      "cell_type": "markdown",
      "source": [
        "This data has 5 sentiment labels:\n",
        "\n",
        "0 - negative\n",
        "\n",
        "1 - somewhat negative \n",
        "\n",
        "2 - neutral \n",
        "\n",
        "3 - somewhat positive \n",
        "\n",
        "4 - positive\n"
      ],
      "metadata": {
        "id": "mO_KtgKgO1wv"
      }
    },
    {
      "cell_type": "code",
      "source": [
        "import matplotlib.pyplot as plt\n",
        "\n",
        "Sentiment_count=data.groupby('Sentiment').count()\n",
        "plt.bar(Sentiment_count.index.values, Sentiment_count['Phrase'])\n",
        "plt.xlabel('Review Sentiments')\n",
        "plt.ylabel('Number of Review')\n",
        "plt.show()\n"
      ],
      "metadata": {
        "colab": {
          "base_uri": "https://localhost:8080/",
          "height": 279
        },
        "id": "aaXRpR2AOyvX",
        "outputId": "12e020d5-2663-4829-8ad1-ed774db8b8f6"
      },
      "execution_count": 44,
      "outputs": [
        {
          "output_type": "display_data",
          "data": {
            "image/png": "[encoded data removed]",
            "text/plain": [
              "<Figure size 432x288 with 1 Axes>"
            ]
          },
          "metadata": {
            "needs_background": "light"
          }
        }
      ]
    },
    {
      "cell_type": "markdown",
      "source": [
        "# **Feature Generation using Bag of Words**\n",
        "\n",
        "Bag-of-Words is a very intuitive approach to this problem, the methods comprise of:\n",
        "\n",
        "1.\tSplitting the documents into tokens by following some sort of pattern.\n",
        "2.\tAssigning a weight to each token proportional to the frequency with which it shows up in the document and/or corpora.\n",
        "3.\tCreating a document-term matrix with each row representing a document and each column addressing a token.\n",
        "\n",
        "The vectorizer objects provided by Scikit-Learn are quite reliable right out of the box, they allow us to perform all the above steps at once efficiently, and even apply preprocessing and rules regarding the number and frequency of tokens. To top it all off, they come in three different flavors (there are other versions like DictVectorizers, but they are not that common):\n",
        "\n",
        "1. Count Vectorizer: The most straightforward one, it counts the number of times a token shows up in the document and uses this value as its weight.\n",
        "\n",
        "2. Hash Vectorizer: This one is designed to be as memory efficient as possible. Instead of storing the tokens as strings, the vectorizer applies the hashing trick to encode them as numerical indexes. The downside of this method is that once vectorized, the features’ names can no longer be retrieved.\n",
        "\n",
        "3. TF-IDF Vectorizer: TF-IDF stands for \"term frequency-inverse document frequency\", meaning the weight assigned to each token not only depends on its frequency in a document but also how recurrent that term is in the entire corpora.\n"
      ],
      "metadata": {
        "id": "wxkl5ROyPIBX"
      }
    },
    {
      "cell_type": "code",
      "source": [
        "from sklearn.feature_extraction.text import CountVectorizer\n",
        "from nltk.tokenize import RegexpTokenizer\n",
        "#tokenizer to remove unwanted elements from out data like symbols and numbers\n",
        "token = RegexpTokenizer(r'[a-zA-Z0-9]+')\n",
        "cv = CountVectorizer(lowercase=True,stop_words='english',ngram_range = (1,1),tokenizer = token.tokenize)\n",
        "text_counts= cv.fit_transform(data['Phrase'])\n",
        "print(text_counts)"
      ],
      "metadata": {
        "colab": {
          "base_uri": "https://localhost:8080/"
        },
        "id": "Oj25fugmPBn6",
        "outputId": "acc02588-32ce-4933-dce5-79dd1cf39805"
      },
      "execution_count": 45,
      "outputs": [
        {
          "output_type": "stream",
          "name": "stdout",
          "text": [
            "  (0, 2273)\t1\n",
            "  (1, 1008)\t1\n",
            "  (2, 2273)\t1\n",
            "  (2, 1008)\t1\n",
            "  (3, 2273)\t1\n",
            "  (3, 1008)\t1\n",
            "  (3, 5254)\t1\n",
            "  (4, 6158)\t1\n",
            "  (4, 11285)\t1\n",
            "  (5, 2273)\t1\n",
            "  (5, 1008)\t1\n",
            "  (5, 5254)\t1\n",
            "  (5, 6158)\t1\n",
            "  (5, 11285)\t1\n",
            "  (6, 2273)\t1\n",
            "  (6, 1008)\t1\n",
            "  (6, 5254)\t1\n",
            "  (6, 6158)\t1\n",
            "  (6, 11285)\t1\n",
            "  (6, 1283)\t1\n",
            "  (7, 11309)\t1\n",
            "  (8, 11309)\t1\n",
            "  (8, 9057)\t1\n",
            "  (9, 11309)\t1\n",
            "  (9, 9057)\t1\n",
            "  :\t:\n",
            "  (156046, 4519)\t1\n",
            "  (156048, 5737)\t1\n",
            "  (156048, 3446)\t1\n",
            "  (156048, 296)\t1\n",
            "  (156048, 5753)\t1\n",
            "  (156048, 4519)\t1\n",
            "  (156049, 11675)\t1\n",
            "  (156051, 11675)\t1\n",
            "  (156052, 5737)\t1\n",
            "  (156052, 11675)\t1\n",
            "  (156052, 3446)\t1\n",
            "  (156052, 296)\t1\n",
            "  (156052, 5753)\t1\n",
            "  (156052, 4519)\t1\n",
            "  (156053, 5737)\t2\n",
            "  (156053, 12677)\t1\n",
            "  (156053, 11675)\t1\n",
            "  (156053, 586)\t1\n",
            "  (156053, 9068)\t1\n",
            "  (156053, 3446)\t1\n",
            "  (156053, 296)\t1\n",
            "  (156053, 5753)\t1\n",
            "  (156053, 595)\t1\n",
            "  (156053, 5514)\t1\n",
            "  (156053, 4519)\t1\n"
          ]
        }
      ]
    },
    {
      "cell_type": "code",
      "source": [
        "#split the data into training set and testing set\n",
        "from sklearn.model_selection import train_test_split\n",
        "X_train, X_test, y_train, y_test = train_test_split(text_counts, data['Sentiment'], test_size=0.3, random_state=1)\n"
      ],
      "metadata": {
        "id": "HHk35MwRQ7Eg"
      },
      "execution_count": 46,
      "outputs": []
    },
    {
      "cell_type": "markdown",
      "source": [
        "# **Model Building and Evaluation**\n",
        "Let's build the Text Classification Model using TF-IDF.\n",
        "\n",
        "First, import the MultinomialNB module and create a Multinomial Naive Bayes classifier object using MultinomialNB() function.\n",
        "Then, fit your model on a train set using fit() and perform prediction on the test set using predict().\n"
      ],
      "metadata": {
        "id": "uFV18ruHRhgs"
      }
    },
    {
      "cell_type": "code",
      "source": [
        "from sklearn.naive_bayes import MultinomialNB\n",
        "#Import scikit-learn metrics module for accuracy calculation\n",
        "\n",
        "from sklearn import metrics\n",
        "# Model Generation Using Multinomial Naive Bayes\n",
        "clf = MultinomialNB().fit(X_train, y_train)\n",
        "predicted= clf.predict(X_test)\n",
        "print(\"MultinomialNB Accuracy:\",metrics.accuracy_score(y_test, predicted))"
      ],
      "metadata": {
        "colab": {
          "base_uri": "https://localhost:8080/"
        },
        "id": "tuGYZeGKRi1y",
        "outputId": "c77ff0e9-a07b-42d4-a485-d14e8c43f8ee"
      },
      "execution_count": 47,
      "outputs": [
        {
          "output_type": "stream",
          "name": "stdout",
          "text": [
            "MultinomialNB Accuracy: 0.6058910224918299\n"
          ]
        }
      ]
    },
    {
      "cell_type": "markdown",
      "source": [
        "# **Feature Generation using TF-IDF**\n",
        "In Term Frequency(TF), you just count the number of words occurred in each document. The main issue with this Term Frequency is that it will give more weight to longer documents. Term frequency is basically the output of the BoW model.\n"
      ],
      "metadata": {
        "id": "0HRGADXGUfQj"
      }
    },
    {
      "cell_type": "code",
      "source": [
        "from sklearn.feature_extraction.text import TfidfVectorizer\n",
        "tf=TfidfVectorizer()\n",
        "text_tf= tf.fit_transform(data['Phrase'])"
      ],
      "metadata": {
        "id": "0xi3cSUkUgZ2"
      },
      "execution_count": 48,
      "outputs": []
    },
    {
      "cell_type": "code",
      "source": [
        "print(text_tf)"
      ],
      "metadata": {
        "colab": {
          "base_uri": "https://localhost:8080/"
        },
        "id": "KFOZz_O8UuAr",
        "outputId": "df98a21d-9af9-4407-e23f-7b7bd2a66119"
      },
      "execution_count": 49,
      "outputs": [
        {
          "output_type": "stream",
          "name": "stdout",
          "text": [
            "  (0, 2315)\t1.0\n",
            "  (1, 1029)\t1.0\n",
            "  (2, 1029)\t0.7071067811865475\n",
            "  (2, 2315)\t0.7071067811865475\n",
            "  (3, 5330)\t0.4847448489876183\n",
            "  (3, 1029)\t0.6184749111241179\n",
            "  (3, 2315)\t0.6184749111241179\n",
            "  (4, 6247)\t1.0\n",
            "  (5, 6247)\t0.4970465823839992\n",
            "  (5, 5330)\t0.42062467084378374\n",
            "  (5, 1029)\t0.536665436383761\n",
            "  (5, 2315)\t0.536665436383761\n",
            "  (6, 1315)\t0.4006894504458422\n",
            "  (6, 6247)\t0.4554010023069297\n",
            "  (6, 5330)\t0.3853821824476304\n",
            "  (6, 1029)\t0.4917003482056698\n",
            "  (6, 2315)\t0.4917003482056698\n",
            "  (7, 627)\t0.3013124370081688\n",
            "  (7, 11469)\t0.9535254665210564\n",
            "  (8, 9196)\t0.6986896676949563\n",
            "  (8, 627)\t0.21556641184285188\n",
            "  (8, 11469)\t0.6821758353544264\n",
            "  (9, 13509)\t0.1863851149876357\n",
            "  (9, 9196)\t0.6864463627299656\n",
            "  (9, 627)\t0.21178899041753163\n",
            "  :\t:\n",
            "  (156052, 13509)\t0.1950103777327113\n",
            "  (156053, 4579)\t0.27851042512323987\n",
            "  (156053, 5597)\t0.265769277140016\n",
            "  (156053, 604)\t0.2633920253955913\n",
            "  (156053, 5839)\t0.22881470432637918\n",
            "  (156053, 290)\t0.2511085464881915\n",
            "  (156053, 3492)\t0.24848061660541\n",
            "  (156053, 9207)\t0.1929934668654022\n",
            "  (156053, 595)\t0.22066645974385618\n",
            "  (156053, 11841)\t0.1761812078632399\n",
            "  (156053, 531)\t0.1614214242501298\n",
            "  (156053, 14892)\t0.2869892546522999\n",
            "  (156053, 14875)\t0.1354273197382851\n",
            "  (156053, 8809)\t0.13541391352198984\n",
            "  (156053, 12861)\t0.1278825034140462\n",
            "  (156053, 9087)\t0.1898319922573583\n",
            "  (156053, 12428)\t0.13815976689685122\n",
            "  (156053, 5823)\t0.26261621568662086\n",
            "  (156053, 1881)\t0.11039152050041225\n",
            "  (156053, 9231)\t0.270664463951805\n",
            "  (156053, 13507)\t0.08983687402372355\n",
            "  (156053, 13685)\t0.0761755802356978\n",
            "  (156053, 5325)\t0.20347446317720816\n",
            "  (156053, 7219)\t0.17525352662615828\n",
            "  (156053, 13509)\t0.17695115978676132\n"
          ]
        }
      ]
    },
    {
      "cell_type": "code",
      "source": [
        "#split the data into training set and testing set\n",
        "from sklearn.model_selection import train_test_split\n",
        "X_train, X_test, y_train, y_test = train_test_split(text_counts, data['Sentiment'], test_size=0.2, random_state=123)"
      ],
      "metadata": {
        "id": "g00hDY9pUyaW"
      },
      "execution_count": 56,
      "outputs": []
    },
    {
      "cell_type": "code",
      "source": [
        "print(X_train)"
      ],
      "metadata": {
        "colab": {
          "base_uri": "https://localhost:8080/"
        },
        "id": "fdPjTEK1U6lf",
        "outputId": "45aa6b42-9d5a-45e8-9a91-fe3cd9028b04"
      },
      "execution_count": 51,
      "outputs": [
        {
          "output_type": "stream",
          "name": "stdout",
          "text": [
            "  (0, 6449)\t1\n",
            "  (0, 12401)\t1\n",
            "  (1, 7337)\t1\n",
            "  (1, 11793)\t1\n",
            "  (2, 11285)\t1\n",
            "  (2, 6332)\t1\n",
            "  (2, 2553)\t1\n",
            "  (2, 1562)\t1\n",
            "  (3, 14824)\t1\n",
            "  (3, 12673)\t1\n",
            "  (3, 9132)\t1\n",
            "  (5, 12804)\t1\n",
            "  (5, 5126)\t1\n",
            "  (5, 4194)\t1\n",
            "  (6, 11678)\t1\n",
            "  (7, 6002)\t1\n",
            "  (7, 14821)\t1\n",
            "  (7, 14824)\t1\n",
            "  (7, 14941)\t1\n",
            "  (7, 11644)\t1\n",
            "  (7, 13446)\t1\n",
            "  (7, 12876)\t1\n",
            "  (7, 10464)\t1\n",
            "  (7, 633)\t1\n",
            "  (7, 13783)\t1\n",
            "  :\t:\n",
            "  (109229, 13040)\t1\n",
            "  (109229, 5040)\t1\n",
            "  (109230, 2138)\t1\n",
            "  (109230, 9818)\t1\n",
            "  (109230, 6330)\t1\n",
            "  (109231, 14887)\t1\n",
            "  (109231, 7405)\t1\n",
            "  (109231, 9778)\t1\n",
            "  (109232, 3021)\t1\n",
            "  (109233, 2661)\t1\n",
            "  (109234, 14207)\t1\n",
            "  (109234, 9100)\t1\n",
            "  (109234, 13840)\t1\n",
            "  (109234, 9581)\t2\n",
            "  (109234, 13002)\t1\n",
            "  (109234, 8846)\t1\n",
            "  (109234, 7307)\t1\n",
            "  (109235, 2138)\t1\n",
            "  (109235, 13439)\t1\n",
            "  (109235, 10419)\t1\n",
            "  (109235, 8005)\t1\n",
            "  (109235, 12907)\t1\n",
            "  (109235, 8041)\t1\n",
            "  (109235, 6047)\t1\n",
            "  (109236, 11804)\t1\n"
          ]
        }
      ]
    },
    {
      "cell_type": "code",
      "source": [
        "print(y_train)"
      ],
      "metadata": {
        "colab": {
          "base_uri": "https://localhost:8080/"
        },
        "id": "kBiPBHfDU-50",
        "outputId": "8e6ade87-7211-4752-bf2d-23130f6fc7c8"
      },
      "execution_count": 52,
      "outputs": [
        {
          "output_type": "stream",
          "name": "stdout",
          "text": [
            "52237     2\n",
            "29333     3\n",
            "19662     2\n",
            "73379     2\n",
            "113695    2\n",
            "         ..\n",
            "146449    3\n",
            "119906    4\n",
            "17730     2\n",
            "28030     2\n",
            "15725     2\n",
            "Name: Sentiment, Length: 109237, dtype: int64\n"
          ]
        }
      ]
    },
    {
      "cell_type": "code",
      "source": [
        "print(X_test)"
      ],
      "metadata": {
        "colab": {
          "base_uri": "https://localhost:8080/"
        },
        "id": "YErQ7WVrVFLF",
        "outputId": "f68e933f-5437-4f56-e3ad-bf381784aa95"
      },
      "execution_count": 53,
      "outputs": [
        {
          "output_type": "stream",
          "name": "stdout",
          "text": [
            "  (0, 8082)\t1\n",
            "  (0, 13283)\t1\n",
            "  (0, 13439)\t1\n",
            "  (0, 2558)\t1\n",
            "  (1, 10786)\t1\n",
            "  (2, 11285)\t1\n",
            "  (2, 14839)\t1\n",
            "  (2, 10873)\t1\n",
            "  (3, 12293)\t1\n",
            "  (3, 1203)\t1\n",
            "  (3, 9636)\t1\n",
            "  (3, 4970)\t1\n",
            "  (3, 8070)\t1\n",
            "  (3, 8497)\t1\n",
            "  (3, 5786)\t1\n",
            "  (3, 5677)\t1\n",
            "  (4, 9844)\t1\n",
            "  (4, 2148)\t1\n",
            "  (4, 9100)\t1\n",
            "  (4, 272)\t1\n",
            "  (4, 12982)\t1\n",
            "  (4, 8045)\t1\n",
            "  (4, 11953)\t1\n",
            "  (4, 14172)\t1\n",
            "  (4, 13140)\t1\n",
            "  :\t:\n",
            "  (46810, 7256)\t1\n",
            "  (46810, 11392)\t1\n",
            "  (46810, 10814)\t1\n",
            "  (46811, 2148)\t1\n",
            "  (46811, 2603)\t1\n",
            "  (46811, 14504)\t1\n",
            "  (46811, 6207)\t1\n",
            "  (46811, 3208)\t1\n",
            "  (46811, 6487)\t1\n",
            "  (46812, 14041)\t1\n",
            "  (46813, 12240)\t1\n",
            "  (46813, 12800)\t1\n",
            "  (46814, 10841)\t1\n",
            "  (46814, 5444)\t1\n",
            "  (46815, 5042)\t1\n",
            "  (46815, 3874)\t1\n",
            "  (46815, 8762)\t1\n",
            "  (46815, 13098)\t1\n",
            "  (46815, 7869)\t1\n",
            "  (46815, 3266)\t1\n",
            "  (46815, 13348)\t1\n",
            "  (46815, 9589)\t1\n",
            "  (46815, 11974)\t1\n",
            "  (46815, 10160)\t1\n",
            "  (46816, 6072)\t1\n"
          ]
        }
      ]
    },
    {
      "cell_type": "code",
      "source": [
        "print(y_test)"
      ],
      "metadata": {
        "colab": {
          "base_uri": "https://localhost:8080/"
        },
        "id": "ur0c46a6VL4w",
        "outputId": "56ce4ec2-bf94-4822-9bd3-8951ff85d5ee"
      },
      "execution_count": 54,
      "outputs": [
        {
          "output_type": "stream",
          "name": "stdout",
          "text": [
            "119433    2\n",
            "151834    2\n",
            "126226    2\n",
            "62115     4\n",
            "3571      1\n",
            "         ..\n",
            "2816      2\n",
            "74909     2\n",
            "134313    3\n",
            "3339      1\n",
            "19946     2\n",
            "Name: Sentiment, Length: 46817, dtype: int64\n"
          ]
        }
      ]
    },
    {
      "cell_type": "code",
      "source": [
        "from sklearn.naive_bayes import MultinomialNB\n",
        "#Import scikit-learn metrics module for accuracy calculation\n",
        "\n",
        "from sklearn import metrics\n",
        "# Model Generation Using Multinomial Naive Bayes\n",
        "clf = MultinomialNB().fit(X_train, y_train)\n",
        "predicted= clf.predict(X_test)\n",
        "print(\"MultinomialNB Accuracy:\",metrics.accuracy_score(y_test, predicted))"
      ],
      "metadata": {
        "colab": {
          "base_uri": "https://localhost:8080/"
        },
        "id": "HM8kJC-cVPoI",
        "outputId": "7ec2bae7-f5f1-478b-820e-58b69c6f23ba"
      },
      "execution_count": 57,
      "outputs": [
        {
          "output_type": "stream",
          "name": "stdout",
          "text": [
            "MultinomialNB Accuracy: 0.6130210502707378\n"
          ]
        }
      ]
    }
  ]
}