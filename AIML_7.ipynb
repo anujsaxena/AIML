{
  "nbformat": 4,
  "nbformat_minor": 0,
  "metadata": {
    "colab": {
      "name": "AIML_7.ipynb",
      "provenance": [],
      "collapsed_sections": [],
      "authorship_tag": "ABX9TyNPwBw3BkQSAqce7/eKwRzY",
      "include_colab_link": true
    },
    "kernelspec": {
      "name": "python3",
      "display_name": "Python 3"
    },
    "language_info": {
      "name": "python"
    }
  },
  "cells": [
    {
      "cell_type": "markdown",
      "metadata": {
        "id": "view-in-github",
        "colab_type": "text"
      },
      "source": [
        "<a href=\"https://colab.research.google.com/github/anujsaxena/AIML/blob/main/AIML_7.ipynb\" target=\"_parent\"><img src=\"https://colab.research.google.com/assets/colab-badge.svg\" alt=\"Open In Colab\"/></a>"
      ]
    },
    {
      "cell_type": "markdown",
      "source": [
        "# **String Functions / Important Functions**join():\tReturns a Concatenated String\n",
        "\n",
        "ljust():\treturns left-justified string of given width\n",
        "\n",
        "rjust():\treturns right-justified string of given width\n",
        "\n",
        "lower():\treturns lowercased string\n",
        "\n",
        "upper():\treturns uppercased string\n",
        "\n",
        "swapcase():\tswap uppercase characters to lowercase; vice versa\n",
        "\n",
        "lstrip():\tRemoves Leading Characters\n",
        "\n",
        "rstrip():\tRemoves Trailing Characters\n",
        "\n",
        "strip():\tRemoves Both Leading and Trailing Characters\n",
        "\n",
        "partition():\tReturns a Tuple\n",
        "\n",
        "maketrans():\treturns a translation table\n",
        "\n",
        "rpartition():\tReturns a Tuple\n",
        "\n",
        "translate():\treturns mapped character string\n",
        "\n",
        "replace():\tReplaces Substring Inside\n",
        "\n",
        "rfind():\tReturns the Highest Index of Substring\n",
        "\n",
        "rindex():\tReturns Highest Index of Substring\n",
        "\n",
        "split():\tSplits String from Left\n",
        "\n",
        "rsplit():\tSplits String From Right\n",
        "\n",
        "splitlines():\tSplits String at Line Boundaries\n",
        "\n",
        "startswith():\tChecks if String Starts with the Specified String\n",
        "\n",
        "title():\tReturns a Title Cased String\n",
        "\n",
        "zfill():\tReturns a Copy of The String Padded With Zeros\n",
        "format_map():\tFormats the String Using Dictionary\n",
        "\n",
        "any():\tChecks if any Element of an Iterable is True\n",
        "\n",
        "all():\treturns true when all elements in iterable is true\n",
        "\n",
        "\n"
      ],
      "metadata": {
        "id": "clj-xKh12nFU"
      }
    },
    {
      "cell_type": "code",
      "execution_count": 1,
      "metadata": {
        "colab": {
          "base_uri": "https://localhost:8080/"
        },
        "id": "hFdRDoAu2mH7",
        "outputId": "db954325-df65-470b-b051-97a8475a675c"
      },
      "outputs": [
        {
          "output_type": "stream",
          "name": "stdout",
          "text": [
            "Welcome to the world of computing\n"
          ]
        }
      ],
      "source": [
        "import numpy as np\n",
        "import pandas as pd\n",
        "str = \"welcome to the world of computing\"\n",
        "cstr = str.capitalize()\n",
        "print(cstr)"
      ]
    },
    {
      "cell_type": "code",
      "source": [
        "str = \"welcome to the world of computing. we are working on string functions\"\n",
        "cstr = str.capitalize()\n",
        "print(\"Original string: {}\".format(str))\n",
        "print(\"Capitalized string: {}\".format(cstr))"
      ],
      "metadata": {
        "colab": {
          "base_uri": "https://localhost:8080/"
        },
        "id": "nYBeArbE6_RD",
        "outputId": "99517c28-5439-452c-9ffb-2be75bf84f86"
      },
      "execution_count": 2,
      "outputs": [
        {
          "output_type": "stream",
          "name": "stdout",
          "text": [
            "Original string: welcome to the world of computing. we are working on string functions\n",
            "Capitalized string: Welcome to the world of computing. we are working on string functions\n"
          ]
        }
      ]
    },
    {
      "cell_type": "code",
      "source": [
        "str = \"#welcome to the world of computing. we are working on string functions\"\n",
        "cstr = str.capitalize()\n",
        "print(\"Original string: {}\".format(str))\n",
        "print(\"Capitalized string: {}\".format(cstr))"
      ],
      "metadata": {
        "colab": {
          "base_uri": "https://localhost:8080/"
        },
        "id": "1ZFGhh687HoJ",
        "outputId": "bc06030f-0824-4777-d643-d14fd85775c5"
      },
      "execution_count": 3,
      "outputs": [
        {
          "output_type": "stream",
          "name": "stdout",
          "text": [
            "Original string: #welcome to the world of computing. we are working on string functions\n",
            "Capitalized string: #welcome to the world of computing. we are working on string functions\n"
          ]
        }
      ]
    },
    {
      "cell_type": "markdown",
      "source": [
        "# **Center**\n",
        "The function is used to center the text. Centring depends on the number of character given as the parameters."
      ],
      "metadata": {
        "id": "-6Zu3gzC7Wj2"
      }
    },
    {
      "cell_type": "code",
      "source": [
        "str = \"python is good\"\n",
        "new_str = str.center(24)\n",
        "print(\"Length of original string: {} \".format(len(str)))\n",
        "print(\"Length of new string: {}\".format(len(new_str)))\n",
        "print(\"Original string: {}\".format(str))\n",
        "print(\"New string: {}\".format(new_str))"
      ],
      "metadata": {
        "colab": {
          "base_uri": "https://localhost:8080/"
        },
        "id": "6pXF5HJe7RXF",
        "outputId": "ff3710f1-f7ed-46e1-a793-a5bd943f96a9"
      },
      "execution_count": 4,
      "outputs": [
        {
          "output_type": "stream",
          "name": "stdout",
          "text": [
            "Length of original string: 14 \n",
            "Length of new string: 24\n",
            "Original string: python is good\n",
            "New string:      python is good     \n"
          ]
        }
      ]
    },
    {
      "cell_type": "code",
      "source": [
        "str = \"python is good\"\n",
        "new_str = str.center(10)\n",
        "print(\"Length of original string: {} \".format(len(str)))\n",
        "print(\"Length of new string: {}\".format(len(new_str)))\n",
        "print(\"Original string: {}\".format(str))\n",
        "print(\"New string: {}\".format(new_str))"
      ],
      "metadata": {
        "colab": {
          "base_uri": "https://localhost:8080/"
        },
        "id": "6fDC6IvU8UeN",
        "outputId": "a3b6ed7e-12a5-49f7-8424-9d251c55546e"
      },
      "execution_count": 5,
      "outputs": [
        {
          "output_type": "stream",
          "name": "stdout",
          "text": [
            "Length of original string: 14 \n",
            "Length of new string: 14\n",
            "Original string: python is good\n",
            "New string: python is good\n"
          ]
        }
      ]
    },
    {
      "cell_type": "code",
      "source": [
        "str = \"python is good\"\n",
        "new_str = str.center(80)\n",
        "print(\"Length of original string: {} \".format(len(str)))\n",
        "print(\"Length of new string: {}\".format(len(new_str)))\n",
        "print(\"Original string: {}\".format(str))\n",
        "print(\"New string: {}\".format(new_str))"
      ],
      "metadata": {
        "colab": {
          "base_uri": "https://localhost:8080/"
        },
        "id": "I6re7piX8hQK",
        "outputId": "799da6c1-4062-43fc-dec1-77f688e526e1"
      },
      "execution_count": 6,
      "outputs": [
        {
          "output_type": "stream",
          "name": "stdout",
          "text": [
            "Length of original string: 14 \n",
            "Length of new string: 80\n",
            "Original string: python is good\n",
            "New string:                                  python is good                                 \n"
          ]
        }
      ]
    },
    {
      "cell_type": "code",
      "source": [
        "str = \"python is good\"\n",
        "new_str = str.center(80, '#')\n",
        "print(\"Length of original string: {} \".format(len(str)))\n",
        "print(\"Length of new string: {}\".format(len(new_str)))\n",
        "print(\"Original string: {}\".format(str))\n",
        "print(\"New string: {}\".format(new_str))"
      ],
      "metadata": {
        "colab": {
          "base_uri": "https://localhost:8080/"
        },
        "id": "3uXMkGh48ryS",
        "outputId": "2ae92648-75a7-42cc-aef8-acadea97cfc6"
      },
      "execution_count": 7,
      "outputs": [
        {
          "output_type": "stream",
          "name": "stdout",
          "text": [
            "Length of original string: 14 \n",
            "Length of new string: 80\n",
            "Original string: python is good\n",
            "New string: #################################python is good#################################\n"
          ]
        }
      ]
    },
    {
      "cell_type": "markdown",
      "source": [
        "# **Casefold**\n",
        "\n",
        "Converts the text to lower case"
      ],
      "metadata": {
        "id": "_LVMHELH81WP"
      }
    },
    {
      "cell_type": "code",
      "source": [
        "str = \"Welcome to the world of AI. AI is fun\"\n",
        "cstr = str.casefold()\n",
        "print(\"Original string: {}\".format(str))\n",
        "print(\"Casefold string: {}\".format(cstr))"
      ],
      "metadata": {
        "colab": {
          "base_uri": "https://localhost:8080/"
        },
        "id": "uARodvuS88Sa",
        "outputId": "115fc83c-9c4c-45d4-da95-5cf2f35a3187"
      },
      "execution_count": 8,
      "outputs": [
        {
          "output_type": "stream",
          "name": "stdout",
          "text": [
            "Original string: Welcome to the world of AI. AI is fun\n",
            "Casefold string: welcome to the world of ai. ai is fun\n"
          ]
        }
      ]
    },
    {
      "cell_type": "markdown",
      "source": [
        "# **Count**\n",
        "Returns number of times a substring appears in a string"
      ],
      "metadata": {
        "id": "HCepZseQ9X-z"
      }
    },
    {
      "cell_type": "code",
      "source": [
        "str = \"Welcome to the World of Computing. We are Working on String Functions\"\n",
        "cstr = str.count('World')\n",
        "print(\"Original string: {}\".format(str))\n",
        "print(\"Count: {}\".format(cstr))"
      ],
      "metadata": {
        "colab": {
          "base_uri": "https://localhost:8080/"
        },
        "id": "fWdwlLNU9Wio",
        "outputId": "85fb94e1-254a-490a-f2d8-e29a86465afe"
      },
      "execution_count": 9,
      "outputs": [
        {
          "output_type": "stream",
          "name": "stdout",
          "text": [
            "Original string: Welcome to the World of Computing. We are Working on String Functions\n",
            "Count: 1\n"
          ]
        }
      ]
    },
    {
      "cell_type": "code",
      "source": [
        "str = \"Welcome to the World of Computing. We are Working on String Functions\"\n",
        "cstr = str.count('world')\n",
        "print(\"Original string: {}\".format(str))\n",
        "print(\"Count: {}\".format(cstr))"
      ],
      "metadata": {
        "colab": {
          "base_uri": "https://localhost:8080/"
        },
        "id": "-qQV3gi693AX",
        "outputId": "6ca280dc-318b-4c9e-fd20-d3106c255cf8"
      },
      "execution_count": 10,
      "outputs": [
        {
          "output_type": "stream",
          "name": "stdout",
          "text": [
            "Original string: Welcome to the World of Computing. We are Working on String Functions\n",
            "Count: 0\n"
          ]
        }
      ]
    },
    {
      "cell_type": "code",
      "source": [
        "str = \"Welcome to the World of Computing. We are Working on String Functions\"\n",
        "cstr = str.count('ing')\n",
        "print(\"Original string: {}\".format(str))\n",
        "print(\"Count: {}\".format(cstr))"
      ],
      "metadata": {
        "colab": {
          "base_uri": "https://localhost:8080/"
        },
        "id": "2zTL7EZL9-fL",
        "outputId": "fd82cde3-ee63-47d7-8de4-cd9d4ae55014"
      },
      "execution_count": 11,
      "outputs": [
        {
          "output_type": "stream",
          "name": "stdout",
          "text": [
            "Original string: Welcome to the World of Computing. We are Working on String Functions\n",
            "Count: 3\n"
          ]
        }
      ]
    },
    {
      "cell_type": "code",
      "source": [
        "str = \"Welcome to the World of Computing. We are Working on String Functions\"\n",
        "cstr = str.count('or')\n",
        "print(\"Original string: {}\".format(str))\n",
        "print(\"Count: {}\".format(cstr))"
      ],
      "metadata": {
        "colab": {
          "base_uri": "https://localhost:8080/"
        },
        "id": "B4tSWHgv-JRD",
        "outputId": "6c3af170-a767-4638-9a1d-58e8ca5c6c3d"
      },
      "execution_count": 12,
      "outputs": [
        {
          "output_type": "stream",
          "name": "stdout",
          "text": [
            "Original string: Welcome to the World of Computing. We are Working on String Functions\n",
            "Count: 2\n"
          ]
        }
      ]
    },
    {
      "cell_type": "code",
      "source": [
        "str = \"Welcome to the World of Computing. We are Working on String Functions\"\n",
        "cstr = str.count(' ')\n",
        "print(\"Original string: {}\".format(str))\n",
        "print(\"Count: {}\".format(cstr))"
      ],
      "metadata": {
        "colab": {
          "base_uri": "https://localhost:8080/"
        },
        "id": "0tamhlUo-R0X",
        "outputId": "7852eb98-73af-49e1-d82c-8671ddaa7c0a"
      },
      "execution_count": 13,
      "outputs": [
        {
          "output_type": "stream",
          "name": "stdout",
          "text": [
            "Original string: Welcome to the World of Computing. We are Working on String Functions\n",
            "Count: 11\n"
          ]
        }
      ]
    },
    {
      "cell_type": "markdown",
      "source": [
        "# **endswith()**\n",
        "\n",
        "This functions checks if the string ends with the given string"
      ],
      "metadata": {
        "id": "sYFaO20W-cVV"
      }
    },
    {
      "cell_type": "code",
      "source": [
        "str =\"football\"\n",
        "f = str.endswith(\"all\")\n",
        "print(f)"
      ],
      "metadata": {
        "colab": {
          "base_uri": "https://localhost:8080/"
        },
        "id": "9yV8khhI-ZpP",
        "outputId": "08ab1c75-bcad-4c64-fbed-2867fc11130d"
      },
      "execution_count": 14,
      "outputs": [
        {
          "output_type": "stream",
          "name": "stdout",
          "text": [
            "True\n"
          ]
        }
      ]
    },
    {
      "cell_type": "code",
      "source": [
        "str =\"football\"\n",
        "f = str.endswith(\"ball\")\n",
        "print(f)"
      ],
      "metadata": {
        "colab": {
          "base_uri": "https://localhost:8080/"
        },
        "id": "_QDsi3HY-0dd",
        "outputId": "9710ee16-d719-4f6f-af9c-6421f6d2761b"
      },
      "execution_count": 15,
      "outputs": [
        {
          "output_type": "stream",
          "name": "stdout",
          "text": [
            "True\n"
          ]
        }
      ]
    },
    {
      "cell_type": "code",
      "source": [
        "str =\"football\"\n",
        "f = str.endswith(\"foo\")\n",
        "print(f)"
      ],
      "metadata": {
        "colab": {
          "base_uri": "https://localhost:8080/"
        },
        "id": "nh2_pEF7-77U",
        "outputId": "d5751aef-71fe-41d6-c8fe-5a41f29c4a08"
      },
      "execution_count": 16,
      "outputs": [
        {
          "output_type": "stream",
          "name": "stdout",
          "text": [
            "False\n"
          ]
        }
      ]
    },
    {
      "cell_type": "code",
      "source": [
        "str =\"football hockey cricket football hockey football cricket football\"\n",
        "f = str.endswith(\"ball\")\n",
        "print(f)"
      ],
      "metadata": {
        "colab": {
          "base_uri": "https://localhost:8080/"
        },
        "id": "85dhDnAJ--3V",
        "outputId": "7f7bb1fd-1fd4-44ed-d0c2-7ea6672b24df"
      },
      "execution_count": 17,
      "outputs": [
        {
          "output_type": "stream",
          "name": "stdout",
          "text": [
            "True\n"
          ]
        }
      ]
    },
    {
      "cell_type": "code",
      "source": [
        "str =\"football hockey cricket football hockey football cricket\"\n",
        "f = str.endswith(\"ball\")\n",
        "print(f)"
      ],
      "metadata": {
        "colab": {
          "base_uri": "https://localhost:8080/"
        },
        "id": "jB50cE6t_H4h",
        "outputId": "b262b3ba-7b92-4ab0-facc-413cf8eda387"
      },
      "execution_count": 18,
      "outputs": [
        {
          "output_type": "stream",
          "name": "stdout",
          "text": [
            "False\n"
          ]
        }
      ]
    },
    {
      "cell_type": "markdown",
      "source": [
        "# **startswith**"
      ],
      "metadata": {
        "id": "IkOp-i7N_eOc"
      }
    },
    {
      "cell_type": "code",
      "source": [
        "str =\"football\"\n",
        "f = str.startswith(\"foo\")\n",
        "print(f)"
      ],
      "metadata": {
        "colab": {
          "base_uri": "https://localhost:8080/"
        },
        "id": "z0KBjo5i_ZH1",
        "outputId": "82289421-4144-48b7-8d12-3fc699e5c817"
      },
      "execution_count": 19,
      "outputs": [
        {
          "output_type": "stream",
          "name": "stdout",
          "text": [
            "True\n"
          ]
        }
      ]
    },
    {
      "cell_type": "code",
      "source": [
        "str =\"football\"\n",
        "f = str.startswith(\"ball\")\n",
        "print(f)"
      ],
      "metadata": {
        "colab": {
          "base_uri": "https://localhost:8080/"
        },
        "id": "4CyP31vt_kux",
        "outputId": "ce02267f-14b4-4452-d7b8-3e8425bdad66"
      },
      "execution_count": 20,
      "outputs": [
        {
          "output_type": "stream",
          "name": "stdout",
          "text": [
            "False\n"
          ]
        }
      ]
    },
    {
      "cell_type": "markdown",
      "source": [
        "# **expandtabs()**\n",
        "\n",
        "The function expands the escape sequences if present in a text. escape sequences are:\n",
        "\n",
        "\\t : tab\n",
        "\n",
        "\\n : new line\n",
        "\n",
        "\\r : carriage return\n",
        "\n",
        "\\b : backspace\n",
        "\n",
        "\\f : formfeed\n",
        "\n",
        "\\ooo : octal value\n",
        "\n",
        "\\' : single quote\n",
        "\n",
        "\\\\ : backslash\n",
        "\n",
        "\\uxxxx : 16 bit hex value # not supported by expand\n",
        "\n",
        "\\uxxxxxxxx : 32 bit hex value # not supported by expand\n"
      ],
      "metadata": {
        "id": "UZ9lwwDQ_uHm"
      }
    },
    {
      "cell_type": "code",
      "source": [
        "str = \"football hockey cricket \\f football hockey football \\r cricket \\\\ football \"\n",
        "etb = str.expandtabs()\n",
        "print(etb)"
      ],
      "metadata": {
        "colab": {
          "base_uri": "https://localhost:8080/"
        },
        "id": "KTWA_P69_oHq",
        "outputId": "8a3db921-8bf9-4e34-f00c-06be1e5e807d"
      },
      "execution_count": 21,
      "outputs": [
        {
          "output_type": "stream",
          "name": "stdout",
          "text": [
            "football hockey cricket \f football hockey football \r cricket \\ football \n"
          ]
        }
      ]
    },
    {
      "cell_type": "code",
      "source": [
        "str = \"football hockey cricket \\t football hockey football \\n cricket \\\\ football \"\n",
        "etb = str.expandtabs()\n",
        "print(etb)"
      ],
      "metadata": {
        "colab": {
          "base_uri": "https://localhost:8080/"
        },
        "id": "1aFEfXgQAOHs",
        "outputId": "d779d04f-f750-43f1-b28f-bf2d11864342"
      },
      "execution_count": 22,
      "outputs": [
        {
          "output_type": "stream",
          "name": "stdout",
          "text": [
            "football hockey cricket          football hockey football \n",
            " cricket \\ football \n"
          ]
        }
      ]
    },
    {
      "cell_type": "markdown",
      "source": [
        "# **encode**\n",
        "\n",
        "The function encodes a string using the encoding given.\n",
        "\n",
        "The syntax is:\n",
        "\n",
        "**giventstring.encode(encoding=encoding, errors=errors)**\n",
        "\n",
        "The paramters encoding and erros are optional.\n",
        "\n",
        "if no encoding is gen then it takes UTF-8 by default. \n",
        "\n",
        "Erros could be :\n",
        "\n",
        "'backslashreplace' : uses a backslash instead of the character that could not be encoded\n",
        "\n",
        "'ignore': ignores the characters that cannot be encoded\n",
        "\n",
        "'namereplace': replaces the character with a text explaining the character\n",
        "\n",
        "'strict' : Default, raises an error on failure\n",
        "\n",
        "'replace'\t: replaces the character with a questionmark\n",
        "\n",
        "'xmlcharrefreplace'\t: replaces the character with an xml character\n"
      ],
      "metadata": {
        "id": "XAoJ1CUFAeHD"
      }
    },
    {
      "cell_type": "code",
      "source": [
        "str = \"python is fun\"\n",
        "en = str.encode(encoding = \"UTF-8\", errors='strict')\n",
        "print(en)"
      ],
      "metadata": {
        "colab": {
          "base_uri": "https://localhost:8080/"
        },
        "id": "N1xbFg7qAzWH",
        "outputId": "38ed375c-cf4d-40b1-f467-89ef47bda16a"
      },
      "execution_count": 24,
      "outputs": [
        {
          "output_type": "stream",
          "name": "stdout",
          "text": [
            "b'python is fun'\n"
          ]
        }
      ]
    },
    {
      "cell_type": "code",
      "source": [
        "# unicode string\n",
        "string = 'pythön!'\n",
        "\n",
        "# print string\n",
        "print('The string is:', string)\n",
        "\n",
        "# default encoding to utf-8\n",
        "string_utf = string.encode()\n",
        "\n",
        "# print result\n",
        "print('The encoded version is:', string_utf)"
      ],
      "metadata": {
        "colab": {
          "base_uri": "https://localhost:8080/"
        },
        "id": "4cpbbLNVBT8l",
        "outputId": "d20a214e-a1fa-4c6d-d02e-cf2260fbaa01"
      },
      "execution_count": 25,
      "outputs": [
        {
          "output_type": "stream",
          "name": "stdout",
          "text": [
            "The string is: pythön!\n",
            "The encoded version is: b'pyth\\xc3\\xb6n!'\n"
          ]
        }
      ]
    },
    {
      "cell_type": "markdown",
      "source": [
        "American Standard code for Information Interchange (ASCII): 255 character sets\n",
        "\n",
        "A-Z : 65-90\n",
        "\n",
        "a-z : 97:122\n",
        "\n",
        "0-9 : 48-57\n",
        "\n",
        "rest are special characters"
      ],
      "metadata": {
        "id": "ee1t5W2KB-GU"
      }
    },
    {
      "cell_type": "code",
      "source": [
        "string = 'pythön!'\n",
        "print(string.encode(encoding=\"UTF-8\",errors=\"backslashreplace\"))\n",
        "print(string.encode(encoding=\"UTF-8\",errors=\"ignore\"))\n",
        "print(string.encode(encoding=\"UTF-8\",errors=\"namereplace\"))\n",
        "print(string.encode(encoding=\"UTF-8\",errors=\"replace\"))\n",
        "print(string.encode(encoding=\"UTF-8\",errors=\"xmlcharrefreplace\"))"
      ],
      "metadata": {
        "colab": {
          "base_uri": "https://localhost:8080/"
        },
        "id": "_pOmrYhoBa20",
        "outputId": "1446f77f-713c-4eeb-af93-06e8f5fa13f6"
      },
      "execution_count": 27,
      "outputs": [
        {
          "output_type": "stream",
          "name": "stdout",
          "text": [
            "b'pyth\\xc3\\xb6n!'\n",
            "b'pyth\\xc3\\xb6n!'\n",
            "b'pyth\\xc3\\xb6n!'\n",
            "b'pyth\\xc3\\xb6n!'\n",
            "b'pyth\\xc3\\xb6n!'\n"
          ]
        }
      ]
    },
    {
      "cell_type": "code",
      "source": [
        "string = 'pythön!'\n",
        "print(string.encode(encoding=\"ascii\",errors=\"backslashreplace\"))\n",
        "print(string.encode(encoding=\"ascii\",errors=\"ignore\"))\n",
        "print(string.encode(encoding=\"ascii\",errors=\"namereplace\"))\n",
        "print(string.encode(encoding=\"ascii\",errors=\"replace\"))\n",
        "print(string.encode(encoding=\"ascii\",errors=\"xmlcharrefreplace\"))"
      ],
      "metadata": {
        "colab": {
          "base_uri": "https://localhost:8080/"
        },
        "id": "0HebBbwoDZI6",
        "outputId": "60280d8d-b66a-400d-9c6f-263f78bc337e"
      },
      "execution_count": 28,
      "outputs": [
        {
          "output_type": "stream",
          "name": "stdout",
          "text": [
            "b'pyth\\\\xf6n!'\n",
            "b'pythn!'\n",
            "b'pyth\\\\N{LATIN SMALL LETTER O WITH DIAERESIS}n!'\n",
            "b'pyth?n!'\n",
            "b'pyth&#246;n!'\n"
          ]
        }
      ]
    },
    {
      "cell_type": "markdown",
      "source": [
        "# **find()**\n",
        "\n",
        "The function searched for substring in a string. Returns -1 if not founbd or a positive integer."
      ],
      "metadata": {
        "id": "_jS0w9fdD196"
      }
    },
    {
      "cell_type": "code",
      "source": [
        "str =\"We are having fun with AI using Python\"\n",
        "f = str.find(\"AI\")\n",
        "print(f)"
      ],
      "metadata": {
        "colab": {
          "base_uri": "https://localhost:8080/"
        },
        "id": "691ZFHNLDyI1",
        "outputId": "93cadbd4-885e-4401-df25-2a430f38dbc1"
      },
      "execution_count": 29,
      "outputs": [
        {
          "output_type": "stream",
          "name": "stdout",
          "text": [
            "23\n"
          ]
        }
      ]
    },
    {
      "cell_type": "code",
      "source": [
        "str =\"We are having fun with AI using Python\"\n",
        "f = str.find(\"my\")\n",
        "print(f)"
      ],
      "metadata": {
        "colab": {
          "base_uri": "https://localhost:8080/"
        },
        "id": "kDN2_IztEPn3",
        "outputId": "b4308fe9-18b0-4122-d061-5a9ebda431f9"
      },
      "execution_count": 30,
      "outputs": [
        {
          "output_type": "stream",
          "name": "stdout",
          "text": [
            "-1\n"
          ]
        }
      ]
    },
    {
      "cell_type": "code",
      "source": [
        "str =\"We are having fun with AI using Python\"\n",
        "f = str.find(\"my\")\n",
        "if f<0:\n",
        "  print(\"substring not found\")\n",
        "else:\n",
        "  print(\"substring found in the string\")"
      ],
      "metadata": {
        "colab": {
          "base_uri": "https://localhost:8080/"
        },
        "id": "RqbuQynREUFZ",
        "outputId": "46b7105f-4d79-4a79-ac4b-df68df160112"
      },
      "execution_count": 31,
      "outputs": [
        {
          "output_type": "stream",
          "name": "stdout",
          "text": [
            "substring not found\n"
          ]
        }
      ]
    },
    {
      "cell_type": "code",
      "source": [
        "quote = 'Let it be, let it be, let it be'\n",
        "\n",
        "# first occurance of 'let it'(case sensitive)\n",
        "result = quote.find('let it')\n",
        "print(\"Substring 'let it':\", result)\n",
        "\n",
        "# find returns -1 if substring not found\n",
        "result = quote.find('small')\n",
        "print(\"Substring 'small ':\", result)\n",
        "\n",
        "# How to use find()\n",
        "if (quote.find('be,') != -1):\n",
        "    print(\"Contains substring 'be,'\")\n",
        "else:\n",
        "    print(\"Doesn't contain substring\")"
      ],
      "metadata": {
        "colab": {
          "base_uri": "https://localhost:8080/"
        },
        "id": "0jbsGopXEvoU",
        "outputId": "539d030c-26fa-4657-8321-a1c24f0f7d90"
      },
      "execution_count": 32,
      "outputs": [
        {
          "output_type": "stream",
          "name": "stdout",
          "text": [
            "Substring 'let it': 11\n",
            "Substring 'small ': -1\n",
            "Contains substring 'be,'\n"
          ]
        }
      ]
    },
    {
      "cell_type": "markdown",
      "source": [
        "# **format()**\n",
        "\n",
        "The function is used for a formatted output."
      ],
      "metadata": {
        "id": "jfHG59oDE8-S"
      }
    },
    {
      "cell_type": "code",
      "source": [
        "str=\"hello\"\n",
        "n=10\n",
        "print(\"Output string is {0} , number is {1}\".format(str,n))"
      ],
      "metadata": {
        "colab": {
          "base_uri": "https://localhost:8080/"
        },
        "id": "oBw35GeRE3lL",
        "outputId": "dc4acfc0-c32b-42f7-b7ab-9262d8cff9f2"
      },
      "execution_count": 33,
      "outputs": [
        {
          "output_type": "stream",
          "name": "stdout",
          "text": [
            "Output string is hello , number is 10\n"
          ]
        }
      ]
    },
    {
      "cell_type": "code",
      "source": [
        "print('{0}, {1}, {2}'.format('a', 'b', 'c'))\n",
        "\n",
        "print('{}, {}, {}'.format('a', 'b', 'c'))  # 3.1+ only\n",
        "\n",
        "print('{2}, {1}, {0}'.format('a', 'b', 'c'))\n",
        "\n",
        "print('{2}, {1}, {0}'.format(*'abc'))      # unpacking argument sequence\n",
        "\n",
        "print('{0}{1}{0}'.format('abra', 'cad'))   # arguments' indices can be repeated\n"
      ],
      "metadata": {
        "colab": {
          "base_uri": "https://localhost:8080/"
        },
        "id": "hKNdiil2FGOd",
        "outputId": "241eb7c1-38a2-4aed-c5eb-7b9bc926219a"
      },
      "execution_count": 34,
      "outputs": [
        {
          "output_type": "stream",
          "name": "stdout",
          "text": [
            "a, b, c\n",
            "a, b, c\n",
            "c, b, a\n",
            "c, b, a\n",
            "abracadabra\n"
          ]
        }
      ]
    },
    {
      "cell_type": "code",
      "source": [
        "print('Coordinates: {latitude}, {longitude}'.format(latitude='37.24N', longitude='-115.81W'))\n"
      ],
      "metadata": {
        "colab": {
          "base_uri": "https://localhost:8080/"
        },
        "id": "sUIzLRXVFfly",
        "outputId": "093767e2-1a62-4b24-ec26-3e35c93139ed"
      },
      "execution_count": 35,
      "outputs": [
        {
          "output_type": "stream",
          "name": "stdout",
          "text": [
            "Coordinates: 37.24N, -115.81W\n"
          ]
        }
      ]
    },
    {
      "cell_type": "markdown",
      "source": [
        "# **index()**\n",
        "\n",
        "The function finds a substring a string and returns the index value (the position at which first character of the substring is located)."
      ],
      "metadata": {
        "id": "HYF_4EqPFmag"
      }
    },
    {
      "cell_type": "code",
      "source": [
        "str = \"Coding in python is fun\"\n",
        "rs = str.index('is fun')\n",
        "print(str)\n",
        "print(\"Substring 'is fun':\",rs)"
      ],
      "metadata": {
        "colab": {
          "base_uri": "https://localhost:8080/"
        },
        "id": "iw4bIQ0fFkop",
        "outputId": "2987f0ec-eb99-4aeb-e931-09a00f0bed55"
      },
      "execution_count": 36,
      "outputs": [
        {
          "output_type": "stream",
          "name": "stdout",
          "text": [
            "Coding in python is fun\n",
            "Substring 'is fun': 17\n"
          ]
        }
      ]
    },
    {
      "cell_type": "code",
      "source": [
        "sentence = 'Python programming is fun.' \n",
        "l=len(sentence)\n",
        "print(\"lenght of sentence : {}\".format(l))\n",
        "# Substring is searched in 'gramming is fun.' \n",
        "print(sentence.index('ing', 10)) \n",
        "# Substring is searched in 'gramming is ' \n",
        "print(sentence.index('g is', 10, -4))  #star and stop\n",
        "# Substring is searched in 'programming' \n",
        "print(sentence.index('fun', 7, 26)) "
      ],
      "metadata": {
        "colab": {
          "base_uri": "https://localhost:8080/"
        },
        "id": "yX2Dx1gfGTku",
        "outputId": "db3bb54b-1112-4359-d5db-2e85e9bee309"
      },
      "execution_count": 37,
      "outputs": [
        {
          "output_type": "stream",
          "name": "stdout",
          "text": [
            "lenght of sentence : 26\n",
            "15\n",
            "17\n",
            "22\n"
          ]
        }
      ]
    },
    {
      "cell_type": "markdown",
      "source": [
        "# **isalnum()**\n",
        "\n",
        "The fucntion checks if the given string is alphanumeric or not. It returns boolean."
      ],
      "metadata": {
        "id": "KwxppgcsGxZK"
      }
    },
    {
      "cell_type": "code",
      "source": [
        "str = \"python is fun\"\n",
        "ch = str.isalnum()\n",
        "print(ch)\n"
      ],
      "metadata": {
        "colab": {
          "base_uri": "https://localhost:8080/"
        },
        "id": "_Tnl4madGszM",
        "outputId": "22fabd6f-55db-4b26-f4a3-348b423a8b2b"
      },
      "execution_count": 38,
      "outputs": [
        {
          "output_type": "stream",
          "name": "stdout",
          "text": [
            "False\n"
          ]
        }
      ]
    },
    {
      "cell_type": "code",
      "source": [
        "str =\"123 Python is good\"\n",
        "ch = str.isalnum()\n",
        "print(ch)"
      ],
      "metadata": {
        "colab": {
          "base_uri": "https://localhost:8080/"
        },
        "id": "60EKfLjiG-r1",
        "outputId": "545d11ff-274a-46d6-fa23-b1985ab9c5b3"
      },
      "execution_count": 39,
      "outputs": [
        {
          "output_type": "stream",
          "name": "stdout",
          "text": [
            "False\n"
          ]
        }
      ]
    },
    {
      "cell_type": "code",
      "source": [
        "str =\"123Pythonisgood\"\n",
        "ch = str.isalnum()\n",
        "print(ch)"
      ],
      "metadata": {
        "colab": {
          "base_uri": "https://localhost:8080/"
        },
        "id": "uBs4bUPzHHLd",
        "outputId": "9e88706c-a905-417e-ccc5-9e96d53bad66"
      },
      "execution_count": 40,
      "outputs": [
        {
          "output_type": "stream",
          "name": "stdout",
          "text": [
            "True\n"
          ]
        }
      ]
    },
    {
      "cell_type": "markdown",
      "source": [
        "# **isalpha()**\n",
        "\n",
        "The function checks if the entered character is an alpabet or not."
      ],
      "metadata": {
        "id": "OdpqTBZrHOTT"
      }
    },
    {
      "cell_type": "code",
      "source": [
        "str = \"python is fun\"\n",
        "ch = str.isalpha()\n",
        "print(ch)"
      ],
      "metadata": {
        "colab": {
          "base_uri": "https://localhost:8080/"
        },
        "id": "OQkOqC72HMPN",
        "outputId": "05da5391-b743-409e-dceb-1b000bd70de4"
      },
      "execution_count": 41,
      "outputs": [
        {
          "output_type": "stream",
          "name": "stdout",
          "text": [
            "False\n"
          ]
        }
      ]
    },
    {
      "cell_type": "code",
      "source": [
        "s =\"Python\"\n",
        "if s.isalpha():\n",
        "  print(\"It is an alphabet\")\n",
        "else:\n",
        "  print(\"Not an alphabet\")"
      ],
      "metadata": {
        "colab": {
          "base_uri": "https://localhost:8080/"
        },
        "id": "4DT7EvwfHeVQ",
        "outputId": "c65897c8-7dbb-4e74-96a3-71a0ef5786cf"
      },
      "execution_count": 42,
      "outputs": [
        {
          "output_type": "stream",
          "name": "stdout",
          "text": [
            "It is an alphabet\n"
          ]
        }
      ]
    },
    {
      "cell_type": "code",
      "source": [
        "s =\"99Python\"\n",
        "if s.isalpha():\n",
        "  print(\"It is an alphabet\")\n",
        "else:\n",
        "  print(\"Not an alphabet\")"
      ],
      "metadata": {
        "colab": {
          "base_uri": "https://localhost:8080/"
        },
        "id": "JAlgHk7qHhf-",
        "outputId": "13cd97d9-b478-4962-b486-10367c71180d"
      },
      "execution_count": 43,
      "outputs": [
        {
          "output_type": "stream",
          "name": "stdout",
          "text": [
            "Not an alphabet\n"
          ]
        }
      ]
    },
    {
      "cell_type": "markdown",
      "source": [
        "# **isdecimal()**\n",
        "\n",
        "The fucntion checks if the given input has only decimal values or not."
      ],
      "metadata": {
        "id": "S05N0V8pHsps"
      }
    },
    {
      "cell_type": "code",
      "source": [
        "n=\"434266\"\n",
        "if n.isdecimal() :\n",
        "  print(\"It is a decimal value\")\n",
        "else:\n",
        "  print(\"Not a decimal value\")\n"
      ],
      "metadata": {
        "colab": {
          "base_uri": "https://localhost:8080/"
        },
        "id": "eZ3mSxHUHoPY",
        "outputId": "2196126a-6506-4426-c4c1-edf1515e3bd9"
      },
      "execution_count": 44,
      "outputs": [
        {
          "output_type": "stream",
          "name": "stdout",
          "text": [
            "It is a decimal value\n"
          ]
        }
      ]
    },
    {
      "cell_type": "code",
      "source": [
        "n=\"434266qwert\"\n",
        "if n.isdecimal() :\n",
        "  print(\"It is a decimal value\")\n",
        "else:\n",
        "  print(\"Not a decimal value\")\n"
      ],
      "metadata": {
        "colab": {
          "base_uri": "https://localhost:8080/"
        },
        "id": "uOO4maK7HzrB",
        "outputId": "6201d9a2-355d-46e0-9adf-9240acf78063"
      },
      "execution_count": 45,
      "outputs": [
        {
          "output_type": "stream",
          "name": "stdout",
          "text": [
            "Not a decimal value\n"
          ]
        }
      ]
    },
    {
      "cell_type": "markdown",
      "source": [
        "# **isdigit()**\n",
        "\n",
        "similar to decimal. Checks if the input string has numbers only or not."
      ],
      "metadata": {
        "id": "u56RNV6LH5O8"
      }
    },
    {
      "cell_type": "code",
      "source": [
        "n=\"434266\"\n",
        "if n.isdigit() :\n",
        "  print(\"It is a digit value\")\n",
        "else:\n",
        "  print(\"Not a digit value\")\n"
      ],
      "metadata": {
        "colab": {
          "base_uri": "https://localhost:8080/"
        },
        "id": "H0TxCyIKH8B-",
        "outputId": "06a37759-ebc6-4847-f045-2fbfe5844011"
      },
      "execution_count": 48,
      "outputs": [
        {
          "output_type": "stream",
          "name": "stdout",
          "text": [
            "It is a digit value\n"
          ]
        }
      ]
    },
    {
      "cell_type": "code",
      "source": [
        "n=\"43-42-66\"\n",
        "if n.isdigit() :\n",
        "  print(\"It is a digit\")\n",
        "else:\n",
        "  print(\"Not a digit\")\n"
      ],
      "metadata": {
        "colab": {
          "base_uri": "https://localhost:8080/"
        },
        "id": "-jXxBJVUIIl2",
        "outputId": "2c6ecdd7-8494-4954-ab29-8b7602493ee0"
      },
      "execution_count": 49,
      "outputs": [
        {
          "output_type": "stream",
          "name": "stdout",
          "text": [
            "Not a digit\n"
          ]
        }
      ]
    },
    {
      "cell_type": "markdown",
      "source": [
        "# **isidentifier()**\n",
        "\n",
        "The function checks if the input string is an identifier or not."
      ],
      "metadata": {
        "id": "r0pnEz6IIXRa"
      }
    },
    {
      "cell_type": "code",
      "source": [
        "n=\"institute\"\n",
        "print(\"The inpiut string is an identifier : {}\".format(n.isidentifier()))"
      ],
      "metadata": {
        "colab": {
          "base_uri": "https://localhost:8080/"
        },
        "id": "P0q-h8vrIUO5",
        "outputId": "e20797ff-6c1f-487c-d7ea-ebd6db43fee0"
      },
      "execution_count": 50,
      "outputs": [
        {
          "output_type": "stream",
          "name": "stdout",
          "text": [
            "The inpiut string is an identifier : True\n"
          ]
        }
      ]
    },
    {
      "cell_type": "code",
      "source": [
        "n=\"institute de informatica\"\n",
        "print(\"The inpiut string is an identifier : {}\".format(n.isidentifier()))"
      ],
      "metadata": {
        "colab": {
          "base_uri": "https://localhost:8080/"
        },
        "id": "iB39Un2SIfhH",
        "outputId": "edd44ddb-9e5a-47b5-a24e-5869d7bf83ac"
      },
      "execution_count": 51,
      "outputs": [
        {
          "output_type": "stream",
          "name": "stdout",
          "text": [
            "The inpiut string is an identifier : False\n"
          ]
        }
      ]
    },
    {
      "cell_type": "code",
      "source": [
        "n=\"institute-de-informatica\"\n",
        "print(\"The inpiut string is an identifier : {}\".format(n.isidentifier()))"
      ],
      "metadata": {
        "colab": {
          "base_uri": "https://localhost:8080/"
        },
        "id": "v9bowVkWIkgl",
        "outputId": "bf9458b4-88e8-4edb-a782-e9608ec0f659"
      },
      "execution_count": 52,
      "outputs": [
        {
          "output_type": "stream",
          "name": "stdout",
          "text": [
            "The inpiut string is an identifier : False\n"
          ]
        }
      ]
    },
    {
      "cell_type": "code",
      "source": [
        "n=\"institute!!\"\n",
        "print(\"The inpiut string is an identifier : {}\".format(n.isidentifier()))"
      ],
      "metadata": {
        "colab": {
          "base_uri": "https://localhost:8080/"
        },
        "id": "WscLOScyIpaF",
        "outputId": "cd166924-86ee-4847-d260-a168e5670597"
      },
      "execution_count": 53,
      "outputs": [
        {
          "output_type": "stream",
          "name": "stdout",
          "text": [
            "The inpiut string is an identifier : False\n"
          ]
        }
      ]
    },
    {
      "cell_type": "code",
      "source": [
        "n=\" \"\n",
        "print(\"The inpiut string is an identifier : {}\".format(n.isidentifier()))"
      ],
      "metadata": {
        "colab": {
          "base_uri": "https://localhost:8080/"
        },
        "id": "2nqnAAGCItUK",
        "outputId": "ca9c8783-889b-4df6-dee9-ac891ef2081e"
      },
      "execution_count": 54,
      "outputs": [
        {
          "output_type": "stream",
          "name": "stdout",
          "text": [
            "The inpiut string is an identifier : False\n"
          ]
        }
      ]
    },
    {
      "cell_type": "markdown",
      "source": [
        "# **islower()**\n",
        "\n",
        "The function checks if the input string is in lower case or not."
      ],
      "metadata": {
        "id": "s8Z90DUOIx1Y"
      }
    },
    {
      "cell_type": "code",
      "source": [
        "s=\"Institue\"\n",
        "print(\"{0} is in lower case :{1}\".format(s, s.islower()))"
      ],
      "metadata": {
        "colab": {
          "base_uri": "https://localhost:8080/"
        },
        "id": "h-8EN-s-IxUt",
        "outputId": "42ee4196-ae9e-4fc6-b324-473644fab253"
      },
      "execution_count": 55,
      "outputs": [
        {
          "output_type": "stream",
          "name": "stdout",
          "text": [
            "Institue is in lower case :False\n"
          ]
        }
      ]
    },
    {
      "cell_type": "code",
      "source": [
        "s=\"institue\"\n",
        "print(\"{0} is in lower case :{1}\".format(s, s.islower()))"
      ],
      "metadata": {
        "colab": {
          "base_uri": "https://localhost:8080/"
        },
        "id": "bL7gnwtdI6W6",
        "outputId": "f7e11966-68b1-4cc3-c13f-f49a4ab05667"
      },
      "execution_count": 56,
      "outputs": [
        {
          "output_type": "stream",
          "name": "stdout",
          "text": [
            "institue is in lower case :True\n"
          ]
        }
      ]
    },
    {
      "cell_type": "code",
      "source": [
        "s=\"Python is fun\"\n",
        "print(\"{0} is in lower case :{1}\".format(s, s.islower()))"
      ],
      "metadata": {
        "colab": {
          "base_uri": "https://localhost:8080/"
        },
        "id": "T41LBBsTI8q7",
        "outputId": "3fbc463e-0684-48ab-f386-e8ab9f17179e"
      },
      "execution_count": 57,
      "outputs": [
        {
          "output_type": "stream",
          "name": "stdout",
          "text": [
            "Python is fun is in lower case :False\n"
          ]
        }
      ]
    },
    {
      "cell_type": "code",
      "source": [
        "s=\"python is fun\"\n",
        "print(\"{0} is in lower case :{1}\".format(s, s.islower()))"
      ],
      "metadata": {
        "colab": {
          "base_uri": "https://localhost:8080/"
        },
        "id": "OW1jFHMhJDTh",
        "outputId": "fb3e2995-9081-4bfe-bb2f-bd3f12a3b6c2"
      },
      "execution_count": 58,
      "outputs": [
        {
          "output_type": "stream",
          "name": "stdout",
          "text": [
            "python is fun is in lower case :True\n"
          ]
        }
      ]
    },
    {
      "cell_type": "code",
      "source": [
        "s=\"Python is Fun\"\n",
        "print(\"{0} is in lower case :{1}\".format(s, s.islower()))"
      ],
      "metadata": {
        "colab": {
          "base_uri": "https://localhost:8080/"
        },
        "id": "qcnmd81CJG-c",
        "outputId": "8975b48f-8992-416c-cd48-6412aa058b5e"
      },
      "execution_count": 59,
      "outputs": [
        {
          "output_type": "stream",
          "name": "stdout",
          "text": [
            "Python is Fun is in lower case :False\n"
          ]
        }
      ]
    },
    {
      "cell_type": "markdown",
      "source": [
        "# **isnumeric()**\n",
        "\n",
        "The function checks iof the input is numeric or not"
      ],
      "metadata": {
        "id": "krvtjnpYJNRP"
      }
    },
    {
      "cell_type": "code",
      "source": [
        "n=\"1234\"\n",
        "print(\"{0} is numeric :{1}\".format(n, n.isnumeric()))"
      ],
      "metadata": {
        "colab": {
          "base_uri": "https://localhost:8080/"
        },
        "id": "TyZHu5PjJJwi",
        "outputId": "e4396df6-fbb6-43a7-cc88-25a018098008"
      },
      "execution_count": 60,
      "outputs": [
        {
          "output_type": "stream",
          "name": "stdout",
          "text": [
            "1234 is numeric :True\n"
          ]
        }
      ]
    },
    {
      "cell_type": "code",
      "source": [
        "n=\"Z1234\"\n",
        "print(\"{0} is numeric :{1}\".format(n, n.isnumeric()))"
      ],
      "metadata": {
        "colab": {
          "base_uri": "https://localhost:8080/"
        },
        "id": "WBkOpTFlJURm",
        "outputId": "9f9cf83d-b56d-495d-880a-3d61a1dcfa16"
      },
      "execution_count": 61,
      "outputs": [
        {
          "output_type": "stream",
          "name": "stdout",
          "text": [
            "Z1234 is numeric :False\n"
          ]
        }
      ]
    },
    {
      "cell_type": "markdown",
      "source": [
        "# **isprintable()**\n",
        "The function checks if the input string is printable or not"
      ],
      "metadata": {
        "id": "ka1GblhlJaCy"
      }
    },
    {
      "cell_type": "code",
      "source": [
        "s=\"hello\"\n",
        "print(\"{0} is printable :{1}\".format(s, s.isprintable()))\n",
        "s=\"\\nhello\"\n",
        "print(\"{0} is printable :{1}\".format(s, s.isprintable()))\n",
        "s=\"\\thello\"\n",
        "print(\"{0} is printable :{1}\".format(s, s.isprintable()))\n",
        "s=\" \"\n",
        "print(\"{0} is printable :{1}\".format(s, s.isprintable()))\n",
        "s=\"123Python \"\n",
        "print(\"{0} is printable :{1}\".format(s, s.isprintable()))\n",
        "s=\"Python is a very easy language\"\n",
        "print(\"{0} is printable :{1}\".format(s, s.isprintable()))"
      ],
      "metadata": {
        "colab": {
          "base_uri": "https://localhost:8080/"
        },
        "id": "wsgqtinvJYH_",
        "outputId": "fa9eae93-c9b5-4707-e60b-13ee33e56a50"
      },
      "execution_count": 62,
      "outputs": [
        {
          "output_type": "stream",
          "name": "stdout",
          "text": [
            "hello is printable :True\n",
            "\n",
            "hello is printable :False\n",
            "\thello is printable :False\n",
            "  is printable :True\n",
            "123Python  is printable :True\n",
            "Python is a very easy language is printable :True\n"
          ]
        }
      ]
    },
    {
      "cell_type": "markdown",
      "source": [
        "# **isspace()**\n",
        "\n",
        "The function checks if the input string has only white spaces in it."
      ],
      "metadata": {
        "id": "Y5UTgwIUJxNG"
      }
    },
    {
      "cell_type": "code",
      "source": [
        "s=\" \"\n",
        "print(\"Input is a space :{}\".format(s.isspace()))\n",
        "s=\"       \\t\"\n",
        "print(\"Input is a space :{}\".format(s.isspace()))\n",
        "s=\"      \\n\"\n",
        "print(\"Input is a space :{}\".format(s.isspace()))\n",
        "s=\" \\n a \\t\"\n",
        "print(\"Input is a space :{}\".format(s.isspace()))"
      ],
      "metadata": {
        "colab": {
          "base_uri": "https://localhost:8080/"
        },
        "id": "3wUCKGaDJtZc",
        "outputId": "68d41ede-9b73-4aad-e424-c8b6f3089591"
      },
      "execution_count": 63,
      "outputs": [
        {
          "output_type": "stream",
          "name": "stdout",
          "text": [
            "Input is a space :True\n",
            "Input is a space :True\n",
            "Input is a space :True\n",
            "Input is a space :False\n"
          ]
        }
      ]
    },
    {
      "cell_type": "code",
      "source": [
        "s=\"python is fun \"\n",
        "print(\"Input is a space :{}\".format(s.isspace()))"
      ],
      "metadata": {
        "colab": {
          "base_uri": "https://localhost:8080/"
        },
        "id": "qEWomtveJ_oE",
        "outputId": "18d41020-d71e-4cbf-8c25-a6c6d2765363"
      },
      "execution_count": 64,
      "outputs": [
        {
          "output_type": "stream",
          "name": "stdout",
          "text": [
            "Input is a space :False\n"
          ]
        }
      ]
    },
    {
      "cell_type": "markdown",
      "source": [
        "# **istitle**\n",
        "\n",
        "The functions checks if the input string is in title case or not"
      ],
      "metadata": {
        "id": "cBMIIFDAKEp3"
      }
    },
    {
      "cell_type": "code",
      "source": [
        "s=\"Python Is An awesome language\"\n",
        "print(\"{0} is in title case:{1}\".format(s,s.istitle()))"
      ],
      "metadata": {
        "colab": {
          "base_uri": "https://localhost:8080/"
        },
        "id": "QkHnQdN-KDwt",
        "outputId": "3763c4db-328c-49b4-d6f8-3f74f9a87939"
      },
      "execution_count": 65,
      "outputs": [
        {
          "output_type": "stream",
          "name": "stdout",
          "text": [
            "Python Is An awesome language is in title case:False\n"
          ]
        }
      ]
    },
    {
      "cell_type": "code",
      "source": [
        "s=\"Python Is An Awesome Language\"\n",
        "print(\"{0} is in title case:{1}\".format(s,s.istitle()))"
      ],
      "metadata": {
        "colab": {
          "base_uri": "https://localhost:8080/"
        },
        "id": "hcOWgCDOKP7e",
        "outputId": "f6958886-af8e-4b96-e54d-117701e29784"
      },
      "execution_count": 66,
      "outputs": [
        {
          "output_type": "stream",
          "name": "stdout",
          "text": [
            "Python Is An Awesome Language is in title case:True\n"
          ]
        }
      ]
    },
    {
      "cell_type": "code",
      "source": [
        "s=\"Python Is An Awesome Language !!!\"\n",
        "print(\"{0} is in title case:{1}\".format(s,s.istitle()))"
      ],
      "metadata": {
        "colab": {
          "base_uri": "https://localhost:8080/"
        },
        "id": "y_odJFiLKaax",
        "outputId": "c9591f37-46eb-440e-ad2b-02e20ef44886"
      },
      "execution_count": 67,
      "outputs": [
        {
          "output_type": "stream",
          "name": "stdout",
          "text": [
            "Python Is An Awesome Language !!! is in title case:True\n"
          ]
        }
      ]
    },
    {
      "cell_type": "code",
      "source": [
        "s=\"PYTHON\"\n",
        "print(\"{0} is in title case:{1}\".format(s,s.istitle()))"
      ],
      "metadata": {
        "colab": {
          "base_uri": "https://localhost:8080/"
        },
        "id": "KPLNsIPZKgC_",
        "outputId": "67498d50-4dbd-4d01-9604-30cf5d8fc065"
      },
      "execution_count": 68,
      "outputs": [
        {
          "output_type": "stream",
          "name": "stdout",
          "text": [
            "PYTHON is in title case:False\n"
          ]
        }
      ]
    },
    {
      "cell_type": "markdown",
      "source": [
        "# **isupper()**\n",
        "\n",
        "The function checks if the input string is in upper case of not."
      ],
      "metadata": {
        "id": "vo3a9xHLKmOB"
      }
    },
    {
      "cell_type": "code",
      "source": [
        "s=\"PYTHON\"\n",
        "print(\"{0} is in title case:{1}\".format(s,s.isupper()))"
      ],
      "metadata": {
        "colab": {
          "base_uri": "https://localhost:8080/"
        },
        "id": "XMZR6LKdKlVz",
        "outputId": "29954cef-3f56-4452-9451-5b49192cb28b"
      },
      "execution_count": 69,
      "outputs": [
        {
          "output_type": "stream",
          "name": "stdout",
          "text": [
            "PYTHON is in title case:True\n"
          ]
        }
      ]
    },
    {
      "cell_type": "code",
      "source": [
        "s=\"Python is fun\"\n",
        "print(\"{0} is in title case:{1}\".format(s,s.isupper()))"
      ],
      "metadata": {
        "colab": {
          "base_uri": "https://localhost:8080/"
        },
        "id": "OPgHAt_AKx4R",
        "outputId": "bf7816c4-410d-493b-a3d5-fbb3a662716e"
      },
      "execution_count": 70,
      "outputs": [
        {
          "output_type": "stream",
          "name": "stdout",
          "text": [
            "Python is fun is in title case:False\n"
          ]
        }
      ]
    },
    {
      "cell_type": "code",
      "source": [
        "s=\"PYTHON is fun\"\n",
        "print(\"{0} is in title case:{1}\".format(s,s.isupper()))"
      ],
      "metadata": {
        "colab": {
          "base_uri": "https://localhost:8080/"
        },
        "id": "Nd_hFwBNK2Yq",
        "outputId": "e909b337-af17-4b73-b7fd-386e11687fb8"
      },
      "execution_count": 71,
      "outputs": [
        {
          "output_type": "stream",
          "name": "stdout",
          "text": [
            "PYTHON is fun is in title case:False\n"
          ]
        }
      ]
    },
    {
      "cell_type": "code",
      "source": [
        "s=\"Python Is Fun\"\n",
        "print(\"{0} is in title case:{1}\".format(s,s.isupper()))"
      ],
      "metadata": {
        "colab": {
          "base_uri": "https://localhost:8080/"
        },
        "id": "z_LWv7KSK7QA",
        "outputId": "194732f2-7e2d-4786-e3b1-3db8f148ff40"
      },
      "execution_count": 72,
      "outputs": [
        {
          "output_type": "stream",
          "name": "stdout",
          "text": [
            "Python Is Fun is in title case:False\n"
          ]
        }
      ]
    }
  ]
}