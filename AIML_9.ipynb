{
  "nbformat": 4,
  "nbformat_minor": 0,
  "metadata": {
    "colab": {
      "name": "AIML_9.ipynb",
      "provenance": [],
      "collapsed_sections": [],
      "authorship_tag": "ABX9TyN5Mid+r6fxYvkJ2gGu5R3a",
      "include_colab_link": true
    },
    "kernelspec": {
      "name": "python3",
      "display_name": "Python 3"
    },
    "language_info": {
      "name": "python"
    }
  },
  "cells": [
    {
      "cell_type": "markdown",
      "metadata": {
        "id": "view-in-github",
        "colab_type": "text"
      },
      "source": [
        "<a href=\"https://colab.research.google.com/github/anujsaxena/AIML/blob/main/AIML_9.ipynb\" target=\"_parent\"><img src=\"https://colab.research.google.com/assets/colab-badge.svg\" alt=\"Open In Colab\"/></a>"
      ]
    },
    {
      "cell_type": "markdown",
      "source": [
        "# **Python classes**\n",
        "\n",
        "Class is a collection of similar entities.\n",
        "To access a class we need an object.\n",
        "\n",
        "class name:\n",
        "\n",
        "     <statement/code -1>\n",
        "\n",
        "     <statement/code -2>\n",
        "\n",
        "     ..\n",
        "\n",
        "     ..\n",
        "\n",
        "     ..\n",
        "\n",
        "     <statement/code -n?\n"
      ],
      "metadata": {
        "id": "-YMi9ymk73X9"
      }
    },
    {
      "cell_type": "code",
      "execution_count": 1,
      "metadata": {
        "id": "t1dsgf6L7xNI"
      },
      "outputs": [],
      "source": [
        "class my_class:\n",
        "  n=5"
      ]
    },
    {
      "cell_type": "code",
      "source": [
        "#create an object to access n\n",
        "\n",
        "obj = my_class()\n",
        "print(obj.n)"
      ],
      "metadata": {
        "colab": {
          "base_uri": "https://localhost:8080/"
        },
        "id": "DJG0BQHZ-fpK",
        "outputId": "bb3036a4-fb40-43a4-a12c-f56f5f0c86c1"
      },
      "execution_count": 2,
      "outputs": [
        {
          "output_type": "stream",
          "name": "stdout",
          "text": [
            "5\n"
          ]
        }
      ]
    },
    {
      "cell_type": "code",
      "source": [
        "class sum:\n",
        "  n=6\n",
        "  m=8\n",
        "\n",
        "obj = sum()  #create an object\n",
        "sum = obj.n+ obj.m #access the entities \n",
        "print(sum)\n"
      ],
      "metadata": {
        "colab": {
          "base_uri": "https://localhost:8080/"
        },
        "id": "-G_hKeye-2ww",
        "outputId": "7a924a7b-f7f0-4154-bc56-6cc396a178bc"
      },
      "execution_count": 3,
      "outputs": [
        {
          "output_type": "stream",
          "name": "stdout",
          "text": [
            "14\n"
          ]
        }
      ]
    },
    {
      "cell_type": "markdown",
      "source": [
        "\n",
        "\n",
        "\n",
        "```\n",
        "__init__() function\n",
        "```\n",
        "\n"
      ],
      "metadata": {
        "id": "A96_M06qD28v"
      }
    },
    {
      "cell_type": "code",
      "source": [
        "class sum:\n",
        "  def __init__(self, a, b):\n",
        "    self.a =a\n",
        "    self.b = b\n",
        "\n",
        "s = sum(10,12)  #create an object with paramters\n",
        "sum = s.a + s.b\n",
        "print(sum)"
      ],
      "metadata": {
        "colab": {
          "base_uri": "https://localhost:8080/"
        },
        "id": "HAF1elzyDmim",
        "outputId": "35782197-4718-409d-9a5a-aa52010bc09b"
      },
      "execution_count": 7,
      "outputs": [
        {
          "output_type": "stream",
          "name": "stdout",
          "text": [
            "22\n"
          ]
        }
      ]
    },
    {
      "cell_type": "code",
      "source": [
        "class mycomplex:\n",
        "  def __init__(self, real, img):\n",
        "    self.r = real\n",
        "    self.i = img\n",
        "\n",
        "obj = mycomplex(4.5, -3.2)\n",
        "print(obj.r)\n",
        "print(obj.i)\n"
      ],
      "metadata": {
        "colab": {
          "base_uri": "https://localhost:8080/"
        },
        "id": "-d6J1z7BFKgt",
        "outputId": "4a9c57b6-4766-43a0-bd7c-1d33f8ef4417"
      },
      "execution_count": 8,
      "outputs": [
        {
          "output_type": "stream",
          "name": "stdout",
          "text": [
            "4.5\n",
            "-3.2\n"
          ]
        }
      ]
    },
    {
      "cell_type": "markdown",
      "source": [
        "# Object Methods\n",
        "\n",
        "Objects can have methods also."
      ],
      "metadata": {
        "id": "YTevquJ_GLC7"
      }
    },
    {
      "cell_type": "code",
      "source": [
        "class mysum:\n",
        "  def __init__(self, a, b):\n",
        "    self.a = a\n",
        "    self.b= b\n",
        "  def myfn(self):\n",
        "     print(\"Sum = \", (self.a+self.b))\n",
        "s = mysum(66,86)\n",
        "s.myfn()"
      ],
      "metadata": {
        "colab": {
          "base_uri": "https://localhost:8080/"
        },
        "id": "ug2or9bfGMVT",
        "outputId": "cf8a6241-993f-4dd9-dd63-3e9a81686b80"
      },
      "execution_count": 9,
      "outputs": [
        {
          "output_type": "stream",
          "name": "stdout",
          "text": [
            "Sum =  152\n"
          ]
        }
      ]
    },
    {
      "cell_type": "code",
      "source": [
        "class mysum:\n",
        "  def __init__(self, a, b):\n",
        "    self.a = a\n",
        "    self.b= b\n",
        "  def myfn(self):\n",
        "     print(\"Sum = \", (self.a+self.b))\n",
        "\n",
        "v1= int(input('Enter a number'))\n",
        "v2= int(input('Enter another number'))\n",
        "s = mysum(v1,v2)\n",
        "s.myfn()"
      ],
      "metadata": {
        "colab": {
          "base_uri": "https://localhost:8080/"
        },
        "id": "1bDYQ8zCGkrb",
        "outputId": "b38c285a-17ce-43c4-d6a8-ba614aaca815"
      },
      "execution_count": 10,
      "outputs": [
        {
          "output_type": "stream",
          "name": "stdout",
          "text": [
            "Enter a number22\n",
            "Enter another number43\n",
            "Sum =  65\n"
          ]
        }
      ]
    },
    {
      "cell_type": "markdown",
      "source": [
        "# **self parameter**\n",
        "\n",
        "It refers to the current instance of a class. It is not necessary to name it as 'self'. "
      ],
      "metadata": {
        "id": "8bGzT7eKG8yx"
      }
    },
    {
      "cell_type": "code",
      "source": [
        "class mysum:\n",
        "  def __init__(myself, a, b):\n",
        "    myself.a = a\n",
        "    myself.b= b\n",
        "  def myfn(myself):\n",
        "     print(\"Sum = \", (myself.a+myself.b))\n",
        "\n",
        "v1= int(input('Enter a number'))\n",
        "v2= int(input('Enter another number'))\n",
        "s = mysum(v1,v2)\n",
        "s.myfn()"
      ],
      "metadata": {
        "colab": {
          "base_uri": "https://localhost:8080/"
        },
        "id": "ZGCPygJpG47o",
        "outputId": "bf209b6e-227a-4e51-c32e-7ee333385780"
      },
      "execution_count": 11,
      "outputs": [
        {
          "output_type": "stream",
          "name": "stdout",
          "text": [
            "Enter a number32\n",
            "Enter another number12\n",
            "Sum =  44\n"
          ]
        }
      ]
    },
    {
      "cell_type": "code",
      "source": [
        "v1= int(input('Enter a number'))\n",
        "v2= int(input('Enter another number'))\n",
        "obj = mysum(v1,v2)\n",
        "obj.myfn()"
      ],
      "metadata": {
        "colab": {
          "base_uri": "https://localhost:8080/"
        },
        "id": "rR05XD3tHVtF",
        "outputId": "0cb4163d-ac26-4524-99d4-103461996067"
      },
      "execution_count": 12,
      "outputs": [
        {
          "output_type": "stream",
          "name": "stdout",
          "text": [
            "Enter a number35\n",
            "Enter another number67\n",
            "Sum =  102\n"
          ]
        }
      ]
    },
    {
      "cell_type": "markdown",
      "source": [
        "# **delete object properties**"
      ],
      "metadata": {
        "id": "G9T9AJd1HwCM"
      }
    },
    {
      "cell_type": "code",
      "source": [
        "del obj.a\n",
        "\n",
        "obj.myfn()"
      ],
      "metadata": {
        "colab": {
          "base_uri": "https://localhost:8080/",
          "height": 322
        },
        "id": "GIxF4KBjHtWq",
        "outputId": "5affa690-ca96-4ed8-96a3-b1a994cc80be"
      },
      "execution_count": 13,
      "outputs": [
        {
          "output_type": "error",
          "ename": "AttributeError",
          "evalue": "ignored",
          "traceback": [
            "\u001b[0;31m---------------------------------------------------------------------------\u001b[0m",
            "\u001b[0;31mAttributeError\u001b[0m                            Traceback (most recent call last)",
            "\u001b[0;32m<ipython-input-13-477bf3d1a574>\u001b[0m in \u001b[0;36m<module>\u001b[0;34m()\u001b[0m\n\u001b[1;32m      1\u001b[0m \u001b[0;32mdel\u001b[0m \u001b[0mobj\u001b[0m\u001b[0;34m.\u001b[0m\u001b[0ma\u001b[0m\u001b[0;34m\u001b[0m\u001b[0;34m\u001b[0m\u001b[0m\n\u001b[1;32m      2\u001b[0m \u001b[0;34m\u001b[0m\u001b[0m\n\u001b[0;32m----> 3\u001b[0;31m \u001b[0mobj\u001b[0m\u001b[0;34m.\u001b[0m\u001b[0mmyfn\u001b[0m\u001b[0;34m(\u001b[0m\u001b[0;34m)\u001b[0m\u001b[0;34m\u001b[0m\u001b[0;34m\u001b[0m\u001b[0m\n\u001b[0m",
            "\u001b[0;32m<ipython-input-11-d67d2bc710dd>\u001b[0m in \u001b[0;36mmyfn\u001b[0;34m(myself)\u001b[0m\n\u001b[1;32m      4\u001b[0m     \u001b[0mmyself\u001b[0m\u001b[0;34m.\u001b[0m\u001b[0mb\u001b[0m\u001b[0;34m=\u001b[0m \u001b[0mb\u001b[0m\u001b[0;34m\u001b[0m\u001b[0;34m\u001b[0m\u001b[0m\n\u001b[1;32m      5\u001b[0m   \u001b[0;32mdef\u001b[0m \u001b[0mmyfn\u001b[0m\u001b[0;34m(\u001b[0m\u001b[0mmyself\u001b[0m\u001b[0;34m)\u001b[0m\u001b[0;34m:\u001b[0m\u001b[0;34m\u001b[0m\u001b[0;34m\u001b[0m\u001b[0m\n\u001b[0;32m----> 6\u001b[0;31m      \u001b[0mprint\u001b[0m\u001b[0;34m(\u001b[0m\u001b[0;34m\"Sum = \"\u001b[0m\u001b[0;34m,\u001b[0m \u001b[0;34m(\u001b[0m\u001b[0mmyself\u001b[0m\u001b[0;34m.\u001b[0m\u001b[0ma\u001b[0m\u001b[0;34m+\u001b[0m\u001b[0mmyself\u001b[0m\u001b[0;34m.\u001b[0m\u001b[0mb\u001b[0m\u001b[0;34m)\u001b[0m\u001b[0;34m)\u001b[0m\u001b[0;34m\u001b[0m\u001b[0;34m\u001b[0m\u001b[0m\n\u001b[0m\u001b[1;32m      7\u001b[0m \u001b[0;34m\u001b[0m\u001b[0m\n\u001b[1;32m      8\u001b[0m \u001b[0mv1\u001b[0m\u001b[0;34m=\u001b[0m \u001b[0mint\u001b[0m\u001b[0;34m(\u001b[0m\u001b[0minput\u001b[0m\u001b[0;34m(\u001b[0m\u001b[0;34m'Enter a number'\u001b[0m\u001b[0;34m)\u001b[0m\u001b[0;34m)\u001b[0m\u001b[0;34m\u001b[0m\u001b[0;34m\u001b[0m\u001b[0m\n",
            "\u001b[0;31mAttributeError\u001b[0m: 'mysum' object has no attribute 'a'"
          ]
        }
      ]
    },
    {
      "cell_type": "markdown",
      "source": [
        "# **Class variable and instance variable**\n"
      ],
      "metadata": {
        "id": "UVPe7e0IIIKe"
      }
    },
    {
      "cell_type": "code",
      "source": [
        "class Dog:\n",
        "    breed = 'canine'         # class variable shared by all instances\n",
        "    def __init__(self, nm):\n",
        "        self.nm = nm    # instance variable unique to each instance\n",
        "\n",
        "obj = Dog('Buddy')\n",
        "print(\"Class variable \",obj.breed)\n",
        "print(\"Instance Variable \", obj.nm)\n",
        "obj2 = Dog('Tuffy')\n",
        "print(\"Class variable \",obj2.breed)\n",
        "print(\"Instance Variable \",obj2.nm)\n",
        "\n"
      ],
      "metadata": {
        "colab": {
          "base_uri": "https://localhost:8080/"
        },
        "id": "8iYNbaQGIDoW",
        "outputId": "b92a85ca-812f-4689-cf3a-baf0a533ed6c"
      },
      "execution_count": 15,
      "outputs": [
        {
          "output_type": "stream",
          "name": "stdout",
          "text": [
            "Class variable  canine\n",
            "Instance Variable  Buddy\n",
            "Class variable  canine\n",
            "Instance Variable  Tuffy\n"
          ]
        }
      ]
    },
    {
      "cell_type": "code",
      "source": [
        "class Dog:\n",
        "    trick =[]  #empty list\n",
        "    def __init__(self, nm):\n",
        "        self.nm = nm    # instance variable unique to each instance\n",
        "\n",
        "    def add_trick(self,trick):\n",
        "      self.trick.append(trick)\n",
        "\n",
        "obj = Dog('Buddy')\n",
        "print(\"Class variable \",obj.trick)\n",
        "print(\"Instance Variable \", obj.nm)\n",
        "obj2 = Dog('Tuffy')\n",
        "print(\"Class variable \",obj2.trick)\n",
        "print(\"Instance Variable \",obj2.nm)\n",
        "obj2.add_trick('Shake Hand')\n",
        "obj2.add_trick('Roll over')\n",
        "print(obj.trick)"
      ],
      "metadata": {
        "colab": {
          "base_uri": "https://localhost:8080/"
        },
        "id": "9ryvij3TIyHf",
        "outputId": "2615c7ae-e50f-4e48-a53c-385ba6e1707e"
      },
      "execution_count": 18,
      "outputs": [
        {
          "output_type": "stream",
          "name": "stdout",
          "text": [
            "Class variable  []\n",
            "Instance Variable  Buddy\n",
            "Class variable  []\n",
            "Instance Variable  Tuffy\n",
            "['Shake Hand', 'Roll over']\n"
          ]
        }
      ]
    },
    {
      "cell_type": "code",
      "source": [
        "class Dog:\n",
        "    def __init__(myself, nm):\n",
        "        myself.nm = nm\n",
        "        myself.trick = []    # creates a new empty list for each dog\n",
        "\n",
        "    def add_trick(myself, trick):\n",
        "        myself.trick.append(trick)\n",
        "\n",
        "obj = Dog('Buddy')\n",
        "print(\"Class variable \",obj.trick)\n",
        "print(\"Instance Variable \", obj.nm)\n",
        "obj2 = Dog('Tuffy')\n",
        "print(\"Class variable \",obj2.trick)\n",
        "print(\"Instance Variable \",obj2.nm)\n",
        "obj2.add_trick('Shake Hand')\n",
        "obj2.add_trick('Roll over')\n",
        "print(obj.trick)\n",
        "print(obj2.trick)"
      ],
      "metadata": {
        "colab": {
          "base_uri": "https://localhost:8080/"
        },
        "id": "sTBCB5C1JdE5",
        "outputId": "8c76c206-2705-4f81-fe1a-e2656dc3d8a3"
      },
      "execution_count": 21,
      "outputs": [
        {
          "output_type": "stream",
          "name": "stdout",
          "text": [
            "Class variable  []\n",
            "Instance Variable  Buddy\n",
            "Class variable  []\n",
            "Instance Variable  Tuffy\n",
            "[]\n",
            "['Shake Hand', 'Roll over']\n"
          ]
        }
      ]
    },
    {
      "cell_type": "markdown",
      "source": [
        "# **Random Remarks**"
      ],
      "metadata": {
        "id": "jNBcIpeuKfae"
      }
    },
    {
      "cell_type": "code",
      "source": [
        "class warehouse:\n",
        "  purpose = 'storage'\n",
        "  region = 'north'\n",
        "\n",
        "obj = warehouse()\n",
        "print(obj.purpose)\n",
        "print(obj.region)\n",
        "obj1 = warehouse()\n",
        "obj1.region = 'west'\n",
        "print(obj1.purpose)\n",
        "print(obj1.region)\n"
      ],
      "metadata": {
        "colab": {
          "base_uri": "https://localhost:8080/"
        },
        "id": "nYUXwX5ZKVPG",
        "outputId": "ef574699-ec11-44c0-dbf4-a5a3679ff541"
      },
      "execution_count": 22,
      "outputs": [
        {
          "output_type": "stream",
          "name": "stdout",
          "text": [
            "storage\n",
            "north\n",
            "storage\n",
            "west\n"
          ]
        }
      ]
    },
    {
      "cell_type": "markdown",
      "source": [
        "# **Function defined outside the class**"
      ],
      "metadata": {
        "id": "E-TE-nF0LIkp"
      }
    },
    {
      "cell_type": "code",
      "source": [
        "def myfn(self, a,b):\n",
        "  return min(a,b)\n",
        "\n",
        "class small:\n",
        "  mf = myfn\n",
        "\n",
        "  def xyz(self):\n",
        "    return \"welcome\"\n",
        "  x = xyz\n",
        "\n",
        "obj = small()\n",
        "print(obj.mf(78,6))\n",
        "print(obj.x())\n",
        "print(obj.xyz())"
      ],
      "metadata": {
        "colab": {
          "base_uri": "https://localhost:8080/"
        },
        "id": "OJa1_xSmKdg1",
        "outputId": "110df79e-4f34-4750-e1ee-f261a9259f69"
      },
      "execution_count": 25,
      "outputs": [
        {
          "output_type": "stream",
          "name": "stdout",
          "text": [
            "6\n",
            "welcome\n",
            "welcome\n"
          ]
        }
      ]
    }
  ]
}