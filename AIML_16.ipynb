{
  "nbformat": 4,
  "nbformat_minor": 0,
  "metadata": {
    "colab": {
      "name": "AIML_16.ipynb",
      "provenance": [],
      "collapsed_sections": [],
      "authorship_tag": "ABX9TyNc99rtKOZgJvmMhZM2mbs+",
      "include_colab_link": true
    },
    "kernelspec": {
      "name": "python3",
      "display_name": "Python 3"
    },
    "language_info": {
      "name": "python"
    }
  },
  "cells": [
    {
      "cell_type": "markdown",
      "metadata": {
        "id": "view-in-github",
        "colab_type": "text"
      },
      "source": [
        "<a href=\"https://colab.research.google.com/github/anujsaxena/AIML/blob/main/AIML_16.ipynb\" target=\"_parent\"><img src=\"https://colab.research.google.com/assets/colab-badge.svg\" alt=\"Open In Colab\"/></a>"
      ]
    },
    {
      "cell_type": "markdown",
      "source": [
        "# **Light Gradient Booting Model (LGBM)**\n",
        "\n",
        "\n",
        "It uses two types of techniques which are gradient Based on side sampling or GOSS and Exclusive Feature bundling or EFB. So GOSS will actually exclude the significant portion of the data part which have small gradients and only use the remaining data to estimate the overall information gain. The data instances which have large gradients actually play a greater role for computation on information gain. GOSS can get accurate results with a significant information gain despite using a smaller dataset than other models.Boosting can be interpreted as an optimization algorithm on a suitable cost function.\n",
        "\n",
        "# **Gradient Boosting**\n",
        "Gradient boosting refers to a class of ensemble machine learning algorithms that can be used for classification or regression predictive modeling problems.\n",
        "\n",
        "# **GOSS**\n",
        "Gradient-based One-Side Sampling (GOSS), is a modification to the gradient boosting method that focuses attention on those training examples that result in a larger gradient, in turn speeding up learning and reducing the computational complexity of the method.\n",
        "\n",
        "#**The main features of the LGBM model are as follows :**\n",
        "\n",
        "1. Higher accuracy and a faster training speed.\n",
        "2. Low memory utilization\n",
        "3. Comparatively better accuracy than other boosting algorithms and handles overfitting much better while working with smaller datasets.\n",
        "4. Parallel Learning support.\n",
        "5. Compatible with both small and large datasets"
      ],
      "metadata": {
        "id": "Fa9T8dIDEP2a"
      }
    },
    {
      "cell_type": "code",
      "execution_count": 1,
      "metadata": {
        "colab": {
          "base_uri": "https://localhost:8080/"
        },
        "id": "Fy9-4UzSEJVA",
        "outputId": "305fcd4b-7627-4f04-ba11-780fc300cc27"
      },
      "outputs": [
        {
          "output_type": "stream",
          "name": "stdout",
          "text": [
            "Requirement already satisfied: lightgbm in /usr/local/lib/python3.7/dist-packages (2.2.3)\n",
            "Requirement already satisfied: scikit-learn in /usr/local/lib/python3.7/dist-packages (from lightgbm) (1.0.2)\n",
            "Requirement already satisfied: numpy in /usr/local/lib/python3.7/dist-packages (from lightgbm) (1.21.5)\n",
            "Requirement already satisfied: scipy in /usr/local/lib/python3.7/dist-packages (from lightgbm) (1.4.1)\n",
            "Requirement already satisfied: joblib>=0.11 in /usr/local/lib/python3.7/dist-packages (from scikit-learn->lightgbm) (1.1.0)\n",
            "Requirement already satisfied: threadpoolctl>=2.0.0 in /usr/local/lib/python3.7/dist-packages (from scikit-learn->lightgbm) (3.1.0)\n"
          ]
        }
      ],
      "source": [
        "!pip install lightgbm"
      ]
    },
    {
      "cell_type": "code",
      "source": [
        "#create a dataset\n",
        "from sklearn.datasets import make_classification\n",
        "#define the dataset\n",
        "X,y = make_classification(n_samples = 1000, n_features=20, n_informative=15, n_redundant=5, random_state=7)\n",
        "print(X.shape)\n",
        "print(y.shape)"
      ],
      "metadata": {
        "colab": {
          "base_uri": "https://localhost:8080/"
        },
        "id": "Gh2vhREMJoHH",
        "outputId": "38f4c623-6cdf-4dd8-d071-79693a04c9b3"
      },
      "execution_count": 11,
      "outputs": [
        {
          "output_type": "stream",
          "name": "stdout",
          "text": [
            "(1000, 20)\n",
            "(1000,)\n"
          ]
        }
      ]
    },
    {
      "cell_type": "code",
      "source": [
        "print(X)"
      ],
      "metadata": {
        "colab": {
          "base_uri": "https://localhost:8080/"
        },
        "id": "XjQZQoW1KpD_",
        "outputId": "66352b5c-c145-47b4-b8b4-78c306862b43"
      },
      "execution_count": 12,
      "outputs": [
        {
          "output_type": "stream",
          "name": "stdout",
          "text": [
            "[[ 0.2929949  -4.21223056 -1.288332   ... -4.43170633 -2.82646737\n",
            "   0.44916808]\n",
            " [-0.06839901  5.51884147 11.2389773  ... -3.08994781  1.19029898\n",
            "   1.62025622]\n",
            " [ 0.73161622 -0.68468633 -0.98174194 ...  5.65429655 -0.64659866\n",
            "  -3.15652999]\n",
            " ...\n",
            " [ 0.81230832  0.29333773  3.55727154 ...  7.52278375 -4.50067701\n",
            "  -1.92525878]\n",
            " [ 2.62760166 -1.9607565  -7.1050466  ...  0.02433393 -0.77573778\n",
            "   4.04660465]\n",
            " [-0.97292653  0.76166769  3.98307684 ...  0.85864477  2.406057\n",
            "   2.33338943]]\n"
          ]
        }
      ]
    },
    {
      "cell_type": "code",
      "source": [
        "print(y)"
      ],
      "metadata": {
        "colab": {
          "base_uri": "https://localhost:8080/"
        },
        "id": "bl9TLWptKrOn",
        "outputId": "286694a6-355a-482c-d28c-49541a2f80ab"
      },
      "execution_count": 7,
      "outputs": [
        {
          "output_type": "stream",
          "name": "stdout",
          "text": [
            "[1 0 0 1 0 0 1 1 1 0 0 1 1 1 1 0 0 1 0 0 1 0 1 0 0 1 1 0 0 0 1 0 0 0 1 1 1\n",
            " 0 0 0 0 1 0 0 1 1 1 1 1 1 0 1 0 0 1 1 1 1 0 1 1 1 0 0 0 0 0 0 1 0 1 1 1 1\n",
            " 1 0 1 0 0 0 1 0 1 1 0 0 0 1 0 0 0 0 0 1 1 1 1 1 1 0 1 0 1 0 1 0 0 1 0 1 1\n",
            " 1 0 0 0 0 0 1 0 1 0 0 1 1 0 0 1 0 1 1 0 0 1 0 1 0 1 0 0 0 0 1 0 1 0 0 0 1\n",
            " 1 1 1 0 1 0 1 0 1 0 1 0 1 1 0 1 0 1 0 0 1 1 1 0 0 0 1 0 0 1 0 0 0 0 1 1 1\n",
            " 1 0 0 0 1 0 0 1 0 1 0 1 1 0 0 0 0 1 0 0 1 1 0 0 1 1 1 1 1 1 0 1 0 0 1 0 0\n",
            " 0 1 0 0 0 0 1 1 1 0 0 1 1 1 0 1 0 1 0 0 0 1 1 1 1 1 0 0 0 1 1 0 1 1 0 0 1\n",
            " 1 1 0 1 1 1 0 0 1 1 1 1 0 0 1 0 1 1 1 0 1 0 1 1 1 0 0 1 1 0 1 0 0 1 0 0 0\n",
            " 1 0 0 1 1 0 1 0 0 1 0 1 1 1 1 1 1 1 1 1 1 1 0 1 1 0 1 1 0 1 0 0 1 0 1 0 1\n",
            " 1 1 0 1 0 1 0 0 1 1 0 0 1 0 0 0 0 0 1 0 1 1 1 0 1 1 0 0 0 0 0 1 1 0 0 1 1\n",
            " 1 1 1 1 0 0 1 1 0 1 1 1 0 1 1 1 0 1 1 0 1 0 1 0 1 1 0 1 0 0 1 0 0 0 1 0 1\n",
            " 0 0 0 1 0 1 1 1 1 0 1 1 0 0 0 0 1 0 1 0 1 1 0 1 1 1 1 1 0 0 0 1 0 0 0 1 1\n",
            " 1 1 0 0 0 1 1 0 0 0 0 1 0 1 1 0 0 0 0 1 0 0 1 1 0 0 1 0 1 0 0 0 0 0 1 0 1\n",
            " 0 0 1 1 1 1 0 0 0 0 0 0 0 0 1 0 0 0 0 0 0 0 0 1 0 1 0 0 0 0 1 0 1 1 0 1 1\n",
            " 0 1 1 1 1 0 0 1 0 0 1 1 1 0 1 1 0 0 0 0 1 1 1 0 0 0 0 0 0 0 0 1 1 0 1 1 1\n",
            " 1 0 1 0 1 1 0 1 0 1 1 1 0 0 0 1 1 1 0 1 0 0 0 1 0 0 0 1 1 1 1 1 1 0 0 0 1\n",
            " 0 0 0 1 1 1 0 1 0 0 1 1 0 1 0 1 0 0 1 0 1 1 1 0 0 0 0 1 1 1 0 0 0 1 1 1 0\n",
            " 0 1 0 1 0 1 1 1 0 1 1 0 0 0 0 1 1 0 0 1 0 0 0 0 0 0 0 1 0 1 0 0 0 1 0 0 0\n",
            " 0 0 1 0 1 1 0 0 1 0 1 1 1 1 1 0 1 1 1 1 0 0 1 1 0 0 0 0 0 0 1 1 1 0 0 0 1\n",
            " 0 0 1 0 0 1 0 0 0 0 0 1 1 1 0 1 0 1 1 1 0 1 1 0 0 0 0 0 1 1 1 0 0 0 1 1 1\n",
            " 1 1 1 0 0 0 1 1 0 0 1 0 1 1 1 1 1 1 1 1 0 0 1 1 1 0 1 1 0 0 0 1 0 1 1 0 0\n",
            " 1 1 0 1 1 0 1 1 0 1 0 1 0 1 1 1 1 0 0 0 0 1 1 1 0 0 1 0 1 1 1 0 0 0 0 0 1\n",
            " 0 1 1 1 0 1 0 1 0 0 1 0 1 0 1 0 1 0 0 0 1 1 0 0 1 1 1 1 0 1 0 1 1 0 1 1 0\n",
            " 0 1 1 1 1 1 1 1 0 1 0 0 1 1 1 1 1 0 0 1 1 0 1 0 0 0 0 0 1 0 0 1 1 1 0 0 1\n",
            " 1 0 1 0 1 1 1 0 1 0 0 1 0 0 1 1 1 1 0 0 1 1 0 0 0 1 0 0 0 0 1 1 1 0 0 0 1\n",
            " 1 0 1 1 0 1 0 1 1 1 1 0 1 0 0 0 1 0 0 1 1 0 0 0 1 0 1 1 1 0 1 1 1 1 0 1 0\n",
            " 1 1 0 1 0 1 0 1 1 1 0 0 1 1 0 0 1 1 0 1 1 1 1 0 0 0 0 0 0 1 1 0 1 0 1 1 0\n",
            " 0]\n"
          ]
        }
      ]
    },
    {
      "cell_type": "code",
      "source": [
        "#predict using LightGBM\n",
        "from lightgbm import LGBMClassifier\n",
        "#define the model\n",
        "model = LGBMClassifier()\n",
        "#fit the model to the dataset\n",
        "model.fit(X,y)\n",
        "# make a single prediction\n",
        "row = [0.2929949,-4.21223056,-1.288332,-2.17849815,-0.64527665,2.58097719,0.28422388,-7.1827928,-1.91211104,2.73729512,0.81395695,3.96973717,-2.66939799,3.34692332,4.19791821,0.99990998,-0.30201875,-4.43170633,-2.82646737,0.44916808]\n",
        "pred = model.predict([row])\n",
        "print(pred)\n",
        "print('Predicted Class: %d' % pred[0])"
      ],
      "metadata": {
        "colab": {
          "base_uri": "https://localhost:8080/"
        },
        "id": "_L9gXb7UKt4m",
        "outputId": "07875ba4-a0b9-4bd5-b97d-5394ee2ee33e"
      },
      "execution_count": 13,
      "outputs": [
        {
          "output_type": "stream",
          "name": "stdout",
          "text": [
            "[1]\n",
            "Predicted Class: 1\n"
          ]
        }
      ]
    },
    {
      "cell_type": "code",
      "source": [
        "from sklearn.datasets import make_regression\n",
        "\n",
        "X, y = make_regression(n_samples=1000, n_features=20, n_informative=15, noise=0.1, random_state=7)\n",
        "# summarize the dataset\n",
        "print(X.shape, y.shape)\n",
        "print()\n",
        "print(X)\n",
        "print()\n",
        "print(y)\n",
        "from lightgbm import LGBMRegressor\n",
        "model = LGBMRegressor()\n",
        "model.fit(X,y)\n",
        "test=[0.20543991,-0.97049844,-0.81403429,-0.23842689,-0.60704084,-0.48541492,0.53113006,2.01834338,-0.90745243,-1.85859731,-1.02334791,-0.6877744,0.60984819,-0.70630121,-1.29161497,1.32385441,1.42150747,1.26567231,2.56569098,-0.11154792]\n",
        "pred = model.predict([test])"
      ],
      "metadata": {
        "colab": {
          "base_uri": "https://localhost:8080/"
        },
        "id": "udBQfp8sMJMw",
        "outputId": "8a87aeaf-e085-44b7-f062-0e43261c076f"
      },
      "execution_count": 17,
      "outputs": [
        {
          "output_type": "stream",
          "name": "stdout",
          "text": [
            "(1000, 20) (1000,)\n",
            "\n",
            "[[ 0.20543991 -0.97049844 -0.81403429 ...  1.26567231  2.56569098\n",
            "  -0.11154792]\n",
            " [-0.15673157 -0.29174391 -1.35320829 ...  1.0656072   2.47014304\n",
            "  -1.27650497]\n",
            " [-0.02584282 -0.245296   -1.51973704 ... -1.86585106  0.61223733\n",
            "  -0.51494948]\n",
            " ...\n",
            " [ 1.19355678  1.23937514  1.35954329 ... -0.20344271  0.5071418\n",
            "  -1.25811036]\n",
            " [ 1.33604765 -0.61903887  0.13355302 ...  1.11569853  0.60672122\n",
            "   1.67402953]\n",
            " [-0.4997569  -0.30625735 -1.14360553 ...  0.18461121  0.52281976\n",
            "  -1.07511695]]\n",
            "\n",
            "[ 5.02688455e+01  2.15401724e+02 -1.25185682e+02  5.90238201e+01\n",
            " -1.19605891e+02 -1.37443552e+02 -3.13797872e+02 -2.53844435e+02\n",
            "  3.22384591e+02 -1.64649973e+02  4.46063916e+02 -4.64630308e+01\n",
            " -7.99400604e+01  1.36361872e+02  9.72161393e+01 -8.45081772e+01\n",
            " -7.13602806e+01 -6.25563905e+01 -8.41079533e+01 -2.31771441e+02\n",
            " -1.00836205e+02  3.92231146e+02 -2.19086225e+02 -2.10988335e+02\n",
            "  1.72778197e+01 -4.81888968e+02 -5.90208050e+01  1.60875971e+02\n",
            " -4.95291210e+02  2.41422516e+02  2.33440148e+02  1.89030766e+02\n",
            " -2.61343268e+02  4.72437539e+02 -8.52737159e+00  5.28611939e+01\n",
            "  2.59971774e+02  2.18002067e+02 -1.79062848e+02  8.73222658e+01\n",
            " -2.77034071e+02  3.29812489e+02  4.21705093e+02 -6.34276593e+01\n",
            "  1.73797871e+02  1.70055253e+02 -1.16497362e+01  2.08988297e+02\n",
            "  3.06101009e+02  6.61461884e+02  2.04307734e+02  2.43441308e+02\n",
            " -2.63164179e+02  4.21175815e+01 -7.65540334e+00 -1.03465577e+02\n",
            " -1.18916519e+02 -3.28667658e+01 -7.19967051e+00  1.68851086e+02\n",
            " -4.00011364e+02 -1.81209440e+01  3.11650753e+02  1.34717858e+02\n",
            "  6.64913725e+01  1.73150522e+02 -2.48430684e+02 -6.23499474e+01\n",
            "  1.56820941e+02 -1.09556353e+02 -1.28943176e+02  3.62054128e+02\n",
            " -2.97884481e+02  3.34098609e+02  3.33871618e+01  9.06995413e+01\n",
            "  1.15852243e+01  6.23030444e+01 -8.02155393e+01  1.52688789e+02\n",
            "  1.61818919e+02  1.58064112e+02 -3.13734452e+02  2.65722154e+02\n",
            "  4.85783414e+01  2.85311801e+02  1.49901742e+02 -8.10859526e+01\n",
            " -1.13589595e+02  1.73325691e+02  3.82928483e+02 -6.18142667e+01\n",
            "  3.96719733e+02 -1.56508777e+02 -1.42980404e+02  4.02138733e+02\n",
            " -3.43553742e+01  9.27514761e+01 -1.83996116e+02  8.18162174e+00\n",
            "  8.12359828e+01 -2.81924142e+02 -6.65776023e+01  2.27196340e+02\n",
            " -4.18251257e+02  1.82169560e+00 -2.25165973e+02  9.10172263e+01\n",
            "  1.51034106e+02 -2.73840183e+02  2.92288079e+02 -4.54484785e+02\n",
            " -1.55379265e+00 -1.28985435e+02 -4.98412703e+01  1.81854794e+02\n",
            "  3.00965393e+02 -4.41514408e+02 -6.42466813e+01  2.44569800e+02\n",
            " -1.00087259e+02 -1.79086675e+01  6.63882346e+00 -2.58955626e+02\n",
            "  1.44758532e+00  2.44214553e+02  2.68095417e+02  2.89516083e+01\n",
            " -8.69509716e+01 -7.64283553e+01 -3.56546698e+01  1.80637382e+02\n",
            "  6.02664109e+01  1.98298845e+02  7.17858948e+01  1.51722318e+00\n",
            "  4.80066575e+01  2.32782150e+02 -1.71911089e+02 -2.04037856e+02\n",
            "  2.52616314e+02  1.59381929e+02 -5.01193052e+02 -6.78184805e+01\n",
            " -2.37190282e+02 -6.62167433e+01  1.46831890e+02  9.53003375e+01\n",
            "  2.16497511e+02  4.58740883e+01 -7.14993153e+01 -5.15760520e+01\n",
            " -2.02474306e+01 -3.61459094e+02  9.10316342e+01 -8.84476989e+01\n",
            " -9.92185608e+01  9.24441645e+01 -3.10192811e+02  5.24190258e+01\n",
            "  1.43957322e+02 -9.09164144e+01  2.59751726e+02  3.48810699e+02\n",
            "  1.81585057e+02  1.86241853e+01  7.07881666e+01 -3.22316241e+02\n",
            "  2.87008850e+02 -7.24571195e+00 -1.74755728e+02  1.76441835e+02\n",
            " -2.66122550e+02 -1.74349898e+02  5.84324677e+00  1.84812773e+02\n",
            " -1.41685974e+02  5.57900015e+01  2.72738533e+02 -4.21623308e+02\n",
            " -3.38632262e+02  1.57249015e+02 -2.13101539e+02 -3.12240874e+02\n",
            "  1.03294543e+02 -2.14911668e+02 -4.08790502e+01 -6.05443195e+01\n",
            " -3.78416480e+02  3.51046039e+01 -5.97125617e+01  1.29853000e+02\n",
            " -7.40793967e+01 -1.85174798e+02  1.74166729e+02  1.77636181e+01\n",
            " -2.12526238e+02 -3.40175776e+02  3.36816846e+02 -7.19031907e+01\n",
            "  4.62296798e+01 -9.87391207e+01 -1.89343945e+02 -2.18898370e+02\n",
            " -3.00808915e+01 -1.54447376e+02 -1.46954517e+02  1.24420121e+01\n",
            "  2.20764722e+01  2.04756461e+02  1.43204693e+02  6.56084726e+01\n",
            " -2.31007957e+02 -1.20270643e+02 -2.07278352e+02 -1.05156181e+01\n",
            " -3.51053047e+02 -1.17214900e+02  4.87119887e+01 -4.84916852e+01\n",
            "  2.72726402e+02  2.28712591e+02  1.16871062e+02  2.15819527e+02\n",
            "  3.08356287e+02 -2.37758947e+02 -3.00516392e+02 -2.98468165e+02\n",
            "  8.47272680e+01  9.97057536e+01 -3.81519872e+02  2.89373383e+02\n",
            " -1.62471415e+02  2.08051280e+02  1.39731549e+02  3.48548936e+02\n",
            " -5.23155977e+01  4.62502651e+02  1.09660342e+02 -1.58368824e+02\n",
            "  1.22274831e+01 -5.58518795e+01  1.78215540e+02 -2.91966845e+02\n",
            "  5.68019657e+01  1.54010208e+02  5.29119587e+01 -4.21824140e+02\n",
            "  3.02486625e+02 -1.44817226e+02  3.31017140e+01  2.43965383e+02\n",
            " -7.79279438e+01  4.58894187e+02  2.74073570e+01 -1.72271339e+02\n",
            "  4.95380551e+01 -2.73572364e+01  7.40096279e+01  4.02416290e+01\n",
            " -4.79534712e+02  1.55715339e+02  3.71690368e+02 -9.49805527e+00\n",
            "  1.09162875e+02 -1.39118230e+02  1.75060433e+02  2.37772698e+02\n",
            "  4.38102023e+01 -2.73447642e+02  4.34023817e+02 -6.87056368e+00\n",
            "  2.28622708e+02  9.46412109e+01  1.51057243e+02 -9.59227234e+01\n",
            " -2.46960012e+02 -3.47308499e+02 -6.95184480e+01  1.87636387e+02\n",
            "  3.42501288e+01  1.22262149e+02  2.26512118e+02 -1.25967765e+02\n",
            "  7.43107455e+01  1.15439063e+01 -4.31769318e+02 -3.30009059e+02\n",
            " -9.88593327e+01 -2.92409943e+01 -3.12824570e+02 -2.54846325e+02\n",
            " -2.22600854e+02  3.68365175e+02 -2.21470244e+02 -1.83045175e+02\n",
            " -1.87410134e+02  4.55557514e+01  1.15039042e+02  1.76098496e+01\n",
            "  2.11844812e+02  1.70310284e+02 -4.46792623e+02 -5.54883841e+01\n",
            " -3.59563391e+02 -1.32048906e+02 -1.30531181e+02 -4.58831883e+01\n",
            "  7.46022221e+01  1.93758801e+02  4.50814818e+01 -3.61208098e+01\n",
            " -2.12248845e+01 -4.59048042e+01 -6.38204179e+01  1.97907522e+02\n",
            " -2.37519072e+02  2.54486765e+02 -3.52497281e+02 -2.60256357e+02\n",
            "  3.23380823e+01  8.46437424e+01  2.61968223e+01 -2.33542421e+02\n",
            "  2.87491307e+01  1.91492308e+02 -1.82326243e+02  3.93800350e+02\n",
            "  7.23932182e+01 -9.66824551e+01 -4.38224165e+02  1.73202359e+02\n",
            "  6.00733989e+01 -5.62339249e+02  3.01641973e+02  3.36138316e+02\n",
            "  4.51798607e+02  1.62393095e+02 -2.23917924e+01 -1.82498685e+02\n",
            "  2.31818218e+01  3.22258241e+02 -3.07829051e+02 -4.79383564e+02\n",
            "  3.57500346e+01 -4.30886571e+02  4.89149563e+01 -4.01063522e+02\n",
            " -2.80678513e+00  1.23172510e+02 -1.54068469e+02  5.08755912e+01\n",
            "  1.18142273e+02 -2.15560215e+02  1.78105628e+02  4.04188117e+02\n",
            "  3.05844624e+02  1.37714362e+02  1.29771160e+02  1.79905997e+01\n",
            "  3.44170381e+01  2.65009870e+02 -3.51903068e+02 -3.71518203e+01\n",
            " -2.68000053e+02 -3.93469324e+02 -2.22793055e+02  3.12768282e+02\n",
            "  2.73945497e+02  2.98988157e+01  6.25348963e+01  1.75622610e+02\n",
            " -6.63193465e+01  8.04957503e+01  8.53950661e+00 -2.11512075e+02\n",
            " -6.75116897e+01  1.31166857e+02 -6.07045148e+01 -8.40297413e+01\n",
            " -8.84407778e+01 -2.52873001e+02  5.41831868e+01  2.53499719e+01\n",
            " -1.67878929e+02 -2.97512367e+02 -1.27170566e+01 -9.85051181e+01\n",
            " -2.80670211e+02  3.34620005e+00  1.78358907e+02  2.64086307e+02\n",
            " -7.25706496e+01 -2.35197655e+02  2.74517039e+02  1.64056090e+02\n",
            "  2.08792629e+02 -1.98269441e+02  7.64749964e+01  2.15611165e+01\n",
            " -2.05853785e+02 -1.02456069e+02 -1.76469503e+01 -8.19839569e+01\n",
            "  4.55920261e+02 -2.39627454e+02 -4.06024074e+01 -2.56467252e+02\n",
            " -2.75117617e+01  2.40099970e+02  2.20244040e+02 -1.32050460e+02\n",
            "  1.01093758e+02 -2.36251801e+01  1.89540600e+02  1.87626197e+02\n",
            " -5.56461526e+01 -3.60884428e+01 -6.33167778e+02  8.37614957e+01\n",
            " -6.58164053e+01  2.10901419e+02  5.79765074e+01  5.14473088e+01\n",
            " -1.71991570e+02 -3.87526149e+02  4.22070368e+02 -2.76765479e+02\n",
            "  5.02633197e+02 -1.04682161e+02 -2.52805232e+02 -1.54184887e+02\n",
            "  2.87927806e+02  1.42168253e+02 -2.14261752e+02  3.22396951e+02\n",
            " -8.99226182e+01  2.64380132e+02 -2.59645178e+02 -1.96270149e+02\n",
            " -4.54109284e+02  2.27366312e+02  3.68145332e+01  1.09515605e+01\n",
            " -2.93460480e+02  1.86167188e+02  2.72674912e+02 -2.69933934e+02\n",
            " -2.54779115e+02  2.07081446e+02 -9.44876139e+01 -2.50544660e+02\n",
            " -2.73198910e+02 -1.44489035e+02 -8.77521684e+01 -3.41851783e+02\n",
            " -3.92371612e+02 -3.96481883e+01  3.20589733e+02  9.37588237e+01\n",
            "  1.13051735e+01 -1.28387911e+02 -1.79833407e+02 -9.96205520e+01\n",
            " -1.00396151e+02 -2.39792660e+02  2.38321809e+00 -8.68788716e+00\n",
            "  3.28337893e+02  1.13576289e+02 -1.35826756e+02  1.30234165e+02\n",
            "  3.83127748e+01  4.51652264e+02  3.03413699e+02  2.27517906e+02\n",
            " -1.16711269e+02 -3.58930225e+01  2.50016124e+02  4.99329452e+02\n",
            "  2.51422249e+02 -2.76881096e+02  4.85103449e+01  7.68406990e+01\n",
            "  5.07210307e+02  9.40140925e+00  4.60625964e+01  1.72157046e+02\n",
            "  2.76746651e+02  5.64725894e+00 -1.48393269e+02  3.50892846e+02\n",
            "  5.73526860e+01 -5.15805348e+01 -1.88416079e+02  1.91548387e+02\n",
            "  1.44596998e+02  2.86847867e+02  1.29937794e+02  1.45207292e+02\n",
            "  3.90091400e+02  3.04231309e+02 -2.41787475e+02  2.46236550e+01\n",
            " -5.52849358e+01 -7.69969858e+01 -4.64473089e+01 -1.58126447e+01\n",
            " -3.26900342e+02  1.63411904e+02 -2.85174629e+02 -1.91132922e+02\n",
            "  1.68060423e+02 -5.49399113e+02 -1.16775466e+02 -6.73492826e+01\n",
            "  5.21903161e+01  1.30973113e+02  3.48589217e+01 -8.21232116e+01\n",
            " -3.57934105e+02  8.09218129e+01  6.91265347e+01  3.79411882e+02\n",
            "  2.15991959e+02  5.34373076e+00 -5.13671514e+01  1.20237408e+02\n",
            "  2.93826742e+02  2.52806974e+02  1.70123551e+02 -7.68489199e+01\n",
            "  7.84869502e+01  4.78527783e+01 -3.42494508e+02 -5.75159537e+01\n",
            " -1.82881477e+02 -3.09282663e+01  2.10685767e+02 -3.34709479e+02\n",
            "  9.63989773e+01  2.09604728e+00  1.99405048e+02  5.53820239e+02\n",
            " -2.79589036e+02  2.77902696e+02  1.93630766e+02  1.17272838e+01\n",
            " -6.05180327e+01 -4.69585556e+02  1.33737133e+02  4.32481726e+02\n",
            "  2.38374897e+02 -1.05091729e+02  1.52375331e+02  4.89493214e+02\n",
            "  1.33340128e+02 -2.19161066e+02 -7.55881396e+01 -1.87018275e+01\n",
            "  1.35819723e+02 -2.19387006e+02 -2.73849410e+00  3.31841525e+02\n",
            "  3.78833696e+02 -2.46202293e+02 -1.25496088e+02  1.09851217e+02\n",
            " -9.85434985e+01  3.42284155e+02 -1.24340132e+02  2.94982405e+02\n",
            "  2.02800746e+02 -5.35067583e+01 -1.76011789e+02 -3.90500966e+00\n",
            "  1.38237616e+02 -2.94287597e+02  5.56776220e+01  4.18325314e+01\n",
            "  3.87360066e+01  2.31736739e+01  7.60715315e+01 -3.54146807e+01\n",
            " -1.53983807e+02  3.29345221e+02 -4.68259210e+01 -1.62364175e+02\n",
            "  7.11017902e+01  4.19190891e+02 -2.68722277e+02  2.35477257e+01\n",
            " -1.32213862e+02 -6.06162249e+01 -3.36745650e+02 -3.90538460e+02\n",
            " -2.34738873e+01 -6.51459868e+01 -1.59087846e+02 -4.29529422e+02\n",
            " -2.56999462e+02  4.80600272e+02  1.32941624e+02 -9.20321871e+00\n",
            " -2.99280451e+02  2.94174492e+02  1.26191015e+02 -9.05775209e+01\n",
            " -1.44434072e+02  2.96362008e+02 -3.84512999e+02  1.25251908e+02\n",
            "  3.32505350e+02  4.05042773e+02 -3.10400155e+01 -3.52972101e+02\n",
            " -3.14944699e+02  4.27902321e+02  3.23729490e+02  3.03357587e+02\n",
            "  2.92713573e+02  7.40660542e+01  3.38067173e+02 -3.77044055e+02\n",
            " -3.00257664e+02 -1.02424859e+02  1.83725116e+02 -1.21573363e+02\n",
            " -5.07169305e+01  4.41023869e+01 -1.57987790e+02 -3.20083293e+02\n",
            " -3.34541111e+01  4.53764720e+01  5.33449218e+01  1.61239895e+02\n",
            "  2.17017220e+01  2.84197877e+02 -8.41785198e+01 -3.90651046e+02\n",
            "  1.29895354e+02 -1.52582496e+02 -4.65746103e+01  5.97623841e+01\n",
            " -2.61409644e+02  1.08413146e+02  1.62776158e+02  5.31253252e+01\n",
            " -2.06913227e+02 -1.83373048e+02 -6.59055323e+01  4.23969740e+02\n",
            "  1.88211515e+02  5.65596267e+01  9.38768909e+01 -2.85956238e+02\n",
            " -5.52739991e+00  2.75580453e+02  1.34611030e+02 -1.70563585e+00\n",
            "  1.31057803e+01 -5.32826712e+00 -8.36071974e+01  1.48748418e+02\n",
            "  1.03920207e+02 -1.88955439e+01  9.37991213e+01 -1.16927152e+02\n",
            "  2.32670729e+02 -2.21247894e+02 -4.65302544e+01 -2.51606282e+02\n",
            " -3.43088065e+02  2.14034454e+02  4.59462568e+02  1.05603009e+02\n",
            "  2.17178897e+02 -2.77194735e+01 -1.68361992e+02  1.65859913e+02\n",
            "  1.89109370e+02  2.00445256e+02 -2.63761329e+02 -4.83299581e+01\n",
            "  2.69200722e+02  2.45298003e+02  1.52285561e+02  5.68810069e+01\n",
            "  2.16871871e+02  3.17782435e+02 -1.30340311e+02 -1.39995031e+02\n",
            " -4.44799296e+02 -3.10957937e+02 -1.07177925e+02  2.49901660e+02\n",
            "  1.77052575e+02  2.48642572e+02 -1.78180077e+02  4.95738529e+01\n",
            "  1.48203531e+02 -2.72988049e+02 -4.80442114e+01  1.67428581e+02\n",
            " -3.21387162e+02  6.90901724e+01  5.51390962e+01 -2.48725240e+02\n",
            "  3.17048505e+01  3.63084210e+01 -9.12502486e+01 -1.08964510e+02\n",
            " -3.64966406e+02 -3.60032967e+02  2.42005848e+01  6.20443539e+01\n",
            "  1.05143160e+02 -1.22463114e+02  1.15154692e+01 -3.64334003e+01\n",
            " -3.36450238e+02  2.13065197e+02  1.82264733e+01 -2.00713661e+02\n",
            "  4.57758798e+02 -1.13293829e+02  3.12813252e+02  4.90081309e-02\n",
            " -5.61818114e+01 -3.19540231e+01  6.28912001e+02  3.89151068e+02\n",
            "  8.99308037e+01 -1.43437321e+02  2.16890353e+02 -2.27117507e+02\n",
            " -3.67733915e+02 -3.44926749e+02  1.02807838e+02 -2.02970093e+02\n",
            "  8.50179132e+00 -8.14929754e+01  4.51098361e+02 -9.57263321e+01\n",
            " -5.31291968e+01 -1.86596662e+02  2.18428839e+02  1.63302099e+02\n",
            "  2.75504809e+02  1.53544127e+02 -1.24992821e+02 -2.52172374e+02\n",
            " -4.05631305e+02  3.82823885e+02  7.24569325e+01 -4.27389271e+01\n",
            " -1.00952746e+02 -7.90275542e+01 -1.00594769e+02 -1.31176718e+02\n",
            " -1.25422712e+02 -4.26972174e+02  2.32336674e+02  2.43437471e+02\n",
            "  4.60476243e+02 -4.60426933e+02  6.94974864e+00 -3.24090274e+02\n",
            "  1.27378365e+02 -2.35850111e+02  2.56618584e+02  3.81139307e+02\n",
            "  4.62491304e+02  1.12989893e+02  1.53415475e+02 -1.90100789e+02\n",
            "  2.71721710e+00 -9.85728089e+01 -5.15940085e+01  1.35809897e+02\n",
            "  1.50306294e+02  5.21624379e+02  1.43980944e+02  3.66960465e+01\n",
            " -9.93785021e+01 -6.21677990e+00 -7.58817294e+01 -4.51923565e+01\n",
            "  8.13960657e+01 -4.00571409e+02 -9.15155147e+01  1.58798530e+01\n",
            " -2.80644727e+02 -9.01996723e+01  1.76657320e+02  4.01138473e+01\n",
            " -4.40813722e+01  2.79749825e+02 -3.59088603e+02  1.69488121e+02\n",
            " -1.59661954e+01 -1.21327335e+02  1.83800978e+02  2.47417131e+02\n",
            " -3.43919619e+02  8.85067638e+01 -5.48554398e+01  2.37204293e+02\n",
            "  2.06328142e+01 -1.45439814e+02  3.07843648e+02 -1.77951807e+02\n",
            " -8.83505514e+01  1.46302661e+01  2.49149583e+02 -2.81942734e+02\n",
            "  8.65229136e+01  4.53278238e+02 -3.01156194e+02 -5.54154276e+02\n",
            "  3.39431922e+01  1.92857966e+02 -1.94436027e+02 -1.29738606e+02\n",
            "  6.01539122e+00 -6.14411341e-01  5.30826418e+02  3.32983734e+02\n",
            " -6.97708510e+01  5.34452539e+01  5.65473127e+01 -1.87471491e+02\n",
            " -6.63266569e+01  8.31586146e+01  9.39967550e+01  1.79594202e+02\n",
            " -4.66933120e+02 -1.95665515e+02 -2.79901708e+02 -2.77163771e+02\n",
            " -4.47316665e+00 -1.45975597e+02 -2.75455064e+02 -4.42108356e+01\n",
            " -2.25238495e+00 -2.91285022e+02  6.06817920e+01 -1.13543540e+02\n",
            "  4.54031224e+01 -5.29266192e+00  4.01336166e+02 -7.40771573e+01\n",
            "  1.28737948e+02  1.24931443e+02 -3.90693601e+01  2.42849473e+02\n",
            " -1.50530928e+01 -3.60481707e+01  9.97263920e+01  6.53377565e+01\n",
            " -1.59364090e+01  6.34875706e+01 -2.14596925e+02 -2.36002019e+01\n",
            "  1.28267002e+01  1.51585727e+02  1.48545963e+01 -1.08180323e+02\n",
            " -3.87117016e+02  1.76207559e+02 -1.07805030e+02  4.79482604e+02\n",
            " -2.33014087e+02  1.55938478e+02 -3.46659402e+02  2.03947377e+02\n",
            " -9.46200691e+01 -2.26669900e+01 -1.56637594e+01  1.25818172e+02\n",
            "  2.44870792e+01  3.06638679e+02  6.22500743e+01 -1.51819613e+02\n",
            "  7.81012874e+01  2.59849629e+01  2.68817560e+02 -3.71552906e+02\n",
            "  5.91807022e+01 -3.39631374e+02  6.54145960e+01  6.05318434e+01\n",
            " -1.55809068e+02 -2.45997620e+02  1.20959911e+02 -1.19066868e+02\n",
            "  6.45494774e+01  9.24341830e+01  6.18995319e+00  3.87584756e+02\n",
            "  3.11572775e+02 -3.10627176e+01  2.75104363e+02 -4.05727602e+00\n",
            "  1.13291694e+02 -7.57559032e+01  2.68835434e+02 -1.66104514e+02\n",
            "  1.97821197e+02  3.06704015e+02 -4.67183649e+02 -3.77935041e+02\n",
            " -1.62741961e+02 -2.69363563e+02 -3.00769830e+01 -3.80095291e+01\n",
            " -2.97282694e+02 -1.85721834e+02  2.69023260e+02 -3.11659205e+02\n",
            "  2.35729526e+01  1.25228105e+02 -2.55000981e+01  5.11437769e+01\n",
            " -3.60547994e+01  1.91611967e+02  2.70491103e+02 -2.47369599e+01\n",
            "  3.44633017e+02  4.00546211e+01  8.49628057e+01  9.60297112e+01\n",
            "  1.13284016e+02  6.53691706e+01 -2.67753779e+02  7.79578584e+01\n",
            "  2.17646207e+02 -2.09428760e+02  2.33548199e+02  9.83721136e+00\n",
            " -2.16314231e+02 -3.11780391e+02  3.95865161e+02  4.40972689e+02\n",
            " -1.53207937e+02 -2.05063551e+02  2.77287740e+02 -2.07767320e+02\n",
            " -7.54029785e+00 -1.76866927e+01  1.46825183e+00 -1.01398204e+02\n",
            " -1.03101216e+02  4.35828994e+02 -2.74722450e+02 -6.63293131e+02\n",
            "  2.01241000e+02 -5.59200678e+02 -1.03252992e+02  1.60810187e+02\n",
            "  2.59134657e+02  2.04462276e+02  2.62633200e+02 -2.50906175e+02\n",
            " -2.39134823e+02 -4.02543915e+01 -3.49458216e+02 -1.74675084e+02\n",
            "  4.38526062e+01  1.10013972e+00 -3.59628909e+02 -9.43966781e+01\n",
            " -9.31890232e+01 -2.05959959e+02 -2.77896698e+02 -2.34600489e+02\n",
            " -3.75272572e+02 -3.14318311e+02 -1.28911377e+02 -1.66535224e+02\n",
            " -1.23427874e+01 -1.31310896e+02 -1.78894900e+02 -1.28434451e+02\n",
            "  1.03796182e+02  1.75881881e+02  1.35725252e+02  1.76076929e+02\n",
            " -1.72119322e+01  8.78004261e+01  1.83916997e+02  4.91721144e+02\n",
            "  7.18251929e+01 -4.91182073e+01  4.04503592e+02 -1.83982622e+02\n",
            "  1.76401032e+02  2.02596695e+02  5.01797833e+02 -6.36089870e+01]\n",
            "[52.31170802]\n",
            "Predicted class :  52.31170802044668\n"
          ]
        }
      ]
    },
    {
      "cell_type": "code",
      "source": [
        "print(pred)\n",
        "print(\"Predicted class : \", pred[0])"
      ],
      "metadata": {
        "colab": {
          "base_uri": "https://localhost:8080/"
        },
        "id": "RHCcKzOkNDPV",
        "outputId": "3b8900e1-a50d-4e51-9a48-92ee70cc5396"
      },
      "execution_count": 18,
      "outputs": [
        {
          "output_type": "stream",
          "name": "stdout",
          "text": [
            "[52.31170802]\n",
            "Predicted class :  52.31170802044668\n"
          ]
        }
      ]
    },
    {
      "cell_type": "code",
      "source": [
        "# explore lightgbm number of trees effect on performance\n",
        "from numpy import mean\n",
        "from numpy import std\n",
        "from sklearn.datasets import make_classification\n",
        "from sklearn.model_selection import cross_val_score\n",
        "from sklearn.model_selection import RepeatedStratifiedKFold\n",
        "from lightgbm import LGBMClassifier\n",
        "from matplotlib import pyplot\n",
        "\n",
        "# get the dataset\n",
        "def get_dataset():\n",
        "\tX, y = make_classification(n_samples=1000, n_features=20, n_informative=15, n_redundant=5, random_state=7)\n",
        "\treturn X, y\n",
        "\n",
        "# get a list of models to evaluate\n",
        "def get_models():\n",
        "\tmodels = dict()\n",
        "\ttrees = [10, 50, 100, 500, 1000, 5000]\n",
        "\tfor n in trees:\n",
        "\t\tmodels[str(n)] = LGBMClassifier(n_estimators=n)\n",
        "\treturn models\n",
        "\n",
        "# evaluate a give model using cross-validation\n",
        "def evaluate_model(model):\n",
        "\tcv = RepeatedStratifiedKFold(n_splits=10, n_repeats=3, random_state=1)\n",
        "\tscores = cross_val_score(model, X, y, scoring='accuracy', cv=cv, n_jobs=-1)\n",
        "\treturn scores\n",
        "\n",
        "# define dataset\n",
        "X, y = get_dataset()\n",
        "# get the models to evaluate\n",
        "models = get_models()\n",
        "# evaluate the models and store results\n",
        "results, names = list(), list()\n",
        "for name, model in models.items():\n",
        "\tscores = evaluate_model(model)\n",
        "\tresults.append(scores)\n",
        "\tnames.append(name)\n",
        "\tprint('>%s %.3f (%.3f)' % (name, mean(scores), std(scores)))\n",
        "# plot model performance for comparison\n",
        "pyplot.boxplot(results, labels=names, showmeans=True)\n",
        "pyplot.show()"
      ],
      "metadata": {
        "colab": {
          "base_uri": "https://localhost:8080/",
          "height": 373
        },
        "id": "sLczWMXLNRpG",
        "outputId": "a56c9cfe-27dc-4cf7-fa18-b92c49292e9c"
      },
      "execution_count": 19,
      "outputs": [
        {
          "output_type": "stream",
          "name": "stdout",
          "text": [
            ">10 0.857 (0.033)\n",
            ">50 0.916 (0.032)\n",
            ">100 0.925 (0.031)\n",
            ">500 0.938 (0.026)\n",
            ">1000 0.938 (0.028)\n",
            ">5000 0.937 (0.028)\n"
          ]
        },
        {
          "output_type": "display_data",
          "data": {
            "text/plain": [
              "<Figure size 432x288 with 1 Axes>"
            ],
            "image/png": "[encoded data removed]"
          },
          "metadata": {
            "needs_background": "light"
          }
        }
      ]
    },
    {
      "cell_type": "code",
      "source": [
        "# explore lightgbm tree depth effect on performance\n",
        "from numpy import mean\n",
        "from numpy import std\n",
        "from sklearn.datasets import make_classification\n",
        "from sklearn.model_selection import cross_val_score\n",
        "from sklearn.model_selection import RepeatedStratifiedKFold\n",
        "from lightgbm import LGBMClassifier\n",
        "from matplotlib import pyplot\n",
        "\n",
        "# get the dataset\n",
        "def get_dataset():\n",
        "\tX, y = make_classification(n_samples=1000, n_features=20, n_informative=15, n_redundant=5, random_state=7)\n",
        "\treturn X, y\n",
        "\n",
        "# get a list of models to evaluate\n",
        "def get_models():\n",
        "\tmodels = dict()\n",
        "\tfor i in range(1,11):\n",
        "\t\tmodels[str(i)] = LGBMClassifier(max_depth=i, num_leaves=2**i)\n",
        "\treturn models\n",
        "\n",
        "# evaluate a give model using cross-validation\n",
        "def evaluate_model(model):\n",
        "\tcv = RepeatedStratifiedKFold(n_splits=10, n_repeats=3, random_state=1)\n",
        "\tscores = cross_val_score(model, X, y, scoring='accuracy', cv=cv, n_jobs=-1)\n",
        "\treturn scores\n",
        "\n",
        "# define dataset\n",
        "X, y = get_dataset()\n",
        "# get the models to evaluate\n",
        "models = get_models()\n",
        "# evaluate the models and store results\n",
        "results, names = list(), list()\n",
        "for name, model in models.items():\n",
        "\tscores = evaluate_model(model)\n",
        "\tresults.append(scores)\n",
        "\tnames.append(name)\n",
        "\tprint('>%s %.3f (%.3f)' % (name, mean(scores), std(scores)))\n",
        "# plot model performance for comparison\n",
        "pyplot.boxplot(results, labels=names, showmeans=True)\n",
        "pyplot.show()"
      ],
      "metadata": {
        "colab": {
          "base_uri": "https://localhost:8080/",
          "height": 439
        },
        "id": "Ovw8C_0tO-j0",
        "outputId": "3c306a6b-3d2b-479a-f988-e00fe5ca8a6f"
      },
      "execution_count": 24,
      "outputs": [
        {
          "output_type": "stream",
          "name": "stdout",
          "text": [
            ">1 0.833 (0.028)\n",
            ">2 0.870 (0.033)\n",
            ">3 0.899 (0.032)\n",
            ">4 0.912 (0.026)\n",
            ">5 0.925 (0.031)\n",
            ">6 0.924 (0.029)\n",
            ">7 0.922 (0.027)\n",
            ">8 0.926 (0.027)\n",
            ">9 0.925 (0.028)\n",
            ">10 0.928 (0.029)\n"
          ]
        },
        {
          "output_type": "display_data",
          "data": {
            "text/plain": [
              "<Figure size 432x288 with 1 Axes>"
            ],
            "image/png": "[encoded data removed]"
          },
          "metadata": {
            "needs_background": "light"
          }
        }
      ]
    },
    {
      "cell_type": "code",
      "source": [
        "# explore lightgbm learning rate effect on performance\n",
        "from numpy import mean\n",
        "from numpy import std\n",
        "from sklearn.datasets import make_classification\n",
        "from sklearn.model_selection import cross_val_score\n",
        "from sklearn.model_selection import RepeatedStratifiedKFold\n",
        "from lightgbm import LGBMClassifier\n",
        "from matplotlib import pyplot\n",
        "\n",
        "# get the dataset\n",
        "def get_dataset():\n",
        "\tX, y = make_classification(n_samples=1000, n_features=20, n_informative=15, n_redundant=5, random_state=7)\n",
        "\treturn X, y\n",
        "\n",
        "# get a list of models to evaluate\n",
        "def get_models():\n",
        "\tmodels = dict()\n",
        "\trates = [0.0001, 0.001, 0.01, 0.1, 1.0]\n",
        "\tfor r in rates:\n",
        "\t\tkey = '%.4f' % r\n",
        "\t\tmodels[key] = LGBMClassifier(learning_rate=r)\n",
        "\treturn models\n",
        "\n",
        "# evaluate a give model using cross-validation\n",
        "def evaluate_model(model):\n",
        "\tcv = RepeatedStratifiedKFold(n_splits=10, n_repeats=3, random_state=1)\n",
        "\tscores = cross_val_score(model, X, y, scoring='accuracy', cv=cv, n_jobs=-1)\n",
        "\treturn scores\n",
        "\n",
        "# define dataset\n",
        "X, y = get_dataset()\n",
        "# get the models to evaluate\n",
        "models = get_models()\n",
        "# evaluate the models and store results\n",
        "results, names = list(), list()\n",
        "for name, model in models.items():\n",
        "\tscores = evaluate_model(model)\n",
        "\tresults.append(scores)\n",
        "\tnames.append(name)\n",
        "\tprint('>%s %.3f (%.3f)' % (name, mean(scores), std(scores)))\n",
        "# plot model performance for comparison\n",
        "pyplot.boxplot(results, labels=names, showmeans=True)\n",
        "pyplot.show()"
      ],
      "metadata": {
        "colab": {
          "base_uri": "https://localhost:8080/",
          "height": 352
        },
        "id": "eypkWoDnPsJ-",
        "outputId": "87214231-e006-4a02-e016-fed903cf6a11"
      },
      "execution_count": 22,
      "outputs": [
        {
          "output_type": "stream",
          "name": "stdout",
          "text": [
            ">0.0001 0.800 (0.038)\n",
            ">0.0010 0.811 (0.035)\n",
            ">0.0100 0.859 (0.035)\n",
            ">0.1000 0.925 (0.031)\n",
            ">1.0000 0.928 (0.025)\n"
          ]
        },
        {
          "output_type": "display_data",
          "data": {
            "text/plain": [
              "<Figure size 432x288 with 1 Axes>"
            ],
            "image/png": "[encoded data removed]"
          },
          "metadata": {
            "needs_background": "light"
          }
        }
      ]
    },
    {
      "cell_type": "markdown",
      "source": [
        "# **Explore Boosting Type**\n",
        "A feature of LightGBM is that it supports a number of different boosting algorithms, referred to as boosting types.\n",
        "\n",
        "The boosting type can be specified via the “boosting_type” argument and take a string to specify the type. The options include:\n",
        "\n",
        "•\tgbdt: Gradient Boosting Decision Tree (GDBT).\n",
        "\n",
        "•\tdart: Dropouts meet Multiple Additive Regression Trees (DART).\n",
        "\n",
        "•\tgoss: Gradient-based One-Side Sampling (GOSS).\n",
        "\n",
        "The default is GDBT, which is the classical gradient boosting algorithm\n"
      ],
      "metadata": {
        "id": "4m_yUkPiQ0Fv"
      }
    },
    {
      "cell_type": "code",
      "source": [
        "# explore lightgbm boosting type effect on performance\n",
        "from numpy import arange\n",
        "from numpy import mean\n",
        "from numpy import std\n",
        "from sklearn.datasets import make_classification\n",
        "from sklearn.model_selection import cross_val_score\n",
        "from sklearn.model_selection import RepeatedStratifiedKFold\n",
        "from lightgbm import LGBMClassifier\n",
        "from matplotlib import pyplot\n",
        "\n",
        "# get the dataset\n",
        "def get_dataset():\n",
        "\tX, y = make_classification(n_samples=1000, n_features=20, n_informative=15, n_redundant=5, random_state=7)\n",
        "\treturn X, y\n",
        "\n",
        "# get a list of models to evaluate\n",
        "def get_models():\n",
        "\tmodels = dict()\n",
        "\ttypes = ['gbdt', 'dart', 'goss']\n",
        "\tfor t in types:\n",
        "\t\tmodels[t] = LGBMClassifier(boosting_type=t)\n",
        "\treturn models\n",
        "\n",
        "# evaluate a give model using cross-validation\n",
        "def evaluate_model(model):\n",
        "\tcv = RepeatedStratifiedKFold(n_splits=10, n_repeats=3, random_state=1)\n",
        "\tscores = cross_val_score(model, X, y, scoring='accuracy', cv=cv, n_jobs=-1)\n",
        "\treturn scores\n",
        "\n",
        "# define dataset\n",
        "X, y = get_dataset()\n",
        "# get the models to evaluate\n",
        "models = get_models()\n",
        "# evaluate the models and store results\n",
        "results, names = list(), list()\n",
        "for name, model in models.items():\n",
        "\tscores = evaluate_model(model)\n",
        "\tresults.append(scores)\n",
        "\tnames.append(name)\n",
        "\tprint('>%s %.3f (%.3f)' % (name, mean(scores), std(scores)))\n",
        "# plot model performance for comparison\n",
        "pyplot.boxplot(results, labels=names, showmeans=True)\n",
        "pyplot.show()"
      ],
      "metadata": {
        "colab": {
          "base_uri": "https://localhost:8080/",
          "height": 317
        },
        "id": "4R96wZ3YQvWa",
        "outputId": "2a56de41-20fe-4322-905c-dd920b0ee15e"
      },
      "execution_count": 23,
      "outputs": [
        {
          "output_type": "stream",
          "name": "stdout",
          "text": [
            ">gbdt 0.925 (0.031)\n",
            ">dart 0.912 (0.028)\n",
            ">goss 0.918 (0.027)\n"
          ]
        },
        {
          "output_type": "display_data",
          "data": {
            "text/plain": [
              "<Figure size 432x288 with 1 Axes>"
            ],
            "image/png": "[encoded data removed]"
          },
          "metadata": {
            "needs_background": "light"
          }
        }
      ]
    }
  ]
}