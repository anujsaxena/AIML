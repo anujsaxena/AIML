{
  "nbformat": 4,
  "nbformat_minor": 0,
  "metadata": {
    "colab": {
      "name": "AIML_LAb_1_2.ipynb",
      "provenance": [],
      "collapsed_sections": [],
      "authorship_tag": "ABX9TyOCEe6EdCyeG5OpB251KGX1",
      "include_colab_link": true
    },
    "kernelspec": {
      "name": "python3",
      "display_name": "Python 3"
    },
    "language_info": {
      "name": "python"
    }
  },
  "cells": [
    {
      "cell_type": "markdown",
      "metadata": {
        "id": "view-in-github",
        "colab_type": "text"
      },
      "source": [
        "<a href=\"https://colab.research.google.com/github/anujsaxena/AIML/blob/main/AIML_LAb_1_2.ipynb\" target=\"_parent\"><img src=\"https://colab.research.google.com/assets/colab-badge.svg\" alt=\"Open In Colab\"/></a>"
      ]
    },
    {
      "cell_type": "markdown",
      "source": [
        "# **Python Collections**\n",
        "\n",
        "Tuple\n",
        "\n",
        "Tuple can store multiple items in a single variable. It is immutable and supports duplicates also"
      ],
      "metadata": {
        "id": "pA0FtFR_Qt75"
      }
    },
    {
      "cell_type": "code",
      "execution_count": null,
      "metadata": {
        "colab": {
          "base_uri": "https://localhost:8080/"
        },
        "id": "9nZD1pKbQknC",
        "outputId": "fb84024b-aadd-43a8-a841-9386c60614a1"
      },
      "outputs": [
        {
          "output_type": "stream",
          "name": "stdout",
          "text": [
            "('delhi', 'noida', 'dehradun', 'mumbai')\n",
            "<class 'tuple'>\n",
            "4\n",
            "delhi\n",
            "mumbai\n"
          ]
        }
      ],
      "source": [
        "t=(\"delhi\",\"noida\",\"dehradun\",\"mumbai\")\n",
        "print(t)\n",
        "print(type(t))\n",
        "print(len(t))\n",
        "print(t[0])\n",
        "print(t[-1])"
      ]
    },
    {
      "cell_type": "markdown",
      "source": [
        "# **A tuple can store numbers, strings, boolean or a mix of all**"
      ],
      "metadata": {
        "id": "l6IWh6cIRIkH"
      }
    },
    {
      "cell_type": "code",
      "source": [
        "t=(True, False, False, True)\n",
        "print(t)\n",
        "print(type(t))\n",
        "print(len(t))"
      ],
      "metadata": {
        "colab": {
          "base_uri": "https://localhost:8080/"
        },
        "id": "vfAvuEJsRDqm",
        "outputId": "6ce3b57b-50f2-4b70-9dab-881c9df3b0e2"
      },
      "execution_count": null,
      "outputs": [
        {
          "output_type": "stream",
          "name": "stdout",
          "text": [
            "(True, False, False, True)\n",
            "<class 'tuple'>\n",
            "4\n"
          ]
        }
      ]
    },
    {
      "cell_type": "code",
      "source": [
        "t=(True,1,2,3,4,\"Delhi\",\"Mumbai\",6,7,False)\n",
        "print(t)\n",
        "print(type(t))\n",
        "print(len(t))"
      ],
      "metadata": {
        "colab": {
          "base_uri": "https://localhost:8080/"
        },
        "id": "9ZCICWkzREbz",
        "outputId": "02d4a7e8-5707-4505-c32c-7aae13c5e5fa"
      },
      "execution_count": null,
      "outputs": [
        {
          "output_type": "stream",
          "name": "stdout",
          "text": [
            "(True, 1, 2, 3, 4, 'Delhi', 'Mumbai', 6, 7, False)\n",
            "<class 'tuple'>\n",
            "10\n"
          ]
        }
      ]
    },
    {
      "cell_type": "code",
      "source": [
        "t = range(0,100,2)\n",
        "print(type(t))"
      ],
      "metadata": {
        "colab": {
          "base_uri": "https://localhost:8080/"
        },
        "id": "Q6DX7lbZTKuD",
        "outputId": "d3eb974d-166a-4fae-b791-db41302185a0"
      },
      "execution_count": null,
      "outputs": [
        {
          "output_type": "stream",
          "name": "stdout",
          "text": [
            "<class 'range'>\n"
          ]
        }
      ]
    },
    {
      "cell_type": "code",
      "source": [
        "t = tuple(t)\n",
        "print(type(t))"
      ],
      "metadata": {
        "colab": {
          "base_uri": "https://localhost:8080/"
        },
        "id": "kDMAHTFmTSk0",
        "outputId": "9ac9aef0-fc6b-486d-d7b8-e00ebf75c068"
      },
      "execution_count": null,
      "outputs": [
        {
          "output_type": "stream",
          "name": "stdout",
          "text": [
            "<class 'tuple'>\n"
          ]
        }
      ]
    },
    {
      "cell_type": "markdown",
      "source": [
        "# **Slicing**"
      ],
      "metadata": {
        "id": "2SoO-6_kRdTG"
      }
    },
    {
      "cell_type": "code",
      "source": [
        "print(t)\n"
      ],
      "metadata": {
        "colab": {
          "base_uri": "https://localhost:8080/"
        },
        "id": "gRjLZG_jRgjR",
        "outputId": "dc432cd4-4c27-45d9-b241-243940957449"
      },
      "execution_count": null,
      "outputs": [
        {
          "output_type": "stream",
          "name": "stdout",
          "text": [
            "(0, 2, 4, 6, 8, 10, 12, 14, 16, 18, 20, 22, 24, 26, 28, 30, 32, 34, 36, 38, 40, 42, 44, 46, 48, 50, 52, 54, 56, 58, 60, 62, 64, 66, 68, 70, 72, 74, 76, 78, 80, 82, 84, 86, 88, 90, 92, 94, 96, 98)\n"
          ]
        }
      ]
    },
    {
      "cell_type": "code",
      "source": [
        "s = t[0:-1]\n",
        "print(len(t))\n",
        "print(len(s))\n",
        "print(s)"
      ],
      "metadata": {
        "colab": {
          "base_uri": "https://localhost:8080/"
        },
        "id": "4BmsUP4DTgIF",
        "outputId": "cd6649f9-d4f1-400c-f09f-cdd2df90824b"
      },
      "execution_count": null,
      "outputs": [
        {
          "output_type": "stream",
          "name": "stdout",
          "text": [
            "50\n",
            "49\n",
            "(0, 2, 4, 6, 8, 10, 12, 14, 16, 18, 20, 22, 24, 26, 28, 30, 32, 34, 36, 38, 40, 42, 44, 46, 48, 50, 52, 54, 56, 58, 60, 62, 64, 66, 68, 70, 72, 74, 76, 78, 80, 82, 84, 86, 88, 90, 92, 94, 96)\n"
          ]
        }
      ]
    },
    {
      "cell_type": "code",
      "source": [
        "s1 = s[2:5]\n",
        "print(s1)"
      ],
      "metadata": {
        "colab": {
          "base_uri": "https://localhost:8080/"
        },
        "id": "MX6qnXW0UIWO",
        "outputId": "36d059f1-219d-43e0-f0e3-0a72b580b725"
      },
      "execution_count": null,
      "outputs": [
        {
          "output_type": "stream",
          "name": "stdout",
          "text": [
            "(4, 6, 8)\n"
          ]
        }
      ]
    },
    {
      "cell_type": "code",
      "source": [
        "s1 = s[:5] #all the elements till 5\n",
        "print(s1)"
      ],
      "metadata": {
        "colab": {
          "base_uri": "https://localhost:8080/"
        },
        "id": "S8H8c-RXUXtM",
        "outputId": "5719093d-05cb-4bd8-d21b-7a142c3ae08d"
      },
      "execution_count": null,
      "outputs": [
        {
          "output_type": "stream",
          "name": "stdout",
          "text": [
            "(0, 2, 4, 6, 8)\n"
          ]
        }
      ]
    },
    {
      "cell_type": "code",
      "source": [
        "s1 = s[40:] #all the elements from 40\n",
        "print(s1)"
      ],
      "metadata": {
        "colab": {
          "base_uri": "https://localhost:8080/"
        },
        "id": "OpwEk3BrUh7t",
        "outputId": "216d1dae-690f-4f75-d582-8699f65b13e5"
      },
      "execution_count": null,
      "outputs": [
        {
          "output_type": "stream",
          "name": "stdout",
          "text": [
            "(80, 82, 84, 86, 88, 90, 92, 94, 96)\n"
          ]
        }
      ]
    },
    {
      "cell_type": "markdown",
      "source": [
        "# **Delete**"
      ],
      "metadata": {
        "id": "ENDhbgXeRQjq"
      }
    },
    {
      "cell_type": "code",
      "source": [
        "del s1\n",
        "print(s1)"
      ],
      "metadata": {
        "colab": {
          "base_uri": "https://localhost:8080/",
          "height": 183
        },
        "id": "FqouySzrRO44",
        "outputId": "7a02b3fa-4e61-45c5-f12b-ae208eb37aa5"
      },
      "execution_count": null,
      "outputs": [
        {
          "output_type": "error",
          "ename": "NameError",
          "evalue": "ignored",
          "traceback": [
            "\u001b[0;31m---------------------------------------------------------------------------\u001b[0m",
            "\u001b[0;31mNameError\u001b[0m                                 Traceback (most recent call last)",
            "\u001b[0;32m<ipython-input-12-cf3b26bfeedc>\u001b[0m in \u001b[0;36m<module>\u001b[0;34m()\u001b[0m\n\u001b[1;32m      1\u001b[0m \u001b[0;32mdel\u001b[0m \u001b[0ms1\u001b[0m\u001b[0;34m\u001b[0m\u001b[0;34m\u001b[0m\u001b[0m\n\u001b[0;32m----> 2\u001b[0;31m \u001b[0mprint\u001b[0m\u001b[0;34m(\u001b[0m\u001b[0ms1\u001b[0m\u001b[0;34m)\u001b[0m\u001b[0;34m\u001b[0m\u001b[0;34m\u001b[0m\u001b[0m\n\u001b[0m",
            "\u001b[0;31mNameError\u001b[0m: name 's1' is not defined"
          ]
        }
      ]
    },
    {
      "cell_type": "code",
      "source": [
        "t1=t #make a copy of t\n",
        "t1=[]\n",
        "print(t1)"
      ],
      "metadata": {
        "colab": {
          "base_uri": "https://localhost:8080/"
        },
        "id": "UMXOM30BVANj",
        "outputId": "d75b6d7c-dfde-43bd-dbe5-bd3dd77e4da4"
      },
      "execution_count": null,
      "outputs": [
        {
          "output_type": "stream",
          "name": "stdout",
          "text": [
            "[]\n"
          ]
        }
      ]
    },
    {
      "cell_type": "code",
      "source": [
        "print(t)"
      ],
      "metadata": {
        "colab": {
          "base_uri": "https://localhost:8080/"
        },
        "id": "xOwa8DKhVSWS",
        "outputId": "72237c86-2cf4-4904-efa4-6862211a6339"
      },
      "execution_count": null,
      "outputs": [
        {
          "output_type": "stream",
          "name": "stdout",
          "text": [
            "(0, 2, 4, 6, 8, 10, 12, 14, 16, 18, 20, 22, 24, 26, 28, 30, 32, 34, 36, 38, 40, 42, 44, 46, 48, 50, 52, 54, 56, 58, 60, 62, 64, 66, 68, 70, 72, 74, 76, 78, 80, 82, 84, 86, 88, 90, 92, 94, 96, 98)\n"
          ]
        }
      ]
    },
    {
      "cell_type": "code",
      "source": [
        "print(t[3])"
      ],
      "metadata": {
        "colab": {
          "base_uri": "https://localhost:8080/"
        },
        "id": "Z0Jq-lkZVZFR",
        "outputId": "2f2f5bfc-f6ed-4f01-ec61-bf5fbb42bef8"
      },
      "execution_count": null,
      "outputs": [
        {
          "output_type": "stream",
          "name": "stdout",
          "text": [
            "6\n"
          ]
        }
      ]
    },
    {
      "cell_type": "code",
      "source": [
        "t[3]=[]\n",
        "print(t)"
      ],
      "metadata": {
        "colab": {
          "base_uri": "https://localhost:8080/",
          "height": 183
        },
        "id": "yUoA2QgkVjHT",
        "outputId": "a60fdca2-690d-419f-9043-c4d6f363f557"
      },
      "execution_count": null,
      "outputs": [
        {
          "output_type": "error",
          "ename": "TypeError",
          "evalue": "ignored",
          "traceback": [
            "\u001b[0;31m---------------------------------------------------------------------------\u001b[0m",
            "\u001b[0;31mTypeError\u001b[0m                                 Traceback (most recent call last)",
            "\u001b[0;32m<ipython-input-16-a12af7086d25>\u001b[0m in \u001b[0;36m<module>\u001b[0;34m()\u001b[0m\n\u001b[0;32m----> 1\u001b[0;31m \u001b[0mt\u001b[0m\u001b[0;34m[\u001b[0m\u001b[0;36m3\u001b[0m\u001b[0;34m]\u001b[0m\u001b[0;34m=\u001b[0m\u001b[0;34m[\u001b[0m\u001b[0;34m]\u001b[0m\u001b[0;34m\u001b[0m\u001b[0;34m\u001b[0m\u001b[0m\n\u001b[0m\u001b[1;32m      2\u001b[0m \u001b[0mprint\u001b[0m\u001b[0;34m(\u001b[0m\u001b[0mt\u001b[0m\u001b[0;34m)\u001b[0m\u001b[0;34m\u001b[0m\u001b[0;34m\u001b[0m\u001b[0m\n",
            "\u001b[0;31mTypeError\u001b[0m: 'tuple' object does not support item assignment"
          ]
        }
      ]
    },
    {
      "cell_type": "code",
      "source": [
        "del t[3]\n",
        "print(t)"
      ],
      "metadata": {
        "colab": {
          "base_uri": "https://localhost:8080/",
          "height": 183
        },
        "id": "sQhBw7p2Vsz9",
        "outputId": "7dd30231-d4eb-496c-e802-ff11871399e4"
      },
      "execution_count": null,
      "outputs": [
        {
          "output_type": "error",
          "ename": "TypeError",
          "evalue": "ignored",
          "traceback": [
            "\u001b[0;31m---------------------------------------------------------------------------\u001b[0m",
            "\u001b[0;31mTypeError\u001b[0m                                 Traceback (most recent call last)",
            "\u001b[0;32m<ipython-input-17-f97be60f4fc5>\u001b[0m in \u001b[0;36m<module>\u001b[0;34m()\u001b[0m\n\u001b[0;32m----> 1\u001b[0;31m \u001b[0;32mdel\u001b[0m \u001b[0mt\u001b[0m\u001b[0;34m[\u001b[0m\u001b[0;36m3\u001b[0m\u001b[0;34m]\u001b[0m\u001b[0;34m\u001b[0m\u001b[0;34m\u001b[0m\u001b[0m\n\u001b[0m\u001b[1;32m      2\u001b[0m \u001b[0mprint\u001b[0m\u001b[0;34m(\u001b[0m\u001b[0mt\u001b[0m\u001b[0;34m)\u001b[0m\u001b[0;34m\u001b[0m\u001b[0;34m\u001b[0m\u001b[0m\n",
            "\u001b[0;31mTypeError\u001b[0m: 'tuple' object doesn't support item deletion"
          ]
        }
      ]
    },
    {
      "cell_type": "code",
      "source": [
        "del t\n",
        "print(t)  #t is removed"
      ],
      "metadata": {
        "colab": {
          "base_uri": "https://localhost:8080/",
          "height": 183
        },
        "id": "bzMxxPOXVyke",
        "outputId": "0f68fca2-d694-439b-dbd6-8fb3ae173a99"
      },
      "execution_count": null,
      "outputs": [
        {
          "output_type": "error",
          "ename": "NameError",
          "evalue": "ignored",
          "traceback": [
            "\u001b[0;31m---------------------------------------------------------------------------\u001b[0m",
            "\u001b[0;31mNameError\u001b[0m                                 Traceback (most recent call last)",
            "\u001b[0;32m<ipython-input-18-755ed05ee266>\u001b[0m in \u001b[0;36m<module>\u001b[0;34m()\u001b[0m\n\u001b[1;32m      1\u001b[0m \u001b[0;32mdel\u001b[0m \u001b[0mt\u001b[0m\u001b[0;34m\u001b[0m\u001b[0;34m\u001b[0m\u001b[0m\n\u001b[0;32m----> 2\u001b[0;31m \u001b[0mprint\u001b[0m\u001b[0;34m(\u001b[0m\u001b[0mt\u001b[0m\u001b[0;34m)\u001b[0m\u001b[0;34m\u001b[0m\u001b[0;34m\u001b[0m\u001b[0m\n\u001b[0m",
            "\u001b[0;31mNameError\u001b[0m: name 't' is not defined"
          ]
        }
      ]
    },
    {
      "cell_type": "markdown",
      "source": [
        "# **LIST**\n",
        "\n",
        "Python list is one of the most widely used data types in Python. A Python List can be easily identified by square brackets [ ]. Lists are used to store the data items where each data item is separated by a comma (,). A Python List can have data items of any data type, be it an integer type or a boolean type.\n",
        "\n",
        "One of the leading reasons why lists are being widely used is that Lists are mutable. Being mutable means, any data item of a List can be replaced by any other data item. This makes Lists different from Tuples, which are also used for storing data items but are immutable."
      ],
      "metadata": {
        "id": "TSJMczzFWGcN"
      }
    },
    {
      "cell_type": "code",
      "source": [
        "t = range(0,100,5)\n",
        "t = list(t)\n",
        "print(t)\n",
        "print(type(t))\n"
      ],
      "metadata": {
        "colab": {
          "base_uri": "https://localhost:8080/"
        },
        "id": "bd1e1939WEiH",
        "outputId": "538cf4b0-3d8f-4285-b2ff-74e280daefb8"
      },
      "execution_count": null,
      "outputs": [
        {
          "output_type": "stream",
          "name": "stdout",
          "text": [
            "[0, 5, 10, 15, 20, 25, 30, 35, 40, 45, 50, 55, 60, 65, 70, 75, 80, 85, 90, 95]\n",
            "<class 'list'>\n"
          ]
        }
      ]
    },
    {
      "cell_type": "markdown",
      "source": [
        "# **Indexing in a List are of two types:**\n",
        "Positive Indexing – Here the indexing starts from 0, moving from left to right.\n",
        "\n",
        "Negative Indexing – In this, the indexing starts from right to left and the rightmost element has an index value of -1."
      ],
      "metadata": {
        "id": "GxTB7WmKWgZQ"
      }
    },
    {
      "cell_type": "code",
      "source": [
        "print(\"Last element: {}\".format(t[-1]))\n",
        "print(-(len(t)+1))\n",
        "for i in range(-1,-(len(t)+1),1):\n",
        "  print(t[i], end=\",\")"
      ],
      "metadata": {
        "colab": {
          "base_uri": "https://localhost:8080/"
        },
        "id": "9eMO-Ab1W7PH",
        "outputId": "9981e06b-8372-4032-e375-cffb0f37bc28"
      },
      "execution_count": null,
      "outputs": [
        {
          "output_type": "stream",
          "name": "stdout",
          "text": [
            "Last element: 95\n",
            "-21\n"
          ]
        }
      ]
    },
    {
      "cell_type": "code",
      "source": [
        "print(\"Last element: {}\".format(t[-1]))\n",
        "for i in range(-1,-(len(t)),-1):\n",
        "  print(t[i], end=\",\")"
      ],
      "metadata": {
        "colab": {
          "base_uri": "https://localhost:8080/"
        },
        "id": "C11pd_UdWcNY",
        "outputId": "ef929093-1ada-40d5-9061-21a4b4a6c0d8"
      },
      "execution_count": null,
      "outputs": [
        {
          "output_type": "stream",
          "name": "stdout",
          "text": [
            "Last element: 95\n",
            "95,90,85,80,75,70,65,60,55,50,45,40,35,30,25,20,15,10,5,"
          ]
        }
      ]
    },
    {
      "cell_type": "code",
      "source": [
        "print(\"Last element: {}\".format(t[-1]))\n",
        "for i in range(-1,-(len(t)+1),-1):\n",
        "  print(t[i], end=\",\")"
      ],
      "metadata": {
        "colab": {
          "base_uri": "https://localhost:8080/"
        },
        "id": "T4tEYb8iXtJc",
        "outputId": "180e18bc-2d99-49d3-b6f3-c046c473c997"
      },
      "execution_count": null,
      "outputs": [
        {
          "output_type": "stream",
          "name": "stdout",
          "text": [
            "Last element: 95\n",
            "95,90,85,80,75,70,65,60,55,50,45,40,35,30,25,20,15,10,5,0,"
          ]
        }
      ]
    },
    {
      "cell_type": "code",
      "source": [
        "print(t[-20]) #first element"
      ],
      "metadata": {
        "colab": {
          "base_uri": "https://localhost:8080/"
        },
        "id": "_qIdCfdBXekp",
        "outputId": "b279110a-155c-4c0a-b390-78837193cfdd"
      },
      "execution_count": null,
      "outputs": [
        {
          "output_type": "stream",
          "name": "stdout",
          "text": [
            "0\n"
          ]
        }
      ]
    },
    {
      "cell_type": "markdown",
      "source": [
        "# **Deleting**"
      ],
      "metadata": {
        "id": "9xuGiJ-kXyRV"
      }
    },
    {
      "cell_type": "code",
      "source": [
        "t1=t\n",
        "del t1\n",
        "print(t1)"
      ],
      "metadata": {
        "colab": {
          "base_uri": "https://localhost:8080/",
          "height": 201
        },
        "id": "3d65tI3HX1yH",
        "outputId": "f1a86195-2751-434a-a1b5-46d40ed6d8b3"
      },
      "execution_count": null,
      "outputs": [
        {
          "output_type": "error",
          "ename": "NameError",
          "evalue": "ignored",
          "traceback": [
            "\u001b[0;31m---------------------------------------------------------------------------\u001b[0m",
            "\u001b[0;31mNameError\u001b[0m                                 Traceback (most recent call last)",
            "\u001b[0;32m<ipython-input-29-e472ac5e4000>\u001b[0m in \u001b[0;36m<module>\u001b[0;34m()\u001b[0m\n\u001b[1;32m      1\u001b[0m \u001b[0mt1\u001b[0m\u001b[0;34m=\u001b[0m\u001b[0mt\u001b[0m\u001b[0;34m\u001b[0m\u001b[0;34m\u001b[0m\u001b[0m\n\u001b[1;32m      2\u001b[0m \u001b[0;32mdel\u001b[0m \u001b[0mt1\u001b[0m\u001b[0;34m\u001b[0m\u001b[0;34m\u001b[0m\u001b[0m\n\u001b[0;32m----> 3\u001b[0;31m \u001b[0mprint\u001b[0m\u001b[0;34m(\u001b[0m\u001b[0mt1\u001b[0m\u001b[0;34m)\u001b[0m\u001b[0;34m\u001b[0m\u001b[0;34m\u001b[0m\u001b[0m\n\u001b[0m",
            "\u001b[0;31mNameError\u001b[0m: name 't1' is not defined"
          ]
        }
      ]
    },
    {
      "cell_type": "code",
      "source": [
        "t1=t\n",
        "t1=[]\n",
        "print(t1)"
      ],
      "metadata": {
        "colab": {
          "base_uri": "https://localhost:8080/"
        },
        "id": "JJN4rtZMX9h2",
        "outputId": "f2a7e71e-c6d1-4d79-b585-0984fb1034cd"
      },
      "execution_count": null,
      "outputs": [
        {
          "output_type": "stream",
          "name": "stdout",
          "text": [
            "[]\n"
          ]
        }
      ]
    },
    {
      "cell_type": "code",
      "source": [
        "t1=t\n",
        "print(t1)\n",
        "print(t1[3])\n",
        "t1[3]=[]\n",
        "print(t1)\n"
      ],
      "metadata": {
        "colab": {
          "base_uri": "https://localhost:8080/"
        },
        "id": "_iyGcawOYKQ6",
        "outputId": "7128a2d2-c068-4243-b37e-b48cefcc1898"
      },
      "execution_count": null,
      "outputs": [
        {
          "output_type": "stream",
          "name": "stdout",
          "text": [
            "[0, 5, 10, 15, 20, 25, 30, 35, 40, 45, 50, 55, 60, 65, 70, 75, 80, 85, 90, 95]\n",
            "15\n",
            "[0, 5, 10, [], 20, 25, 30, 35, 40, 45, 50, 55, 60, 65, 70, 75, 80, 85, 90, 95]\n"
          ]
        }
      ]
    },
    {
      "cell_type": "markdown",
      "source": [
        "# **Remove all the occurances of an element from a list**"
      ],
      "metadata": {
        "id": "iCLrb8w7YfUi"
      }
    },
    {
      "cell_type": "code",
      "source": [
        "l=[1,2,3,2,4,5,7,6,8,1,4,5,7,6,8,9,2]\n",
        "print(l)\n",
        "n=int(input(\"Enter a number to be removed from the list \"))\n",
        "\n",
        "while n in l:\n",
        "  l.remove(n)\n",
        "print(l)"
      ],
      "metadata": {
        "colab": {
          "base_uri": "https://localhost:8080/"
        },
        "id": "ltD-bP_7YjCy",
        "outputId": "d29ebaca-bb59-4dec-8797-388192060521"
      },
      "execution_count": null,
      "outputs": [
        {
          "output_type": "stream",
          "name": "stdout",
          "text": [
            "[1, 2, 3, 2, 4, 5, 7, 6, 8, 1, 4, 5, 7, 6, 8, 9, 2]\n",
            "Enter a number to be removed from the list 2\n",
            "[1, 3, 4, 5, 7, 6, 8, 1, 4, 5, 7, 6, 8, 9]\n"
          ]
        }
      ]
    },
    {
      "cell_type": "code",
      "source": [
        "l=[1,2,3,2,4,5,7,6,8,1,4,5,7,6,8,9,2]\n",
        "print(l)\n",
        "ls = set(l)\n",
        "print(ls)\n",
        "l=list(ls)\n",
        "print(l)"
      ],
      "metadata": {
        "colab": {
          "base_uri": "https://localhost:8080/"
        },
        "id": "ffk2MoJVZJM5",
        "outputId": "e31d9922-1294-4210-875e-6fdafa100f11"
      },
      "execution_count": null,
      "outputs": [
        {
          "output_type": "stream",
          "name": "stdout",
          "text": [
            "[1, 2, 3, 2, 4, 5, 7, 6, 8, 1, 4, 5, 7, 6, 8, 9, 2]\n",
            "{1, 2, 3, 4, 5, 6, 7, 8, 9}\n",
            "[1, 2, 3, 4, 5, 6, 7, 8, 9]\n"
          ]
        }
      ]
    },
    {
      "cell_type": "code",
      "source": [
        "#delete using index\n",
        "l=[1,2,3,2,4,5,7,6,8,1,4,5,7,6,8,9,2]\n",
        "print(l)\n",
        "l1=l[1]\n",
        "del l[1]\n",
        "print(\"Delete element at index 1 : {0},\\n{1}\".format(l1,l))\n",
        "del l[-1]\n",
        "print(\"Delete element at index -1 : {}\".format(l))"
      ],
      "metadata": {
        "colab": {
          "base_uri": "https://localhost:8080/"
        },
        "id": "S0d1jRr0ZcnI",
        "outputId": "48e4c45f-d7d1-4bda-a103-b02a1656acf9"
      },
      "execution_count": null,
      "outputs": [
        {
          "output_type": "stream",
          "name": "stdout",
          "text": [
            "[1, 2, 3, 2, 4, 5, 7, 6, 8, 1, 4, 5, 7, 6, 8, 9, 2]\n",
            "Delete element at index 1 : 2,\n",
            "[1, 3, 2, 4, 5, 7, 6, 8, 1, 4, 5, 7, 6, 8, 9, 2]\n",
            "Delete element at index -1 : [1, 3, 2, 4, 5, 7, 6, 8, 1, 4, 5, 7, 6, 8, 9]\n"
          ]
        }
      ]
    },
    {
      "cell_type": "markdown",
      "source": [
        "# **Pop out the element**"
      ],
      "metadata": {
        "id": "3xrHnEVEZxz7"
      }
    },
    {
      "cell_type": "code",
      "source": [
        "print(l)\n",
        "l.pop(0)\n",
        "print(l)\n",
        "l.pop(-1)\n",
        "print(l)"
      ],
      "metadata": {
        "colab": {
          "base_uri": "https://localhost:8080/"
        },
        "id": "Bj7gAdLGZwVx",
        "outputId": "cfffcf91-ade9-4fea-f488-f4ecccf8b1a5"
      },
      "execution_count": null,
      "outputs": [
        {
          "output_type": "stream",
          "name": "stdout",
          "text": [
            "[1, 3, 2, 4, 5, 7, 6, 8, 1, 4, 5, 7, 6, 8, 9]\n",
            "[3, 2, 4, 5, 7, 6, 8, 1, 4, 5, 7, 6, 8, 9]\n",
            "[3, 2, 4, 5, 7, 6, 8, 1, 4, 5, 7, 6, 8]\n"
          ]
        }
      ]
    },
    {
      "cell_type": "markdown",
      "source": [
        "# **Removing a slice**\n",
        "Elemements can be removed in a range by either giving a start and stop range with : in between (example - l(2:4)). All the elemnts from a starting point can be removved by omitting the stop range (example: l(2:)). The indexing can be from reverse order also like: l(-2:)"
      ],
      "metadata": {
        "id": "v31v_G59aOvn"
      }
    },
    {
      "cell_type": "code",
      "source": [
        "l=[1,2,3,2,4,5,7,6,8,1,4,5,7,6,8,9,2]\n",
        "print(l)\n",
        "ls=l[0:3]\n",
        "print(ls)\n",
        "del l[0:3]\n",
        "print(\"Delete from 0 to 3 :{}\".format(l))\n",
        "del l[6:]\n",
        "print(\"Delete from 6 till end :{}\".format(l))\n",
        "del l[-3:]\n",
        "print(\"Delete from -3 till beginning :{}\".format(l))"
      ],
      "metadata": {
        "colab": {
          "base_uri": "https://localhost:8080/"
        },
        "id": "hg-rBEDkaOIr",
        "outputId": "8ca7533d-fc9e-4e06-c75f-b4bab2fa10ba"
      },
      "execution_count": null,
      "outputs": [
        {
          "output_type": "stream",
          "name": "stdout",
          "text": [
            "[1, 2, 3, 2, 4, 5, 7, 6, 8, 1, 4, 5, 7, 6, 8, 9, 2]\n",
            "[1, 2, 3]\n",
            "Delete from 0 to 3 :[2, 4, 5, 7, 6, 8, 1, 4, 5, 7, 6, 8, 9, 2]\n",
            "Delete from 6 till end :[2, 4, 5, 7, 6, 8]\n",
            "Delete from -3 till beginning :[2, 4, 5]\n"
          ]
        }
      ]
    },
    {
      "cell_type": "markdown",
      "source": [
        "# **Remove all the elements**"
      ],
      "metadata": {
        "id": "d5ON9RCNawtC"
      }
    },
    {
      "cell_type": "code",
      "source": [
        "l=[1,2,3,2,4,5,7,6,8,1,4,5,7,6,8,9,2]\n",
        "print(l)\n",
        "l.clear()\n",
        "print(l)"
      ],
      "metadata": {
        "colab": {
          "base_uri": "https://localhost:8080/"
        },
        "id": "8qjXGTQ-a3BZ",
        "outputId": "d10ae21b-8ac1-47d1-9068-d1055aba0e2d"
      },
      "execution_count": null,
      "outputs": [
        {
          "output_type": "stream",
          "name": "stdout",
          "text": [
            "[1, 2, 3, 2, 4, 5, 7, 6, 8, 1, 4, 5, 7, 6, 8, 9, 2]\n",
            "[]\n"
          ]
        }
      ]
    },
    {
      "cell_type": "markdown",
      "source": [
        "# **Append**"
      ],
      "metadata": {
        "id": "euSbWuRMbEE4"
      }
    },
    {
      "cell_type": "code",
      "source": [
        "a = [0, 1, 1, 2, 3, 5, 8, 13]\n",
        "b = [5., \"girl\", 2+0j, \"horse\", 21]\n",
        "c =a+b\n",
        "print(c)"
      ],
      "metadata": {
        "colab": {
          "base_uri": "https://localhost:8080/"
        },
        "id": "13pZwrgHbHng",
        "outputId": "31bac736-45db-4e55-bce1-fe900cef3f2b"
      },
      "execution_count": null,
      "outputs": [
        {
          "output_type": "stream",
          "name": "stdout",
          "text": [
            "[0, 1, 1, 2, 3, 5, 8, 13, 5.0, 'girl', (2+0j), 'horse', 21]\n"
          ]
        }
      ]
    },
    {
      "cell_type": "code",
      "source": [
        "c[0]=c[0]+4\n",
        "print(c)"
      ],
      "metadata": {
        "colab": {
          "base_uri": "https://localhost:8080/"
        },
        "id": "6vhYmckEbPe3",
        "outputId": "2c9abc6f-0958-48e8-9925-d27758bb5fb6"
      },
      "execution_count": null,
      "outputs": [
        {
          "output_type": "stream",
          "name": "stdout",
          "text": [
            "[4, 1, 1, 2, 3, 5, 8, 13, 5.0, 'girl', (2+0j), 'horse', 21]\n"
          ]
        }
      ]
    },
    {
      "cell_type": "markdown",
      "source": [
        "# **Exchange the element**"
      ],
      "metadata": {
        "id": "lmVDKKldbcoL"
      }
    },
    {
      "cell_type": "code",
      "source": [
        "l=[1,3,4,5,6,7,8,9,10,11,12]\n",
        "print(l)"
      ],
      "metadata": {
        "colab": {
          "base_uri": "https://localhost:8080/"
        },
        "id": "4LblOjiNbVx2",
        "outputId": "7adbf33e-c3b9-4e06-b906-55b0000920d3"
      },
      "execution_count": null,
      "outputs": [
        {
          "output_type": "stream",
          "name": "stdout",
          "text": [
            "[1, 3, 4, 5, 6, 7, 8, 9, 10, 11, 12]\n"
          ]
        }
      ]
    },
    {
      "cell_type": "code",
      "source": [
        "l[0],l[-1]=l[-1],l[0]\n",
        "print(l)"
      ],
      "metadata": {
        "colab": {
          "base_uri": "https://localhost:8080/"
        },
        "id": "BUJLcrnNbtCl",
        "outputId": "51862124-f1cb-4fe4-b456-b5fafeffb473"
      },
      "execution_count": null,
      "outputs": [
        {
          "output_type": "stream",
          "name": "stdout",
          "text": [
            "[12, 3, 4, 5, 6, 7, 8, 9, 10, 11, 1]\n"
          ]
        }
      ]
    },
    {
      "cell_type": "markdown",
      "source": [
        "# **Multidimensional list**"
      ],
      "metadata": {
        "id": "5DtxkSTLcAD0"
      }
    },
    {
      "cell_type": "code",
      "source": [
        "l=[[1,2,3,4],[\"a\",\"b\",\"c\"],[True, False, True]]\n",
        "print(l)"
      ],
      "metadata": {
        "colab": {
          "base_uri": "https://localhost:8080/"
        },
        "id": "mL_k9T5yb_mK",
        "outputId": "6f23bb3a-8e00-4c4d-cc13-bf6da8bd8761"
      },
      "execution_count": null,
      "outputs": [
        {
          "output_type": "stream",
          "name": "stdout",
          "text": [
            "[[1, 2, 3, 4], ['a', 'b', 'c'], [True, False, True]]\n"
          ]
        }
      ]
    },
    {
      "cell_type": "code",
      "source": [
        "l.append([\"hello\",\"how are\",\"you\"])\n",
        "print(l)"
      ],
      "metadata": {
        "colab": {
          "base_uri": "https://localhost:8080/"
        },
        "id": "XZU-W58-cL2m",
        "outputId": "b8a1e08c-c196-4843-a81b-591208790370"
      },
      "execution_count": null,
      "outputs": [
        {
          "output_type": "stream",
          "name": "stdout",
          "text": [
            "[[1, 2, 3, 4], ['a', 'b', 'c'], [True, False, True], ['hello', 'how are', 'you']]\n"
          ]
        }
      ]
    },
    {
      "cell_type": "code",
      "source": [
        "print(l[0][0])\n",
        "print(l[1][0])\n",
        "print(l[2][0])\n",
        "print(l[3][0])"
      ],
      "metadata": {
        "colab": {
          "base_uri": "https://localhost:8080/"
        },
        "id": "qzlHWsLGcZMv",
        "outputId": "8f745f03-a92f-43ad-cdcf-67cfd91695f3"
      },
      "execution_count": null,
      "outputs": [
        {
          "output_type": "stream",
          "name": "stdout",
          "text": [
            "1\n",
            "a\n",
            "True\n",
            "hello\n"
          ]
        }
      ]
    },
    {
      "cell_type": "markdown",
      "source": [
        "# **Extend**"
      ],
      "metadata": {
        "id": "Cdq6QUjCcxuU"
      }
    },
    {
      "cell_type": "code",
      "source": [
        "l[0].extend([7,9,10,11])\n",
        "print(l)"
      ],
      "metadata": {
        "colab": {
          "base_uri": "https://localhost:8080/"
        },
        "id": "Yi-5920ac1vZ",
        "outputId": "1d0844bb-b844-4448-d450-437b4e7fff9d"
      },
      "execution_count": null,
      "outputs": [
        {
          "output_type": "stream",
          "name": "stdout",
          "text": [
            "[[1, 2, 3, 4, 7, 9, 10, 11], ['a', 'b', 'c'], [True, False, True], ['hello', 'how are', 'you']]\n"
          ]
        }
      ]
    },
    {
      "cell_type": "code",
      "source": [
        "l[0].extend([\"piyush\",\"nikki\"])\n",
        "print(l)"
      ],
      "metadata": {
        "colab": {
          "base_uri": "https://localhost:8080/"
        },
        "id": "WVm4bID8dJPf",
        "outputId": "fbc86785-8916-4fe7-911f-44044409b268"
      },
      "execution_count": null,
      "outputs": [
        {
          "output_type": "stream",
          "name": "stdout",
          "text": [
            "[[1, 2, 3, 4, 7, 9, 10, 11, 'piyush', 'nikki'], ['a', 'b', 'c'], [True, False, True], ['hello', 'how are', 'you']]\n"
          ]
        }
      ]
    },
    {
      "cell_type": "code",
      "source": [
        "print(l[0][9])"
      ],
      "metadata": {
        "colab": {
          "base_uri": "https://localhost:8080/"
        },
        "id": "8NTVq1TndLI7",
        "outputId": "b0066265-2787-4061-f25e-b83b19733522"
      },
      "execution_count": null,
      "outputs": [
        {
          "output_type": "stream",
          "name": "stdout",
          "text": [
            "nikki\n"
          ]
        }
      ]
    },
    {
      "cell_type": "code",
      "source": [
        "print(len(l[0]))"
      ],
      "metadata": {
        "colab": {
          "base_uri": "https://localhost:8080/"
        },
        "id": "TiT1enm8dTWr",
        "outputId": "404b3b19-c4af-4418-9252-6e8108e015a2"
      },
      "execution_count": null,
      "outputs": [
        {
          "output_type": "stream",
          "name": "stdout",
          "text": [
            "10\n"
          ]
        }
      ]
    },
    {
      "cell_type": "code",
      "source": [
        "for i in range(len(l)):        #loop for the row\n",
        "  for j in range(len(l[i])):    #for the column\n",
        "    print(l[i][j],end=\" \")\n",
        "  print()"
      ],
      "metadata": {
        "colab": {
          "base_uri": "https://localhost:8080/"
        },
        "id": "TF-MTkEwdWzo",
        "outputId": "1dbde1d2-02ec-4881-fbd8-8c148cefa92b"
      },
      "execution_count": null,
      "outputs": [
        {
          "output_type": "stream",
          "name": "stdout",
          "text": [
            "1 2 3 4 7 9 10 11 piyush nikki \n",
            "a b c \n",
            "True False True \n",
            "hello how are you \n"
          ]
        }
      ]
    },
    {
      "cell_type": "code",
      "source": [
        "for i in range(len(l)):        #loop for the row\n",
        "  for j in range(len(l[i])):    #for the column\n",
        "    print(l[i][j],end=\" \")\n",
        "  "
      ],
      "metadata": {
        "colab": {
          "base_uri": "https://localhost:8080/"
        },
        "id": "qZjChf5nd60a",
        "outputId": "9e027ee3-0879-4080-b5a4-505cd1ba8df7"
      },
      "execution_count": null,
      "outputs": [
        {
          "output_type": "stream",
          "name": "stdout",
          "text": [
            "1 2 3 4 7 9 10 11 piyush nikki a b c True False True hello how are you "
          ]
        }
      ]
    },
    {
      "cell_type": "code",
      "source": [
        "print(len(l))"
      ],
      "metadata": {
        "colab": {
          "base_uri": "https://localhost:8080/"
        },
        "id": "6SgFYN3TeIou",
        "outputId": "debafd77-60ca-4cb5-f496-40b55b814e2b"
      },
      "execution_count": null,
      "outputs": [
        {
          "output_type": "stream",
          "name": "stdout",
          "text": [
            "4\n"
          ]
        }
      ]
    },
    {
      "cell_type": "code",
      "source": [
        "print(range(len(l)))"
      ],
      "metadata": {
        "colab": {
          "base_uri": "https://localhost:8080/"
        },
        "id": "-rG4ha-AeOAF",
        "outputId": "881858d8-1a52-4018-fa3b-bc640120ce4f"
      },
      "execution_count": null,
      "outputs": [
        {
          "output_type": "stream",
          "name": "stdout",
          "text": [
            "range(0, 4)\n"
          ]
        }
      ]
    },
    {
      "cell_type": "code",
      "source": [
        "print(len(l[0]))\n",
        "print(len(l[1]))\n",
        "print(len(l[2]))\n",
        "print(len(l[3]))"
      ],
      "metadata": {
        "colab": {
          "base_uri": "https://localhost:8080/"
        },
        "id": "MJdQ5jIbeZQ0",
        "outputId": "33bd0e52-541d-4514-decd-617ac91a93f8"
      },
      "execution_count": null,
      "outputs": [
        {
          "output_type": "stream",
          "name": "stdout",
          "text": [
            "10\n",
            "3\n",
            "3\n",
            "3\n"
          ]
        }
      ]
    },
    {
      "cell_type": "markdown",
      "source": [
        "# **Arrays**\n",
        "From the prvious knolwedge of arrays we know that \"Arrays are a linear collection of similar data types\". In python Array are like lists only which hold a group of items. Array stores items within square brackets and can store non-unique values. To create an array we need a module. One can use Numpy or array module for the same.\n",
        "\n",
        "To create an array using array module one has to give the value type. The syntax is :\n",
        "\n",
        "ar = array.array(<'value type'>, <[data]>)"
      ],
      "metadata": {
        "id": "-SO1kKbdeq4G"
      }
    },
    {
      "cell_type": "code",
      "source": [
        "import array\n",
        "ar = array.array('i',[1,2,3,4,5])\n",
        "print(ar)\n",
        "for i in ar:\n",
        "  print(i)"
      ],
      "metadata": {
        "colab": {
          "base_uri": "https://localhost:8080/"
        },
        "id": "z0YMca_zelER",
        "outputId": "33da2214-a366-443d-f2f7-be6b07f04969"
      },
      "execution_count": null,
      "outputs": [
        {
          "output_type": "stream",
          "name": "stdout",
          "text": [
            "array('i', [1, 2, 3, 4, 5])\n",
            "1\n",
            "2\n",
            "3\n",
            "4\n",
            "5\n"
          ]
        }
      ]
    },
    {
      "cell_type": "code",
      "source": [
        "import array\n",
        "ar = array.array('u',['a','b','c'])\n",
        "print(ar)\n",
        "for j in ar:\n",
        "  print(j)"
      ],
      "metadata": {
        "colab": {
          "base_uri": "https://localhost:8080/"
        },
        "id": "q5nzUoRqe91Z",
        "outputId": "2c222743-5598-4100-c349-90e755540d4b"
      },
      "execution_count": null,
      "outputs": [
        {
          "output_type": "stream",
          "name": "stdout",
          "text": [
            "array('u', 'abc')\n",
            "a\n",
            "b\n",
            "c\n"
          ]
        }
      ]
    },
    {
      "cell_type": "code",
      "source": [
        "import array\n",
        "ar = array.array('d',[2,4,5,6,7])\n",
        "print(ar)\n",
        "for i in ar:\n",
        "  print(i)"
      ],
      "metadata": {
        "colab": {
          "base_uri": "https://localhost:8080/"
        },
        "id": "TlJFgbMdfAQZ",
        "outputId": "605e510b-9ef4-4859-a11d-4bbf9ff85a40"
      },
      "execution_count": null,
      "outputs": [
        {
          "output_type": "stream",
          "name": "stdout",
          "text": [
            "array('d', [2.0, 4.0, 5.0, 6.0, 7.0])\n",
            "2.0\n",
            "4.0\n",
            "5.0\n",
            "6.0\n",
            "7.0\n"
          ]
        }
      ]
    },
    {
      "cell_type": "code",
      "source": [
        "import array\n",
        "ar = array.array('b',[0,1,0,0,1])\n",
        "print(ar)\n",
        "for i in ar:\n",
        "  print(i)"
      ],
      "metadata": {
        "colab": {
          "base_uri": "https://localhost:8080/"
        },
        "id": "_Qcj83NjfDlk",
        "outputId": "c307db81-719d-4bbf-c909-ae42fa935ff8"
      },
      "execution_count": null,
      "outputs": [
        {
          "output_type": "stream",
          "name": "stdout",
          "text": [
            "array('b', [0, 1, 0, 0, 1])\n",
            "0\n",
            "1\n",
            "0\n",
            "0\n",
            "1\n"
          ]
        }
      ]
    },
    {
      "cell_type": "code",
      "source": [
        "import array\n",
        "ar = array.array('b',[True,False,True,True,False])\n",
        "print(ar)\n",
        "for i in ar:\n",
        "  print(i)"
      ],
      "metadata": {
        "colab": {
          "base_uri": "https://localhost:8080/"
        },
        "id": "-jIayuh-fHD1",
        "outputId": "38dce1e1-4caa-470c-b9e2-f9ca904fbb01"
      },
      "execution_count": null,
      "outputs": [
        {
          "output_type": "stream",
          "name": "stdout",
          "text": [
            "array('b', [1, 0, 1, 1, 0])\n",
            "1\n",
            "0\n",
            "1\n",
            "1\n",
            "0\n"
          ]
        }
      ]
    },
    {
      "cell_type": "code",
      "source": [
        "l=[1,2,3,4,5,6,7,8,9,10]\n",
        "ar = array.array('i',l)\n",
        "print(ar)\n",
        "for i in ar:\n",
        "  print(i)"
      ],
      "metadata": {
        "colab": {
          "base_uri": "https://localhost:8080/"
        },
        "id": "mCOIx8B_fK_z",
        "outputId": "c2cc837f-d15d-4861-acb5-9d8270846264"
      },
      "execution_count": null,
      "outputs": [
        {
          "output_type": "stream",
          "name": "stdout",
          "text": [
            "array('i', [1, 2, 3, 4, 5, 6, 7, 8, 9, 10])\n",
            "1\n",
            "2\n",
            "3\n",
            "4\n",
            "5\n",
            "6\n",
            "7\n",
            "8\n",
            "9\n",
            "10\n"
          ]
        }
      ]
    },
    {
      "cell_type": "markdown",
      "source": [
        "# **Creating array using Numpy**"
      ],
      "metadata": {
        "id": "gSpmfu45fTOq"
      }
    },
    {
      "cell_type": "code",
      "source": [
        "import numpy as np\n",
        "ar = np.array([2,3,5,1,6,8,7,9])\n",
        "print(ar)\n",
        "print(type(ar))"
      ],
      "metadata": {
        "colab": {
          "base_uri": "https://localhost:8080/"
        },
        "id": "C3HaQVJLfQcj",
        "outputId": "7d51f8e9-3640-49f2-a4cd-bdc4199a9e3b"
      },
      "execution_count": null,
      "outputs": [
        {
          "output_type": "stream",
          "name": "stdout",
          "text": [
            "[2 3 5 1 6 8 7 9]\n",
            "<class 'numpy.ndarray'>\n"
          ]
        }
      ]
    },
    {
      "cell_type": "markdown",
      "source": [
        "# **Converting a list into an array**"
      ],
      "metadata": {
        "id": "H5ROBrbFgJEH"
      }
    },
    {
      "cell_type": "code",
      "source": [
        "l =[3,1,8,9,10]\n",
        "print(l)\n",
        "print(type(l))\n",
        "ar= np.array(l)\n",
        "print(ar)\n",
        "print(type(ar))"
      ],
      "metadata": {
        "colab": {
          "base_uri": "https://localhost:8080/"
        },
        "id": "65dbfAw1gIl3",
        "outputId": "822b124b-4d26-45b5-84bf-72128659f09b"
      },
      "execution_count": null,
      "outputs": [
        {
          "output_type": "stream",
          "name": "stdout",
          "text": [
            "[3, 1, 8, 9, 10]\n",
            "<class 'list'>\n",
            "[ 3  1  8  9 10]\n",
            "<class 'numpy.ndarray'>\n"
          ]
        }
      ]
    },
    {
      "cell_type": "markdown",
      "source": [
        "# **linspace**\n",
        "The linspace function creates an array of evenly spaced points between a starting point and an ending point.\n",
        "\n",
        "The form of the function is linspace(start, stop, N). If the third argument N is omitted, then N=50."
      ],
      "metadata": {
        "id": "DSq9QsLYgnMG"
      }
    },
    {
      "cell_type": "code",
      "source": [
        "l =np.linspace(1,10)\n",
        "print(l)\n",
        "print(type(l))"
      ],
      "metadata": {
        "colab": {
          "base_uri": "https://localhost:8080/"
        },
        "id": "PU85UnclgloS",
        "outputId": "d3558c2b-ecf9-454d-b631-84b919494131"
      },
      "execution_count": null,
      "outputs": [
        {
          "output_type": "stream",
          "name": "stdout",
          "text": [
            "[ 1.          1.18367347  1.36734694  1.55102041  1.73469388  1.91836735\n",
            "  2.10204082  2.28571429  2.46938776  2.65306122  2.83673469  3.02040816\n",
            "  3.20408163  3.3877551   3.57142857  3.75510204  3.93877551  4.12244898\n",
            "  4.30612245  4.48979592  4.67346939  4.85714286  5.04081633  5.2244898\n",
            "  5.40816327  5.59183673  5.7755102   5.95918367  6.14285714  6.32653061\n",
            "  6.51020408  6.69387755  6.87755102  7.06122449  7.24489796  7.42857143\n",
            "  7.6122449   7.79591837  7.97959184  8.16326531  8.34693878  8.53061224\n",
            "  8.71428571  8.89795918  9.08163265  9.26530612  9.44897959  9.63265306\n",
            "  9.81632653 10.        ]\n",
            "<class 'numpy.ndarray'>\n"
          ]
        }
      ]
    },
    {
      "cell_type": "code",
      "source": [
        "l =np.linspace(1,10,10)\n",
        "print(l)"
      ],
      "metadata": {
        "colab": {
          "base_uri": "https://localhost:8080/"
        },
        "id": "QqM7DsGHg8f_",
        "outputId": "5eb70797-5ce4-4182-f635-499443d4e4cd"
      },
      "execution_count": null,
      "outputs": [
        {
          "output_type": "stream",
          "name": "stdout",
          "text": [
            "[ 1.  2.  3.  4.  5.  6.  7.  8.  9. 10.]\n"
          ]
        }
      ]
    },
    {
      "cell_type": "code",
      "source": [
        "ar = array.array('d',l)\n",
        "print(ar)"
      ],
      "metadata": {
        "colab": {
          "base_uri": "https://localhost:8080/"
        },
        "id": "KYlx4R4phGtX",
        "outputId": "cefae43b-5064-4dfe-93bf-68895454bdba"
      },
      "execution_count": null,
      "outputs": [
        {
          "output_type": "stream",
          "name": "stdout",
          "text": [
            "array('d', [1.0, 2.0, 3.0, 4.0, 5.0, 6.0, 7.0, 8.0, 9.0, 10.0])\n"
          ]
        }
      ]
    },
    {
      "cell_type": "code",
      "source": [
        "print(type(ar))"
      ],
      "metadata": {
        "colab": {
          "base_uri": "https://localhost:8080/"
        },
        "id": "1Scm3MZkhNIf",
        "outputId": "61570f22-7ce7-40a1-9e87-5f550458a93f"
      },
      "execution_count": null,
      "outputs": [
        {
          "output_type": "stream",
          "name": "stdout",
          "text": [
            "<class 'array.array'>\n"
          ]
        }
      ]
    },
    {
      "cell_type": "markdown",
      "source": [
        "# **logspace**\n",
        "NumPy also has a closely related function logspace that produces evenly spaced points on a logarithmically spaced scale. The arguments are the same as those for linspace except that start and stop refer to a power of 10. That is, the array starts at `10^start and 10^stop` ."
      ],
      "metadata": {
        "id": "X9KSfdfDhV6I"
      }
    },
    {
      "cell_type": "code",
      "source": [
        "lg = np.logspace(1,3,10)\n",
        "print(lg)"
      ],
      "metadata": {
        "colab": {
          "base_uri": "https://localhost:8080/"
        },
        "id": "F_bz_MnYhSh9",
        "outputId": "03ff8393-9b57-4bb1-e155-2eba04fbd71f"
      },
      "execution_count": null,
      "outputs": [
        {
          "output_type": "stream",
          "name": "stdout",
          "text": [
            "[  10.           16.68100537   27.82559402   46.41588834   77.42636827\n",
            "  129.1549665   215.443469    359.38136638  599.48425032 1000.        ]\n"
          ]
        }
      ]
    },
    {
      "cell_type": "code",
      "source": [
        "print(type(lg))"
      ],
      "metadata": {
        "colab": {
          "base_uri": "https://localhost:8080/"
        },
        "id": "N3wT_V5zhvuz",
        "outputId": "ed527b5f-c2e5-428e-da81-29a6e8a0fed1"
      },
      "execution_count": null,
      "outputs": [
        {
          "output_type": "stream",
          "name": "stdout",
          "text": [
            "<class 'numpy.ndarray'>\n"
          ]
        }
      ]
    },
    {
      "cell_type": "code",
      "source": [
        "ar = array.array('d',lg)\n",
        "print(ar)"
      ],
      "metadata": {
        "colab": {
          "base_uri": "https://localhost:8080/"
        },
        "id": "7F3eU3bch1Ku",
        "outputId": "089278e4-c719-4452-a626-3e9a539d2663"
      },
      "execution_count": null,
      "outputs": [
        {
          "output_type": "stream",
          "name": "stdout",
          "text": [
            "array('d', [10.0, 16.68100537200059, 27.825594022071243, 46.41588833612777, 77.4263682681127, 129.1549665014884, 215.44346900318823, 359.38136638046257, 599.4842503189409, 1000.0])\n"
          ]
        }
      ]
    },
    {
      "cell_type": "code",
      "source": [
        "for i in ar:\n",
        "  print(i)"
      ],
      "metadata": {
        "colab": {
          "base_uri": "https://localhost:8080/"
        },
        "id": "jhcrI3Jyh9fA",
        "outputId": "6be6a0ae-af07-4658-ec2b-a2805fd33850"
      },
      "execution_count": null,
      "outputs": [
        {
          "output_type": "stream",
          "name": "stdout",
          "text": [
            "10.0\n",
            "16.68100537200059\n",
            "27.825594022071243\n",
            "46.41588833612777\n",
            "77.4263682681127\n",
            "129.1549665014884\n",
            "215.44346900318823\n",
            "359.38136638046257\n",
            "599.4842503189409\n",
            "1000.0\n"
          ]
        }
      ]
    },
    {
      "cell_type": "code",
      "source": [
        "print(ar[2:5])"
      ],
      "metadata": {
        "colab": {
          "base_uri": "https://localhost:8080/"
        },
        "id": "LFXu8XsGiBQ6",
        "outputId": "3227e7fd-f5c3-4c2f-d4c4-98d141aa84fb"
      },
      "execution_count": null,
      "outputs": [
        {
          "output_type": "stream",
          "name": "stdout",
          "text": [
            "array('d', [27.825594022071243, 46.41588833612777, 77.4263682681127])\n"
          ]
        }
      ]
    },
    {
      "cell_type": "code",
      "source": [
        "arr= ar[2:5]\n",
        "for i in arr:\n",
        "  print(i)"
      ],
      "metadata": {
        "colab": {
          "base_uri": "https://localhost:8080/"
        },
        "id": "1EtrGx9wiFWF",
        "outputId": "28cd72ab-dc87-40f3-9a66-689126d6c499"
      },
      "execution_count": null,
      "outputs": [
        {
          "output_type": "stream",
          "name": "stdout",
          "text": [
            "27.825594022071243\n",
            "46.41588833612777\n",
            "77.4263682681127\n"
          ]
        }
      ]
    },
    {
      "cell_type": "markdown",
      "source": [
        "# **arange**\n",
        "The third way arrays can be created is using the NumPy arange function, which is similar to the Python range function for creating lists. The form of the function is arange(start, stop, step). If the third argument is omitted step=1. If the first and third arguments are omitted, then start=0and step=1."
      ],
      "metadata": {
        "id": "2q3aClyPiNbu"
      }
    },
    {
      "cell_type": "code",
      "source": [
        "n=np.arange(1,10,2)\n",
        "print(n)"
      ],
      "metadata": {
        "colab": {
          "base_uri": "https://localhost:8080/"
        },
        "id": "c5_I3Qs0iSyr",
        "outputId": "c5e2be7d-aac5-44d1-f63a-afb8de5e683d"
      },
      "execution_count": null,
      "outputs": [
        {
          "output_type": "stream",
          "name": "stdout",
          "text": [
            "[1 3 5 7 9]\n"
          ]
        }
      ]
    },
    {
      "cell_type": "code",
      "source": [
        "print(type(n))"
      ],
      "metadata": {
        "colab": {
          "base_uri": "https://localhost:8080/"
        },
        "id": "0VsneCUyibhs",
        "outputId": "4ce87f0e-d248-4285-8d04-6ac6f1bf7788"
      },
      "execution_count": null,
      "outputs": [
        {
          "output_type": "stream",
          "name": "stdout",
          "text": [
            "<class 'numpy.ndarray'>\n"
          ]
        }
      ]
    },
    {
      "cell_type": "code",
      "source": [
        "arr=array.array('i',n)\n",
        "print(arr)\n",
        "print(type(arr))"
      ],
      "metadata": {
        "colab": {
          "base_uri": "https://localhost:8080/"
        },
        "id": "HQgMxWToierT",
        "outputId": "ab441fab-b240-4cb5-cfb4-ab300621e7c9"
      },
      "execution_count": null,
      "outputs": [
        {
          "output_type": "stream",
          "name": "stdout",
          "text": [
            "array('i', [1, 3, 5, 7, 9])\n",
            "<class 'array.array'>\n"
          ]
        }
      ]
    },
    {
      "cell_type": "code",
      "source": [
        "z=np.zeros(6)\n",
        "print(z)"
      ],
      "metadata": {
        "colab": {
          "base_uri": "https://localhost:8080/"
        },
        "id": "5gEhJ1mVikUw",
        "outputId": "886020f0-f531-4f79-e838-57b45373934e"
      },
      "execution_count": null,
      "outputs": [
        {
          "output_type": "stream",
          "name": "stdout",
          "text": [
            "[0. 0. 0. 0. 0. 0.]\n"
          ]
        }
      ]
    },
    {
      "cell_type": "code",
      "source": [
        "o=np.ones(9)\n",
        "print(o,end=\",\")\n",
        "print(type(o))"
      ],
      "metadata": {
        "colab": {
          "base_uri": "https://localhost:8080/"
        },
        "id": "FoNecniYioC3",
        "outputId": "33b08cbc-1f9c-4e0e-d6ba-743d3b079522"
      },
      "execution_count": null,
      "outputs": [
        {
          "output_type": "stream",
          "name": "stdout",
          "text": [
            "[1. 1. 1. 1. 1. 1. 1. 1. 1.],<class 'numpy.ndarray'>\n"
          ]
        }
      ]
    },
    {
      "cell_type": "markdown",
      "source": [
        "# **Multidimensioanl arrays**\n",
        "We can use vertical stack to create an n-dimensional array"
      ],
      "metadata": {
        "id": "AmMkraGXjdIz"
      }
    },
    {
      "cell_type": "code",
      "source": [
        "a = np.array([1,2,3])\n",
        "print(a)\n",
        "print()\n",
        "b = np.array([4,5,6])\n",
        "print(b)\n"
      ],
      "metadata": {
        "colab": {
          "base_uri": "https://localhost:8080/"
        },
        "id": "tgUbL3Ydjfvm",
        "outputId": "6a1a9689-22ba-4095-f674-3f37b7f61e4c"
      },
      "execution_count": null,
      "outputs": [
        {
          "output_type": "stream",
          "name": "stdout",
          "text": [
            "[1 2 3]\n",
            "\n",
            "[4 5 6]\n"
          ]
        }
      ]
    },
    {
      "cell_type": "code",
      "source": [
        "c = np.vstack((a, b))\n",
        "print(c)"
      ],
      "metadata": {
        "colab": {
          "base_uri": "https://localhost:8080/"
        },
        "id": "H0i0gGVljyPe",
        "outputId": "f2284d7e-bc92-4d04-a704-aa53cbbe01a2"
      },
      "execution_count": null,
      "outputs": [
        {
          "output_type": "stream",
          "name": "stdout",
          "text": [
            "[[1 2 3]\n",
            " [4 5 6]]\n"
          ]
        }
      ]
    },
    {
      "cell_type": "code",
      "source": [
        "#check the dimension\n",
        "print(c.shape)"
      ],
      "metadata": {
        "colab": {
          "base_uri": "https://localhost:8080/"
        },
        "id": "Ggi82Y1Vj6cP",
        "outputId": "73b3a575-9608-4d41-bce1-fc903f90ef21"
      },
      "execution_count": null,
      "outputs": [
        {
          "output_type": "stream",
          "name": "stdout",
          "text": [
            "(2, 3)\n"
          ]
        }
      ]
    },
    {
      "cell_type": "markdown",
      "source": [
        "# **Concatinating array**\n",
        "We can use horizontal stack to concatenate the arrays"
      ],
      "metadata": {
        "id": "kI83-SPAkJ2z"
      }
    },
    {
      "cell_type": "code",
      "source": [
        "c = np.hstack((a, b))\n",
        "print(c)"
      ],
      "metadata": {
        "colab": {
          "base_uri": "https://localhost:8080/"
        },
        "id": "BojzdknCkJS5",
        "outputId": "10474f4d-4e4c-4e75-deca-303ae720872f"
      },
      "execution_count": null,
      "outputs": [
        {
          "output_type": "stream",
          "name": "stdout",
          "text": [
            "[1 2 3 4 5 6]\n"
          ]
        }
      ]
    },
    {
      "cell_type": "code",
      "source": [
        "print(c.shape)"
      ],
      "metadata": {
        "colab": {
          "base_uri": "https://localhost:8080/"
        },
        "id": "euV1T2f0kYC6",
        "outputId": "bbc61da3-0fbf-4103-c37f-d44ccf4463b3"
      },
      "execution_count": null,
      "outputs": [
        {
          "output_type": "stream",
          "name": "stdout",
          "text": [
            "(6,)\n"
          ]
        }
      ]
    },
    {
      "cell_type": "markdown",
      "source": [
        "# **Difference between List and array**\n",
        "\n",
        "Numpy arrays are typed arrays that hold homogeneous, densely packed numbers in memory.\n",
        "The list in memory of a Python list is heterogeneous; it holds pointers to objects rather than the numbers themselves.\n",
        "This implies that every time the function has to access a number, Python list requires dereferencing a reference. While numpy arrays may be directly processed by numpy vector operations, these vector operations are far quicker than anything you can do with a list.\n",
        "\n",
        "\n",
        "\n",
        "The disadvantage of using a numpy array is that if you need to access individual items in the array, you'll have to box/unbox the number into a python numeric object, which can be slow in some cases; and it can't handle heterogeneous data.\n",
        "\n",
        "For an array we need a seperate module but List is inbuilt, it does not require a seperate module.\n",
        "\n",
        "Array can store data more efficiently than List\n",
        "\n",
        "Arrays are good for mathematical opeartions. A List cannot direclty handle a mathematical operation. Let us see with an example:"
      ],
      "metadata": {
        "id": "717RO0uYkhun"
      }
    },
    {
      "cell_type": "code",
      "source": [
        "l=[3,6,8,9,10]\n",
        "ar = np.array([2,7,8,9,10])\n",
        "opr = ar/2\n",
        "print(opr)\n",
        "opl=l/2\n",
        "print(op1)"
      ],
      "metadata": {
        "colab": {
          "base_uri": "https://localhost:8080/",
          "height": 235
        },
        "id": "GEAY6LkElIqX",
        "outputId": "766f98aa-e5b5-470f-f62d-209d79ec32f9"
      },
      "execution_count": null,
      "outputs": [
        {
          "output_type": "stream",
          "name": "stdout",
          "text": [
            "[1.  3.5 4.  4.5 5. ]\n"
          ]
        },
        {
          "output_type": "error",
          "ename": "TypeError",
          "evalue": "ignored",
          "traceback": [
            "\u001b[0;31m---------------------------------------------------------------------------\u001b[0m",
            "\u001b[0;31mTypeError\u001b[0m                                 Traceback (most recent call last)",
            "\u001b[0;32m<ipython-input-91-ba6db8deccae>\u001b[0m in \u001b[0;36m<module>\u001b[0;34m()\u001b[0m\n\u001b[1;32m      3\u001b[0m \u001b[0mopr\u001b[0m \u001b[0;34m=\u001b[0m \u001b[0mar\u001b[0m\u001b[0;34m/\u001b[0m\u001b[0;36m2\u001b[0m\u001b[0;34m\u001b[0m\u001b[0;34m\u001b[0m\u001b[0m\n\u001b[1;32m      4\u001b[0m \u001b[0mprint\u001b[0m\u001b[0;34m(\u001b[0m\u001b[0mopr\u001b[0m\u001b[0;34m)\u001b[0m\u001b[0;34m\u001b[0m\u001b[0;34m\u001b[0m\u001b[0m\n\u001b[0;32m----> 5\u001b[0;31m \u001b[0mopl\u001b[0m\u001b[0;34m=\u001b[0m\u001b[0ml\u001b[0m\u001b[0;34m/\u001b[0m\u001b[0;36m2\u001b[0m\u001b[0;34m\u001b[0m\u001b[0;34m\u001b[0m\u001b[0m\n\u001b[0m\u001b[1;32m      6\u001b[0m \u001b[0mprint\u001b[0m\u001b[0;34m(\u001b[0m\u001b[0mop1\u001b[0m\u001b[0;34m)\u001b[0m\u001b[0;34m\u001b[0m\u001b[0;34m\u001b[0m\u001b[0m\n",
            "\u001b[0;31mTypeError\u001b[0m: unsupported operand type(s) for /: 'list' and 'int'"
          ]
        }
      ]
    },
    {
      "cell_type": "markdown",
      "source": [
        "# **Multiple Lines**"
      ],
      "metadata": {
        "id": "w53ryZnzr-45"
      }
    },
    {
      "cell_type": "code",
      "source": [
        "s ='''Welcome to the world pf computing\n",
        "let us learn python.\n",
        "join us today'''\n",
        "print(s)\n",
        "print(type(s))"
      ],
      "metadata": {
        "colab": {
          "base_uri": "https://localhost:8080/"
        },
        "id": "xqQr_tCFsCL3",
        "outputId": "0c4ea750-acb4-49bc-9a95-1536c0fb5636"
      },
      "execution_count": null,
      "outputs": [
        {
          "output_type": "stream",
          "name": "stdout",
          "text": [
            "Welcome to the world pf computing\n",
            "let us learn python.\n",
            "join us today\n",
            "<class 'str'>\n"
          ]
        }
      ]
    },
    {
      "cell_type": "code",
      "source": [
        "if 'join' in s:\n",
        "  print('join us')\n",
        "else:\n",
        "  print('no issues')"
      ],
      "metadata": {
        "colab": {
          "base_uri": "https://localhost:8080/"
        },
        "id": "l2KWOb7csXKw",
        "outputId": "508b7ae4-d362-43be-e558-86930b4f1c47"
      },
      "execution_count": null,
      "outputs": [
        {
          "output_type": "stream",
          "name": "stdout",
          "text": [
            "join us\n"
          ]
        }
      ]
    },
    {
      "cell_type": "code",
      "source": [
        "print(len(s))"
      ],
      "metadata": {
        "colab": {
          "base_uri": "https://localhost:8080/"
        },
        "id": "D5vBoJSmsesg",
        "outputId": "d93eec28-2d7a-4845-85d9-8fe0e3b9ccda"
      },
      "execution_count": null,
      "outputs": [
        {
          "output_type": "stream",
          "name": "stdout",
          "text": [
            "68\n"
          ]
        }
      ]
    },
    {
      "cell_type": "code",
      "source": [
        "#one lement at a time\n",
        "for n in s:\n",
        "  print(n)"
      ],
      "metadata": {
        "colab": {
          "base_uri": "https://localhost:8080/"
        },
        "id": "WS604InMs3L4",
        "outputId": "860ae825-ba53-4407-9aa2-dd488e4dc8be"
      },
      "execution_count": null,
      "outputs": [
        {
          "output_type": "stream",
          "name": "stdout",
          "text": [
            "W\n",
            "e\n",
            "l\n",
            "c\n",
            "o\n",
            "m\n",
            "e\n",
            " \n",
            "t\n",
            "o\n",
            " \n",
            "t\n",
            "h\n",
            "e\n",
            " \n",
            "w\n",
            "o\n",
            "r\n",
            "l\n",
            "d\n",
            " \n",
            "p\n",
            "f\n",
            " \n",
            "c\n",
            "o\n",
            "m\n",
            "p\n",
            "u\n",
            "t\n",
            "i\n",
            "n\n",
            "g\n",
            "\n",
            "\n",
            "l\n",
            "e\n",
            "t\n",
            " \n",
            "u\n",
            "s\n",
            " \n",
            "l\n",
            "e\n",
            "a\n",
            "r\n",
            "n\n",
            " \n",
            "p\n",
            "y\n",
            "t\n",
            "h\n",
            "o\n",
            "n\n",
            ".\n",
            "\n",
            "\n",
            "j\n",
            "o\n",
            "i\n",
            "n\n",
            " \n",
            "u\n",
            "s\n",
            " \n",
            "t\n",
            "o\n",
            "d\n",
            "a\n",
            "y\n"
          ]
        }
      ]
    },
    {
      "cell_type": "code",
      "source": [
        "#tokens using split function\n",
        "for n in s.split():\n",
        "  print(n, end=\" \")\n"
      ],
      "metadata": {
        "colab": {
          "base_uri": "https://localhost:8080/"
        },
        "id": "u98O10kSsmCw",
        "outputId": "0031a649-2d86-4db1-c42b-06d289acb2e3"
      },
      "execution_count": null,
      "outputs": [
        {
          "output_type": "stream",
          "name": "stdout",
          "text": [
            "Welcome to the world pf computing let us learn python. join us today "
          ]
        }
      ]
    }
  ]
}